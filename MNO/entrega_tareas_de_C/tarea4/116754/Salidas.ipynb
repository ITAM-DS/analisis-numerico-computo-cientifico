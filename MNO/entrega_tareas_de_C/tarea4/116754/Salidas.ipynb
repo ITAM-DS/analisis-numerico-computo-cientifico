{
 "cells": [
  {
   "cell_type": "markdown",
   "metadata": {},
   "source": [
    "<div class=\"alert alert-success\" role=\"alert\">\n",
    " <h1>Tarea 4</h1>\n",
    " <h2>Métodos numéricos y optimización</h2>\n",
    " <h2>Maestría en Ciencias de Datos, ITAM </h2>\n",
    " <h3>Ollin Demian Langle Chimal</h3>\n",
    " <p>Fecha de entrega: Viernes 3 de Febrero de 2017.</p>\n",
    " </div>"
   ]
  },
  {
   "cell_type": "markdown",
   "metadata": {},
   "source": [
    "<div class=\"alert alert-info\" role=\"alert\">\n",
    "<p class =\"lead\"> \n",
    "<h1>Ejercicio 1</h1>\n",
    "</div>"
   ]
  },
  {
   "cell_type": "code",
   "execution_count": 9,
   "metadata": {
    "collapsed": false
   },
   "outputs": [
    {
     "name": "stdout",
     "output_type": "stream",
     "text": [
      "cadena: Hola a todos\n",
      "longitud cadena: 12\n",
      "cadena2: leer libros y revistas\n",
      "longitud cadena: 22\n"
     ]
    }
   ],
   "source": [
    "./1a"
   ]
  },
  {
   "cell_type": "code",
   "execution_count": 12,
   "metadata": {
    "collapsed": false
   },
   "outputs": [
    {
     "name": "stdout",
     "output_type": "stream",
     "text": [
      "longitud hamburguesas: 12\n",
      "longitud permisos: 8\n",
      "longitud exponencialmente: 16\n",
      "longitud 549: 3\n"
     ]
    }
   ],
   "source": [
    "./1b < archivo.txt"
   ]
  },
  {
   "cell_type": "markdown",
   "metadata": {},
   "source": [
    "<div class=\"alert alert-info\" role=\"alert\">\n",
    "<p class =\"lead\"> \n",
    "<h1>Ejercicio 2</h1>\n",
    "</div>"
   ]
  },
  {
   "cell_type": "code",
   "execution_count": 13,
   "metadata": {
    "collapsed": false
   },
   "outputs": [
    {
     "name": "stdout",
     "output_type": "stream",
     "text": [
      "the role. The ministers, afraid of losing their splendid position at court, give the\n",
      "courage and self-sacrifice. The six ministers are convinced that Stach will fall\n"
     ]
    }
   ],
   "source": [
    "./2a < archivo2.txt"
   ]
  },
  {
   "cell_type": "code",
   "execution_count": 14,
   "metadata": {
    "collapsed": false
   },
   "outputs": [
    {
     "name": "stdout",
     "output_type": "stream",
     "text": [
      "therole.Theministers,afraidoflosingtheirsplendidpositionatcourt,givethe\n"
     ]
    }
   ],
   "source": [
    "./2b < archivo2.txt"
   ]
  },
  {
   "cell_type": "markdown",
   "metadata": {},
   "source": [
    "Para los siguientes dos incisos usé el programa del inciso anterior."
   ]
  },
  {
   "cell_type": "code",
   "execution_count": 15,
   "metadata": {
    "collapsed": false
   },
   "outputs": [
    {
     "name": "stdout",
     "output_type": "stream",
     "text": [
      "therole.Theministers,afraidoflosingtheirsplendidpositionatcourt,givethe\n"
     ]
    }
   ],
   "source": [
    "./2c < archivo2.txt"
   ]
  },
  {
   "cell_type": "code",
   "execution_count": 17,
   "metadata": {
    "collapsed": false
   },
   "outputs": [
    {
     "name": "stdout",
     "output_type": "stream",
     "text": [
      "therole.Theministers,afraidoflosingtheirsplendidpositionatcourt,givethe\n"
     ]
    }
   ],
   "source": [
    "./2d < archivo2.txt"
   ]
  },
  {
   "cell_type": "code",
   "execution_count": 18,
   "metadata": {
    "collapsed": false
   },
   "outputs": [
    {
     "name": "stdout",
     "output_type": "stream",
     "text": [
      "\n",
      "eht evig ,truoc ta noitisop didnelps rieht gnisol fo diarfa ,sretsinim ehT .elor eht"
     ]
    }
   ],
   "source": [
    "./2e < archivo2.txt"
   ]
  },
  {
   "cell_type": "markdown",
   "metadata": {},
   "source": [
    "<div class=\"alert alert-info\" role=\"alert\">\n",
    "<p class =\"lead\"> \n",
    "<h1>Ejercicio 3</h1>\n",
    "</div>"
   ]
  },
  {
   "cell_type": "code",
   "execution_count": 19,
   "metadata": {
    "collapsed": false
   },
   "outputs": [
    {
     "name": "stdout",
     "output_type": "stream",
     "text": [
      "ampos verdes\n"
     ]
    }
   ],
   "source": [
    "./3a"
   ]
  },
  {
   "cell_type": "code",
   "execution_count": 21,
   "metadata": {
    "collapsed": false
   },
   "outputs": [
    {
     "name": "stdout",
     "output_type": "stream",
     "text": [
      "verdes\n"
     ]
    }
   ],
   "source": [
    "./3b"
   ]
  },
  {
   "cell_type": "markdown",
   "metadata": {},
   "source": [
    "<div class=\"alert alert-info\" role=\"alert\">\n",
    "<p class =\"lead\"> \n",
    "<h1>Ejercicio 4</h1>\n",
    "</div>"
   ]
  },
  {
   "cell_type": "code",
   "execution_count": 22,
   "metadata": {
    "collapsed": false
   },
   "outputs": [
    {
     "name": "stdout",
     "output_type": "stream",
     "text": [
      "Campos verdes\n"
     ]
    }
   ],
   "source": [
    "./4a"
   ]
  },
  {
   "cell_type": "code",
   "execution_count": 23,
   "metadata": {
    "collapsed": false
   },
   "outputs": [
    {
     "name": "stdout",
     "output_type": "stream",
     "text": [
      "sedrev sopmaC\n"
     ]
    }
   ],
   "source": [
    "./4b"
   ]
  }
 ],
 "metadata": {
  "kernelspec": {
   "display_name": "Bash",
   "language": "bash",
   "name": "bash"
  },
  "language_info": {
   "codemirror_mode": "shell",
   "file_extension": ".sh",
   "mimetype": "text/x-sh",
   "name": "bash"
  }
 },
 "nbformat": 4,
 "nbformat_minor": 2
}
