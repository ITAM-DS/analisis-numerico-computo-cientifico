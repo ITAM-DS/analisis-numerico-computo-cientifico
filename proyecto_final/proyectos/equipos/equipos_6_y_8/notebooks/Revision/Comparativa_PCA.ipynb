{
 "cells": [
  {
   "cell_type": "code",
   "execution_count": 1,
   "metadata": {},
   "outputs": [],
   "source": [
    "import numpy as np\n",
    "import pandas as pd\n",
    "\n",
    "from sklearn.preprocessing import StandardScaler\n",
    "from sklearn import preprocessing"
   ]
  },
  {
   "cell_type": "code",
   "execution_count": 2,
   "metadata": {
    "scrolled": true
   },
   "outputs": [],
   "source": [
    "# Importamos el módulo con nuestras funciones\n",
    "import sys\n",
    "sys.path.append('./../../')\n",
    "\n",
    "# OPTIONAL: Load the \"autoreload\" extension so that code can change\n",
    "%load_ext autoreload\n",
    "\n",
    "#Own Library modules\n",
    "import src\n",
    "# OPTIONAL: always reload modules so that as you change code in src, it gets loaded\n",
    "%autoreload 2\n",
    "\n",
    "from src.pca import todoJunto\n",
    "from src.test_algorithms import comparaModelos\n",
    "from src.test_algorithms.err_relativo import err_relativo"
   ]
  },
  {
   "cell_type": "markdown",
   "metadata": {},
   "source": [
    "#### Objetivo:\n",
    "\n",
    "El objetivo de este notebook es comparar los resultados de PCA de scikit-learn contra:\n",
    "+ la implementación de PCA usando la función SVD de numpy.\n",
    "+ la implementación de PCA a partir del algoritmo QR\n",
    "+ la implementación de PCA a partir del método de la potencia"
   ]
  },
  {
   "cell_type": "code",
   "execution_count": 3,
   "metadata": {},
   "outputs": [],
   "source": [
    "df = pd.read_csv('../../data/nndb_flat.csv', encoding = \"UTF-8\")"
   ]
  },
  {
   "cell_type": "code",
   "execution_count": 4,
   "metadata": {},
   "outputs": [],
   "source": [
    "df.drop(df.columns[df.columns.str.contains('_USRDA')].values, \n",
    "        inplace=True, axis=1)\n",
    "df = df.drop(columns=['ID','FoodGroup','ShortDescrip','Descrip','CommonName','MfgName','ScientificName'])"
   ]
  },
  {
   "cell_type": "markdown",
   "metadata": {},
   "source": [
    "# Pruebas PCA"
   ]
  },
  {
   "cell_type": "code",
   "execution_count": 5,
   "metadata": {},
   "outputs": [],
   "source": [
    "####Se estandarizan los datos.\n",
    "scaler = preprocessing.StandardScaler()\n",
    "df_nutrientes = scaler.fit_transform(df)"
   ]
  },
  {
   "cell_type": "markdown",
   "metadata": {},
   "source": [
    "Una vez estandarizados los datos, procedemos a realizar la comparación entre los resultados obtenidos.\n",
    "\n",
    "Nos apoyamos en las funciones desarrolladas en [comparaModelos.py](https://github.com/123972/PCA-nutricion/blob/master/src/test_algorithms/comparaModelos.py) para presentar los resultados."
   ]
  },
  {
   "cell_type": "markdown",
   "metadata": {},
   "source": [
    "## Scikit learn vs PCA a partir de SVD de numpy"
   ]
  },
  {
   "cell_type": "code",
   "execution_count": 6,
   "metadata": {
    "scrolled": true
   },
   "outputs": [
    {
     "data": {
      "text/html": [
       "<div>\n",
       "<style scoped>\n",
       "    .dataframe tbody tr th:only-of-type {\n",
       "        vertical-align: middle;\n",
       "    }\n",
       "\n",
       "    .dataframe tbody tr th {\n",
       "        vertical-align: top;\n",
       "    }\n",
       "\n",
       "    .dataframe thead th {\n",
       "        text-align: right;\n",
       "    }\n",
       "</style>\n",
       "<table border=\"1\" class=\"dataframe\">\n",
       "  <thead>\n",
       "    <tr style=\"text-align: right;\">\n",
       "      <th></th>\n",
       "      <th>elemento</th>\n",
       "      <th>Igualdad (en valor absoluto)</th>\n",
       "      <th>Max error relativo (con valor absoluto)</th>\n",
       "      <th>Error relativo (con valor absoluto)</th>\n",
       "    </tr>\n",
       "  </thead>\n",
       "  <tbody>\n",
       "    <tr>\n",
       "      <th>0</th>\n",
       "      <td>varianza explicada</td>\n",
       "      <td>True</td>\n",
       "      <td>1.935215e-16</td>\n",
       "      <td>[0.0, 1.2189963581231018e-16, 1.57089176848327...</td>\n",
       "    </tr>\n",
       "    <tr>\n",
       "      <th>1</th>\n",
       "      <td>valores singulares</td>\n",
       "      <td>True</td>\n",
       "      <td>0.000000e+00</td>\n",
       "      <td>[0.0, 0.0, 0.0, 0.0, 0.0, 0.0, 0.0, 0.0, 0.0, ...</td>\n",
       "    </tr>\n",
       "    <tr>\n",
       "      <th>2</th>\n",
       "      <td>coeficientes</td>\n",
       "      <td>True</td>\n",
       "      <td>0.000000e+00</td>\n",
       "      <td>[[0.0, 0.0, 0.0, 0.0, 0.0, 0.0, 0.0, 0.0, 0.0,...</td>\n",
       "    </tr>\n",
       "    <tr>\n",
       "      <th>3</th>\n",
       "      <td>componentes principales</td>\n",
       "      <td>True</td>\n",
       "      <td>1.128716e-10</td>\n",
       "      <td>[[7.521729907317927e-15, 4.695376192208106e-15...</td>\n",
       "    </tr>\n",
       "  </tbody>\n",
       "</table>\n",
       "</div>"
      ],
      "text/plain": [
       "                  elemento  Igualdad (en valor absoluto)  \\\n",
       "0       varianza explicada                          True   \n",
       "1       valores singulares                          True   \n",
       "2             coeficientes                          True   \n",
       "3  componentes principales                          True   \n",
       "\n",
       "   Max error relativo (con valor absoluto)  \\\n",
       "0                             1.935215e-16   \n",
       "1                             0.000000e+00   \n",
       "2                             0.000000e+00   \n",
       "3                             1.128716e-10   \n",
       "\n",
       "                 Error relativo (con valor absoluto)  \n",
       "0  [0.0, 1.2189963581231018e-16, 1.57089176848327...  \n",
       "1  [0.0, 0.0, 0.0, 0.0, 0.0, 0.0, 0.0, 0.0, 0.0, ...  \n",
       "2  [[0.0, 0.0, 0.0, 0.0, 0.0, 0.0, 0.0, 0.0, 0.0,...  \n",
       "3  [[7.521729907317927e-15, 4.695376192208106e-15...  "
      ]
     },
     "execution_count": 6,
     "metadata": {},
     "output_type": "execute_result"
    }
   ],
   "source": [
    "df_resultados_sk_np = comparaModelos.compara_resultados_abs_sk_np(df_nutrientes)\n",
    "\n",
    "df_resultados_sk_np"
   ]
  },
  {
   "cell_type": "markdown",
   "metadata": {},
   "source": [
    "Podemos observar que todos los elementos comparados fueron iguales, pues el mayor error relativo, que se presenta en las componentes principales fue del orden de $10^{-10}$."
   ]
  },
  {
   "cell_type": "markdown",
   "metadata": {},
   "source": [
    "## Scikit learn vs PCA a partir del algoritmo QR"
   ]
  },
  {
   "cell_type": "code",
   "execution_count": 7,
   "metadata": {
    "scrolled": false
   },
   "outputs": [
    {
     "data": {
      "text/html": [
       "<div>\n",
       "<style scoped>\n",
       "    .dataframe tbody tr th:only-of-type {\n",
       "        vertical-align: middle;\n",
       "    }\n",
       "\n",
       "    .dataframe tbody tr th {\n",
       "        vertical-align: top;\n",
       "    }\n",
       "\n",
       "    .dataframe thead th {\n",
       "        text-align: right;\n",
       "    }\n",
       "</style>\n",
       "<table border=\"1\" class=\"dataframe\">\n",
       "  <thead>\n",
       "    <tr style=\"text-align: right;\">\n",
       "      <th></th>\n",
       "      <th>elemento</th>\n",
       "      <th>Igualdad (en valor absoluto)</th>\n",
       "      <th>Max error relativo (con valor absoluto)</th>\n",
       "      <th>Error relativo (con valor absoluto)</th>\n",
       "    </tr>\n",
       "  </thead>\n",
       "  <tbody>\n",
       "    <tr>\n",
       "      <th>0</th>\n",
       "      <td>varianza explicada</td>\n",
       "      <td>True</td>\n",
       "      <td>1.912542e-14</td>\n",
       "      <td>[7.848981292888267e-15, 1.682214974209909e-14,...</td>\n",
       "    </tr>\n",
       "    <tr>\n",
       "      <th>1</th>\n",
       "      <td>eigenvalores</td>\n",
       "      <td>True</td>\n",
       "      <td>2.441949e-14</td>\n",
       "      <td>[3.259419297349506e-16, 2.4419493161683765e-14...</td>\n",
       "    </tr>\n",
       "    <tr>\n",
       "      <th>2</th>\n",
       "      <td>coeficientes</td>\n",
       "      <td>True</td>\n",
       "      <td>5.478970e-08</td>\n",
       "      <td>[[2.866773180195502e-14, 4.697647283337805e-14...</td>\n",
       "    </tr>\n",
       "    <tr>\n",
       "      <th>3</th>\n",
       "      <td>componentes principales</td>\n",
       "      <td>True</td>\n",
       "      <td>3.882674e-05</td>\n",
       "      <td>[[1.9991966332607923e-14, 2.3476880961041193e-...</td>\n",
       "    </tr>\n",
       "  </tbody>\n",
       "</table>\n",
       "</div>"
      ],
      "text/plain": [
       "                  elemento  Igualdad (en valor absoluto)  \\\n",
       "0       varianza explicada                          True   \n",
       "1             eigenvalores                          True   \n",
       "2             coeficientes                          True   \n",
       "3  componentes principales                          True   \n",
       "\n",
       "   Max error relativo (con valor absoluto)  \\\n",
       "0                             1.912542e-14   \n",
       "1                             2.441949e-14   \n",
       "2                             5.478970e-08   \n",
       "3                             3.882674e-05   \n",
       "\n",
       "                 Error relativo (con valor absoluto)  \n",
       "0  [7.848981292888267e-15, 1.682214974209909e-14,...  \n",
       "1  [3.259419297349506e-16, 2.4419493161683765e-14...  \n",
       "2  [[2.866773180195502e-14, 4.697647283337805e-14...  \n",
       "3  [[1.9991966332607923e-14, 2.3476880961041193e-...  "
      ]
     },
     "execution_count": 7,
     "metadata": {},
     "output_type": "execute_result"
    }
   ],
   "source": [
    "df_resultados_qr = comparaModelos.compara_resultados_abs_sk_qr(df_nutrientes)\n",
    "df_resultados_qr"
   ]
  },
  {
   "cell_type": "markdown",
   "metadata": {},
   "source": [
    "Una vez más, todos los elementos comparados fueron iguales. El mayor error relativo, que también ocurre en los componentes principales, es del orden de $10^{-5}$"
   ]
  },
  {
   "cell_type": "markdown",
   "metadata": {},
   "source": [
    "## Scikit learn vs PCA a partir del método de la potencia"
   ]
  },
  {
   "cell_type": "code",
   "execution_count": 8,
   "metadata": {
    "scrolled": true
   },
   "outputs": [
    {
     "data": {
      "text/html": [
       "<div>\n",
       "<style scoped>\n",
       "    .dataframe tbody tr th:only-of-type {\n",
       "        vertical-align: middle;\n",
       "    }\n",
       "\n",
       "    .dataframe tbody tr th {\n",
       "        vertical-align: top;\n",
       "    }\n",
       "\n",
       "    .dataframe thead th {\n",
       "        text-align: right;\n",
       "    }\n",
       "</style>\n",
       "<table border=\"1\" class=\"dataframe\">\n",
       "  <thead>\n",
       "    <tr style=\"text-align: right;\">\n",
       "      <th></th>\n",
       "      <th>elemento</th>\n",
       "      <th>Igualdad (en valor absoluto)</th>\n",
       "      <th>Max error relativo (con valor absoluto)</th>\n",
       "      <th>Error relativo (con valor absoluto)</th>\n",
       "    </tr>\n",
       "  </thead>\n",
       "  <tbody>\n",
       "    <tr>\n",
       "      <th>0</th>\n",
       "      <td>varianza explicada</td>\n",
       "      <td>True</td>\n",
       "      <td>3.455962e-15</td>\n",
       "      <td>[5.857448726036064e-16, 1.3408959939354138e-15...</td>\n",
       "    </tr>\n",
       "    <tr>\n",
       "      <th>1</th>\n",
       "      <td>eigenvalores</td>\n",
       "      <td>False</td>\n",
       "      <td>1.160497e-04</td>\n",
       "      <td>[0.00011604966925836533, 0.0001160496692602914...</td>\n",
       "    </tr>\n",
       "    <tr>\n",
       "      <th>2</th>\n",
       "      <td>coeficientes</td>\n",
       "      <td>True</td>\n",
       "      <td>1.589268e-12</td>\n",
       "      <td>[[3.218524490648949e-14, 4.5397431729735165e-1...</td>\n",
       "    </tr>\n",
       "    <tr>\n",
       "      <th>3</th>\n",
       "      <td>componentes principales</td>\n",
       "      <td>True</td>\n",
       "      <td>6.011209e-09</td>\n",
       "      <td>[[2.4742532589861174e-14, 2.704536686711955e-1...</td>\n",
       "    </tr>\n",
       "  </tbody>\n",
       "</table>\n",
       "</div>"
      ],
      "text/plain": [
       "                  elemento  Igualdad (en valor absoluto)  \\\n",
       "0       varianza explicada                          True   \n",
       "1             eigenvalores                         False   \n",
       "2             coeficientes                          True   \n",
       "3  componentes principales                          True   \n",
       "\n",
       "   Max error relativo (con valor absoluto)  \\\n",
       "0                             3.455962e-15   \n",
       "1                             1.160497e-04   \n",
       "2                             1.589268e-12   \n",
       "3                             6.011209e-09   \n",
       "\n",
       "                 Error relativo (con valor absoluto)  \n",
       "0  [5.857448726036064e-16, 1.3408959939354138e-15...  \n",
       "1  [0.00011604966925836533, 0.0001160496692602914...  \n",
       "2  [[3.218524490648949e-14, 4.5397431729735165e-1...  \n",
       "3  [[2.4742532589861174e-14, 2.704536686711955e-1...  "
      ]
     },
     "execution_count": 8,
     "metadata": {},
     "output_type": "execute_result"
    }
   ],
   "source": [
    "df_resultados_potencia = comparaModelos.compara_resultados_abs_sk_potencia(df_nutrientes)\n",
    "df_resultados_potencia"
   ]
  },
  {
   "cell_type": "markdown",
   "metadata": {},
   "source": [
    "A pesar de obtener errores relativos mayores que en los métodos anteriores a nivel de eigenvalores, vemos que finalmente obtenemos una buena aproximación para los componentes principales, donde el mayor error relativo es del orden de $10^{-9}$."
   ]
  },
  {
   "cell_type": "code",
   "execution_count": 9,
   "metadata": {},
   "outputs": [],
   "source": [
    "# PCA de scikit learn\n",
    "pca, var_exp, comp_prin, val_sing, pca_coef, eigenvalues = todoJunto.PCA_from_sklearn(df_nutrientes)"
   ]
  },
  {
   "cell_type": "code",
   "execution_count": 10,
   "metadata": {},
   "outputs": [],
   "source": [
    "# PCA a partir del método de la potencia\n",
    "pow_eigenvalues, pow_pca_coef, pow_comp_prin, pow_var_exp = todoJunto.PCA_from_potencia(df_nutrientes)"
   ]
  },
  {
   "cell_type": "markdown",
   "metadata": {},
   "source": [
    "Al comparar los eigenvalores, comprobamos que las diferencias rondan el $10^{-4}$"
   ]
  },
  {
   "cell_type": "code",
   "execution_count": 11,
   "metadata": {},
   "outputs": [
    {
     "data": {
      "text/plain": [
       "array([6.32387811e-04, 3.03871226e-04, 2.35801043e-04, 2.18072582e-04,\n",
       "       1.89819125e-04, 1.32339638e-04, 1.23113295e-04, 1.07491447e-04,\n",
       "       1.00036923e-04, 9.57045887e-05])"
      ]
     },
     "execution_count": 11,
     "metadata": {},
     "output_type": "execute_result"
    }
   ],
   "source": [
    "np.abs(eigenvalues)-np.abs(pow_eigenvalues)"
   ]
  }
 ],
 "metadata": {
  "kernelspec": {
   "display_name": "Python 3",
   "language": "python",
   "name": "python3"
  },
  "language_info": {
   "codemirror_mode": {
    "name": "ipython",
    "version": 3
   },
   "file_extension": ".py",
   "mimetype": "text/x-python",
   "name": "python",
   "nbconvert_exporter": "python",
   "pygments_lexer": "ipython3",
   "version": "3.6.10"
  }
 },
 "nbformat": 4,
 "nbformat_minor": 4
}
