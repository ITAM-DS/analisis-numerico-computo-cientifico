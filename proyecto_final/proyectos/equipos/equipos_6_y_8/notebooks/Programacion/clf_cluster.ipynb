{
 "cells": [
  {
   "cell_type": "code",
   "execution_count": 1,
   "metadata": {},
   "outputs": [
    {
     "name": "stderr",
     "output_type": "stream",
     "text": [
      "C:\\Users\\Elizabeth\\Anaconda3\\lib\\site-packages\\statsmodels\\tools\\_testing.py:19: FutureWarning: pandas.util.testing is deprecated. Use the functions in the public API at pandas.testing instead.\n",
      "  import pandas.util.testing as tm\n"
     ]
    }
   ],
   "source": [
    "import pandas as pd\n",
    "import numpy as np\n",
    "import statsmodels.api as sm\n",
    "import matplotlib.pyplot as plt\n",
    "import pandas.util.testing as tm\n",
    "from sklearn.preprocessing import LabelEncoder\n",
    "from sklearn.tree import DecisionTreeClassifier\n",
    "from sklearn.model_selection import cross_val_score\n",
    "from sklearn.model_selection import train_test_split\n",
    "from sklearn import metrics\n",
    "from sklearn.metrics import accuracy_score, precision_score, recall_score\n",
    "from sklearn.preprocessing import StandardScaler\n",
    "from sklearn.metrics import classification_report\n",
    "\n",
    "import seaborn as sns\n",
    "import sys\n",
    "\n",
    "sys.path.append('./../../')\n",
    "\n",
    "# OPTIONAL: Load the \"autoreload\" extension so that code can change\n",
    "%load_ext autoreload\n",
    "\n",
    "#Own Library modules\n",
    "import src.pca\n",
    "\n",
    "# OPTIONAL: always reload modules so that as you change code in src, it gets loaded\n",
    "%autoreload 2\n",
    "\n",
    "from src.pca import PCA_from_sklearn"
   ]
  },
  {
   "cell_type": "markdown",
   "metadata": {},
   "source": [
    "#### 1. Árbol de decisión para clasificación"
   ]
  },
  {
   "cell_type": "markdown",
   "metadata": {},
   "source": [
    "##### 1.1. Usando los 7 componentes principales que se obtuvieron con el criterio de eigenvalue "
   ]
  },
  {
   "cell_type": "code",
   "execution_count": 2,
   "metadata": {},
   "outputs": [],
   "source": [
    "#Se cargan los datos iniciales para obtener la target que es FoodGroup\n",
    "df = pd.read_csv('../../data/nndb_flat.csv', encoding = \"L1\") "
   ]
  },
  {
   "cell_type": "code",
   "execution_count": 3,
   "metadata": {},
   "outputs": [],
   "source": [
    "df_1 = pd.DataFrame(df.FoodGroup)"
   ]
  },
  {
   "cell_type": "code",
   "execution_count": 4,
   "metadata": {},
   "outputs": [
    {
     "data": {
      "text/plain": [
       "Beef Products                          946\n",
       "Vegetables and Vegetable Products      828\n",
       "Baked Products                         797\n",
       "Soups, Sauces, and Gravies             452\n",
       "Lamb, Veal, and Game Products          438\n",
       "Poultry Products                       390\n",
       "Legumes and Legume Products            389\n",
       "Fast Foods                             371\n",
       "Breakfast Cereals                      363\n",
       "Baby Foods                             362\n",
       "Sweets                                 347\n",
       "Fruits and Fruit Juices                346\n",
       "Pork Products                          343\n",
       "Beverages                              315\n",
       "Finfish and Shellfish Products         267\n",
       "Dairy and Egg Products                 264\n",
       "Sausages and Luncheon Meats            244\n",
       "Fats and Oils                          219\n",
       "Cereal Grains and Pasta                183\n",
       "Snacks                                 171\n",
       "American Indian/Alaska Native Foods    165\n",
       "Nut and Seed Products                  133\n",
       "Meals, Entrees, and Side Dishes        113\n",
       "Restaurant Foods                       108\n",
       "Spices and Herbs                        64\n",
       "Name: FoodGroup, dtype: int64"
      ]
     },
     "execution_count": 4,
     "metadata": {},
     "output_type": "execute_result"
    }
   ],
   "source": [
    "df_1.FoodGroup.value_counts(dropna=False)"
   ]
  },
  {
   "cell_type": "code",
   "execution_count": 5,
   "metadata": {},
   "outputs": [],
   "source": [
    "##Se codifica la variable FoodGroup usando LabelEncoder de sklearn\n",
    "labelencoder = LabelEncoder()\n",
    "df_1['FoodGroup'] = labelencoder.fit_transform(df_1.FoodGroup)"
   ]
  },
  {
   "cell_type": "code",
   "execution_count": 6,
   "metadata": {},
   "outputs": [
    {
     "data": {
      "text/plain": [
       "3     946\n",
       "24    828\n",
       "2     797\n",
       "21    452\n",
       "12    438\n",
       "17    390\n",
       "13    389\n",
       "8     371\n",
       "5     363\n",
       "1     362\n",
       "23    347\n",
       "11    346\n",
       "16    343\n",
       "4     315\n",
       "10    267\n",
       "7     264\n",
       "19    244\n",
       "9     219\n",
       "6     183\n",
       "20    171\n",
       "0     165\n",
       "15    133\n",
       "14    113\n",
       "18    108\n",
       "22     64\n",
       "Name: FoodGroup, dtype: int64"
      ]
     },
     "execution_count": 6,
     "metadata": {},
     "output_type": "execute_result"
    }
   ],
   "source": [
    "df_1.FoodGroup.value_counts(dropna=False)"
   ]
  },
  {
   "cell_type": "code",
   "execution_count": 7,
   "metadata": {},
   "outputs": [],
   "source": [
    "##Se cargan los 7 componentes principales que se usaran en este análisis\n",
    "componentesprincipales_analisis_post = pd.read_csv('../../results/data_results/componentesprincipales_analisis_post.csv') "
   ]
  },
  {
   "cell_type": "code",
   "execution_count": 8,
   "metadata": {},
   "outputs": [],
   "source": [
    "classifier = DecisionTreeClassifier(random_state = 0)"
   ]
  },
  {
   "cell_type": "code",
   "execution_count": 9,
   "metadata": {},
   "outputs": [
    {
     "data": {
      "text/plain": [
       "DecisionTreeClassifier(class_weight=None, criterion='gini', max_depth=None,\n",
       "                       max_features=None, max_leaf_nodes=None,\n",
       "                       min_impurity_decrease=0.0, min_impurity_split=None,\n",
       "                       min_samples_leaf=1, min_samples_split=2,\n",
       "                       min_weight_fraction_leaf=0.0, presort=False,\n",
       "                       random_state=0, splitter='best')"
      ]
     },
     "execution_count": 9,
     "metadata": {},
     "output_type": "execute_result"
    }
   ],
   "source": [
    "classifier"
   ]
  },
  {
   "cell_type": "code",
   "execution_count": 10,
   "metadata": {},
   "outputs": [],
   "source": [
    "###Se divide la muestra en entrenamiento y prueba, en 60% y 40%, respectivamente.\n",
    "X_train, X_test, y_train, y_test = train_test_split(componentesprincipales_analisis_post, df_1.FoodGroup, test_size=0.4, random_state=0)"
   ]
  },
  {
   "cell_type": "code",
   "execution_count": 11,
   "metadata": {},
   "outputs": [
    {
     "name": "stdout",
     "output_type": "stream",
     "text": [
      "Predictor - Training :  (5170, 7) Predictor - Testing :  (3448, 7)\n"
     ]
    }
   ],
   "source": [
    "###Desplegar el detalle de entrenamiento y prueba\n",
    "print( \"Predictor - Training : \", X_train.shape, \"Predictor - Testing : \", X_test.shape )"
   ]
  },
  {
   "cell_type": "code",
   "execution_count": 12,
   "metadata": {},
   "outputs": [],
   "source": [
    "###Se entrena el modelo\n",
    "classifier = classifier.fit(X_train, y_train)"
   ]
  },
  {
   "cell_type": "code",
   "execution_count": 13,
   "metadata": {},
   "outputs": [],
   "source": [
    "y_pred = pd.DataFrame(classifier.predict(X_test))"
   ]
  },
  {
   "cell_type": "code",
   "execution_count": 14,
   "metadata": {},
   "outputs": [],
   "source": [
    "probs = classifier.predict_proba(X_test)  "
   ]
  },
  {
   "cell_type": "markdown",
   "metadata": {},
   "source": [
    "- Métricas para evaluar el modelo"
   ]
  },
  {
   "cell_type": "code",
   "execution_count": 15,
   "metadata": {},
   "outputs": [
    {
     "name": "stdout",
     "output_type": "stream",
     "text": [
      "Accuracy: 0.6244199535962877\n"
     ]
    }
   ],
   "source": [
    "print(\"Accuracy:\",metrics.accuracy_score(y_test, y_pred))"
   ]
  },
  {
   "cell_type": "code",
   "execution_count": 16,
   "metadata": {},
   "outputs": [
    {
     "name": "stdout",
     "output_type": "stream",
     "text": [
      "Precision: 0.5673195381729577\n"
     ]
    }
   ],
   "source": [
    "print(\"Precision:\",metrics.precision_score(y_test, y_pred, average='macro'))"
   ]
  },
  {
   "cell_type": "code",
   "execution_count": 17,
   "metadata": {},
   "outputs": [
    {
     "name": "stdout",
     "output_type": "stream",
     "text": [
      "Recall: 0.5557755290618943\n"
     ]
    }
   ],
   "source": [
    "print(\"Recall:\",metrics.recall_score(y_test, y_pred, average='macro'))"
   ]
  },
  {
   "cell_type": "code",
   "execution_count": 18,
   "metadata": {},
   "outputs": [
    {
     "name": "stdout",
     "output_type": "stream",
     "text": [
      "              precision    recall  f1-score   support\n",
      "\n",
      "           0       0.11      0.11      0.11        62\n",
      "           1       0.63      0.57      0.60       148\n",
      "           2       0.77      0.73      0.75       313\n",
      "           3       0.77      0.83      0.80       369\n",
      "           4       0.58      0.55      0.56       136\n",
      "           5       0.74      0.75      0.74       150\n",
      "           6       0.48      0.40      0.43        81\n",
      "           7       0.65      0.65      0.65       111\n",
      "           8       0.61      0.61      0.61       148\n",
      "           9       0.77      0.81      0.79        75\n",
      "          10       0.54      0.61      0.57       104\n",
      "          11       0.53      0.64      0.58       130\n",
      "          12       0.49      0.46      0.47       182\n",
      "          13       0.52      0.55      0.53       151\n",
      "          14       0.21      0.22      0.21        46\n",
      "          15       0.68      0.60      0.63        67\n",
      "          16       0.68      0.59      0.64       153\n",
      "          17       0.58      0.59      0.59       160\n",
      "          18       0.25      0.34      0.29        41\n",
      "          19       0.43      0.42      0.42        89\n",
      "          20       0.45      0.50      0.48        70\n",
      "          21       0.58      0.60      0.59       169\n",
      "          22       0.71      0.38      0.49        32\n",
      "          23       0.63      0.61      0.62       139\n",
      "          24       0.79      0.77      0.78       322\n",
      "\n",
      "    accuracy                           0.62      3448\n",
      "   macro avg       0.57      0.56      0.56      3448\n",
      "weighted avg       0.63      0.62      0.62      3448\n",
      "\n"
     ]
    }
   ],
   "source": [
    "print(metrics.classification_report(y_test, y_pred))"
   ]
  },
  {
   "cell_type": "code",
   "execution_count": 19,
   "metadata": {},
   "outputs": [],
   "source": [
    "clf_matrix=metrics.confusion_matrix(y_test,y_pred)"
   ]
  },
  {
   "cell_type": "code",
   "execution_count": 20,
   "metadata": {},
   "outputs": [
    {
     "data": {
      "text/plain": [
       "<matplotlib.axes._subplots.AxesSubplot at 0x2aa8d4201c8>"
      ]
     },
     "execution_count": 20,
     "metadata": {},
     "output_type": "execute_result"
    },
    {
     "data": {
      "image/png": "[encoded data removed]",
      "text/plain": [
       "<Figure size 864x864 with 2 Axes>"
      ]
     },
     "metadata": {
      "needs_background": "light"
     },
     "output_type": "display_data"
    }
   ],
   "source": [
    "f, ax = plt.subplots(figsize=(12,12))\n",
    "sns.heatmap(pd.DataFrame(clf_matrix), annot=True, fmt=\"g\", linewidths=.5, xticklabels=1, cmap=\"Greens\", yticklabels=False, cbar=True)"
   ]
  },
  {
   "cell_type": "markdown",
   "metadata": {},
   "source": [
    "##### 1.2. Usando las variables originales  "
   ]
  },
  {
   "cell_type": "code",
   "execution_count": 21,
   "metadata": {},
   "outputs": [],
   "source": [
    "##Se eligen las variables que se usaran en el modelo\n",
    "X = df.iloc[:, 7:45]"
   ]
  },
  {
   "cell_type": "code",
   "execution_count": 22,
   "metadata": {},
   "outputs": [
    {
     "data": {
      "text/html": [
       "<div>\n",
       "<style scoped>\n",
       "    .dataframe tbody tr th:only-of-type {\n",
       "        vertical-align: middle;\n",
       "    }\n",
       "\n",
       "    .dataframe tbody tr th {\n",
       "        vertical-align: top;\n",
       "    }\n",
       "\n",
       "    .dataframe thead th {\n",
       "        text-align: right;\n",
       "    }\n",
       "</style>\n",
       "<table border=\"1\" class=\"dataframe\">\n",
       "  <thead>\n",
       "    <tr style=\"text-align: right;\">\n",
       "      <th></th>\n",
       "      <th>Energy_kcal</th>\n",
       "      <th>Protein_g</th>\n",
       "      <th>Fat_g</th>\n",
       "      <th>Carb_g</th>\n",
       "      <th>Sugar_g</th>\n",
       "      <th>Fiber_g</th>\n",
       "      <th>VitA_mcg</th>\n",
       "      <th>VitB6_mg</th>\n",
       "      <th>VitB12_mcg</th>\n",
       "      <th>VitC_mg</th>\n",
       "      <th>...</th>\n",
       "      <th>Folate_USRDA</th>\n",
       "      <th>Niacin_USRDA</th>\n",
       "      <th>Riboflavin_USRDA</th>\n",
       "      <th>Thiamin_USRDA</th>\n",
       "      <th>Calcium_USRDA</th>\n",
       "      <th>Copper_USRDA</th>\n",
       "      <th>Magnesium_USRDA</th>\n",
       "      <th>Phosphorus_USRDA</th>\n",
       "      <th>Selenium_USRDA</th>\n",
       "      <th>Zinc_USRDA</th>\n",
       "    </tr>\n",
       "  </thead>\n",
       "  <tbody>\n",
       "    <tr>\n",
       "      <th>count</th>\n",
       "      <td>8618.000000</td>\n",
       "      <td>8618.00000</td>\n",
       "      <td>8618.000000</td>\n",
       "      <td>8618.000000</td>\n",
       "      <td>8618.000000</td>\n",
       "      <td>8618.000000</td>\n",
       "      <td>8618.000000</td>\n",
       "      <td>8618.000000</td>\n",
       "      <td>8618.000000</td>\n",
       "      <td>8618.000000</td>\n",
       "      <td>...</td>\n",
       "      <td>8618.000000</td>\n",
       "      <td>8618.000000</td>\n",
       "      <td>8618.000000</td>\n",
       "      <td>8618.000000</td>\n",
       "      <td>8618.000000</td>\n",
       "      <td>8618.000000</td>\n",
       "      <td>8618.000000</td>\n",
       "      <td>8618.000000</td>\n",
       "      <td>8618.000000</td>\n",
       "      <td>8618.000000</td>\n",
       "    </tr>\n",
       "    <tr>\n",
       "      <th>mean</th>\n",
       "      <td>226.438617</td>\n",
       "      <td>11.52391</td>\n",
       "      <td>10.647024</td>\n",
       "      <td>21.819062</td>\n",
       "      <td>6.560253</td>\n",
       "      <td>2.023242</td>\n",
       "      <td>93.968786</td>\n",
       "      <td>0.264369</td>\n",
       "      <td>1.225260</td>\n",
       "      <td>7.925377</td>\n",
       "      <td>...</td>\n",
       "      <td>0.125765</td>\n",
       "      <td>0.213222</td>\n",
       "      <td>0.182499</td>\n",
       "      <td>0.174881</td>\n",
       "      <td>0.061176</td>\n",
       "      <td>0.000191</td>\n",
       "      <td>0.077965</td>\n",
       "      <td>0.222838</td>\n",
       "      <td>0.229363</td>\n",
       "      <td>0.179111</td>\n",
       "    </tr>\n",
       "    <tr>\n",
       "      <th>std</th>\n",
       "      <td>169.388910</td>\n",
       "      <td>10.55059</td>\n",
       "      <td>15.866353</td>\n",
       "      <td>27.239000</td>\n",
       "      <td>13.602098</td>\n",
       "      <td>4.313670</td>\n",
       "      <td>779.362205</td>\n",
       "      <td>0.478614</td>\n",
       "      <td>4.319183</td>\n",
       "      <td>57.582758</td>\n",
       "      <td>...</td>\n",
       "      <td>0.466402</td>\n",
       "      <td>0.302161</td>\n",
       "      <td>0.346062</td>\n",
       "      <td>0.431974</td>\n",
       "      <td>0.167803</td>\n",
       "      <td>0.000615</td>\n",
       "      <td>0.133496</td>\n",
       "      <td>0.290133</td>\n",
       "      <td>0.514406</td>\n",
       "      <td>0.305292</td>\n",
       "    </tr>\n",
       "    <tr>\n",
       "      <th>min</th>\n",
       "      <td>0.000000</td>\n",
       "      <td>0.00000</td>\n",
       "      <td>0.000000</td>\n",
       "      <td>0.000000</td>\n",
       "      <td>0.000000</td>\n",
       "      <td>0.000000</td>\n",
       "      <td>0.000000</td>\n",
       "      <td>0.000000</td>\n",
       "      <td>0.000000</td>\n",
       "      <td>0.000000</td>\n",
       "      <td>...</td>\n",
       "      <td>0.000000</td>\n",
       "      <td>0.000000</td>\n",
       "      <td>0.000000</td>\n",
       "      <td>0.000000</td>\n",
       "      <td>0.000000</td>\n",
       "      <td>0.000000</td>\n",
       "      <td>0.000000</td>\n",
       "      <td>0.000000</td>\n",
       "      <td>0.000000</td>\n",
       "      <td>0.000000</td>\n",
       "    </tr>\n",
       "    <tr>\n",
       "      <th>25%</th>\n",
       "      <td>93.000000</td>\n",
       "      <td>2.47000</td>\n",
       "      <td>0.992500</td>\n",
       "      <td>0.040000</td>\n",
       "      <td>0.000000</td>\n",
       "      <td>0.000000</td>\n",
       "      <td>0.000000</td>\n",
       "      <td>0.034250</td>\n",
       "      <td>0.000000</td>\n",
       "      <td>0.000000</td>\n",
       "      <td>...</td>\n",
       "      <td>0.000000</td>\n",
       "      <td>0.023875</td>\n",
       "      <td>0.035385</td>\n",
       "      <td>0.025000</td>\n",
       "      <td>0.007500</td>\n",
       "      <td>0.000033</td>\n",
       "      <td>0.023810</td>\n",
       "      <td>0.052857</td>\n",
       "      <td>0.001818</td>\n",
       "      <td>0.020909</td>\n",
       "    </tr>\n",
       "    <tr>\n",
       "      <th>50%</th>\n",
       "      <td>191.000000</td>\n",
       "      <td>8.28500</td>\n",
       "      <td>5.235000</td>\n",
       "      <td>8.945000</td>\n",
       "      <td>0.370000</td>\n",
       "      <td>0.300000</td>\n",
       "      <td>1.500000</td>\n",
       "      <td>0.120000</td>\n",
       "      <td>0.080000</td>\n",
       "      <td>0.000000</td>\n",
       "      <td>...</td>\n",
       "      <td>0.017500</td>\n",
       "      <td>0.131250</td>\n",
       "      <td>0.115385</td>\n",
       "      <td>0.064583</td>\n",
       "      <td>0.015833</td>\n",
       "      <td>0.000088</td>\n",
       "      <td>0.047619</td>\n",
       "      <td>0.190000</td>\n",
       "      <td>0.070909</td>\n",
       "      <td>0.076818</td>\n",
       "    </tr>\n",
       "    <tr>\n",
       "      <th>75%</th>\n",
       "      <td>336.000000</td>\n",
       "      <td>19.97750</td>\n",
       "      <td>13.900000</td>\n",
       "      <td>32.900000</td>\n",
       "      <td>5.300000</td>\n",
       "      <td>2.400000</td>\n",
       "      <td>21.000000</td>\n",
       "      <td>0.355000</td>\n",
       "      <td>1.297500</td>\n",
       "      <td>2.500000</td>\n",
       "      <td>...</td>\n",
       "      <td>0.062500</td>\n",
       "      <td>0.314328</td>\n",
       "      <td>0.200000</td>\n",
       "      <td>0.185833</td>\n",
       "      <td>0.051667</td>\n",
       "      <td>0.000161</td>\n",
       "      <td>0.069048</td>\n",
       "      <td>0.308571</td>\n",
       "      <td>0.387273</td>\n",
       "      <td>0.245455</td>\n",
       "    </tr>\n",
       "    <tr>\n",
       "      <th>max</th>\n",
       "      <td>902.000000</td>\n",
       "      <td>88.32000</td>\n",
       "      <td>100.000000</td>\n",
       "      <td>100.000000</td>\n",
       "      <td>99.800000</td>\n",
       "      <td>79.000000</td>\n",
       "      <td>30000.000000</td>\n",
       "      <td>12.000000</td>\n",
       "      <td>98.890000</td>\n",
       "      <td>2400.000000</td>\n",
       "      <td>...</td>\n",
       "      <td>14.702500</td>\n",
       "      <td>7.968750</td>\n",
       "      <td>13.461538</td>\n",
       "      <td>19.479167</td>\n",
       "      <td>6.136667</td>\n",
       "      <td>0.016722</td>\n",
       "      <td>1.859524</td>\n",
       "      <td>14.168571</td>\n",
       "      <td>34.854545</td>\n",
       "      <td>8.268182</td>\n",
       "    </tr>\n",
       "  </tbody>\n",
       "</table>\n",
       "<p>8 rows × 38 columns</p>\n",
       "</div>"
      ],
      "text/plain": [
       "       Energy_kcal   Protein_g        Fat_g       Carb_g      Sugar_g  \\\n",
       "count  8618.000000  8618.00000  8618.000000  8618.000000  8618.000000   \n",
       "mean    226.438617    11.52391    10.647024    21.819062     6.560253   \n",
       "std     169.388910    10.55059    15.866353    27.239000    13.602098   \n",
       "min       0.000000     0.00000     0.000000     0.000000     0.000000   \n",
       "25%      93.000000     2.47000     0.992500     0.040000     0.000000   \n",
       "50%     191.000000     8.28500     5.235000     8.945000     0.370000   \n",
       "75%     336.000000    19.97750    13.900000    32.900000     5.300000   \n",
       "max     902.000000    88.32000   100.000000   100.000000    99.800000   \n",
       "\n",
       "           Fiber_g      VitA_mcg     VitB6_mg   VitB12_mcg      VitC_mg  ...  \\\n",
       "count  8618.000000   8618.000000  8618.000000  8618.000000  8618.000000  ...   \n",
       "mean      2.023242     93.968786     0.264369     1.225260     7.925377  ...   \n",
       "std       4.313670    779.362205     0.478614     4.319183    57.582758  ...   \n",
       "min       0.000000      0.000000     0.000000     0.000000     0.000000  ...   \n",
       "25%       0.000000      0.000000     0.034250     0.000000     0.000000  ...   \n",
       "50%       0.300000      1.500000     0.120000     0.080000     0.000000  ...   \n",
       "75%       2.400000     21.000000     0.355000     1.297500     2.500000  ...   \n",
       "max      79.000000  30000.000000    12.000000    98.890000  2400.000000  ...   \n",
       "\n",
       "       Folate_USRDA  Niacin_USRDA  Riboflavin_USRDA  Thiamin_USRDA  \\\n",
       "count   8618.000000   8618.000000       8618.000000    8618.000000   \n",
       "mean       0.125765      0.213222          0.182499       0.174881   \n",
       "std        0.466402      0.302161          0.346062       0.431974   \n",
       "min        0.000000      0.000000          0.000000       0.000000   \n",
       "25%        0.000000      0.023875          0.035385       0.025000   \n",
       "50%        0.017500      0.131250          0.115385       0.064583   \n",
       "75%        0.062500      0.314328          0.200000       0.185833   \n",
       "max       14.702500      7.968750         13.461538      19.479167   \n",
       "\n",
       "       Calcium_USRDA  Copper_USRDA  Magnesium_USRDA  Phosphorus_USRDA  \\\n",
       "count    8618.000000   8618.000000      8618.000000       8618.000000   \n",
       "mean        0.061176      0.000191         0.077965          0.222838   \n",
       "std         0.167803      0.000615         0.133496          0.290133   \n",
       "min         0.000000      0.000000         0.000000          0.000000   \n",
       "25%         0.007500      0.000033         0.023810          0.052857   \n",
       "50%         0.015833      0.000088         0.047619          0.190000   \n",
       "75%         0.051667      0.000161         0.069048          0.308571   \n",
       "max         6.136667      0.016722         1.859524         14.168571   \n",
       "\n",
       "       Selenium_USRDA   Zinc_USRDA  \n",
       "count     8618.000000  8618.000000  \n",
       "mean         0.229363     0.179111  \n",
       "std          0.514406     0.305292  \n",
       "min          0.000000     0.000000  \n",
       "25%          0.001818     0.020909  \n",
       "50%          0.070909     0.076818  \n",
       "75%          0.387273     0.245455  \n",
       "max         34.854545     8.268182  \n",
       "\n",
       "[8 rows x 38 columns]"
      ]
     },
     "execution_count": 22,
     "metadata": {},
     "output_type": "execute_result"
    }
   ],
   "source": [
    "X.describe()"
   ]
  },
  {
   "cell_type": "code",
   "execution_count": 23,
   "metadata": {},
   "outputs": [],
   "source": [
    "##Se escalan las variables\n",
    "X = StandardScaler().fit_transform(X)"
   ]
  },
  {
   "cell_type": "code",
   "execution_count": 24,
   "metadata": {},
   "outputs": [],
   "source": [
    "df_1 = pd.DataFrame(df.FoodGroup)"
   ]
  },
  {
   "cell_type": "code",
   "execution_count": 25,
   "metadata": {},
   "outputs": [
    {
     "data": {
      "text/plain": [
       "Beef Products                          946\n",
       "Vegetables and Vegetable Products      828\n",
       "Baked Products                         797\n",
       "Soups, Sauces, and Gravies             452\n",
       "Lamb, Veal, and Game Products          438\n",
       "Poultry Products                       390\n",
       "Legumes and Legume Products            389\n",
       "Fast Foods                             371\n",
       "Breakfast Cereals                      363\n",
       "Baby Foods                             362\n",
       "Sweets                                 347\n",
       "Fruits and Fruit Juices                346\n",
       "Pork Products                          343\n",
       "Beverages                              315\n",
       "Finfish and Shellfish Products         267\n",
       "Dairy and Egg Products                 264\n",
       "Sausages and Luncheon Meats            244\n",
       "Fats and Oils                          219\n",
       "Cereal Grains and Pasta                183\n",
       "Snacks                                 171\n",
       "American Indian/Alaska Native Foods    165\n",
       "Nut and Seed Products                  133\n",
       "Meals, Entrees, and Side Dishes        113\n",
       "Restaurant Foods                       108\n",
       "Spices and Herbs                        64\n",
       "Name: FoodGroup, dtype: int64"
      ]
     },
     "execution_count": 25,
     "metadata": {},
     "output_type": "execute_result"
    }
   ],
   "source": [
    "df_1.FoodGroup.value_counts(dropna=False)"
   ]
  },
  {
   "cell_type": "code",
   "execution_count": 26,
   "metadata": {},
   "outputs": [],
   "source": [
    "##Se codifica la variable FoodGroup usando LabelEncoder de sklearn\n",
    "labelencoder = LabelEncoder()\n",
    "df_1['FoodGroup'] = labelencoder.fit_transform(df_1.FoodGroup)"
   ]
  },
  {
   "cell_type": "code",
   "execution_count": 27,
   "metadata": {},
   "outputs": [
    {
     "data": {
      "text/plain": [
       "3     946\n",
       "24    828\n",
       "2     797\n",
       "21    452\n",
       "12    438\n",
       "17    390\n",
       "13    389\n",
       "8     371\n",
       "5     363\n",
       "1     362\n",
       "23    347\n",
       "11    346\n",
       "16    343\n",
       "4     315\n",
       "10    267\n",
       "7     264\n",
       "19    244\n",
       "9     219\n",
       "6     183\n",
       "20    171\n",
       "0     165\n",
       "15    133\n",
       "14    113\n",
       "18    108\n",
       "22     64\n",
       "Name: FoodGroup, dtype: int64"
      ]
     },
     "execution_count": 27,
     "metadata": {},
     "output_type": "execute_result"
    }
   ],
   "source": [
    "df_1.FoodGroup.value_counts(dropna=False)"
   ]
  },
  {
   "cell_type": "code",
   "execution_count": 28,
   "metadata": {},
   "outputs": [],
   "source": [
    "classifier = DecisionTreeClassifier(random_state=0)"
   ]
  },
  {
   "cell_type": "code",
   "execution_count": 29,
   "metadata": {},
   "outputs": [],
   "source": [
    "###Se divide la muestra en entrenamiento y prueba, en 60% y 40%, respectivamente.\n",
    "X_train, X_test, y_train, y_test = train_test_split(X, df_1.FoodGroup, test_size=0.4, random_state=0)"
   ]
  },
  {
   "cell_type": "code",
   "execution_count": 30,
   "metadata": {},
   "outputs": [],
   "source": [
    "###Se entrena el modelo\n",
    "classifier = classifier.fit(X_train, y_train)"
   ]
  },
  {
   "cell_type": "code",
   "execution_count": 31,
   "metadata": {},
   "outputs": [],
   "source": [
    "y_pred = pd.DataFrame(classifier.predict(X_test))"
   ]
  },
  {
   "cell_type": "code",
   "execution_count": 32,
   "metadata": {},
   "outputs": [],
   "source": [
    "probs = classifier.predict_proba(X_test)  "
   ]
  },
  {
   "cell_type": "markdown",
   "metadata": {},
   "source": [
    "- Métricas para evaluar el modelo"
   ]
  },
  {
   "cell_type": "code",
   "execution_count": 33,
   "metadata": {},
   "outputs": [
    {
     "name": "stdout",
     "output_type": "stream",
     "text": [
      "Accuracy: 0.7529002320185615\n"
     ]
    }
   ],
   "source": [
    "print(\"Accuracy:\",metrics.accuracy_score(y_test, y_pred))"
   ]
  },
  {
   "cell_type": "code",
   "execution_count": 34,
   "metadata": {},
   "outputs": [
    {
     "name": "stdout",
     "output_type": "stream",
     "text": [
      "Precision: 0.6991026307099126\n"
     ]
    }
   ],
   "source": [
    "print(\"Precision:\",metrics.precision_score(y_test, y_pred, average='macro'))"
   ]
  },
  {
   "cell_type": "code",
   "execution_count": 35,
   "metadata": {},
   "outputs": [
    {
     "name": "stdout",
     "output_type": "stream",
     "text": [
      "Recall: 0.6896707548628851\n"
     ]
    }
   ],
   "source": [
    "print(\"Recall:\",metrics.recall_score(y_test, y_pred, average='macro'))"
   ]
  },
  {
   "cell_type": "code",
   "execution_count": 36,
   "metadata": {},
   "outputs": [
    {
     "name": "stdout",
     "output_type": "stream",
     "text": [
      "              precision    recall  f1-score   support\n",
      "\n",
      "           0       0.33      0.37      0.35        62\n",
      "           1       0.77      0.73      0.75       148\n",
      "           2       0.80      0.82      0.81       313\n",
      "           3       0.91      0.92      0.91       369\n",
      "           4       0.61      0.66      0.64       136\n",
      "           5       0.86      0.79      0.82       150\n",
      "           6       0.68      0.72      0.70        81\n",
      "           7       0.76      0.68      0.71       111\n",
      "           8       0.68      0.71      0.70       148\n",
      "           9       0.84      0.83      0.83        75\n",
      "          10       0.80      0.77      0.78       104\n",
      "          11       0.58      0.72      0.64       130\n",
      "          12       0.77      0.83      0.80       182\n",
      "          13       0.75      0.77      0.76       151\n",
      "          14       0.36      0.43      0.39        46\n",
      "          15       0.75      0.73      0.74        67\n",
      "          16       0.89      0.78      0.83       153\n",
      "          17       0.83      0.85      0.84       160\n",
      "          18       0.68      0.56      0.61        41\n",
      "          19       0.65      0.65      0.65        89\n",
      "          20       0.57      0.56      0.57        70\n",
      "          21       0.69      0.71      0.70       169\n",
      "          22       0.40      0.25      0.31        32\n",
      "          23       0.64      0.57      0.60       139\n",
      "          24       0.87      0.84      0.85       322\n",
      "\n",
      "    accuracy                           0.75      3448\n",
      "   macro avg       0.70      0.69      0.69      3448\n",
      "weighted avg       0.76      0.75      0.75      3448\n",
      "\n"
     ]
    }
   ],
   "source": [
    "print(metrics.classification_report(y_test, y_pred))"
   ]
  },
  {
   "cell_type": "code",
   "execution_count": 37,
   "metadata": {},
   "outputs": [],
   "source": [
    "clf_matrix=metrics.confusion_matrix(y_test,y_pred)"
   ]
  },
  {
   "cell_type": "code",
   "execution_count": 38,
   "metadata": {},
   "outputs": [
    {
     "data": {
      "text/plain": [
       "<matplotlib.axes._subplots.AxesSubplot at 0x2aa90251b88>"
      ]
     },
     "execution_count": 38,
     "metadata": {},
     "output_type": "execute_result"
    },
    {
     "data": {
      "image/png": "[encoded data removed]",
      "text/plain": [
       "<Figure size 864x864 with 2 Axes>"
      ]
     },
     "metadata": {
      "needs_background": "light"
     },
     "output_type": "display_data"
    }
   ],
   "source": [
    "f, ax = plt.subplots(figsize=(12,12))\n",
    "sns.heatmap(pd.DataFrame(clf_matrix), annot=True, fmt=\"g\", linewidths=.5, xticklabels=1, cmap=\"Greens\", yticklabels=False, cbar=True)"
   ]
  },
  {
   "cell_type": "markdown",
   "metadata": {},
   "source": [
    "### K - Means\n",
    "\n",
    "- Se utiliza este algoritmo para el análisis de conglomerados. \n",
    "- Se eligen los dos principales componentes"
   ]
  },
  {
   "cell_type": "code",
   "execution_count": 39,
   "metadata": {},
   "outputs": [],
   "source": [
    "componentesprincipales_dos = componentesprincipales_analisis_post.loc[:, ['principal_component_1', 'principal_component_2']]"
   ]
  },
  {
   "cell_type": "code",
   "execution_count": 40,
   "metadata": {},
   "outputs": [
    {
     "data": {
      "text/html": [
       "<div>\n",
       "<style scoped>\n",
       "    .dataframe tbody tr th:only-of-type {\n",
       "        vertical-align: middle;\n",
       "    }\n",
       "\n",
       "    .dataframe tbody tr th {\n",
       "        vertical-align: top;\n",
       "    }\n",
       "\n",
       "    .dataframe thead th {\n",
       "        text-align: right;\n",
       "    }\n",
       "</style>\n",
       "<table border=\"1\" class=\"dataframe\">\n",
       "  <thead>\n",
       "    <tr style=\"text-align: right;\">\n",
       "      <th></th>\n",
       "      <th>principal_component_1</th>\n",
       "      <th>principal_component_2</th>\n",
       "    </tr>\n",
       "  </thead>\n",
       "  <tbody>\n",
       "    <tr>\n",
       "      <th>0</th>\n",
       "      <td>-1.121776</td>\n",
       "      <td>-1.182251</td>\n",
       "    </tr>\n",
       "    <tr>\n",
       "      <th>1</th>\n",
       "      <td>-1.114687</td>\n",
       "      <td>-1.184173</td>\n",
       "    </tr>\n",
       "    <tr>\n",
       "      <th>2</th>\n",
       "      <td>-0.994919</td>\n",
       "      <td>-1.573580</td>\n",
       "    </tr>\n",
       "    <tr>\n",
       "      <th>3</th>\n",
       "      <td>0.235910</td>\n",
       "      <td>0.566070</td>\n",
       "    </tr>\n",
       "    <tr>\n",
       "      <th>4</th>\n",
       "      <td>0.300785</td>\n",
       "      <td>0.537659</td>\n",
       "    </tr>\n",
       "    <tr>\n",
       "      <th>...</th>\n",
       "      <td>...</td>\n",
       "      <td>...</td>\n",
       "    </tr>\n",
       "    <tr>\n",
       "      <th>8613</th>\n",
       "      <td>0.558544</td>\n",
       "      <td>1.975874</td>\n",
       "    </tr>\n",
       "    <tr>\n",
       "      <th>8614</th>\n",
       "      <td>-0.762069</td>\n",
       "      <td>1.320084</td>\n",
       "    </tr>\n",
       "    <tr>\n",
       "      <th>8615</th>\n",
       "      <td>-0.767671</td>\n",
       "      <td>-3.267656</td>\n",
       "    </tr>\n",
       "    <tr>\n",
       "      <th>8616</th>\n",
       "      <td>0.355897</td>\n",
       "      <td>0.678435</td>\n",
       "    </tr>\n",
       "    <tr>\n",
       "      <th>8617</th>\n",
       "      <td>-0.866890</td>\n",
       "      <td>1.198459</td>\n",
       "    </tr>\n",
       "  </tbody>\n",
       "</table>\n",
       "<p>8618 rows × 2 columns</p>\n",
       "</div>"
      ],
      "text/plain": [
       "      principal_component_1  principal_component_2\n",
       "0                 -1.121776              -1.182251\n",
       "1                 -1.114687              -1.184173\n",
       "2                 -0.994919              -1.573580\n",
       "3                  0.235910               0.566070\n",
       "4                  0.300785               0.537659\n",
       "...                     ...                    ...\n",
       "8613               0.558544               1.975874\n",
       "8614              -0.762069               1.320084\n",
       "8615              -0.767671              -3.267656\n",
       "8616               0.355897               0.678435\n",
       "8617              -0.866890               1.198459\n",
       "\n",
       "[8618 rows x 2 columns]"
      ]
     },
     "execution_count": 40,
     "metadata": {},
     "output_type": "execute_result"
    }
   ],
   "source": [
    "componentesprincipales_dos"
   ]
  },
  {
   "cell_type": "markdown",
   "metadata": {},
   "source": [
    "Por lo que, para el primer componente principal se asocian más la vitamina Riboflavin o vitamina B2, Niacin o vitamina B3 y la vitamina B6. El porcentaje de varianza explicada de este componente es de 23.69%. Mientras que, para el segundo componente principal se asocian los carbohidratos, el azúcar y la vitamina B12. El porcentaje de varianza explicada de este segundo componente principal es de 11.38% (ver notebook [PCA_from_sklearn](https://github.com/123972/PCA-nutricion/blob/master/notebooks/Programacion/PCA_from_sklearn.ipynb))."
   ]
  },
  {
   "cell_type": "code",
   "execution_count": 41,
   "metadata": {},
   "outputs": [],
   "source": [
    "### Se cargan las funciones\n",
    "import sklearn as sk\n",
    "from sklearn import preprocessing\n",
    "from sklearn.cluster import KMeans"
   ]
  },
  {
   "cell_type": "markdown",
   "metadata": {},
   "source": [
    "- Gráfica que muestra los dos componentes principales."
   ]
  },
  {
   "cell_type": "code",
   "execution_count": 42,
   "metadata": {},
   "outputs": [
    {
     "data": {
      "text/plain": [
       "Text(0, 0.5, 'Componente 2')"
      ]
     },
     "execution_count": 42,
     "metadata": {},
     "output_type": "execute_result"
    },
    {
     "data": {
      "image/png": "[encoded data removed]",
      "text/plain": [
       "<Figure size 432x288 with 1 Axes>"
      ]
     },
     "metadata": {
      "needs_background": "light"
     },
     "output_type": "display_data"
    }
   ],
   "source": [
    "plt.scatter(data=componentesprincipales_dos, x='principal_component_1', y='principal_component_2')\n",
    "plt.xlabel('Componente 1')\n",
    "plt.ylabel('Componente 2')"
   ]
  },
  {
   "cell_type": "markdown",
   "metadata": {},
   "source": [
    "- Se obtiene el número de clusters óptimos a partir del punto de corte de la siguiente gráfica, el método que se uso fue el de Elbow. Sin embargo este proceso se tarda mucho y además nos arroja dos puntos de corte (2 y 5), por lo que se decidió paralelizar usando Dask."
   ]
  },
  {
   "cell_type": "code",
   "execution_count": 43,
   "metadata": {},
   "outputs": [
    {
     "data": {
      "image/png": "[encoded data removed]",
      "text/plain": [
       "<Figure size 432x288 with 1 Axes>"
      ]
     },
     "metadata": {
      "needs_background": "light"
     },
     "output_type": "display_data"
    }
   ],
   "source": [
    "wcss = []\n",
    "for i in range(1, 11):\n",
    "    kmeans = KMeans(n_clusters = i, init = 'k-means++', random_state = 42)\n",
    "    kmeans.fit(componentesprincipales_dos)\n",
    "    wcss.append(kmeans.inertia_)\n",
    "\n",
    "# Gráfica de la suma de las distancias al cuadrado\n",
    "plt.plot(range(1, 11), wcss)\n",
    "plt.xlabel('Número de clusters')\n",
    "plt.ylabel('Suma de las distancias al cuadrado')\n",
    "plt.show()"
   ]
  },
  {
   "cell_type": "markdown",
   "metadata": {},
   "source": [
    "#### Cómputo en paralelo usando Dask"
   ]
  },
  {
   "cell_type": "code",
   "execution_count": 44,
   "metadata": {},
   "outputs": [],
   "source": [
    "### Se cargan las librerías\n",
    "from dask.distributed import Client, progress\n",
    "import dask_ml.cluster"
   ]
  },
  {
   "cell_type": "code",
   "execution_count": 45,
   "metadata": {},
   "outputs": [
    {
     "name": "stderr",
     "output_type": "stream",
     "text": [
      "C:\\Users\\Elizabeth\\Anaconda3\\lib\\site-packages\\distributed\\dashboard\\core.py:72: UserWarning: \n",
      "Failed to start diagnostics server on port 8787. [WinError 10048] Solo se permite un uso de cada dirección de socket (protocolo/dirección de red/puerto)\n",
      "  warnings.warn(\"\\n\" + msg)\n"
     ]
    },
    {
     "data": {
      "text/html": [
       "<table style=\"border: 2px solid white;\">\n",
       "<tr>\n",
       "<td style=\"vertical-align: top; border: 0px solid white\">\n",
       "<h3 style=\"text-align: left;\">Client</h3>\n",
       "<ul style=\"text-align: left; list-style: none; margin: 0; padding: 0;\">\n",
       "  <li><b>Scheduler: </b>tcp://127.0.0.1:57661</li>\n",
       "  <li><b>Dashboard: </b><a href='http://127.0.0.1:57664/status' target='_blank'>http://127.0.0.1:57664/status</a>\n",
       "</ul>\n",
       "</td>\n",
       "<td style=\"vertical-align: top; border: 0px solid white\">\n",
       "<h3 style=\"text-align: left;\">Cluster</h3>\n",
       "<ul style=\"text-align: left; list-style:none; margin: 0; padding: 0;\">\n",
       "  <li><b>Workers: </b>4</li>\n",
       "  <li><b>Cores: </b>12</li>\n",
       "  <li><b>Memory: </b>17.02 GB</li>\n",
       "</ul>\n",
       "</td>\n",
       "</tr>\n",
       "</table>"
      ],
      "text/plain": [
       "<Client: 'tcp://127.0.0.1:57661' processes=4 threads=12, memory=17.02 GB>"
      ]
     },
     "execution_count": 45,
     "metadata": {},
     "output_type": "execute_result"
    }
   ],
   "source": [
    "client = Client()\n",
    "client"
   ]
  },
  {
   "cell_type": "markdown",
   "metadata": {},
   "source": [
    "- Al dar click en el dashboard de arriba se muestra la página de status mediante bokeh, en el puerto 8787. A continuación se presenta el apartado de workers:"
   ]
  },
  {
   "cell_type": "code",
   "execution_count": 46,
   "metadata": {},
   "outputs": [
    {
     "data": {
      "image/png": "[encoded data removed]",
      "text/plain": [
       "<IPython.core.display.Image object>"
      ]
     },
     "metadata": {},
     "output_type": "display_data"
    }
   ],
   "source": [
    "from IPython.display import Image, display\n",
    "display(Image(filename='../../docs/img/dask_workers.png', embed=True))"
   ]
  },
  {
   "cell_type": "markdown",
   "metadata": {},
   "source": [
    "- Se obtiene el número de cluster óptimos paralelizando mediante Dask."
   ]
  },
  {
   "cell_type": "code",
   "execution_count": 47,
   "metadata": {},
   "outputs": [
    {
     "data": {
      "image/png": "[encoded data removed]",
      "text/plain": [
       "<Figure size 432x288 with 1 Axes>"
      ]
     },
     "metadata": {
      "needs_background": "light"
     },
     "output_type": "display_data"
    }
   ],
   "source": [
    "wcss = []\n",
    "for i in range(1, 11):\n",
    "    kmeans = dask_ml.cluster.KMeans(n_clusters = i, init = 'k-means++', random_state = 42)\n",
    "    kmeans.fit(componentesprincipales_dos)\n",
    "    wcss.append(kmeans.inertia_)\n",
    "\n",
    "# Gráfica de la suma de las distancias al cuadrado\n",
    "plt.plot(range(1, 11), wcss)\n",
    "plt.xlabel('Número de clusters')\n",
    "plt.ylabel('Suma de las distancias al cuadrado')\n",
    "plt.show()"
   ]
  },
  {
   "cell_type": "markdown",
   "metadata": {},
   "source": [
    "- En la gráfica se observa que el número de clusters óptimos es de 2, aunque se puede ver que también el 4 tiene un poco de inflexión, así que se usaremos K- Means para dos clusters y también se paraleliza. "
   ]
  },
  {
   "cell_type": "code",
   "execution_count": 48,
   "metadata": {},
   "outputs": [],
   "source": [
    "kmeans = dask_ml.cluster.KMeans(n_clusters = 2, init = 'k-means++', random_state = 42)\n",
    "k_means = kmeans.fit(componentesprincipales_dos)\n",
    "centers = kmeans.cluster_centers_ ###centroides de los clusters\n",
    "labels = kmeans.labels_"
   ]
  },
  {
   "cell_type": "code",
   "execution_count": 49,
   "metadata": {},
   "outputs": [
    {
     "data": {
      "text/plain": [
       "Text(0, 0.5, 'Componente 2 \\n (carbohidratos, azúcares, vitamina B12)')"
      ]
     },
     "execution_count": 49,
     "metadata": {},
     "output_type": "execute_result"
    },
    {
     "data": {
      "image/png": "[encoded data removed]",
      "text/plain": [
       "<Figure size 432x288 with 1 Axes>"
      ]
     },
     "metadata": {
      "needs_background": "light"
     },
     "output_type": "display_data"
    }
   ],
   "source": [
    "plt.scatter(data=componentesprincipales_dos, x='principal_component_1', y='principal_component_2', c=labels)\n",
    "plt.scatter(centers[:, 0], centers[:, 1], c='red', s=200, alpha=0.5)\n",
    "plt.xlabel('Componente 1 \\n (vitamina B2, vitamina B3, vitamina B6)')\n",
    "plt.ylabel('Componente 2 \\n (carbohidratos, azúcares, vitamina B12)')"
   ]
  },
  {
   "cell_type": "markdown",
   "metadata": {},
   "source": [
    "##### Referencias:"
   ]
  },
  {
   "cell_type": "markdown",
   "metadata": {},
   "source": [
    "- Palacios M. Erick, Notas de MNO 2020, [Cómputo en paralelo - Dask](https://github.com/ITAM-DS/analisis-numerico-computo-cientifico/blob/master/temas/II.computo_paralelo/2.2.Python_dask.ipynb)\n",
    "- Tipología_manejo_agrícola por [Irene Ramos](https://github.com/iramosp/tesis-paisajes/blob/master/Tipologia_manejo_agricola.ipynb)"
   ]
  }
 ],
 "metadata": {
  "kernelspec": {
   "display_name": "Python 3",
   "language": "python",
   "name": "python3"
  },
  "language_info": {
   "codemirror_mode": {
    "name": "ipython",
    "version": 3
   },
   "file_extension": ".py",
   "mimetype": "text/x-python",
   "name": "python",
   "nbconvert_exporter": "python",
   "pygments_lexer": "ipython3",
   "version": "3.7.4"
  }
 },
 "nbformat": 4,
 "nbformat_minor": 4
}
