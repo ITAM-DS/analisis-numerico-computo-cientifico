{
 "cells": [
  {
   "cell_type": "markdown",
   "metadata": {},
   "source": [
    "# Algoritmo One-Sided Jacobi para SVD\n",
    "\n",
    "\n",
    "\n",
    "La descomposición en valores singulares de una matriz (SVD por sus siglas en inglés) consiste hallar matrices que permitan su factorización; en concreto, se refiere a hallar dos matrices ortonormales U y V asociadas al dominio y co-dominio de $A$, junto con una matriz diagonal $\\Sigma$ cuyas entradas se encuentra determinadas por los **valores singulares** de la matriz en cuestión. \n",
    "\n",
    "\n",
    "**Objetivos**\n",
    "\n",
    "Realizar la implementación en Python de:\n",
    "\n",
    "1) El algoritmo One-Sided Jacobi para aproximar la descomposición SVD de una matriz,\n",
    "\n",
    "2) Utilizar el resultado anterior para realizar PCA\n",
    "\n",
    "Cabe mencionar que la implementación del algoritmo One-Sided Jacobi presentada a continuación fue basada en el desarrollo (en R) realizado por nuestros compañeros de clase, que puede ser consultada en https://github.com/mno-2020-gh-classroom/ex-modulo-3-comp-matricial-svd-czammar/blob/master/jupyter/Ex_CM_SVD.ipynb\n",
    "\n",
    "\n",
    "## 1. Aspectos teóricos\n",
    "\n",
    "### 1.1 Descomposición SVD\n",
    "\n",
    "Por resultados de álgebra lineal y análisis matemático, se sabe que para una matriz ![$A \\in \\mathbb{R}^{mxn}$](https://render.githubusercontent.com/render/math?math=A%20%5Cin%20%5Cmathbb%7BR%7D%5E%7Bmxn%7D&mode=inline) es posible encontrar una factorización de ésta en términos de matrices ![$U \\in \\mathbb{R}^{mxm}, V \\in \\mathbb{R}^{nxn}$](https://render.githubusercontent.com/render/math?math=U%20%5Cin%20%5Cmathbb%7BR%7D%5E%7Bmxm%7D%2C%20V%20%5Cin%20%5Cmathbb%7BR%7D%5E%7Bnxn%7D&mode=inline) ortogonales tales que: ![$A = U\\Sigma V^T$](https://render.githubusercontent.com/render/math?math=A%20%3D%20U%5CSigma%20V%5ET&mode=inline) con ![$\\Sigma = diag(\\sigma_1, \\sigma_2, \\dots, \\sigma_p) \\in \\mathbb{R}^{mxn}$](https://render.githubusercontent.com/render/math?math=%5CSigma%20%3D%20diag%28%5Csigma_1%2C%20%5Csigma_2%2C%20%5Cdots%2C%20%5Csigma_p%29%20%5Cin%20%5Cmathbb%7BR%7D%5E%7Bmxn%7D&mode=inline), ![$p = \\min\\{m,n\\}$](https://render.githubusercontent.com/render/math?math=p%20%3D%20%5Cmin%5C%7Bm%2Cn%5C%7D&mode=inline) y ![$\\sigma_1 \\geq \\sigma_2 \\geq \\dots \\geq \\sigma_p \\geq 0$](https://render.githubusercontent.com/render/math?math=%5Csigma_1%20%5Cgeq%20%5Csigma_2%20%5Cgeq%20%5Cdots%20%5Cgeq%20%5Csigma_p%20%5Cgeq%200&mode=inline).\n",
    "\n",
    "Típicamente $U$, $\\Sigma$ y $V$ se suelen asociar a acciones de $A$ sobre la bola unitaria y la imagen de ésta sobre $A$.\n",
    "\n",
    "Es importante que existen representaciones alternas dicha factorización, pero similarmente tales se basan en encontrar matrices ortogonales asociadas al dominio y condominio de $A$, junto con sus valores singulares. Véase https://en.wikipedia.org/wiki/Singular_value_decomposition#Reduced_SVDs\n",
    "\n",
    "### 1.2.1 Algoritmo One-Sided Jacobi para aproximar la descomposición SVD\n",
    "\n",
    "**Nota:** Los detalles del algoritmo a continuación se han tomado de la nota https://github.com/ITAM-DS/analisis-numerico-computo-cientifico/blob/master/temas/III.computo_matricial/3.3.d.SVD.ipynb\n",
    "\n",
    "Para obtener versiones numéricas de la descomposición SVD de una matriz existe un método iterativo conocido como el **algoritmo One-Sided Jacobi** que se basa en la aplicación sucesiva de rotaciones de Givens, para ortogonalizar las columnas de las matrices involucradas, así como estimar los respectivos valores singulares. En concreto, la idea en que se basa tal método es multiplicar a la matriz ![$A \\in \\mathbb{R}^{m \\times n}$](https://render.githubusercontent.com/render/math?math=A%20%5Cin%20%5Cmathbb%7BR%7D%5E%7Bm%20%5Ctimes%20n%7D&mode=inline) por la derecha de forma repetida por matrices ortogonales de nombre **rotaciones Givens** hasta que se converja a ![$U \\Sigma$](https://render.githubusercontent.com/render/math?math=U%20%5CSigma&mode=inline).\n",
    "\n",
    "\n",
    "Es decir, se trata de el algoritmo que realiza interacciones sobre las matrices $A,V$ de la forma: $A^{(k+1)} = A^{(k)}U^{(k)}, V^{(k+1)} = V^{(k)}U^{(k)}$ para $k>0$ donde: $U^{(k)}$ son matrices de rotación del plano $(i,j)$. Esto es, una identidad matriz identidad compatible con las dimensiones de $A$ y $V$ pero que actúa únicamente sobre las entradas dadas los índices $i$ y $j$ a través de las fórmulas que determinan una rotación de Givens\n",
    "\n",
    "$$u_{ii}^{(k)} = cos(\\theta), \\quad u_{ij}^{(k)} = sen(\\theta)$$\n",
    "\n",
    "$$u_{ji}^{(k)}=-sen(\\theta), \\quad u_{jj}^{(k)}=cos(\\theta).$$\n",
    "\n",
    "\n",
    "Es decir, la multiplicación $A^{(k)}U^{(k)}$ sólo involucra a $2$ columnas de $A^{(k)}$:\n",
    "\n",
    "$$(a_i^{(k+1)} a_j^{(k+1)}) = (a_i^{(k)} a_j^{(k)})\\left[ \\begin{array}{cc}\n",
    "cos(\\theta) & sen(\\theta)\\\\\n",
    "-sen(\\theta) & cos(\\theta)\n",
    "\\end{array}\n",
    "\\right]$$\n",
    "\n",
    "\n",
    "Al realizarse rotaciones con referencias a las entradas $(i,j)$ de $A^{(k)}$, en el proceso iterativo debe existir una secuencia, denominada *sweep*. Cada *sweep* consiste de como máximo $\\frac{n(n-1)}{2}$ rotaciones a aplicarse y es dependiente de cuántas columnas son o no ortogonales dentro del proceso (iterativo), recordando que en cada *sweep* se ortogonalizan $2$ columnas empleando una rotación de Givens.\n",
    "\n",
    "Al finalizar el algoritmo los valores singulares calculados son las normas Euclidianas de cada columna de $A^{(k)}$. Las columnas normalizadas de $A^{(k)}$ aproximarán a las columnas de $U$. \n",
    "\n",
    "**Notas:**\n",
    "\n",
    "\n",
    "* El ángulo $\\theta$ de la rotación de Givens en cada sweep se debe eligir de acuerdo a $2$ criterios:\n",
    "\n",
    "    1) El ángulo es $0$ si $a_i^{T(k)}a_j^{(k)}=0$ y por lo tanto las columnas $i,j$ son ortogonales y no se hace rotación.\n",
    "    \n",
    "    2) $\\theta \\in (\\frac{-\\pi}{4}, \\frac{pi}{4})$ tal que $a_i^{T(k+1)}a_j^{(k+1)}=0$ y para este caso se calculan $\\xi, t, cs,sn$ (las variables $cs, sn$ hacen referencia a $cos(\\theta), sen(\\theta)$.\n",
    "* La convergencia del algoritmo depende del ángulo de rotación, pero se saber que si los *sweep*  se realizan secuencialmente siguiente el ordenamiento cíclico por renglones considerando pares de columnas $(1,2), (1,3), \\dots, (1,n), (2,3), (2,4), \\dots, (n-1,n)$, tal ordenamiento si $|\\theta| \\leq \\frac{\\pi}{4}$.\n",
    "\n",
    "**Consideraciones sobre la implementación:**\n",
    "* El número de *sweeps* máximos a realizarse se debe controlarse en la implementación,\n",
    "* El número de columnas ortogonales también es un parámetro a controlar en el algoritmo,\n",
    "* La implementación requerirá entonces el desarrollo de funciones capaces de:\n",
    " * Determinar si dos vectores (columnas) son ortogonales dada cierta tolerancia,\n",
    " * Un mecanismo para generar la secuencia de índices $(1,2), (1,3), \\dots, (1,n), (2,3), (2,4), \\dots, (n-1,n)$ en la que deben correr los *sweeps*,\n",
    " * Calcular el valor de la función signo sobre números reales, puesto que se involucra en la expresión de las rotaciones de Givens,\n",
    "\n",
    "\n",
    "De todo lo anterior, el Algoritmo One-Sided Jacobi se puede describir como sigue:\n",
    "\n",
    "**Algoritmo One-Sided Jacobi**\n",
    "\n",
    "Entrada: \n",
    "\n",
    "* matriz $A \\in \\mathbb{R}^{m \\times n}$: matriz a la que se le calculará su SVD.\n",
    "\n",
    "* $TOL$ controla la convergencia del método.\n",
    "\n",
    "* $maxsweeps$ número máximo de sweeps (descritos en los comentarios de abajo).\n",
    "\n",
    "Salida: \n",
    "\n",
    "* matrices $V \\in \\mathbb{R}^{n \\times n}$ ortogonal, $W \\in \\mathbb{R}^{m \\times n}$ representada en el algoritmo por $A^{(k)}$ para un valor de $k$ controlado por la convergencia (descrita en los comentarios de abajo).\n",
    "\n",
    "\n",
    "Nota: se utilizará la notación $A^{(k)}=[a_1^{(k)} a_2^{(k)} \\cdots a_n^{(k)}]$ con cada $a_i^{(k)}$ como $i$-ésima columna de $A$ y $k$ representa el *sweep*.\n",
    "\n",
    "Definir $A^{(0)}=A$, $V^{(0)}=I_n$ (*sweep* $=0$). \n",
    "\n",
    "* Mientras no se haya llegado al número máximo de sweeps ($k \\leq maxsweeps$) o el número de columnas ortogonales sea menor a $\\frac{n(n-1)}{2}$:\n",
    "\n",
    "    * Para todos los pares con índices $i<j$ generados con alguna metodología (descrita en la sección de abajo) y para k desde 0 hasta convergencia:\n",
    "    \n",
    "        * Revisar si las columnas $a_i^{(k)}, a_j^{(k)}$ de $A^{(k)}$ son ortogonales (el chequeo se describe en los comentarios). Si son ortogonales se incrementa por uno la variable $num\\text{_}columnas\\text{_}ortogonales$. Si no son ortogonales:\n",
    "        \n",
    "            * Calcular $\\left[ \\begin{array}{cc}\n",
    "a & c\\\\\n",
    "c & b\n",
    "\\end{array}\n",
    "\\right]$ la submatriz $(i,j)$ de $A^{T(0)}A^{(0)}$ donde: $a = ||a_i^{(k)}||_2^2, b=||a_j^{(k)}||_2^2, c=a_i^{T(k)}a_j^{(k)}$. \n",
    "\n",
    "            * Calcular la rotación Givens que diagonaliza $\\left[ \\begin{array}{cc}\n",
    "a & c\\\\\n",
    "c & b\n",
    "\\end{array}\n",
    "\\right]$ definiendo: $\\xi = \\frac{b-a}{2c}, t=\\frac{signo(\\xi)}{|\\xi| + \\sqrt{1+\\xi^2}}, cs = \\frac{1}{\\sqrt{1+t^2}}, sn = cs*t$. Recordar que $signo(a) = \\begin{cases}\n",
    "1 &\\text{ si } a \\geq 0 ,\\\\\n",
    "-1 &\\text{ si } a < 0\n",
    "\\end{cases}$.\n",
    "    \n",
    "            * Actualizar las columnas $i,j$ de $A^{(k)}$. Para $\\ell$ de $1$ a $n$:\n",
    "    \n",
    "                * $temp = A^{(k)}_{\\ell i}$\n",
    "        \n",
    "                * $A_{\\ell i}^{(k)} = cs*temp - sn*A_{\\ell j}^{(k)}$\n",
    "        \n",
    "                * $A_{\\ell j}^{(k)} = sn*temp + cs*A_{\\ell j}^{(k)}$\n",
    "        \n",
    "            * Actualizar a la matriz $V^{(k)}$. Para $\\ell$ de $1$ a $n$:\n",
    "    \n",
    "                * $temp = V_{\\ell i}^{(k)}$\n",
    "        \n",
    "                * $V_{\\ell i}^{(k)} = cs*temp - sn*V_{\\ell j}^{(k)}$\n",
    "        \n",
    "                * $V_{\\ell j}^{(k)} = sn*temp + cs*V_{\\ell j}^{(k)}$\n",
    "                \n",
    "    * Incrementar por uno la variable $k$ que cuenta el número de sweeps.\n"
   ]
  },
  {
   "cell_type": "markdown",
   "metadata": {},
   "source": [
    "## 2. Funciones auxiliares\n",
    "\n",
    "### 2.1 Verificación de ortogonalidad entre vectores\n",
    "\n",
    "**Objetivo:**\n",
    "\n",
    "Dados dos vectores $u,v\\in \\mathbb{R}^n$ y un parámetro $TOL$ de tolerancia, generar una función *ortogonal* que verifique si el producto punto de la versión normalizada de ambos vectores se considera ortogonal; es decir, que evalue la verdad o falsedad de la afirmación:\n",
    "\n",
    "$$ \\frac{u \\cdot v^T}{|| u ||_2 || v ||_2 } < TOL$$\n",
    "\n",
    "**Notas:** \n",
    "\n",
    "* $TOL$ debe ser un parámetro (número real positivo) de esta función para que el usuario pueda definir a voluntad,\n",
    "\n",
    "* La norma de los vectores a involucrarse en la definición es la norma-2,\n",
    "* La función debe regresar un valor booleano, que nos diga si dada la tolerancia la versión normalizada de ambos vectores se considera ortogonal.\n"
   ]
  },
  {
   "cell_type": "code",
   "execution_count": 1,
   "metadata": {},
   "outputs": [],
   "source": [
    "def verificar_ortogonalidad(u,v,tol = 10^-8):\n",
    "    if np.linalg.norm(u) <= tol or np.linalg.norm(v) <= tol:\n",
    "        resultado = 1\n",
    "    elif ((np.dot(u,v))/(np.linalg.norm(u)*np.linalg.norm(v))) <= tol:\n",
    "        resultado = 1\n",
    "    else:\n",
    "        resultado = 0\n",
    "    return resultado"
   ]
  },
  {
   "cell_type": "code",
   "execution_count": 28,
   "metadata": {},
   "outputs": [],
   "source": [
    "def ortogonal(u,v,TOL=10^-8):\n",
    "  # Verifica si dos vectores son ortogonales, de acuerdo a cierto nivel de tolerancia, \n",
    "  # arrojando un 1 si lo es, y un 0 si no lo es.\n",
    "  # Args: \n",
    "  #   u (vector): vector de dimension n,\n",
    "  #   v (vector): vector de dimension n, \n",
    "  #   TOL (numeric): real positivo, que sirve como parametro de tolerancia para evaluar ortogonalidad de u y v. \n",
    "  #   Notas: \n",
    "  #   1) Valor por default TOL es 10^-8\n",
    "  #   2) Se sugiere una TOL mayor a 10^-32.\n",
    "  # Returns: \n",
    "  #   Valor booleano 0 (no son ortogonales), 1 (son ortogonales)\n",
    "    if (np.linalg.norm(u,2) < TOL or np.linalg.norm(v,2) < TOL):\n",
    "        ort =0 \n",
    "    else: \n",
    "        if(np.dot(u,v)/(np.linalg.norm(u,2)*np.linalg.norm(v,2)) < TOL):\n",
    "            ort=1\n",
    "        else:\n",
    "            ort=0  \n",
    "    \n",
    "    return ort\n"
   ]
  },
  {
   "cell_type": "markdown",
   "metadata": {},
   "source": [
    "### 2.2 Función signo\n",
    "\n",
    "**Objetivo:**\n",
    "\n",
    "Generar una función *signo* que verifique el signo de un número real; es decir:\n",
    "\n",
    "$$signo(a) = \\begin{cases} 1 & \\mbox{ si } a \\geq 0 \\\\ -1 & \\mbox{ si } a < 0 \\end{cases}$$\n",
    "\n",
    "Observemos que `numpy` ya cuenta con la función `numpy.sign()`, sin embargo, `numpy.sign(0)` devuelve cero, por lo que proponemos una versión ligeramente modificada:\n"
   ]
  },
  {
   "cell_type": "code",
   "execution_count": 3,
   "metadata": {},
   "outputs": [],
   "source": [
    "def signo(x):\n",
    "    if x<0:\n",
    "        sig = -1\n",
    "    else:\n",
    "        sig = 1\n",
    "    return sig"
   ]
  },
  {
   "cell_type": "code",
   "execution_count": 4,
   "metadata": {},
   "outputs": [
    {
     "data": {
      "text/plain": [
       "1"
      ]
     },
     "execution_count": 4,
     "metadata": {},
     "output_type": "execute_result"
    }
   ],
   "source": [
    "signo(0)"
   ]
  },
  {
   "cell_type": "markdown",
   "metadata": {},
   "source": [
    "## 3. Algoritmo SVD\n",
    "\n",
    "\n",
    "### 3.1 One-sided Jacobi numerical aproximación\n",
    "\n",
    "**Propósito:**\n",
    "\n",
    "Dada una matriz $A \\in \\mathbb{R}^{ m \\times n}$, crear una función *SVD_jacobi_aprox* que permita obtener aproximaciones numéricas asociadas a la descomposición SVD de esta,. En concreto, si la descomposición de $A$ está dada por las consabidas matrices $U \\in \\mathbb{R}^{m \\times m}$, $\\Sigma\\in \\mathbb{R}^{n \\times n}$ y $V \\in \\mathbb{R}^{n \\times n}$,  queremos obtener versiones numéricas de 1) $V$ y 2) $W:=U \\Sigma$.\n",
    "\n",
    "Ello se debe realizar con base en las siguientes especificaciones, que circunscriben el Algoritmo One-sided Jacobi para la descomposición SVD:\n",
    "\n",
    "**Entradas:**\n",
    "\n",
    "* Matriz $A \\in \\mathbb{R}^{ m \\times n}$,\n",
    "* TOL (número real, parámetro de tolerancia prefijado en $10^{-8}$),\n",
    "* *maxsweeps* (entero mayor a cero). **Nota:** Las rotaciones que se aplicarán sucesivamente para ortogonalizar las matrices a partir de A se realizan en una secuencia con nombre *sweep*. Cada *sweep* consiste de como máximo $\\frac{n(n+1)}{2}$ rotaciones (pues depende de cuántas columnas son o no ortogonales) y en cada *sweep* se ortogonalizan 2 columnas. El número de *sweeps* a realizar se controla con esta variable.\n",
    "\n",
    "**Salidas:**\n",
    "\n",
    "* $V \\in \\mathbb{R}^{n \\times n}$ (dadas por $V\\leftarrow V^k$, al final del proceso iterativo),\n",
    "* $S \\in \\mathbb{R}^{n \\times n}$ (dada por norma de $A^k$, al final del proceso iterativo),\n",
    "* $U \\in \\mathbb{R}^{m \\times n}$ (dada por $U\\leftarrow A^k$ a la que se le han normalizado las columnas, al final del proceso iterativo),\n",
    "\n",
    "**Funciones del proyecto  que depende:**\n",
    "\n",
    "Signo y ortogonal (véanse secciones 2.2 y 2.3)\n",
    "\n",
    "**Reporte de revisión:**\n",
    "\n",
    "Los reportes de revisión correspondiente a esta función se encuentra disponible para su consulta en el [vínculo 1](https://github.com/mno-2020-gh-classroom/ex-modulo-3-comp-matricial-svd-czammar/blob/master/test/Rev_One-sided_Jacobi.ipynb) y [vínculo 2](https://github.com/mno-2020-gh-classroom/ex-modulo-3-comp-matricial-svd-czammar/blob/master/test/Rev_One-sided_Jacobi_2.2.ipynb)."
   ]
  },
  {
   "cell_type": "code",
   "execution_count": 29,
   "metadata": {},
   "outputs": [],
   "source": [
    "import numpy as np\n",
    "def svd_jacobi_aprox(A,TOL,maxsweep):\n",
    "    # Calcula la descomposición de una matriz A en sus componentes U, S V, \n",
    "    # utilizando el método de Jacobi para calcular la factorización SVD.De esta forma \n",
    "    # la matriz A queda descompuesta de la siguiente forma: A = U*S*t(V).\n",
    "    # Args: \n",
    "    #    A (matriz): Matriz de entrada (nxm) de números reales a la que se le calculará la descomposición SVD.\n",
    "    #    TOL (numeric): controla la convergencia del método, siendo un valor real de 10^-8 (sugerido en la nota 3.3.d.SVD)\n",
    "    #    Nota: Se sugiere una TOL mayor a 10^-32.\n",
    "    #    maxsweep (numeric): número máximo de sweeps,donde cada sweep consiste de un número máximo(nmax)\n",
    "    #    de rotaciones; y en cada sweep se ortogonalizan 2 columnas.\n",
    "    # Returns: \n",
    "    #   Lista con 3 elementos, donde el primer elemento representa a la matriz U(nxm),el segundo a la matriz S(mxm) matriz diagonal\n",
    "    #   y el tercero y último a la matriz V (mxm).En conjunto estas tres matrices componen la factorización SVD de la matriz de entrada A.\n",
    "    # Nota: Esta función estima la SVD thin,la cual calcula unicamente las m columnas de U correspondientes a los m renglones de V. De esta\n",
    "    # manera las columnas restantes de U no son calculadas, provocando una mejora significativa en velocidad de ejecución comparada con la \n",
    "    # la Full SVD. Referencia: https://en.wikipedia.org/wiki/Singular_value_decomposition#Thin_SVD.\n",
    "    \n",
    "    #dimensiones de A\n",
    "    n = A.shape[1] #numero de columnas\n",
    "    m = A.shape[0] #numero de filas\n",
    "    nmax =n*(n-1)/2\n",
    "    \n",
    "    #inicializa valores del ciclo\n",
    "    ak = A\n",
    "    vk = np.identity(n, dtype = float) \n",
    "    sig = ''\n",
    "    uk = ak\n",
    "    num_col_ortogonal = 0\n",
    "    k = 0\n",
    "    stop = False\n",
    "        \n",
    "    \n",
    "    while(k<=maxsweep & num_col_ortogonal<nmax):\n",
    "        num_col_ortogonal =0\n",
    "        for i in range(n-1):\n",
    "            for j in range(i+1,n):\n",
    "                col_j = ak[:,j]\n",
    "                col_i = ak[:,i]\n",
    "\n",
    "                #comprueba ortogonalidad  \n",
    "                if(ortogonal(col_i,col_j,TOL)==1):\n",
    "                    num_col_ortogonal =num_col_ortogonal+1\n",
    "                else:\n",
    "                    #calcula coeficientes de la matriz\n",
    "                    a = np.dot(col_i,col_i)\n",
    "                    b = np.dot(col_j,col_j)\n",
    "                    c = np.dot(col_i,col_j)\n",
    "\n",
    "                    #si c es cercano a cero no actualiza\n",
    "                    if(c<TOL):\n",
    "                        stop =True\n",
    "                        break\n",
    "\n",
    "                    #calcula la rotacion givens que diagonaliza\n",
    "                    epsilon = (b-a)/(2*c)\n",
    "                    t = signo(epsilon)/(abs(epsilon)+np.sqrt(1+epsilon**2))\n",
    "                    cs = 1/np.sqrt(1+t**2)\n",
    "                    sn = cs*t\n",
    "\n",
    "                    #actualiza las columnas de la matriz ak\n",
    "                    temp = ak[:,i] \n",
    "                    ak[:,i] = cs*temp-sn*ak[:,j]\n",
    "                    ak[:,j] = sn*temp+cs*ak[:,j]\n",
    "\n",
    "\n",
    "                    #actualiza las columnas de la matriz vk\n",
    "                    temp = vk[:,i] \n",
    "                    vk[:,i] = cs*temp-sn*vk[:,j]\n",
    "                    vk[:,j] = sn*temp+cs*vk[:,j]             \n",
    "                #cierra else\n",
    "            #cierra for j\n",
    "            if(stop):\n",
    "                stop = False\n",
    "                break\n",
    "            \n",
    "        #cierra for i\n",
    "        k = k+1\n",
    "     #cierra while\n",
    "    \n",
    "      \n",
    "    #Obtener sigma (normas euclidianas de columnas de ak)\n",
    "    sig = np.linalg.norm(ak, axis=0)\n",
    "\n",
    "    #Obtener U (columnas normalizadas de ak)\n",
    "    for i in range(n):\n",
    "        if (sig[i]<TOL):\n",
    "            uk[:,i] = 0  \n",
    "        else:\n",
    "            uk[:,i] = ak[:,i]/sig[i]\n",
    "        \n",
    "\n",
    "    # Indices de sigma ordenada en forma decreciente para ordenar V,S,U\n",
    "    #index <- order(sig,decreasing = TRUE)\n",
    "    #vk <- vk[,index]\n",
    "    #S <- np.diag(sig[index])\n",
    "    #uk <- uk[,index]\n",
    "    \n",
    "    U = uk\n",
    "    s = sig\n",
    "    V= vk\n",
    "\n",
    "    return U, s, V  "
   ]
  },
  {
   "cell_type": "markdown",
   "metadata": {},
   "source": [
    "## Pruebas"
   ]
  },
  {
   "cell_type": "code",
   "execution_count": 19,
   "metadata": {},
   "outputs": [],
   "source": [
    "np.random.seed(2020)\n",
    "a = np.random.randn(9, 6)\n",
    "b = np.random.randn(2, 7, 8, 3)"
   ]
  },
  {
   "cell_type": "code",
   "execution_count": 20,
   "metadata": {},
   "outputs": [
    {
     "data": {
      "text/plain": [
       "array([[-1.76884571,  0.07555227, -1.1306297 , -0.65143017, -0.89311563,\n",
       "        -1.27410098],\n",
       "       [-0.06115443,  0.06451384,  0.41011295, -0.57288249, -0.80133362,\n",
       "         1.31203519],\n",
       "       [ 1.27469887, -1.2143576 ,  0.31371941, -1.44482142, -0.3689613 ,\n",
       "        -0.76922658],\n",
       "       [ 0.3926161 ,  0.05729383,  2.08997884,  0.04197131, -0.04834072,\n",
       "        -0.51315392],\n",
       "       [-0.08458928, -1.21545008, -1.41293073, -1.48691055,  0.38222486,\n",
       "         0.937673  ],\n",
       "       [ 1.77267804,  0.87882801,  0.33171912, -0.30603567,  1.24026615,\n",
       "        -0.21562684],\n",
       "       [ 0.15592948,  0.09805553,  0.83209585,  2.04520542, -0.31681392,\n",
       "        -1.31283291],\n",
       "       [-1.75445746,  0.10209408, -1.36150208,  0.48178488, -0.20832874,\n",
       "        -0.09186351],\n",
       "       [ 0.70268816,  0.10365506,  0.62123638,  0.95411497,  2.03781352,\n",
       "        -0.48445122]])"
      ]
     },
     "execution_count": 20,
     "metadata": {},
     "output_type": "execute_result"
    }
   ],
   "source": [
    "a"
   ]
  },
  {
   "cell_type": "markdown",
   "metadata": {},
   "source": [
    "### Prueba con np.linalg.svd"
   ]
  },
  {
   "cell_type": "code",
   "execution_count": 21,
   "metadata": {},
   "outputs": [],
   "source": [
    "u, s, vh = np.linalg.svd(a, full_matrices=False)"
   ]
  },
  {
   "cell_type": "code",
   "execution_count": 22,
   "metadata": {},
   "outputs": [
    {
     "data": {
      "text/plain": [
       "((9, 6), (6,), (6, 6))"
      ]
     },
     "execution_count": 22,
     "metadata": {},
     "output_type": "execute_result"
    }
   ],
   "source": [
    "u.shape, s.shape, vh.shape"
   ]
  },
  {
   "cell_type": "code",
   "execution_count": 23,
   "metadata": {},
   "outputs": [
    {
     "data": {
      "text/plain": [
       "6"
      ]
     },
     "execution_count": 23,
     "metadata": {},
     "output_type": "execute_result"
    }
   ],
   "source": [
    "n = a.shape[1] #numero de columnas\n",
    "m = a.shape[0] #numero de filas\n",
    "nmax =n*(n-1)/2\n",
    "n"
   ]
  },
  {
   "cell_type": "code",
   "execution_count": 24,
   "metadata": {},
   "outputs": [
    {
     "data": {
      "text/plain": [
       "True"
      ]
     },
     "execution_count": 24,
     "metadata": {},
     "output_type": "execute_result"
    }
   ],
   "source": [
    "np.allclose(a, np.dot(u * s, vh)) #Returns True if two arrays are element-wise equal within a tolerance."
   ]
  },
  {
   "cell_type": "code",
   "execution_count": 25,
   "metadata": {},
   "outputs": [
    {
     "data": {
      "text/plain": [
       "True"
      ]
     },
     "execution_count": 25,
     "metadata": {},
     "output_type": "execute_result"
    }
   ],
   "source": [
    "smat = np.diag(s)\n",
    "np.allclose(a, np.dot(u, np.dot(smat, vh)))"
   ]
  },
  {
   "cell_type": "code",
   "execution_count": 26,
   "metadata": {},
   "outputs": [
    {
     "data": {
      "text/plain": [
       "True"
      ]
     },
     "execution_count": 26,
     "metadata": {},
     "output_type": "execute_result"
    }
   ],
   "source": [
    "np.allclose(a, u @ (s[..., None] * vh))"
   ]
  },
  {
   "cell_type": "markdown",
   "metadata": {},
   "source": [
    "### Prueba con el método propuesto"
   ]
  },
  {
   "cell_type": "code",
   "execution_count": 30,
   "metadata": {},
   "outputs": [],
   "source": [
    "U, S, V = svd_jacobi_aprox(a,1e-8,50)"
   ]
  },
  {
   "cell_type": "code",
   "execution_count": 31,
   "metadata": {},
   "outputs": [
    {
     "data": {
      "text/plain": [
       "((9, 6), (6,), (6, 6))"
      ]
     },
     "execution_count": 31,
     "metadata": {},
     "output_type": "execute_result"
    }
   ],
   "source": [
    "U.shape, S.shape, V.shape"
   ]
  },
  {
   "cell_type": "code",
   "execution_count": 32,
   "metadata": {},
   "outputs": [
    {
     "data": {
      "text/plain": [
       "False"
      ]
     },
     "execution_count": 32,
     "metadata": {},
     "output_type": "execute_result"
    }
   ],
   "source": [
    "Smat = np.diag(s)\n",
    "np.allclose(a, np.dot(U, np.dot(Smat, V.T)))"
   ]
  },
  {
   "cell_type": "code",
   "execution_count": 33,
   "metadata": {},
   "outputs": [
    {
     "data": {
      "text/plain": [
       "False"
      ]
     },
     "execution_count": 33,
     "metadata": {},
     "output_type": "execute_result"
    }
   ],
   "source": [
    "np.allclose(u,U)"
   ]
  },
  {
   "cell_type": "code",
   "execution_count": 34,
   "metadata": {},
   "outputs": [
    {
     "data": {
      "text/plain": [
       "False"
      ]
     },
     "execution_count": 34,
     "metadata": {},
     "output_type": "execute_result"
    }
   ],
   "source": [
    "np.allclose(s,S)"
   ]
  },
  {
   "cell_type": "code",
   "execution_count": 35,
   "metadata": {},
   "outputs": [
    {
     "data": {
      "text/plain": [
       "False"
      ]
     },
     "execution_count": 35,
     "metadata": {},
     "output_type": "execute_result"
    }
   ],
   "source": [
    "np.allclose(vh,V)"
   ]
  },
  {
   "cell_type": "code",
   "execution_count": 36,
   "metadata": {},
   "outputs": [
    {
     "data": {
      "text/plain": [
       "array([4.61438141, 3.74993553, 2.69498261, 2.31903031, 1.44108343,\n",
       "       1.19491148])"
      ]
     },
     "execution_count": 36,
     "metadata": {},
     "output_type": "execute_result"
    }
   ],
   "source": [
    "s"
   ]
  },
  {
   "cell_type": "code",
   "execution_count": 37,
   "metadata": {},
   "outputs": [
    {
     "data": {
      "text/plain": [
       "array([4.5496564 , 1.40066774, 1.2062377 , 2.59631441, 1.85522064,\n",
       "       2.46400838])"
      ]
     },
     "execution_count": 37,
     "metadata": {},
     "output_type": "execute_result"
    }
   ],
   "source": [
    "S"
   ]
  },
  {
   "cell_type": "code",
   "execution_count": 38,
   "metadata": {},
   "outputs": [],
   "source": [
    "A = a\n",
    "#dimensiones de A\n",
    "n = A.shape[1] #numero de columnas\n",
    "m = A.shape[0] #numero de filas\n",
    "nmax =n*(n-1)/2"
   ]
  },
  {
   "cell_type": "code",
   "execution_count": 39,
   "metadata": {},
   "outputs": [],
   "source": [
    "#inicializa valores del ciclo\n",
    "ak = A\n",
    "vk = np.identity(n, dtype = float) \n",
    "sig = ''\n",
    "uk = ak\n",
    "num_col_ortogonal = 0\n",
    "k = 0\n",
    "stop = False\n"
   ]
  },
  {
   "cell_type": "markdown",
   "metadata": {},
   "source": [
    "### Borrador"
   ]
  },
  {
   "cell_type": "code",
   "execution_count": 40,
   "metadata": {},
   "outputs": [
    {
     "data": {
      "text/plain": [
       "array([ 0.42890649,  0.13255354, -0.20105594,  0.17667344, -0.42833774,\n",
       "        0.55114437, -0.41428721, -0.07969703, -0.24821956])"
      ]
     },
     "execution_count": 40,
     "metadata": {},
     "output_type": "execute_result"
    }
   ],
   "source": [
    "ak = a\n",
    "col_j = ak[:,1]\n",
    "col_i = ak[:,0]\n",
    "col_j"
   ]
  },
  {
   "cell_type": "code",
   "execution_count": 41,
   "metadata": {},
   "outputs": [],
   "source": [
    "x1 = [1,2,3,4,5,6,7,8,9]"
   ]
  },
  {
   "cell_type": "code",
   "execution_count": 42,
   "metadata": {},
   "outputs": [
    {
     "data": {
      "text/plain": [
       "16.881943016134134"
      ]
     },
     "execution_count": 42,
     "metadata": {},
     "output_type": "execute_result"
    }
   ],
   "source": [
    "np.linalg.norm(x1)"
   ]
  },
  {
   "cell_type": "code",
   "execution_count": 43,
   "metadata": {},
   "outputs": [
    {
     "data": {
      "text/plain": [
       "16.881943016134134"
      ]
     },
     "execution_count": 43,
     "metadata": {},
     "output_type": "execute_result"
    }
   ],
   "source": [
    "np.sqrt(np.dot(x1,x1))"
   ]
  },
  {
   "cell_type": "code",
   "execution_count": 44,
   "metadata": {},
   "outputs": [
    {
     "data": {
      "text/plain": [
       "1.0"
      ]
     },
     "execution_count": 44,
     "metadata": {},
     "output_type": "execute_result"
    }
   ],
   "source": [
    "(np.linalg.norm(col_j,2))"
   ]
  },
  {
   "cell_type": "code",
   "execution_count": 45,
   "metadata": {},
   "outputs": [
    {
     "data": {
      "text/plain": [
       "1.0"
      ]
     },
     "execution_count": 45,
     "metadata": {},
     "output_type": "execute_result"
    }
   ],
   "source": [
    "np.sqrt(np.dot(col_j,col_j))"
   ]
  },
  {
   "cell_type": "code",
   "execution_count": 46,
   "metadata": {},
   "outputs": [
    {
     "data": {
      "text/plain": [
       "9"
      ]
     },
     "execution_count": 46,
     "metadata": {},
     "output_type": "execute_result"
    }
   ],
   "source": [
    "len(col_j)"
   ]
  }
 ],
 "metadata": {
  "kernelspec": {
   "display_name": "Python 3",
   "language": "python",
   "name": "python3"
  },
  "language_info": {
   "codemirror_mode": {
    "name": "ipython",
    "version": 3
   },
   "file_extension": ".py",
   "mimetype": "text/x-python",
   "name": "python",
   "nbconvert_exporter": "python",
   "pygments_lexer": "ipython3",
   "version": "3.6.10"
  }
 },
 "nbformat": 4,
 "nbformat_minor": 4
}
