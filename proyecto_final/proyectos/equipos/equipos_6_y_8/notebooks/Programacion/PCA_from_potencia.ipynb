{
 "cells": [
  {
   "cell_type": "code",
   "execution_count": 1,
   "metadata": {},
   "outputs": [],
   "source": [
    "import numpy as np\n",
    "import pandas as pd\n",
    "\n",
    "from sklearn.preprocessing import StandardScaler\n",
    "from sklearn import preprocessing\n",
    "from sklearn.decomposition import PCA"
   ]
  },
  {
   "cell_type": "markdown",
   "metadata": {
    "colab_type": "text",
    "id": "Xx8sqdBs6TDE"
   },
   "source": [
    "# Método de la Potencia"
   ]
  },
  {
   "cell_type": "markdown",
   "metadata": {
    "colab_type": "text",
    "id": "Xx8sqdBs6TDE"
   },
   "source": [
    "En muchas aplicaciones del mundo real de la ciencia y la ingeniería, se requiere encontrar numéricamente el valor Eigen más grande o dominante y el Eigenvector correspondiente. Existen diferentes como el método de la potencia que sigue un enfoque iterativo y conforma un algoritmo simple.\n",
    "\n",
    "El siguiente algoritmo busca desarrollar los pasos necesario para el método de la potencia y así después pues ser implementado como otro método alternativo a los demás que se tienen en el proyecto.\n",
    "\n",
    "Dada una matriz $A$ diagonalizable, el algoritmo de la potencia genera un número $\\lambda$ que es el eigenvalor más grande (en valor asoluto) de $A$, y un vector no nulo $v$, que es el eigenvector correspondiente a $\\lambda$, es decir, son tales que $Av = \\lambda v$.\n",
    "\n",
    "El método de la potencia comienza con un vector $b_0$, que puede ser un vector aleatoio, o bien una aproximación al eigenvector dominante. La relación de recurrencia que describe al método es:\n",
    "$$b_{k+1}= \\frac{Ab_k}{\\|Ab_k\\|}$$\n",
    "Por lo que, en cada iteración, el vector $b_k$ es multiplicado por la matriz $A$ y luego normalizado.\n",
    "\n",
    "Buscamos una sucesión $(b_k)$ que converja a un eigenvector Para asegurar la convergencia, necesitan cumplirse las siguientes condiciones:\n",
    "\n",
    "- $A$ tiene un eigenvalor estrictamente mayor en magnitud respecto a sus otros eigenvalores\n",
    "- El vector de inicio $b_0$ tiene una componente distinta de cero en la dirección de un eigenvector asociado con el eigenvalor dominante.\n",
    "\n",
    "Además, bajo las dos supoosiciones anteriores, la sucesión $(\\mu_k)$ definida por:\n",
    "$$\\mu_k = \\frac{b_k^TAb_k}{b_k^Tb_k}$$\n",
    "converge al eigenvalor dominante. \n"
   ]
  },
  {
   "cell_type": "code",
   "execution_count": 2,
   "metadata": {
    "colab_type": "text",
    "id": "Xx8sqdBs6TDE"
   },
   "outputs": [],
   "source": [
    "df = pd.read_csv('../../data/nndb_flat.csv', encoding = \"UTF-8\")"
   ]
  },
  {
   "cell_type": "code",
   "execution_count": 3,
   "metadata": {
    "colab_type": "text",
    "id": "Xx8sqdBs6TDE"
   },
   "outputs": [],
   "source": [
    "df.drop(df.columns[df.columns.str.contains('_USRDA')].values, \n",
    "        inplace=True, axis=1)\n",
    "df = df.drop(columns=['ID','FoodGroup','ShortDescrip','Descrip','CommonName','MfgName','ScientificName'])"
   ]
  },
  {
   "cell_type": "code",
   "execution_count": 4,
   "metadata": {
    "colab_type": "text",
    "id": "Xx8sqdBs6TDE"
   },
   "outputs": [],
   "source": [
    "####Se estandarizan los datos.\n",
    "scaler = preprocessing.StandardScaler()\n",
    "X = scaler.fit_transform(df)"
   ]
  },
  {
   "cell_type": "code",
   "execution_count": 5,
   "metadata": {
    "scrolled": true
   },
   "outputs": [
    {
     "data": {
      "text/plain": [
       "array([[ 2.89623357, -1.01174721,  4.44128945, ..., -0.64991809,\n",
       "        -0.41055694, -0.55991833],\n",
       "       [ 2.89623357, -1.01174721,  4.44128945, ..., -0.65484222,\n",
       "        -0.41055694, -0.57183012],\n",
       "       [ 3.83495634, -1.06577576,  5.59915265, ..., -0.75332487,\n",
       "        -0.44590424, -0.58374191],\n",
       "       ...,\n",
       "       [ 0.25127886, -1.0923161 , -0.67108312, ..., -0.72870421,\n",
       "        -0.42116113, -0.53013886],\n",
       "       [-0.80552224,  0.43375349, -0.58284096, ...,  0.57126681,\n",
       "         0.52261173, -0.28892514],\n",
       "       [-0.81142615,  0.78446513, -0.63956806, ...,  0.11824661,\n",
       "         0.14793037, -0.28892514]])"
      ]
     },
     "execution_count": 5,
     "metadata": {},
     "output_type": "execute_result"
    }
   ],
   "source": [
    "X"
   ]
  },
  {
   "cell_type": "code",
   "execution_count": 6,
   "metadata": {
    "colab_type": "text",
    "id": "Xx8sqdBs6TDE"
   },
   "outputs": [],
   "source": [
    "# Matriz de Covarianzas\n",
    "C = np.dot(X.T, X)/X.shape[0]"
   ]
  },
  {
   "cell_type": "markdown",
   "metadata": {},
   "source": [
    "Definimos la función que implementa el método de la potencia para obtener el eigenvalor dominante y su correspondiente eigenvector, basada en la de [Power iteration](https://en.wikipedia.org/w/index.php?title=Power_iteration&oldid=957783806):"
   ]
  },
  {
   "cell_type": "code",
   "execution_count": 7,
   "metadata": {
    "colab_type": "text",
    "id": "Xx8sqdBs6TDE"
   },
   "outputs": [],
   "source": [
    "def power_iteration(A, num_simulations: int):\n",
    "    # Ideally choose a random vector\n",
    "    # To decrease the chance that our vector\n",
    "    # Is orthogonal to the eigenvector\n",
    "    b_k = np.random.rand(A.shape[1])\n",
    "\n",
    "    for _ in range(num_simulations):\n",
    "        # calculate the matrix-by-vector product Ab\n",
    "        b_k1 = np.dot(A, b_k)\n",
    "\n",
    "        # calculate the norm\n",
    "        b_k1_norm = np.linalg.norm(b_k1)\n",
    "\n",
    "        # re normalize the vector\n",
    "        b_k = b_k1 / b_k1_norm\n",
    "    \n",
    "    #Obtenemos el eigenvalor correspondiente a b_k con el cociente de Rayleigh\n",
    "    m_k = (b_k.T@A@b_k)/(b_k.T@b_k)\n",
    "    \n",
    "    #Devolvemos el mayor eigenvalor y su correspondiente eigenvector\n",
    "    return m_k,b_k\n",
    "    "
   ]
  },
  {
   "cell_type": "code",
   "execution_count": 8,
   "metadata": {},
   "outputs": [],
   "source": [
    "m_1,b_1 = power_iteration(C,500)"
   ]
  },
  {
   "cell_type": "code",
   "execution_count": 9,
   "metadata": {},
   "outputs": [
    {
     "data": {
      "text/plain": [
       "5.449285764311568"
      ]
     },
     "execution_count": 9,
     "metadata": {},
     "output_type": "execute_result"
    }
   ],
   "source": [
    "#eigenvalor dominante\n",
    "m_1"
   ]
  },
  {
   "cell_type": "code",
   "execution_count": 10,
   "metadata": {},
   "outputs": [
    {
     "data": {
      "text/plain": [
       "array([0.15781363, 0.1406199 , 0.03300812, 0.16968451, 0.07632275,\n",
       "       0.18156988, 0.13351884, 0.31566282, 0.17798456, 0.08763937,\n",
       "       0.13712201, 0.28410233, 0.33777895, 0.34132464, 0.27245318,\n",
       "       0.16811197, 0.18080591, 0.2998569 , 0.24134847, 0.09356749,\n",
       "       0.19940258, 0.0923186 , 0.24355123])"
      ]
     },
     "execution_count": 10,
     "metadata": {},
     "output_type": "execute_result"
    }
   ],
   "source": [
    "#eigenvector correspondiente al eigenvalor dominante\n",
    "b_1"
   ]
  },
  {
   "cell_type": "markdown",
   "metadata": {},
   "source": [
    "Podemos comparar los valores obtenidos con el primer eigenvalor y eigenvector:"
   ]
  },
  {
   "cell_type": "code",
   "execution_count": 11,
   "metadata": {},
   "outputs": [],
   "source": [
    "evalues, evectors = np.linalg.eig(C)"
   ]
  },
  {
   "cell_type": "code",
   "execution_count": 12,
   "metadata": {},
   "outputs": [
    {
     "data": {
      "text/plain": [
       "5.449285764311579"
      ]
     },
     "execution_count": 12,
     "metadata": {},
     "output_type": "execute_result"
    }
   ],
   "source": [
    "evalues[0]"
   ]
  },
  {
   "cell_type": "code",
   "execution_count": 13,
   "metadata": {},
   "outputs": [
    {
     "data": {
      "text/plain": [
       "array([-0.15781363, -0.1406199 , -0.03300812, -0.16968451, -0.07632275,\n",
       "       -0.18156988, -0.13351884, -0.31566282, -0.17798456, -0.08763937,\n",
       "       -0.13712201, -0.28410233, -0.33777895, -0.34132464, -0.27245318,\n",
       "       -0.16811197, -0.18080591, -0.2998569 , -0.24134847, -0.09356749,\n",
       "       -0.19940258, -0.0923186 , -0.24355123])"
      ]
     },
     "execution_count": 13,
     "metadata": {},
     "output_type": "execute_result"
    }
   ],
   "source": [
    "evectors.T[0]"
   ]
  },
  {
   "cell_type": "code",
   "execution_count": 14,
   "metadata": {},
   "outputs": [
    {
     "data": {
      "text/plain": [
       "True"
      ]
     },
     "execution_count": 14,
     "metadata": {},
     "output_type": "execute_result"
    }
   ],
   "source": [
    "np.allclose(m_1,evalues[0])"
   ]
  },
  {
   "cell_type": "code",
   "execution_count": 15,
   "metadata": {},
   "outputs": [
    {
     "data": {
      "text/plain": [
       "True"
      ]
     },
     "execution_count": 15,
     "metadata": {},
     "output_type": "execute_result"
    }
   ],
   "source": [
    "np.allclose(np.abs(b_1),np.abs(evectors.T[0]))"
   ]
  },
  {
   "cell_type": "markdown",
   "metadata": {
    "colab_type": "text",
    "id": "Xx8sqdBs6TDE"
   },
   "source": [
    "## Deflation"
   ]
  },
  {
   "cell_type": "markdown",
   "metadata": {
    "colab_type": "text",
    "id": "Xx8sqdBs6TDE"
   },
   "source": [
    "Con lo anterior, hemos obtenido el eigenvalor de mayor magnitud y su correspondiente eigenvalor. Sin embargo, para hacer el PCA necesitamos los demás eigenvalores. Es aquí donde entra el método de *deflation*. Este consiste en volver a aplicar el método a una matriz actualizada:\n",
    "$$A_{k+1}= A_k - b_kb_k^TA_kb_kb_k^T$$"
   ]
  },
  {
   "cell_type": "markdown",
   "metadata": {
    "colab_type": "text",
    "id": "Xx8sqdBs6TDE"
   },
   "source": [
    "Apliquemos dicha transformación a la matriz de covarianzas $C$ para obtener el segundo eigenvalor de $C$ y su correspondiente eigenvector:"
   ]
  },
  {
   "cell_type": "code",
   "execution_count": 16,
   "metadata": {},
   "outputs": [],
   "source": [
    "C_def = C- np.outer(b_1,b_1)@C@np.outer(b_1,b_1)"
   ]
  },
  {
   "cell_type": "code",
   "execution_count": 17,
   "metadata": {},
   "outputs": [],
   "source": [
    "m_2,b_2 = power_iteration(C_def,100)"
   ]
  },
  {
   "cell_type": "code",
   "execution_count": 18,
   "metadata": {},
   "outputs": [
    {
     "data": {
      "text/plain": [
       "2.618458352666369"
      ]
     },
     "execution_count": 18,
     "metadata": {},
     "output_type": "execute_result"
    }
   ],
   "source": [
    "m_2"
   ]
  },
  {
   "cell_type": "code",
   "execution_count": 19,
   "metadata": {},
   "outputs": [
    {
     "data": {
      "text/plain": [
       "array([-0.27344866,  0.34339677, -0.11167035, -0.44341644, -0.35876913,\n",
       "       -0.25773287,  0.23647025,  0.02112889,  0.35504461, -0.03852455,\n",
       "       -0.10637166, -0.09709328,  0.08480073,  0.07347102, -0.0751503 ,\n",
       "       -0.10517259,  0.21266898, -0.09381195, -0.10336119,  0.08878313,\n",
       "        0.08744763,  0.23932243,  0.17779772])"
      ]
     },
     "execution_count": 19,
     "metadata": {},
     "output_type": "execute_result"
    }
   ],
   "source": [
    "b_2"
   ]
  },
  {
   "cell_type": "markdown",
   "metadata": {},
   "source": [
    "Podemos corroborar que estos valores aproximan el segundo eigenvalor y su correspondiente eigenvector"
   ]
  },
  {
   "cell_type": "code",
   "execution_count": 20,
   "metadata": {},
   "outputs": [
    {
     "data": {
      "text/plain": [
       "2.6184583526663796"
      ]
     },
     "execution_count": 20,
     "metadata": {},
     "output_type": "execute_result"
    }
   ],
   "source": [
    "evalues[1]"
   ]
  },
  {
   "cell_type": "code",
   "execution_count": 21,
   "metadata": {},
   "outputs": [
    {
     "data": {
      "text/plain": [
       "array([-0.27344866,  0.34339677, -0.11167035, -0.44341644, -0.35876913,\n",
       "       -0.25773287,  0.23647025,  0.02112889,  0.35504461, -0.03852455,\n",
       "       -0.10637166, -0.09709328,  0.08480073,  0.07347102, -0.0751503 ,\n",
       "       -0.10517259,  0.21266898, -0.09381195, -0.10336119,  0.08878313,\n",
       "        0.08744763,  0.23932243,  0.17779772])"
      ]
     },
     "execution_count": 21,
     "metadata": {},
     "output_type": "execute_result"
    }
   ],
   "source": [
    "evectors.T[1]"
   ]
  },
  {
   "cell_type": "markdown",
   "metadata": {},
   "source": [
    "Así, creamos una función que combine el método de la potencia y *deflation*:\n"
   ]
  },
  {
   "cell_type": "code",
   "execution_count": 22,
   "metadata": {},
   "outputs": [],
   "source": [
    "def power_deflation(A,iter):\n",
    "    #numero de columnas\n",
    "    n = A.shape[1]\n",
    "    # Inicializamos arrays de ceros\n",
    "    eigenvalues = np.zeros(n)\n",
    "    eigenvectors = np.zeros((n,n))\n",
    "    #Hago una copia de la matriz original\n",
    "    A_def = A.copy()\n",
    "    #Iteramos tantas veces como columnas de la matriz\n",
    "    for i in range(n):\n",
    "        #Aplicamos el método de la potencia\n",
    "        m_def,b_def = power_iteration(A_def,iter)\n",
    "        #Actualizamos los arrays de eigen valores y vectores\n",
    "        eigenvalues[i] = m_def\n",
    "        eigenvectors[:,i]= b_def\n",
    "        # Matriz actualizada\n",
    "        A_def = A_def - np.outer(b_def,b_def)@A_def@np.outer(b_def,b_def)\n",
    "    return eigenvalues, eigenvectors"
   ]
  },
  {
   "cell_type": "code",
   "execution_count": 23,
   "metadata": {},
   "outputs": [],
   "source": [
    "evalues_pow, evectors_pow = power_deflation(C,1000)"
   ]
  },
  {
   "cell_type": "markdown",
   "metadata": {},
   "source": [
    "Podemos notar que (salvo por el orden decreciente en que nosotros obtenemos los valores), se trata de una buena aproximación:"
   ]
  },
  {
   "cell_type": "code",
   "execution_count": 50,
   "metadata": {},
   "outputs": [
    {
     "data": {
      "text/plain": [
       "array([3.79524723e-03, 1.59093679e-01, 2.11158912e-01, 2.38139303e-01,\n",
       "       2.56202403e-01, 3.21238326e-01, 3.29568690e-01, 3.37934003e-01,\n",
       "       4.07986316e-01, 4.69461661e-01, 5.08653057e-01, 5.96894964e-01,\n",
       "       7.31232556e-01, 8.24686441e-01, 8.62018168e-01, 9.26253795e-01,\n",
       "       1.06086727e+00, 1.14037066e+00, 1.63567140e+00, 1.87913144e+00,\n",
       "       2.03189759e+00, 2.61845835e+00, 5.44928576e+00])"
      ]
     },
     "execution_count": 50,
     "metadata": {},
     "output_type": "execute_result"
    }
   ],
   "source": [
    "# Lo que buscamos\n",
    "evalues"
   ]
  },
  {
   "cell_type": "code",
   "execution_count": 24,
   "metadata": {},
   "outputs": [
    {
     "data": {
      "text/plain": [
       "array([5.44928576e+00, 2.61845835e+00, 2.03189759e+00, 1.87913144e+00,\n",
       "       1.63567140e+00, 1.14037066e+00, 1.06086727e+00, 9.26253795e-01,\n",
       "       8.62018168e-01, 8.24686441e-01, 7.31232556e-01, 5.96894964e-01,\n",
       "       5.08653057e-01, 4.69461661e-01, 4.07986316e-01, 3.37934003e-01,\n",
       "       3.29568690e-01, 3.21238326e-01, 2.56202403e-01, 2.38139303e-01,\n",
       "       2.11158912e-01, 1.59093679e-01, 3.79524723e-03])"
      ]
     },
     "execution_count": 24,
     "metadata": {},
     "output_type": "execute_result"
    }
   ],
   "source": [
    "# Lo que obtenemos\n",
    "evalues_pow"
   ]
  },
  {
   "cell_type": "code",
   "execution_count": 25,
   "metadata": {},
   "outputs": [
    {
     "data": {
      "text/plain": [
       "array([ 0,  1,  2,  3,  4,  5,  6,  7,  8,  9, 10, 11, 12, 13, 14, 15, 16,\n",
       "       17, 18, 19, 20, 21, 22], dtype=int64)"
      ]
     },
     "execution_count": 25,
     "metadata": {},
     "output_type": "execute_result"
    }
   ],
   "source": [
    "# Verificamos que los eigenvalores obtenidos por el método de la potencia están en orden decreciente\n",
    "np.argsort(evalues_pow)[::-1]"
   ]
  },
  {
   "cell_type": "code",
   "execution_count": 26,
   "metadata": {},
   "outputs": [
    {
     "data": {
      "text/plain": [
       "array([ 0,  1,  2,  3,  4,  5,  6,  8,  9, 10, 11, 12, 14, 15, 17, 20, 21,\n",
       "       22, 19, 18, 16, 13,  7], dtype=int64)"
      ]
     },
     "execution_count": 26,
     "metadata": {},
     "output_type": "execute_result"
    }
   ],
   "source": [
    "# Obtenemos los índices para ordenar los eigenvalores de manera decreciente\n",
    "index_array = np.argsort(evalues)[::-1]\n",
    "index_array"
   ]
  },
  {
   "cell_type": "code",
   "execution_count": 27,
   "metadata": {},
   "outputs": [
    {
     "data": {
      "text/plain": [
       "array([3.79524723e-03, 1.59093679e-01, 2.11158912e-01, 2.38139303e-01,\n",
       "       2.56202403e-01, 3.21238326e-01, 3.29568690e-01, 3.37934003e-01,\n",
       "       4.07986316e-01, 4.69461661e-01, 5.08653057e-01, 5.96894964e-01,\n",
       "       7.31232556e-01, 8.24686441e-01, 8.62018168e-01, 9.26253795e-01,\n",
       "       1.06086727e+00, 1.14037066e+00, 1.63567140e+00, 1.87913144e+00,\n",
       "       2.03189759e+00, 2.61845835e+00, 5.44928576e+00])"
      ]
     },
     "execution_count": 27,
     "metadata": {},
     "output_type": "execute_result"
    }
   ],
   "source": [
    "# Lo que esperamos (ordenado de forma decreciente)\n",
    "evalues = evalues[index_array][::-1]\n",
    "evalues"
   ]
  },
  {
   "cell_type": "code",
   "execution_count": 51,
   "metadata": {},
   "outputs": [],
   "source": [
    "# Reordenamos\n",
    "evector = np.take(evectors, index_array, axis=1)"
   ]
  },
  {
   "cell_type": "code",
   "execution_count": 34,
   "metadata": {},
   "outputs": [
    {
     "data": {
      "text/plain": [
       "array([-0.1406199 ,  0.34339677,  0.21356699, -0.31111205, -0.01317586,\n",
       "       -0.14146892,  0.00629943, -0.11630854,  0.14847117, -0.01835554,\n",
       "       -0.30711742, -0.12954021, -0.31099515,  0.08568959, -0.1321911 ,\n",
       "       -0.02255604,  0.17698747, -0.48770037,  0.03834766, -0.22713765,\n",
       "       -0.25404503, -0.10876264, -0.1789299 ])"
      ]
     },
     "execution_count": 34,
     "metadata": {},
     "output_type": "execute_result"
    }
   ],
   "source": [
    "evector[1]"
   ]
  },
  {
   "cell_type": "code",
   "execution_count": 32,
   "metadata": {},
   "outputs": [
    {
     "data": {
      "text/plain": [
       "array([ 0.1406199 , -0.34339677,  0.21356699, -0.31111205,  0.01317586,\n",
       "       -0.14146892,  0.00629943,  0.11630854,  0.14847117, -0.01835554,\n",
       "       -0.30711742,  0.12954021,  0.31099515, -0.08568959, -0.1321911 ,\n",
       "        0.02255604,  0.17698747, -0.48770037, -0.03834766, -0.22713765,\n",
       "        0.25404503, -0.10876264,  0.1789299 ])"
      ]
     },
     "execution_count": 32,
     "metadata": {},
     "output_type": "execute_result"
    }
   ],
   "source": [
    "evectors_pow[1]"
   ]
  },
  {
   "cell_type": "code",
   "execution_count": 43,
   "metadata": {},
   "outputs": [
    {
     "data": {
      "text/plain": [
       "True"
      ]
     },
     "execution_count": 43,
     "metadata": {},
     "output_type": "execute_result"
    }
   ],
   "source": [
    "# Verificamos que son iguales, salvo signos:\n",
    "np.allclose(np.abs(evectors_pow[1]),np.abs(evector[1]))"
   ]
  },
  {
   "cell_type": "markdown",
   "metadata": {},
   "source": [
    "## PCA"
   ]
  },
  {
   "cell_type": "code",
   "execution_count": 44,
   "metadata": {
    "colab": {
     "base_uri": "https://localhost:8080/",
     "height": 550
    },
    "colab_type": "code",
    "id": "wy8DD4cgT2b5",
    "outputId": "2d43eec0-f64d-4596-e147-a1894d524b5a"
   },
   "outputs": [],
   "source": [
    "def PCA_from_potencia(X):\n",
    "    prop = 0 #Proporción de varianza explicada\n",
    "    comp = 1 \n",
    "    cur_var = 0\n",
    "    comp_vecs = np.zeros([X.shape[1], X.shape[1]])\n",
    "    \n",
    "    # convertir a array\n",
    "    A = np.array(X)\n",
    "    \n",
    "    # Centrar los datos\n",
    "    mean_vec = np.mean(A, axis=0)\n",
    "    datos_centrados = (A - mean_vec)\n",
    "    \n",
    "    #Calculamos la matriz de covarianzas\n",
    "    cov = np.dot(X.T, X)/X.shape[0]\n",
    "    \n",
    "    #Aplicamos el método de la potencia\n",
    "    evalues_pow, evectors_pow = power_deflation(cov,1000)\n",
    "    \n",
    "    # La varianza explicada\n",
    "    varianza_explicada = evalues_pow/np.sum(evalues_pow)\n",
    "    \n",
    "    # Los datos transformados (componentes principales)\n",
    "    Z = datos_centrados@evectors_pow\n",
    "    \n",
    "    \n",
    "    # Calcula número de componentes de manera automatica de acuerdo a la variana explicada\n",
    "    # Threshold de 80%\n",
    "    n = X.shape[1] #numero de columnas\n",
    "    varianza_acumulada = varianza_explicada.cumsum()\n",
    "    conteo = (varianza_acumulada)  <  0.8\n",
    "    num_componentes = conteo.sum() + 1\n",
    "    \n",
    "    return evalues_pow[:num_componentes], evectors_pow[:num_componentes], Z[:,:num_componentes], varianza_explicada[:num_componentes] \n",
    "    "
   ]
  },
  {
   "cell_type": "code",
   "execution_count": 45,
   "metadata": {},
   "outputs": [],
   "source": [
    "eigenvalues, componentes, Z, var_explicada = PCA_from_potencia(X)"
   ]
  },
  {
   "cell_type": "code",
   "execution_count": 46,
   "metadata": {},
   "outputs": [
    {
     "data": {
      "text/plain": [
       "array([5.44928576, 2.61845835, 2.03189759, 1.87913144, 1.6356714 ,\n",
       "       1.14037066, 1.06086727, 0.9262538 , 0.86201817, 0.82468644])"
      ]
     },
     "execution_count": 46,
     "metadata": {},
     "output_type": "execute_result"
    }
   ],
   "source": [
    "eigenvalues"
   ]
  },
  {
   "cell_type": "code",
   "execution_count": 47,
   "metadata": {},
   "outputs": [
    {
     "data": {
      "text/plain": [
       "array([[ 0.15781363, -0.27344866,  0.46200619,  0.05228046,  0.29359627,\n",
       "        -0.13286547,  0.06682309, -0.07440715,  0.04154834, -0.14109088,\n",
       "         0.14024666,  0.11713871, -0.0576914 ,  0.06694171, -0.03919316,\n",
       "         0.04522708, -0.10024063, -0.06366754,  0.07835733, -0.07633167,\n",
       "        -0.12903904,  0.03809125, -0.67801123],\n",
       "       [ 0.1406199 ,  0.34339677,  0.21356699, -0.31111205, -0.01317586,\n",
       "        -0.14146892,  0.00629943, -0.11630854,  0.14847117, -0.01835554,\n",
       "         0.30711742, -0.12954021, -0.31099515, -0.08568959,  0.1321911 ,\n",
       "        -0.02255604, -0.17698747,  0.48770037,  0.03834766, -0.22713765,\n",
       "        -0.25404503,  0.10876264,  0.1789299 ],\n",
       "       [ 0.03300812, -0.11167035,  0.53405101,  0.02652048,  0.39445031,\n",
       "         0.11649181,  0.045318  ,  0.04958535, -0.09160247, -0.2006939 ,\n",
       "         0.0539562 ,  0.20184803,  0.10409787,  0.10225461, -0.03301766,\n",
       "        -0.00081588,  0.23555484,  0.04362113, -0.08835073,  0.05542437,\n",
       "         0.15889912, -0.03670127,  0.56327959],\n",
       "       [ 0.16968451, -0.44341644, -0.04982164,  0.174108  , -0.08272259,\n",
       "        -0.27936869,  0.02207922, -0.15508157,  0.11782293,  0.04397762,\n",
       "         0.02611049, -0.02825169, -0.11316005,  0.00990499, -0.09298038,\n",
       "         0.07638899, -0.37923544, -0.34256715,  0.21237131, -0.09307081,\n",
       "        -0.27955815,  0.06792167,  0.43587131],\n",
       "       [ 0.07632275, -0.35876913, -0.05524693,  0.21737314,  0.04842058,\n",
       "        -0.33702221,  0.29861278, -0.14351093,  0.15112247,  0.38801764,\n",
       "         0.07953657, -0.22802266,  0.02174169, -0.11557443,  0.13877174,\n",
       "        -0.08003172,  0.28742571,  0.3570453 , -0.22550615,  0.07935583,\n",
       "         0.21146412, -0.07926232, -0.0029982 ],\n",
       "       [ 0.18156988, -0.25773287,  0.0403974 ,  0.04213005, -0.33216136,\n",
       "         0.13487046, -0.41473257, -0.18780906, -0.06575713, -0.08656284,\n",
       "        -0.04624652,  0.09936536, -0.26533421,  0.05426279, -0.53572021,\n",
       "        -0.08003951,  0.04856879,  0.35090971, -0.02565235,  0.04905679,\n",
       "         0.19187019, -0.06854926, -0.02738352],\n",
       "       [ 0.13351884,  0.23647025,  0.02192922,  0.53039522, -0.00813702,\n",
       "         0.03902751,  0.10134102,  0.04623149, -0.02198243, -0.11808691,\n",
       "        -0.03109884,  0.07856947, -0.10418118,  0.10760318,  0.08159834,\n",
       "        -0.6299694 , -0.22751595,  0.06004583, -0.13257158,  0.27921321,\n",
       "        -0.17670485, -0.02839376,  0.00168609],\n",
       "       [ 0.31566282,  0.02112889, -0.1746476 , -0.11437245,  0.13374722,\n",
       "         0.20052496,  0.02469083, -0.08325309,  0.02297158,  0.19808526,\n",
       "         0.05734032,  0.00916843, -0.35263894,  0.30780695, -0.00708073,\n",
       "        -0.18603458,  0.35946599, -0.33867279, -0.26329335, -0.28497253,\n",
       "        -0.03467065,  0.31321715, -0.00614935],\n",
       "       [ 0.17798456,  0.35504461,  0.0127601 ,  0.34655025,  0.05885659,\n",
       "        -0.12314978,  0.05607702, -0.00450636, -0.13213418,  0.13319032,\n",
       "        -0.06207912,  0.0714817 , -0.21479272, -0.0186921 , -0.2163556 ,\n",
       "         0.59171008,  0.17768643, -0.02382942, -0.15935041,  0.16802462,\n",
       "        -0.29014779, -0.20656094,  0.00364661],\n",
       "       [ 0.08763937, -0.03852455, -0.1623026 ,  0.04758399, -0.02471281,\n",
       "         0.54521937,  0.45127575, -0.51594449,  0.0855371 , -0.15550642,\n",
       "         0.11541489,  0.07667858,  0.21152619, -0.00902414, -0.03357727,\n",
       "         0.18485763, -0.18755455,  0.11613419, -0.10492563, -0.04600748,\n",
       "        -0.02207311, -0.0370972 , -0.00533693]])"
      ]
     },
     "execution_count": 47,
     "metadata": {},
     "output_type": "execute_result"
    }
   ],
   "source": [
    "componentes"
   ]
  },
  {
   "cell_type": "code",
   "execution_count": 48,
   "metadata": {},
   "outputs": [
    {
     "data": {
      "text/plain": [
       "array([[-1.12177585, -1.18225141,  3.66193973, ...,  0.55487905,\n",
       "        -0.6207043 , -1.42626986],\n",
       "       [-1.11468691, -1.18417302,  3.66232928, ...,  0.55189673,\n",
       "        -0.6307727 , -1.43220742],\n",
       "       [-0.99491941, -1.57357953,  4.69772411, ...,  0.53849773,\n",
       "        -0.69795431, -1.76351744],\n",
       "       ...,\n",
       "       [-0.7676707 , -3.26765632, -0.98520556, ..., -0.76090011,\n",
       "         0.84724888,  1.9510132 ],\n",
       "       [ 0.35589709,  0.67843536,  1.00293556, ..., -0.67277958,\n",
       "         0.01469592,  0.11573607],\n",
       "       [-0.8668898 ,  1.19845904, -0.19348689, ...,  0.24572718,\n",
       "        -0.08107242,  0.0112686 ]])"
      ]
     },
     "execution_count": 48,
     "metadata": {},
     "output_type": "execute_result"
    }
   ],
   "source": [
    "Z"
   ]
  },
  {
   "cell_type": "code",
   "execution_count": 49,
   "metadata": {},
   "outputs": [
    {
     "data": {
      "text/plain": [
       "array([0.23692547, 0.11384602, 0.08834337, 0.08170137, 0.07111615,\n",
       "       0.04958133, 0.04612466, 0.0402719 , 0.03747905, 0.03585593])"
      ]
     },
     "execution_count": 49,
     "metadata": {},
     "output_type": "execute_result"
    }
   ],
   "source": [
    "var_explicada"
   ]
  },
  {
   "cell_type": "markdown",
   "metadata": {},
   "source": [
    "## Referencias\n",
    "- Wikipedia [Power iteration](https://en.wikipedia.org/w/index.php?title=Power_iteration&oldid=957783806) (last visited May 29, 2020)\n",
    "- Mackey, Lester. (2008). Deflation Methods for Sparse PCA. Advances in Neural Information Processing Systems 21 - Proceedings of the 2008 Conference. 21. 1017-1024. \n",
    "- Power Method Algorithm for Finding Dominant Eigen Value and Eigen Vector. (n.d.). Retrieved May 23, 2020, from https://www.codesansar.com/numerical-methods/power-method-algorithm-for-finding-dominant-eigen-value-and-eigen-vector.htm\n",
    "\n",
    "- Fox, J., Chalmers, P., Monette, G., & Sanchez, G. (2020, April 14). powerMethod: Power Method for Eigenvectors in matlib: Matrix Functions for Teaching and Learning Linear Algebra and Multivariate Statistics. Retrieved from https://rdrr.io/cran/matlib/man/powerMethod.html\n",
    "\n",
    "- Dan, D. J. (n.d.). dianejdan/Power-Method-PCA. Retrieved May 27, 2020, from https://github.com/dianejdan/Power-Method-PCA/blob/master/power-pca.py"
   ]
  }
 ],
 "metadata": {
  "colab": {
   "collapsed_sections": [],
   "name": "Metodo_de_la_potencia.ipynb",
   "provenance": [],
   "toc_visible": true
  },
  "kernelspec": {
   "display_name": "Python 3",
   "language": "python",
   "name": "python3"
  },
  "language_info": {
   "codemirror_mode": {
    "name": "ipython",
    "version": 3
   },
   "file_extension": ".py",
   "mimetype": "text/x-python",
   "name": "python",
   "nbconvert_exporter": "python",
   "pygments_lexer": "ipython3",
   "version": "3.6.10"
  }
 },
 "nbformat": 4,
 "nbformat_minor": 1
}
