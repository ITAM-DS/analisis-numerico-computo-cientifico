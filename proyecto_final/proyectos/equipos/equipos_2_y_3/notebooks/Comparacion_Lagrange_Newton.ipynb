{
 "cells": [
  {
   "cell_type": "markdown",
   "metadata": {
    "colab_type": "text",
    "id": "gFESaUmfsU2e"
   },
   "source": [
    "#  Comparativo de solver basado en multiplicadores de Lagrange y método de Newton\n",
    "\n",
    "A continuación se muestra el comparativo entre los resultados obtenido con:\n",
    "\n",
    "* a) el solver basado en los multiplicadores de Lagrange y \n",
    "* b) el solver con el método de Newton usando las aproximaciones con diferencias finitas y funciones simbólicas para representar las expresiones de derivadas que se involucran en su implementación. \n",
    "\n",
    "\n",
    "Cabe destacar que para su elaboración se consideraron las siguientes hipótesis: i) se decidió variar el valor del rendimiento $r$ en un rango de 0.4 a 1, ii) se muestra la distancia entre ambas soluciones de $w$ usando la norma 2 y la distancia usando la norma 1, iii) además se acompaña del retorno bajo ambos métodos de solución del Modelo de Markowitz, mostrando que cumple las restricciones lineales asociadas y iv) la varianza correspondiente para las soluciones obtenidas con dichas metodologías.\n",
    "\n"
   ]
  },
  {
   "cell_type": "markdown",
   "metadata": {
    "colab_type": "text",
    "id": "1eGeVGReslSw"
   },
   "source": [
    "## Librerías"
   ]
  },
  {
   "cell_type": "code",
   "execution_count": null,
   "metadata": {
    "colab": {},
    "colab_type": "code",
    "id": "gPFf_6gCrTt6"
   },
   "outputs": [],
   "source": [
    "import numpy as np\n",
    "import pandas as pd\n",
    "import cupy as cp\n",
    "import solver.extraer_datos_yahoo as extrae\n",
    "import solver.funciones_auxiliares as aux\n",
    "import solver.line_search as line\n",
    "import solver.modelo_markowitz as mkv\n",
    "import solver.utils as utils\n",
    "import solver.optimizacion_numerica as opt"
   ]
  },
  {
   "cell_type": "code",
   "execution_count": null,
   "metadata": {
    "colab": {},
    "colab_type": "code",
    "id": "nOVH0NHyr3R-"
   },
   "outputs": [],
   "source": [
    "stocks = ['COP','AMT','LIN','LMT','AMZN','WMT','JNJ','VTI','MSFT','GOOG','XOM','CCI','BHP.AX','UNP',\n",
    "'BABA','NSRGY','RHHBY','VOO','AAPL','FB','CVX','PLD','RIO.L','HON','HD','PG','UNH','BRK-A','V','0700.HK',\n",
    "'RDSA.AS','0688.HK','AI.PA','RTX','MC.PA','KO','PFE','JPM','005930.KS','VZ','RELIANCE.NS','DLR','2010.SR',\n",
    "'UPS','7203.T','PEP','MRK','1398.HK','MA','T']"
   ]
  },
  {
   "cell_type": "code",
   "execution_count": 3,
   "metadata": {
    "colab": {
     "base_uri": "https://localhost:8080/",
     "height": 35
    },
    "colab_type": "code",
    "id": "qeR9KIaLt9Hl",
    "outputId": "564d2346-9f7f-4c75-991b-2688686aa8ac"
   },
   "outputs": [
    {
     "name": "stdout",
     "output_type": "stream",
     "text": [
      "[*********************100%***********************]  50 of 50 downloaded\n"
     ]
    }
   ],
   "source": [
    "datos = extrae.extraer_datos_yahoo(stocks)"
   ]
  },
  {
   "cell_type": "code",
   "execution_count": 4,
   "metadata": {
    "colab": {
     "base_uri": "https://localhost:8080/",
     "height": 340
    },
    "colab_type": "code",
    "id": "IcPJNRvmuLV2",
    "outputId": "0b9a80ca-1261-4146-f22b-ba17d17b3e2e"
   },
   "outputs": [
    {
     "data": {
      "text/html": [
       "<div>\n",
       "<style scoped>\n",
       "    .dataframe tbody tr th:only-of-type {\n",
       "        vertical-align: middle;\n",
       "    }\n",
       "\n",
       "    .dataframe tbody tr th {\n",
       "        vertical-align: top;\n",
       "    }\n",
       "\n",
       "    .dataframe thead th {\n",
       "        text-align: right;\n",
       "    }\n",
       "</style>\n",
       "<table border=\"1\" class=\"dataframe\">\n",
       "  <thead>\n",
       "    <tr style=\"text-align: right;\">\n",
       "      <th></th>\n",
       "      <th>005930.KS</th>\n",
       "      <th>0688.HK</th>\n",
       "      <th>0700.HK</th>\n",
       "      <th>1398.HK</th>\n",
       "      <th>2010.SR</th>\n",
       "      <th>7203.T</th>\n",
       "      <th>AAPL</th>\n",
       "      <th>AI.PA</th>\n",
       "      <th>AMT</th>\n",
       "      <th>AMZN</th>\n",
       "      <th>BABA</th>\n",
       "      <th>BHP.AX</th>\n",
       "      <th>BRK-A</th>\n",
       "      <th>CCI</th>\n",
       "      <th>COP</th>\n",
       "      <th>CVX</th>\n",
       "      <th>DLR</th>\n",
       "      <th>FB</th>\n",
       "      <th>GOOG</th>\n",
       "      <th>HD</th>\n",
       "      <th>HON</th>\n",
       "      <th>JNJ</th>\n",
       "      <th>JPM</th>\n",
       "      <th>KO</th>\n",
       "      <th>LIN</th>\n",
       "      <th>LMT</th>\n",
       "      <th>MA</th>\n",
       "      <th>MC.PA</th>\n",
       "      <th>MRK</th>\n",
       "      <th>MSFT</th>\n",
       "      <th>NSRGY</th>\n",
       "      <th>PEP</th>\n",
       "      <th>PFE</th>\n",
       "      <th>PG</th>\n",
       "      <th>PLD</th>\n",
       "      <th>RDSA.AS</th>\n",
       "      <th>RELIANCE.NS</th>\n",
       "      <th>RHHBY</th>\n",
       "      <th>RIO.L</th>\n",
       "      <th>RTX</th>\n",
       "      <th>T</th>\n",
       "      <th>UNH</th>\n",
       "      <th>UNP</th>\n",
       "      <th>UPS</th>\n",
       "      <th>V</th>\n",
       "      <th>VOO</th>\n",
       "      <th>VTI</th>\n",
       "      <th>VZ</th>\n",
       "      <th>WMT</th>\n",
       "      <th>XOM</th>\n",
       "    </tr>\n",
       "    <tr>\n",
       "      <th>Date</th>\n",
       "      <th></th>\n",
       "      <th></th>\n",
       "      <th></th>\n",
       "      <th></th>\n",
       "      <th></th>\n",
       "      <th></th>\n",
       "      <th></th>\n",
       "      <th></th>\n",
       "      <th></th>\n",
       "      <th></th>\n",
       "      <th></th>\n",
       "      <th></th>\n",
       "      <th></th>\n",
       "      <th></th>\n",
       "      <th></th>\n",
       "      <th></th>\n",
       "      <th></th>\n",
       "      <th></th>\n",
       "      <th></th>\n",
       "      <th></th>\n",
       "      <th></th>\n",
       "      <th></th>\n",
       "      <th></th>\n",
       "      <th></th>\n",
       "      <th></th>\n",
       "      <th></th>\n",
       "      <th></th>\n",
       "      <th></th>\n",
       "      <th></th>\n",
       "      <th></th>\n",
       "      <th></th>\n",
       "      <th></th>\n",
       "      <th></th>\n",
       "      <th></th>\n",
       "      <th></th>\n",
       "      <th></th>\n",
       "      <th></th>\n",
       "      <th></th>\n",
       "      <th></th>\n",
       "      <th></th>\n",
       "      <th></th>\n",
       "      <th></th>\n",
       "      <th></th>\n",
       "      <th></th>\n",
       "      <th></th>\n",
       "      <th></th>\n",
       "      <th></th>\n",
       "      <th></th>\n",
       "      <th></th>\n",
       "      <th></th>\n",
       "    </tr>\n",
       "  </thead>\n",
       "  <tbody>\n",
       "    <tr>\n",
       "      <th>2015-01-02</th>\n",
       "      <td>26600.0</td>\n",
       "      <td>24.704800</td>\n",
       "      <td>112.800003</td>\n",
       "      <td>5.77</td>\n",
       "      <td>79.50</td>\n",
       "      <td>7507.0</td>\n",
       "      <td>109.330002</td>\n",
       "      <td>89.786400</td>\n",
       "      <td>99.669998</td>\n",
       "      <td>308.519989</td>\n",
       "      <td>103.599998</td>\n",
       "      <td>27.603399</td>\n",
       "      <td>223600.0</td>\n",
       "      <td>79.510002</td>\n",
       "      <td>68.919998</td>\n",
       "      <td>112.580002</td>\n",
       "      <td>66.410004</td>\n",
       "      <td>78.449997</td>\n",
       "      <td>523.373108</td>\n",
       "      <td>103.430000</td>\n",
       "      <td>95.556229</td>\n",
       "      <td>104.519997</td>\n",
       "      <td>62.490002</td>\n",
       "      <td>42.139999</td>\n",
       "      <td>129.949997</td>\n",
       "      <td>193.309998</td>\n",
       "      <td>85.680000</td>\n",
       "      <td>130.850006</td>\n",
       "      <td>57.189999</td>\n",
       "      <td>46.759998</td>\n",
       "      <td>72.650002</td>\n",
       "      <td>94.440002</td>\n",
       "      <td>31.33</td>\n",
       "      <td>90.440002</td>\n",
       "      <td>43.430000</td>\n",
       "      <td>27.750000</td>\n",
       "      <td>442.774994</td>\n",
       "      <td>33.910000</td>\n",
       "      <td>2970.0</td>\n",
       "      <td>72.397736</td>\n",
       "      <td>33.869999</td>\n",
       "      <td>100.779999</td>\n",
       "      <td>118.610001</td>\n",
       "      <td>110.379997</td>\n",
       "      <td>66.254997</td>\n",
       "      <td>188.399994</td>\n",
       "      <td>105.919998</td>\n",
       "      <td>46.959999</td>\n",
       "      <td>85.900002</td>\n",
       "      <td>92.830002</td>\n",
       "    </tr>\n",
       "    <tr>\n",
       "      <th>2015-01-05</th>\n",
       "      <td>26660.0</td>\n",
       "      <td>24.951799</td>\n",
       "      <td>113.500000</td>\n",
       "      <td>5.80</td>\n",
       "      <td>79.50</td>\n",
       "      <td>7507.0</td>\n",
       "      <td>106.250000</td>\n",
       "      <td>87.005997</td>\n",
       "      <td>98.230003</td>\n",
       "      <td>302.190002</td>\n",
       "      <td>101.000000</td>\n",
       "      <td>27.547300</td>\n",
       "      <td>220980.0</td>\n",
       "      <td>79.000000</td>\n",
       "      <td>65.639999</td>\n",
       "      <td>108.080002</td>\n",
       "      <td>67.690002</td>\n",
       "      <td>77.190002</td>\n",
       "      <td>512.463013</td>\n",
       "      <td>101.260002</td>\n",
       "      <td>93.735291</td>\n",
       "      <td>103.790001</td>\n",
       "      <td>60.549999</td>\n",
       "      <td>42.139999</td>\n",
       "      <td>126.519997</td>\n",
       "      <td>189.289993</td>\n",
       "      <td>83.269997</td>\n",
       "      <td>127.050003</td>\n",
       "      <td>58.040001</td>\n",
       "      <td>46.330002</td>\n",
       "      <td>70.959999</td>\n",
       "      <td>93.730003</td>\n",
       "      <td>31.16</td>\n",
       "      <td>90.010002</td>\n",
       "      <td>43.400002</td>\n",
       "      <td>26.615000</td>\n",
       "      <td>437.924988</td>\n",
       "      <td>34.029999</td>\n",
       "      <td>2883.5</td>\n",
       "      <td>71.189430</td>\n",
       "      <td>33.549999</td>\n",
       "      <td>99.120003</td>\n",
       "      <td>114.599998</td>\n",
       "      <td>108.169998</td>\n",
       "      <td>64.792503</td>\n",
       "      <td>185.089996</td>\n",
       "      <td>104.099998</td>\n",
       "      <td>46.570000</td>\n",
       "      <td>85.650002</td>\n",
       "      <td>90.290001</td>\n",
       "    </tr>\n",
       "    <tr>\n",
       "      <th>2015-01-06</th>\n",
       "      <td>25900.0</td>\n",
       "      <td>24.605900</td>\n",
       "      <td>120.000000</td>\n",
       "      <td>5.71</td>\n",
       "      <td>77.00</td>\n",
       "      <td>7300.0</td>\n",
       "      <td>106.260002</td>\n",
       "      <td>86.279999</td>\n",
       "      <td>97.970001</td>\n",
       "      <td>295.290009</td>\n",
       "      <td>103.320000</td>\n",
       "      <td>26.267099</td>\n",
       "      <td>220450.0</td>\n",
       "      <td>78.849998</td>\n",
       "      <td>62.930000</td>\n",
       "      <td>108.029999</td>\n",
       "      <td>67.480003</td>\n",
       "      <td>76.150002</td>\n",
       "      <td>500.585632</td>\n",
       "      <td>100.949997</td>\n",
       "      <td>93.516014</td>\n",
       "      <td>103.279999</td>\n",
       "      <td>58.980000</td>\n",
       "      <td>42.459999</td>\n",
       "      <td>124.900002</td>\n",
       "      <td>188.399994</td>\n",
       "      <td>83.089996</td>\n",
       "      <td>125.599998</td>\n",
       "      <td>60.320000</td>\n",
       "      <td>45.650002</td>\n",
       "      <td>70.610001</td>\n",
       "      <td>93.019997</td>\n",
       "      <td>31.42</td>\n",
       "      <td>89.599998</td>\n",
       "      <td>43.549999</td>\n",
       "      <td>26.514999</td>\n",
       "      <td>418.049988</td>\n",
       "      <td>33.900002</td>\n",
       "      <td>2944.5</td>\n",
       "      <td>70.182503</td>\n",
       "      <td>33.599998</td>\n",
       "      <td>98.919998</td>\n",
       "      <td>112.230003</td>\n",
       "      <td>107.459999</td>\n",
       "      <td>64.375000</td>\n",
       "      <td>183.270004</td>\n",
       "      <td>103.080002</td>\n",
       "      <td>47.040001</td>\n",
       "      <td>86.309998</td>\n",
       "      <td>89.809998</td>\n",
       "    </tr>\n",
       "    <tr>\n",
       "      <th>2015-01-07</th>\n",
       "      <td>26140.0</td>\n",
       "      <td>24.507099</td>\n",
       "      <td>124.400002</td>\n",
       "      <td>5.75</td>\n",
       "      <td>78.25</td>\n",
       "      <td>7407.0</td>\n",
       "      <td>107.750000</td>\n",
       "      <td>86.669601</td>\n",
       "      <td>99.000000</td>\n",
       "      <td>298.420013</td>\n",
       "      <td>102.129997</td>\n",
       "      <td>26.267099</td>\n",
       "      <td>223480.0</td>\n",
       "      <td>80.500000</td>\n",
       "      <td>63.349998</td>\n",
       "      <td>107.940002</td>\n",
       "      <td>68.019997</td>\n",
       "      <td>76.150002</td>\n",
       "      <td>499.727997</td>\n",
       "      <td>104.410004</td>\n",
       "      <td>94.192909</td>\n",
       "      <td>105.559998</td>\n",
       "      <td>59.070000</td>\n",
       "      <td>42.990002</td>\n",
       "      <td>126.300003</td>\n",
       "      <td>190.830002</td>\n",
       "      <td>84.220001</td>\n",
       "      <td>125.699997</td>\n",
       "      <td>61.610001</td>\n",
       "      <td>46.230000</td>\n",
       "      <td>70.750000</td>\n",
       "      <td>95.739998</td>\n",
       "      <td>31.85</td>\n",
       "      <td>90.070000</td>\n",
       "      <td>44.209999</td>\n",
       "      <td>26.870001</td>\n",
       "      <td>427.149994</td>\n",
       "      <td>33.990002</td>\n",
       "      <td>2962.5</td>\n",
       "      <td>70.943993</td>\n",
       "      <td>33.169998</td>\n",
       "      <td>99.930000</td>\n",
       "      <td>112.849998</td>\n",
       "      <td>108.459999</td>\n",
       "      <td>65.237503</td>\n",
       "      <td>185.559998</td>\n",
       "      <td>104.309998</td>\n",
       "      <td>46.189999</td>\n",
       "      <td>88.599998</td>\n",
       "      <td>90.720001</td>\n",
       "    </tr>\n",
       "    <tr>\n",
       "      <th>2015-01-08</th>\n",
       "      <td>26280.0</td>\n",
       "      <td>23.864799</td>\n",
       "      <td>127.300003</td>\n",
       "      <td>5.72</td>\n",
       "      <td>79.25</td>\n",
       "      <td>7554.0</td>\n",
       "      <td>111.889999</td>\n",
       "      <td>90.317703</td>\n",
       "      <td>99.919998</td>\n",
       "      <td>300.459991</td>\n",
       "      <td>105.029999</td>\n",
       "      <td>26.519400</td>\n",
       "      <td>226680.0</td>\n",
       "      <td>81.769997</td>\n",
       "      <td>64.930000</td>\n",
       "      <td>110.410004</td>\n",
       "      <td>68.910004</td>\n",
       "      <td>78.180000</td>\n",
       "      <td>501.303680</td>\n",
       "      <td>106.720001</td>\n",
       "      <td>95.908974</td>\n",
       "      <td>106.389999</td>\n",
       "      <td>60.389999</td>\n",
       "      <td>43.509998</td>\n",
       "      <td>128.380005</td>\n",
       "      <td>195.130005</td>\n",
       "      <td>85.529999</td>\n",
       "      <td>129.649994</td>\n",
       "      <td>62.849998</td>\n",
       "      <td>47.590000</td>\n",
       "      <td>71.459999</td>\n",
       "      <td>97.480003</td>\n",
       "      <td>32.50</td>\n",
       "      <td>91.099998</td>\n",
       "      <td>44.220001</td>\n",
       "      <td>27.495001</td>\n",
       "      <td>421.024994</td>\n",
       "      <td>34.279999</td>\n",
       "      <td>3027.5</td>\n",
       "      <td>72.152298</td>\n",
       "      <td>33.500000</td>\n",
       "      <td>104.699997</td>\n",
       "      <td>117.080002</td>\n",
       "      <td>110.410004</td>\n",
       "      <td>66.112503</td>\n",
       "      <td>188.820007</td>\n",
       "      <td>106.150002</td>\n",
       "      <td>47.180000</td>\n",
       "      <td>90.470001</td>\n",
       "      <td>92.230003</td>\n",
       "    </tr>\n",
       "  </tbody>\n",
       "</table>\n",
       "</div>"
      ],
      "text/plain": [
       "            005930.KS    0688.HK     0700.HK  ...         VZ        WMT        XOM\n",
       "Date                                          ...                                 \n",
       "2015-01-02    26600.0  24.704800  112.800003  ...  46.959999  85.900002  92.830002\n",
       "2015-01-05    26660.0  24.951799  113.500000  ...  46.570000  85.650002  90.290001\n",
       "2015-01-06    25900.0  24.605900  120.000000  ...  47.040001  86.309998  89.809998\n",
       "2015-01-07    26140.0  24.507099  124.400002  ...  46.189999  88.599998  90.720001\n",
       "2015-01-08    26280.0  23.864799  127.300003  ...  47.180000  90.470001  92.230003\n",
       "\n",
       "[5 rows x 50 columns]"
      ]
     },
     "execution_count": 4,
     "metadata": {
      "tags": []
     },
     "output_type": "execute_result"
    }
   ],
   "source": [
    "datos.head()"
   ]
  },
  {
   "cell_type": "code",
   "execution_count": null,
   "metadata": {
    "colab": {},
    "colab_type": "code",
    "id": "-Tust9YTuobb"
   },
   "outputs": [],
   "source": [
    "mu = aux.calcular_rendimiento(datos)"
   ]
  },
  {
   "cell_type": "code",
   "execution_count": null,
   "metadata": {
    "colab": {},
    "colab_type": "code",
    "id": "s7T8PDeAuzIZ"
   },
   "outputs": [],
   "source": [
    "S = aux.calcular_varianza(datos)"
   ]
  },
  {
   "cell_type": "code",
   "execution_count": 7,
   "metadata": {
    "colab": {
     "base_uri": "https://localhost:8080/",
     "height": 35
    },
    "colab_type": "code",
    "id": "1ayPXeajxSHx",
    "outputId": "98b50f83-791c-4c2a-fa38-a7e596e664df"
   },
   "outputs": [
    {
     "data": {
      "text/plain": [
       "array(0.40221088)"
      ]
     },
     "execution_count": 7,
     "metadata": {
      "tags": []
     },
     "output_type": "execute_result"
    }
   ],
   "source": [
    "max(mu)"
   ]
  },
  {
   "cell_type": "code",
   "execution_count": null,
   "metadata": {
    "colab": {},
    "colab_type": "code",
    "id": "ZcaZtpzXxUPt"
   },
   "outputs": [],
   "source": [
    "rango =np.arange(0.4,1.1,0.1)"
   ]
  },
  {
   "cell_type": "code",
   "execution_count": 9,
   "metadata": {
    "colab": {
     "base_uri": "https://localhost:8080/",
     "height": 35
    },
    "colab_type": "code",
    "id": "h3bde4vdxdWC",
    "outputId": "8723a335-39ea-49bf-d98d-6ef527bbb937"
   },
   "outputs": [
    {
     "data": {
      "text/plain": [
       "array([0.4, 0.5, 0.6, 0.7, 0.8, 0.9, 1. ])"
      ]
     },
     "execution_count": 9,
     "metadata": {
      "tags": []
     },
     "output_type": "execute_result"
    }
   ],
   "source": [
    "rango"
   ]
  },
  {
   "cell_type": "markdown",
   "metadata": {
    "colab_type": "text",
    "id": "XiNb9_uwuOXp"
   },
   "source": [
    "### Comparativo vs Newton con Aproximación al Gradiente"
   ]
  },
  {
   "cell_type": "code",
   "execution_count": null,
   "metadata": {
    "colab": {},
    "colab_type": "code",
    "id": "b9wkFjOVxeRk"
   },
   "outputs": [],
   "source": [
    "res_sol1 = [mkv.markowitz(r,mu,S) for r in rango]"
   ]
  },
  {
   "cell_type": "code",
   "execution_count": null,
   "metadata": {
    "colab": {},
    "colab_type": "code",
    "id": "BEChECSjzoAe"
   },
   "outputs": [],
   "source": [
    "fo = lambda w: w@S@w\n",
    "#w_ast = mkv.markowitz(r,mu,S)\n",
    "n = mu.shape[0]\n",
    "A = cp.concatenate((mu,cp.ones(n))).reshape(2,n)\n",
    "#b = cp.array([r,1])\n",
    "M = cp.ones((2,mu.shape[0]))\n",
    "tol=1e-8\n",
    "tol_backtracking=1e-14\n",
    "#p_ast=fo(w_ast)"
   ]
  },
  {
   "cell_type": "code",
   "execution_count": 12,
   "metadata": {
    "colab": {
     "base_uri": "https://localhost:8080/",
     "height": 1000
    },
    "colab_type": "code",
    "id": "Sej1ekuhyvQ6",
    "outputId": "33ef9132-2434-455b-ee3e-ba3128eba0b6"
   },
   "outputs": [
    {
     "name": "stdout",
     "output_type": "stream",
     "text": [
      "I\tNormgf \tNewton Decrement\tError x_ast\tError p_ast\tline search\tCondHf\n",
      "0\t0.023\t0.122\t4.9545\t658.4761\t---\t\t2466.2601\n",
      "1\t0.023\t0.0097\t10.457\t68.1379\t1\t2466.2601\n",
      "2\t0.023\t-0.0001\t5.8945\t7.9521\t1\t2466.2601\n",
      "Error of x with respect to x_ast: 5.894541878242724\n",
      "Approximate solution: [ 0.13771998 -0.09796931  0.43691112 -0.25868511 -0.08150009 -0.09940936\n",
      " -0.4716699  -0.13128719  0.11588815  0.33700828 -0.41721869  0.08081464\n",
      " -0.10128326  0.2209826  -0.31610939  0.07953399  0.10089517 -0.34534003\n",
      " -0.1673634  -0.27195041 -0.27361185 -0.07275707 -0.8088519  -0.51117351\n",
      " -0.15207089  0.26163102  0.61354895  0.08867941 -0.16949171 -0.73313469\n",
      "  0.07103403 -0.01744836 -0.56446213 -0.3781923  -0.53554974 -0.24698683\n",
      "  0.22894122 -0.1605263   0.04831162 -0.66392354 -0.792152   -0.14675077\n",
      " -0.30915918 -0.50678346 -0.90171979 -5.16667787 14.13189111  0.78862504\n",
      " -0.09158553 -0.77962076]\n",
      "I\tNormgf \tNewton Decrement\tError x_ast\tError p_ast\tline search\tCondHf\n",
      "0\t0.0243\t0.1415\t4.626\t531.3532\t---\t\t5647.0399\n",
      "1\t0.0243\t0.0496\t8.7273\t71.7324\t1\t5647.0399\n",
      "2\t0.0243\t0.0136\t8.5218\t69.9624\t0.0078\t5647.0399\n",
      "3\t0.0243\t0.0122\t9.6793\t47.979\t1\t5647.0399\n",
      "4\t0.0243\t0.0007\t10.5117\t6.2809\t1\t5647.0399\n",
      "5\t0.0243\t0.0002\t9.2303\t3.2388\t1\t5647.0399\n",
      "6\t0.0243\t0.0002\t6.8565\t1.8929\t1\t5647.0399\n",
      "7\t0.0243\t0.0002\t4.2841\t0.7013\t1\t5647.0399\n",
      "8\t0.0243\t0.0\t0.4834\t0.0094\t1\t5647.0399\n",
      "9\t0.0243\t0.0\t0.0063\t0.0\t1\t5647.0399\n",
      "Error of x with respect to x_ast: 0.006291370920997664\n",
      "Approximate solution: [ 0.17595335 -0.02795029  0.20374814 -0.13980897  0.02057984  0.04008939\n",
      "  0.1107831  -0.00790236  0.05920041  0.3504007  -0.00998874  0.0038214\n",
      "  0.21404619  0.09891661  0.0414844   0.01873786  0.0089379   0.02823831\n",
      "  0.06463465  0.24309376  0.15489992  0.14558324  0.20279677 -0.00845391\n",
      "  0.10487493  0.18369293  0.22301891  0.11060771  0.1027562   0.12075123\n",
      "  0.1980574  -0.01265803  0.01598287  0.08101036  0.04610204 -0.13133416\n",
      "  0.19084339  0.01217662  0.07400344 -0.13449467 -0.05434805  0.18155266\n",
      "  0.12535004 -0.06392671  0.01168966 -2.69371183  0.04318491  0.29221233\n",
      "  0.12939091 -0.14862675]\n",
      "I\tNormgf \tNewton Decrement\tError x_ast\tError p_ast\tline search\tCondHf\n",
      "0\t0.024\t0.1295\t3.9003\t387.3366\t---\t\t6077.3211\n",
      "1\t0.024\t0.0154\t5.7041\t31.2601\t1\t6077.3211\n",
      "2\t0.024\t0.0031\t6.3797\t9.3655\t0.5\t6077.3211\n",
      "3\t0.024\t0.0001\t1.9609\t0.2727\t1\t6077.3211\n",
      "4\t0.024\t0.0\t0.3999\t0.0061\t1\t6077.3211\n",
      "5\t0.024\t0.0\t0.08\t0.0003\t1\t6077.3211\n",
      "6\t0.024\t0.0\t0.0032\t0.0\t1\t6077.3211\n",
      "Error of x with respect to x_ast: 0.0031524575091330304\n",
      "Approximate solution: [ 1.93780166e-01 -3.49968011e-02  2.50399953e-01 -1.88012361e-01\n",
      "  9.03323432e-03  2.89041108e-02  1.35236030e-01 -2.94413487e-02\n",
      "  8.04401648e-02  4.16359547e-01 -1.39595506e-02  5.54475445e-03\n",
      "  2.27290742e-01  1.04744429e-01  6.07675073e-02  2.38055098e-02\n",
      "  9.82898679e-03  2.69870502e-02  7.17994689e-02  2.88755687e-01\n",
      "  1.90042150e-01  1.63890475e-01  2.65517276e-01 -3.19699633e-02\n",
      "  1.21715978e-01  2.18477729e-01  2.76108116e-01  1.44844480e-01\n",
      "  1.24957540e-01  1.60031461e-01  2.04708018e-01  2.15952012e-04\n",
      "  5.48749966e-03  8.56751500e-02  7.09727401e-02 -1.55265872e-01\n",
      "  2.18042173e-01  5.76407218e-03  8.67480203e-02 -1.61737891e-01\n",
      " -5.82640091e-02  2.24976686e-01  1.47249321e-01 -8.55090076e-02\n",
      "  1.58957104e-02 -3.09750003e+00 -7.62672379e-02  3.21913983e-01\n",
      "  1.39300485e-01 -1.93288287e-01]\n",
      "I\tNormgf \tNewton Decrement\tError x_ast\tError p_ast\tline search\tCondHf\n",
      "0\t0.0169\t0.0644\t2.367\t151.8575\t---\t\t3490.6926\n",
      "1\t0.0169\t0.0002\t1.3908\t0.5527\t1\t3490.6926\n",
      "2\t0.0169\t0.0\t0.3766\t0.0053\t1\t3490.6926\n",
      "3\t0.0169\t0.0\t0.1072\t0.0004\t1\t3490.6926\n",
      "4\t0.0169\t0.0\t0.027\t0.0\t1\t3490.6926\n",
      "Error of x with respect to x_ast: 0.02695478567787322\n",
      "Approximate solution: [ 2.11985063e-01 -4.22158822e-02  2.97473157e-01 -2.36112815e-01\n",
      " -2.38802083e-03  1.75239440e-02  1.57955139e-01 -5.05847903e-02\n",
      "  1.01961444e-01  4.82120217e-01 -1.85410964e-02  7.25294106e-03\n",
      "  2.39536435e-01  1.09924354e-01  7.98289295e-02  2.75496941e-02\n",
      "  1.07237218e-02  2.51415490e-02  7.81562674e-02  3.33608527e-01\n",
      "  2.25862404e-01  1.80520021e-01  3.26738773e-01 -5.51803807e-02\n",
      "  1.37961931e-01  2.52032881e-01  3.30379793e-01  1.78838901e-01\n",
      "  1.46596952e-01  1.97959824e-01  2.11425154e-01  1.07258587e-02\n",
      " -5.36368486e-03  8.88732472e-02  9.57602682e-02 -1.78821652e-01\n",
      "  2.45493435e-01 -4.53454598e-04  9.95339493e-02 -1.88795136e-01\n",
      " -6.26158980e-02  2.67816635e-01  1.69064455e-01 -1.07547039e-01\n",
      "  1.79883214e-02 -3.39359269e+00 -2.82334009e-01  3.51322295e-01\n",
      "  1.48315916e-01 -2.39405845e-01]\n",
      "I\tNormgf \tNewton Decrement\tError x_ast\tError p_ast\tline search\tCondHf\n",
      "0\t0.0305\t0.2064\t3.9729\t379.2009\t---\t\t3226.7206\n",
      "1\t0.0305\t0.0146\t3.4062\t27.2279\t1\t3226.7206\n",
      "2\t0.0305\t0.0\t0.1341\t0.0376\t1\t3226.7206\n",
      "3\t0.0305\t0.0\t0.0041\t0.0\t1\t3226.7206\n",
      "Error of x with respect to x_ast: 0.004140006716260293\n",
      "Approximate solution: [ 0.22951607 -0.04938056  0.34381168 -0.28400777 -0.01382771  0.00640541\n",
      "  0.18328908 -0.07185735  0.12371042  0.54804323 -0.02208049  0.00895753\n",
      "  0.25326991  0.1157217   0.09939487  0.03230424  0.01198081  0.02413711\n",
      "  0.08599648  0.38038366  0.2613784   0.2001426   0.39034919 -0.07821094\n",
      "  0.15539483  0.28686762  0.38399055  0.21313718  0.16905693  0.23806786\n",
      "  0.21764896  0.02424678 -0.01558291  0.09419739  0.1202952  -0.2027228\n",
      "  0.27264399 -0.00679983  0.112196   -0.21594043 -0.06623979  0.31197214\n",
      "  0.19123506 -0.12866498  0.02132577 -3.842011   -0.36976974  0.38062248\n",
      "  0.15843758 -0.28303239]\n",
      "I\tNormgf \tNewton Decrement\tError x_ast\tError p_ast\tline search\tCondHf\n",
      "0\t0.0307\t0.2349\t3.8377\t325.1128\t---\t\t124183.0157\n",
      "1\t0.0307\t0.1119\t8.4263\t178.2189\t0.5\t124183.0157\n",
      "2\t0.0307\t0.041\t8.6693\t87.6928\t1\t124183.0157\n",
      "3\t0.0307\t-0.0193\t12.2287\t37.627\t1\t124183.0157\n",
      "Error of x with respect to x_ast: 12.228696272047774\n",
      "Approximate solution: [-4.51297418e-01  6.24826617e-01 -4.59161315e-01 -1.42722236e-01\n",
      "  7.16490806e-02  4.29546363e-01  3.20043544e+00  7.98233463e-01\n",
      "  1.64155430e+00  1.21555024e+00  1.08726383e+00 -1.88662389e-01\n",
      "  9.79564390e-01 -1.77852698e+00  2.87106132e+00 -2.41918810e+00\n",
      "  5.83271305e-01  2.37937395e+00 -4.58192273e-02  3.57233852e+00\n",
      "  2.40913676e+00  3.97285700e+00  5.58555354e+00  5.74652328e+00\n",
      "  1.18199472e+00  1.46699269e-01 -2.89281362e+00  9.62332159e-02\n",
      "  1.38099496e+00  3.30732281e+00  7.22182513e-01 -4.41951822e+00\n",
      "  4.31293932e-01  2.42767318e+00  1.18004573e+00 -2.41443996e-01\n",
      " -4.23114312e-01  8.55328141e-01 -2.17514044e-01  1.78554373e+00\n",
      "  2.89624253e+00  2.07151199e+00  1.26544365e+00  1.74075092e+00\n",
      "  4.77397497e+00 -5.76535688e+01  5.43412242e+00 -1.83805789e+00\n",
      "  2.20288322e+00  3.10242729e+00]\n",
      "I\tNormgf \tNewton Decrement\tError x_ast\tError p_ast\tline search\tCondHf\n",
      "0\t0.0401\t0.3006\t4.3637\t449.6665\t---\t\t2141.6291\n",
      "1\t0.0401\t0.3798\t5.928\t352.0233\t0.25\t2141.6291\n",
      "2\t0.0401\t0.2807\t8.5493\t303.2998\t0.25\t2141.6291\n",
      "3\t0.0401\t0.1557\t9.752\t218.305\t0.5\t2141.6291\n",
      "4\t0.0401\t0.1535\t6.5\t163.6102\t0.25\t2141.6291\n",
      "5\t0.0401\t0.0661\t4.4984\t61.1571\t1\t2141.6291\n",
      "6\t0.0401\t0.0253\t5.864\t31.6456\t0.5\t2141.6291\n",
      "7\t0.0401\t0.0007\t1.3705\t0.947\t1\t2141.6291\n",
      "8\t0.0401\t-0.0002\t3.0193\t0.3268\t1\t2141.6291\n",
      "Error of x with respect to x_ast: 3.0193113761206627\n",
      "Approximate solution: [ 2.32764080e-01 -5.01430689e-02  3.91915851e-01 -3.81879852e-01\n",
      " -6.43645476e-02 -1.35705420e-02  3.86532040e-01 -1.33685408e-01\n",
      "  2.37776074e-01  7.07704063e-01  3.51824495e-03  8.67723728e-03\n",
      "  2.43290353e-01  8.59818544e-02  1.13491973e-01  1.39957454e-01\n",
      "  3.28768395e-02  4.48302616e-02  1.69962461e-01  5.08107919e-01\n",
      "  2.64237540e-01  4.05731561e-01  6.44881773e-01 -1.76354987e-01\n",
      "  2.30054967e-01  4.68152598e-01  3.84214802e-01  3.12928149e-01\n",
      "  3.03126930e-01  4.21444235e-01  1.84782244e-01  3.22715770e-01\n",
      " -6.59072830e-02  2.44003828e-01  1.35938538e-01 -2.84728938e-01\n",
      "  3.16387077e-01 -5.32242461e-02  1.28787349e-01 -3.20810228e-01\n",
      " -6.60435279e-02  4.70130359e-01  2.39678768e-01 -1.40590648e-01\n",
      "  1.62055101e-01 -1.60022460e+01  9.32770795e+00  4.51537482e-01\n",
      "  2.42886116e-01 -2.15220594e-01]\n"
     ]
    }
   ],
   "source": [
    "res_sol2 = [opt.Newtons_method_feasible_init_point(fo,\n",
    "                                                   A,\n",
    "                                                   utils.feasible_markowitz(r,mu),\n",
    "                                                   tol,\n",
    "                                                   tol_backtracking,\n",
    "                                                   mkv.markowitz(r,mu,S),\n",
    "                                                   fo(mkv.markowitz(r,mu,S)),\n",
    "                                                   maxiter=50)[0] for r in rango]"
   ]
  },
  {
   "cell_type": "markdown",
   "metadata": {
    "colab_type": "text",
    "id": "GCXvBiP4wBFW"
   },
   "source": [
    "La norma 2 está dada por"
   ]
  },
  {
   "cell_type": "code",
   "execution_count": 13,
   "metadata": {
    "colab": {
     "base_uri": "https://localhost:8080/",
     "height": 143
    },
    "colab_type": "code",
    "id": "a1QGZk333g6d",
    "outputId": "549e3031-cb01-46f2-bd4a-636c04f37f23"
   },
   "outputs": [
    {
     "name": "stdout",
     "output_type": "stream",
     "text": [
      "14.48901677729033\n",
      "0.018030787868378962\n",
      "0.01035497008040384\n",
      "0.10002078659529018\n",
      "0.017146307606563396\n",
      "55.95978724879813\n",
      "15.136510396005391\n"
     ]
    }
   ],
   "source": [
    "norm2 = np.zeros(7)\n",
    "for i in range(7):\n",
    "  norm2[i] = np.linalg.norm(res_sol1[i]-res_sol2[i], ord=2)\n",
    "  print(np.linalg.norm(res_sol1[i]-res_sol2[i]))"
   ]
  },
  {
   "cell_type": "markdown",
   "metadata": {
    "colab_type": "text",
    "id": "1pC3O9LJwF5n"
   },
   "source": [
    "La norma 1 está dada por"
   ]
  },
  {
   "cell_type": "code",
   "execution_count": 14,
   "metadata": {
    "colab": {
     "base_uri": "https://localhost:8080/",
     "height": 143
    },
    "colab_type": "code",
    "id": "5xEl1vIygXGP",
    "outputId": "3340eef8-19f7-4fee-84e9-6888631857f4"
   },
   "outputs": [
    {
     "name": "stdout",
     "output_type": "stream",
     "text": [
      "31.763664646723473\n",
      "0.03637170277350131\n",
      "0.016891033326778493\n",
      "0.1629955581973912\n",
      "0.0334760000799008\n",
      "142.19685945281984\n",
      "24.167110272296522\n"
     ]
    }
   ],
   "source": [
    "norm1 = np.zeros(7)\n",
    "for i in range(7):\n",
    "  norm1[i] = np.linalg.norm(res_sol1[i]-res_sol2[i], ord=1)\n",
    "  print(np.linalg.norm(res_sol1[i]-res_sol2[i], ord=1))"
   ]
  },
  {
   "cell_type": "markdown",
   "metadata": {
    "colab_type": "text",
    "id": "s-qiKh8QwJJr"
   },
   "source": [
    "La restricción del rendimiento del primer solver es:"
   ]
  },
  {
   "cell_type": "code",
   "execution_count": 15,
   "metadata": {
    "colab": {
     "base_uri": "https://localhost:8080/",
     "height": 143
    },
    "colab_type": "code",
    "id": "CT1F5ZI_5zMG",
    "outputId": "722ef383-a388-4186-a1fc-a8635cef804c"
   },
   "outputs": [
    {
     "name": "stdout",
     "output_type": "stream",
     "text": [
      "0.4000000000000004\n",
      "0.5000000000000002\n",
      "0.6000000000000004\n",
      "0.7000000000000002\n",
      "0.8\n",
      "0.9000000000000002\n",
      "1.0000000000000002\n"
     ]
    }
   ],
   "source": [
    "mu1 = np.zeros(7)\n",
    "for i in range(7):\n",
    "  mu1[i] = sum(res_sol1[i]*mu)\n",
    "  print(sum(res_sol1[i]*mu))"
   ]
  },
  {
   "cell_type": "markdown",
   "metadata": {
    "colab_type": "text",
    "id": "u5OGMFh2wOv0"
   },
   "source": [
    "La restricción de rendimiento para el segundo solver es:"
   ]
  },
  {
   "cell_type": "code",
   "execution_count": 16,
   "metadata": {
    "colab": {
     "base_uri": "https://localhost:8080/",
     "height": 143
    },
    "colab_type": "code",
    "id": "4OGRonJOiECC",
    "outputId": "d7c36b52-8054-4cec-d294-ebee91380bdd"
   },
   "outputs": [
    {
     "name": "stdout",
     "output_type": "stream",
     "text": [
      "0.399999999999998\n",
      "0.49999999999999917\n",
      "0.5999999999999979\n",
      "0.7000000000000002\n",
      "0.7999999999999988\n",
      "0.899999999999997\n",
      "0.9999999999999951\n"
     ]
    }
   ],
   "source": [
    "mu2 = np.zeros(7)\n",
    "for i in range(7):\n",
    "  mu2[i] = sum(res_sol2[i]*mu)\n",
    "  print(sum(res_sol2[i]*mu))"
   ]
  },
  {
   "cell_type": "markdown",
   "metadata": {
    "colab_type": "text",
    "id": "5AQWvYn5wSj5"
   },
   "source": [
    "La restricción de unicidad para el primer solver es:"
   ]
  },
  {
   "cell_type": "code",
   "execution_count": 17,
   "metadata": {
    "colab": {
     "base_uri": "https://localhost:8080/",
     "height": 143
    },
    "colab_type": "code",
    "id": "ZGJJyzsz6Klv",
    "outputId": "5e3fc236-2107-4e69-e039-ecc09b6b31c0"
   },
   "outputs": [
    {
     "name": "stdout",
     "output_type": "stream",
     "text": [
      "0.9999999999999999\n",
      "0.9999999999999997\n",
      "0.9999999999999997\n",
      "1.0000000000000007\n",
      "0.9999999999999993\n",
      "0.9999999999999998\n",
      "1.0000000000000018\n"
     ]
    }
   ],
   "source": [
    "u1 = np.zeros(7)\n",
    "for i in range(7):\n",
    "  u1[i] = sum(res_sol1[i])\n",
    "  print(sum(res_sol1[i]))"
   ]
  },
  {
   "cell_type": "markdown",
   "metadata": {
    "colab_type": "text",
    "id": "krJhi6zjwa2z"
   },
   "source": [
    "La restricción de unicidad para el segundo solver es:"
   ]
  },
  {
   "cell_type": "code",
   "execution_count": 18,
   "metadata": {
    "colab": {
     "base_uri": "https://localhost:8080/",
     "height": 143
    },
    "colab_type": "code",
    "id": "XOPNxlFW6POW",
    "outputId": "95863d77-e0fe-4e6b-a758-eab8d5726457"
   },
   "outputs": [
    {
     "name": "stdout",
     "output_type": "stream",
     "text": [
      "1.0\n",
      "1.0000000000000062\n",
      "1.0000000000000013\n",
      "0.9999999999999991\n",
      "0.999999999999998\n",
      "0.9999999999999614\n",
      "0.9999999999999875\n"
     ]
    }
   ],
   "source": [
    "\n",
    "u2 = np.zeros(7)\n",
    "for i in range(7):\n",
    "  u2[i] = sum(res_sol2[i])\n",
    "  print(sum(res_sol2[i]))"
   ]
  },
  {
   "cell_type": "markdown",
   "metadata": {
    "colab_type": "text",
    "id": "BTl_Tzy6wd_Q"
   },
   "source": [
    "La solución a la función objetivo para el primer solver es:"
   ]
  },
  {
   "cell_type": "code",
   "execution_count": 19,
   "metadata": {
    "colab": {
     "base_uri": "https://localhost:8080/",
     "height": 143
    },
    "colab_type": "code",
    "id": "7lyFg-mdldak",
    "outputId": "44887c52-b915-4084-c4b6-9e40941fdac4"
   },
   "outputs": [
    {
     "name": "stdout",
     "output_type": "stream",
     "text": [
      "9.397644610398304e-05\n",
      "0.00012574783889287994\n",
      "0.00016502479794085683\n",
      "0.0002118073232479138\n",
      "0.00026609541481405164\n",
      "0.0003278890726392688\n",
      "0.0003971882967235673\n"
     ]
    }
   ],
   "source": [
    "s1 = np.zeros(7)\n",
    "for i in range(7):\n",
    "  s1[i] = res_sol1[i]@S@res_sol1[i]\n",
    "  print(res_sol1[i]@S@res_sol1[i])"
   ]
  },
  {
   "cell_type": "markdown",
   "metadata": {
    "colab_type": "text",
    "id": "EuL8586pwl00"
   },
   "source": [
    "La solución a la funcióón objetivo para el segundo solver es:"
   ]
  },
  {
   "cell_type": "code",
   "execution_count": 20,
   "metadata": {
    "colab": {
     "base_uri": "https://localhost:8080/",
     "height": 143
    },
    "colab_type": "code",
    "id": "tAcQLW24mFYh",
    "outputId": "eb1bb502-6fc4-44ed-973e-0c3a80ca9c83"
   },
   "outputs": [
    {
     "name": "stdout",
     "output_type": "stream",
     "text": [
      "0.0008412905142421655\n",
      "0.00012574827275669005\n",
      "0.0001650248738326796\n",
      "0.00021181319675961214\n",
      "0.0002660957832459081\n",
      "0.012665356258319905\n",
      "0.0005269785878172568\n"
     ]
    }
   ],
   "source": [
    "s2 = np.zeros(7)\n",
    "for i in range(7):\n",
    "  s2[i] = res_sol2[i]@S@res_sol2[i]\n",
    "  print(res_sol2[i]@S@res_sol2[i])"
   ]
  },
  {
   "cell_type": "code",
   "execution_count": null,
   "metadata": {
    "colab": {},
    "colab_type": "code",
    "id": "5zfdbCwOmXYR"
   },
   "outputs": [],
   "source": [
    "tabla = pd.DataFrame({'||Dif||': norm2,\n",
    "                     '|Dif|': norm1,\n",
    "                     'w1*mu': mu1,\n",
    "                     'w2*mu': mu2,\n",
    "                     'Sigma1': s1,\n",
    "                     'Sigma2': s2})"
   ]
  },
  {
   "cell_type": "markdown",
   "metadata": {},
   "source": [
    "**Soluciones de método de Lagrange ($L$) vs Newton usando diferencias finitas ($N_{df}$)**"
   ]
  },
  {
   "cell_type": "code",
   "execution_count": 22,
   "metadata": {
    "colab": {
     "base_uri": "https://localhost:8080/",
     "height": 266
    },
    "colab_type": "code",
    "id": "4GmOWXdUoicT",
    "outputId": "9db5d8da-0074-405a-bae7-39d2b91ad48a"
   },
   "outputs": [
    {
     "data": {
      "text/html": [
       "<div>\n",
       "<style scoped>\n",
       "    .dataframe tbody tr th:only-of-type {\n",
       "        vertical-align: middle;\n",
       "    }\n",
       "\n",
       "    .dataframe tbody tr th {\n",
       "        vertical-align: top;\n",
       "    }\n",
       "\n",
       "    .dataframe thead th {\n",
       "        text-align: right;\n",
       "    }\n",
       "</style>\n",
       "<table border=\"1\" class=\"dataframe\">\n",
       "  <thead>\n",
       "    <tr style=\"text-align: right;\">\n",
       "      <th></th>\n",
       "      <th>||Dif||</th>\n",
       "      <th>|Dif|</th>\n",
       "      <th>w1*mu</th>\n",
       "      <th>w2*mu</th>\n",
       "      <th>Sigma1</th>\n",
       "      <th>Sigma2</th>\n",
       "    </tr>\n",
       "  </thead>\n",
       "  <tbody>\n",
       "    <tr>\n",
       "      <th>0</th>\n",
       "      <td>14.489017</td>\n",
       "      <td>31.763665</td>\n",
       "      <td>0.4</td>\n",
       "      <td>0.4</td>\n",
       "      <td>0.000094</td>\n",
       "      <td>0.000841</td>\n",
       "    </tr>\n",
       "    <tr>\n",
       "      <th>1</th>\n",
       "      <td>0.018031</td>\n",
       "      <td>0.036372</td>\n",
       "      <td>0.5</td>\n",
       "      <td>0.5</td>\n",
       "      <td>0.000126</td>\n",
       "      <td>0.000126</td>\n",
       "    </tr>\n",
       "    <tr>\n",
       "      <th>2</th>\n",
       "      <td>0.010355</td>\n",
       "      <td>0.016891</td>\n",
       "      <td>0.6</td>\n",
       "      <td>0.6</td>\n",
       "      <td>0.000165</td>\n",
       "      <td>0.000165</td>\n",
       "    </tr>\n",
       "    <tr>\n",
       "      <th>3</th>\n",
       "      <td>0.100021</td>\n",
       "      <td>0.162996</td>\n",
       "      <td>0.7</td>\n",
       "      <td>0.7</td>\n",
       "      <td>0.000212</td>\n",
       "      <td>0.000212</td>\n",
       "    </tr>\n",
       "    <tr>\n",
       "      <th>4</th>\n",
       "      <td>0.017146</td>\n",
       "      <td>0.033476</td>\n",
       "      <td>0.8</td>\n",
       "      <td>0.8</td>\n",
       "      <td>0.000266</td>\n",
       "      <td>0.000266</td>\n",
       "    </tr>\n",
       "    <tr>\n",
       "      <th>5</th>\n",
       "      <td>55.959787</td>\n",
       "      <td>142.196859</td>\n",
       "      <td>0.9</td>\n",
       "      <td>0.9</td>\n",
       "      <td>0.000328</td>\n",
       "      <td>0.012665</td>\n",
       "    </tr>\n",
       "    <tr>\n",
       "      <th>6</th>\n",
       "      <td>15.136510</td>\n",
       "      <td>24.167110</td>\n",
       "      <td>1.0</td>\n",
       "      <td>1.0</td>\n",
       "      <td>0.000397</td>\n",
       "      <td>0.000527</td>\n",
       "    </tr>\n",
       "  </tbody>\n",
       "</table>\n",
       "</div>"
      ],
      "text/plain": [
       "     ||Dif||       |Dif|  w1*mu  w2*mu    Sigma1    Sigma2\n",
       "0  14.489017   31.763665    0.4    0.4  0.000094  0.000841\n",
       "1   0.018031    0.036372    0.5    0.5  0.000126  0.000126\n",
       "2   0.010355    0.016891    0.6    0.6  0.000165  0.000165\n",
       "3   0.100021    0.162996    0.7    0.7  0.000212  0.000212\n",
       "4   0.017146    0.033476    0.8    0.8  0.000266  0.000266\n",
       "5  55.959787  142.196859    0.9    0.9  0.000328  0.012665\n",
       "6  15.136510   24.167110    1.0    1.0  0.000397  0.000527"
      ]
     },
     "execution_count": 22,
     "metadata": {
      "tags": []
     },
     "output_type": "execute_result"
    }
   ],
   "source": [
    "tabla"
   ]
  },
  {
   "cell_type": "code",
   "execution_count": 23,
   "metadata": {
    "colab": {
     "base_uri": "https://localhost:8080/",
     "height": 35
    },
    "colab_type": "code",
    "id": "beU-0KGDojQ0",
    "outputId": "6a213e69-00c5-45c1-d226-420096053ef8"
   },
   "outputs": [
    {
     "data": {
      "text/plain": [
       "array([0.4, 0.5, 0.6, 0.7, 0.8, 0.9, 1. ])"
      ]
     },
     "execution_count": 23,
     "metadata": {
      "tags": []
     },
     "output_type": "execute_result"
    }
   ],
   "source": [
    "mu2"
   ]
  },
  {
   "cell_type": "markdown",
   "metadata": {},
   "source": [
    "\n",
    "\n",
    "De lo anterior, se desprenden los siguientes hallazgos:\n",
    "\n",
    "* La diferencia entre las soluciones aumenta conforme aumenta el rendimiento deseado.\n",
    "\n",
    "* A pesar del aumento en la diferencia, ambas soluciones cumplen con las restricciones deseadas.\n",
    "\n",
    "* La solución es mejor usando el solver basado en los multiplicadores de Lagrange. "
   ]
  },
  {
   "cell_type": "markdown",
   "metadata": {
    "colab_type": "text",
    "id": "cliLP8VLuYal"
   },
   "source": [
    "### Comparativo vs Newton con funciones simbólicas"
   ]
  },
  {
   "cell_type": "code",
   "execution_count": 24,
   "metadata": {
    "colab": {
     "base_uri": "https://localhost:8080/",
     "height": 1000
    },
    "colab_type": "code",
    "id": "fakNcLiCpH2o",
    "outputId": "6705c7d7-87cc-4072-a18a-7540c94188ef"
   },
   "outputs": [
    {
     "name": "stdout",
     "output_type": "stream",
     "text": [
      "I\tNormgf \tNewton Decrement\tError x_ast\tError p_ast\tline search\tCondHf\n",
      "0\t0.0115\t0.0619\t4.9545\t658.4761\t---\t\t10080.7486\n",
      "1\t0.0115\t-0.0\t0.0\t0.0\t1\t10080.7486\n",
      "Error of x with respect to x_ast: 5.740873396029681e-12\n",
      "Approximate solution: [ 1.58072889e-01 -2.07065137e-02  1.57018663e-01 -9.18400947e-02\n",
      "  3.19613490e-02  5.13368560e-02  8.66470099e-02  1.30875327e-02\n",
      "  3.68048577e-02  2.84552851e-01 -5.90047808e-03  2.19086962e-03\n",
      "  2.02831720e-01  9.44790541e-02  2.24450410e-02  1.48916018e-02\n",
      "  7.58576276e-03  2.97083297e-02  5.75104750e-02  1.97122290e-01\n",
      "  1.19107538e-01  1.27459173e-01  1.39924071e-01  1.41741738e-02\n",
      "  8.80157677e-02  1.49727253e-01  1.68115707e-01  7.64598163e-02\n",
      "  8.04449497e-02  8.16111393e-02  1.91829256e-01 -2.43470176e-02\n",
      "  2.65366644e-02  7.68672990e-02  2.15800786e-02 -1.07693804e-01\n",
      "  1.63426962e-01  1.83045029e-02  6.13681468e-02 -1.07614337e-01\n",
      " -5.01292415e-02  1.37878242e-01  1.03089497e-01 -4.23273918e-02\n",
      "  1.06201816e-02 -2.32473614e+00  1.92609722e-01  2.62553899e-01\n",
      "  1.19866235e-01 -1.04522412e-01]\n",
      "I\tNormgf \tNewton Decrement\tError x_ast\tError p_ast\tline search\tCondHf\n",
      "0\t0.0122\t0.0668\t4.626\t531.3532\t---\t\t10080.7486\n",
      "1\t0.0122\t-0.0\t0.0\t0.0\t1\t10080.7486\n",
      "Error of x with respect to x_ast: 5.659597351233118e-12\n",
      "Approximate solution: [ 0.17593268 -0.02784145  0.20369474 -0.13990149  0.02049993  0.04011949\n",
      "  0.11093096 -0.00815493  0.05862749  0.35045714 -0.00992388  0.00387379\n",
      "  0.21512965  0.09961072  0.04164448  0.01928258  0.00868445  0.0283464\n",
      "  0.06467059  0.24295701  0.1546551   0.14561756  0.20273425 -0.00892544\n",
      "  0.1048728   0.18404706  0.2220989   0.11060758  0.1026827   0.12078347\n",
      "  0.19832149 -0.01205942  0.01604563  0.08122571  0.04630746 -0.13146063\n",
      "  0.19073228  0.01203255  0.07407285 -0.13464403 -0.05416919  0.18144955\n",
      "  0.12517642 -0.06388051  0.01331117 -2.70755717  0.05441887  0.29221931\n",
      "  0.12956602 -0.1489227 ]\n",
      "I\tNormgf \tNewton Decrement\tError x_ast\tError p_ast\tline search\tCondHf\n",
      "0\t0.012\t0.0639\t3.9003\t387.3366\t---\t\t10080.7486\n",
      "1\t0.012\t-0.0\t0.0\t0.0\t1\t10080.7486\n",
      "Error of x with respect to x_ast: 4.80560424674716e-12\n",
      "Approximate solution: [ 1.93792478e-01 -3.49763891e-02  2.50370820e-01 -1.87962876e-01\n",
      "  9.03850741e-03  2.89021246e-02  1.35214916e-01 -2.93973980e-02\n",
      "  8.04501319e-02  4.16361428e-01 -1.39472819e-02  5.55670434e-03\n",
      "  2.27427575e-01  1.04742388e-01  6.08439256e-02  2.36735588e-02\n",
      "  9.78312810e-03  2.69844801e-02  7.18306971e-02  2.88791733e-01\n",
      "  1.90202655e-01  1.63775948e-01  2.65544432e-01 -3.20250507e-02\n",
      "  1.21729842e-01  2.18366872e-01  2.76082097e-01  1.44755341e-01\n",
      "  1.24920442e-01  1.59955797e-01  2.04813717e-01  2.28178741e-04\n",
      "  5.55459642e-03  8.55841136e-02  7.10348433e-02 -1.55227446e-01\n",
      "  2.18037604e-01  5.76059688e-03  8.67775568e-02 -1.61673721e-01\n",
      " -5.82091441e-02  2.25020853e-01  1.47263337e-01 -8.54336343e-02\n",
      "  1.60021681e-02 -3.09037820e+00 -8.37719815e-02  3.21884726e-01\n",
      "  1.39265802e-01 -1.93322996e-01]\n",
      "I\tNormgf \tNewton Decrement\tError x_ast\tError p_ast\tline search\tCondHf\n",
      "0\t0.0085\t0.0322\t2.367\t151.8575\t---\t\t10080.7486\n",
      "1\t0.0085\t-0.0\t0.0\t0.0\t1\t10080.7486\n",
      "Error of x with respect to x_ast: 6.626778379803674e-12\n",
      "Approximate solution: [ 2.11652272e-01 -4.21113268e-02  2.97046899e-01 -2.36024267e-01\n",
      " -2.42291339e-03  1.76847589e-02  1.59498869e-01 -5.06398634e-02\n",
      "  1.02272769e-01  4.82265717e-01 -1.79706838e-02  7.23962170e-03\n",
      "  2.39725503e-01  1.09874055e-01  8.00433680e-02  2.80645373e-02\n",
      "  1.08818108e-02  2.56225552e-02  7.89908081e-02  3.34626455e-01\n",
      "  2.25750214e-01  1.81934336e-01  3.28354613e-01 -5.51246629e-02\n",
      "  1.38586879e-01  2.52686681e-01  3.30065292e-01  1.78903103e-01\n",
      "  1.47158188e-01  1.99128126e-01  2.11305947e-01  1.25157769e-02\n",
      " -4.93643755e-03  8.99425209e-02  9.57622256e-02 -1.78994267e-01\n",
      "  2.45342925e-01 -5.11356122e-04  9.94822617e-02 -1.88703412e-01\n",
      " -6.22490954e-02  2.68592159e-01  1.69350257e-01 -1.06986755e-01\n",
      "  1.86931614e-02 -3.47319923e+00 -2.21962833e-01  3.51550139e-01\n",
      "  1.48965586e-01 -2.37723288e-01]\n",
      "I\tNormgf \tNewton Decrement\tError x_ast\tError p_ast\tline search\tCondHf\n",
      "0\t0.0153\t0.1009\t3.9729\t379.2009\t---\t\t10080.7486\n",
      "1\t0.0153\t-0.0\t0.0\t0.0\t1\t10080.7486\n",
      "Error of x with respect to x_ast: 5.6073466539208955e-12\n",
      "Approximate solution: [ 0.22951207 -0.04924626  0.34372298 -0.28408566 -0.01388433  0.00646739\n",
      "  0.18378282 -0.07188233  0.12409541  0.54817001 -0.02199409  0.00892254\n",
      "  0.25202343  0.11500572  0.09924281  0.03245552  0.01198049  0.02426063\n",
      "  0.08615092  0.38046118  0.26129777  0.20009272  0.39116479 -0.07822428\n",
      "  0.15544392  0.28700649  0.38404849  0.21305086  0.16939593  0.23830046\n",
      "  0.21779818  0.02480338 -0.01542747  0.09430093  0.12048961 -0.20276109\n",
      "  0.27264825 -0.00678331  0.11218697 -0.2157331  -0.06628905  0.31216346\n",
      "  0.19143718 -0.12853988  0.02138415 -3.85602026 -0.36015368  0.38121555\n",
      "  0.15866537 -0.28212358]\n",
      "I\tNormgf \tNewton Decrement\tError x_ast\tError p_ast\tline search\tCondHf\n",
      "0\t0.0154\t0.1066\t3.8377\t325.1128\t---\t\t10080.7486\n",
      "1\t0.0154\t-0.0\t0.0\t0.0\t1\t10080.7486\n",
      "Error of x with respect to x_ast: 4.889599366184572e-12\n",
      "Approximate solution: [ 0.24737186 -0.0563812   0.39039906 -0.33214705 -0.02534575 -0.00474997\n",
      "  0.20806677 -0.09312479  0.14591804  0.61407429 -0.02601749  0.01060546\n",
      "  0.26432136  0.12013739  0.11844225  0.03684649  0.01307918  0.02289871\n",
      "  0.09331103  0.4262959   0.29684533  0.21825111  0.45397497 -0.10132389\n",
      "  0.17230095  0.3213263   0.43803168  0.24719863  0.19163368  0.27747278\n",
      "  0.22429041  0.03709097 -0.02591851  0.09865934  0.14521699 -0.22652791\n",
      "  0.29995357 -0.01305526  0.12489167 -0.2427628  -0.070329    0.35573477\n",
      "  0.2135241  -0.150093    0.02407515 -4.23884129 -0.49834454  0.41088097\n",
      "  0.16836515 -0.32652387]\n",
      "I\tNormgf \tNewton Decrement\tError x_ast\tError p_ast\tline search\tCondHf\n",
      "0\t0.02\t0.1786\t4.3637\t449.6665\t---\t\t10080.7486\n",
      "1\t0.02\t-0.0\t0.0\t0.0\t1\t10080.7486\n",
      "Error of x with respect to x_ast: 5.480196905343638e-12\n",
      "Approximate solution: [ 0.26523165 -0.06351614  0.43707514 -0.38020844 -0.03680718 -0.01596734\n",
      "  0.23235073 -0.11436726  0.16774068  0.67997858 -0.03004089  0.01228837\n",
      "  0.27661929  0.12526906  0.13764169  0.04123747  0.01417786  0.02153678\n",
      "  0.10047114  0.47213062  0.33239289  0.2364095   0.51678516 -0.1244235\n",
      "  0.18915799  0.35564611  0.49201488  0.28134639  0.21387143  0.31664511\n",
      "  0.23078264  0.04937857 -0.03640954  0.10301774  0.16994437 -0.25029473\n",
      "  0.32725889 -0.01932722  0.13759638 -0.26979249 -0.07436895  0.39930608\n",
      "  0.23561102 -0.17164612  0.02676614 -4.62166232 -0.63653539  0.44054638\n",
      "  0.17806494 -0.37092416]\n"
     ]
    }
   ],
   "source": [
    "res_sol3 = [opt.Newtons_method_feasible_init_point(fo,\n",
    "                                                   A,\n",
    "                                                   utils.feasible_markowitz(r,mu),\n",
    "                                                   tol,\n",
    "                                                   tol_backtracking,\n",
    "                                                   mkv.markowitz(r,mu,S),\n",
    "                                                   fo(mkv.markowitz(r,mu,S)),\n",
    "                                                   50,\n",
    "                                                   opt.gfo_cp_mark,\n",
    "                                                   opt.Hfo_cp_mark,\n",
    "                                                   S)[0] for r in rango]"
   ]
  },
  {
   "cell_type": "markdown",
   "metadata": {
    "colab_type": "text",
    "id": "Zty8CcKR0xae"
   },
   "source": [
    "La norma 2 está dada por"
   ]
  },
  {
   "cell_type": "code",
   "execution_count": 26,
   "metadata": {
    "colab": {
     "base_uri": "https://localhost:8080/",
     "height": 143
    },
    "colab_type": "code",
    "id": "bR2ODdDN0xan",
    "outputId": "0b9a2b8b-c5e1-4da0-cee5-f53520601076"
   },
   "outputs": [
    {
     "name": "stdout",
     "output_type": "stream",
     "text": [
      "1.411129357794489e-11\n",
      "1.6220153054390496e-11\n",
      "1.5785109886227678e-11\n",
      "2.4589903776705652e-11\n",
      "2.3223462466169764e-11\n",
      "2.23753157471894e-11\n",
      "2.7473502099167238e-11\n"
     ]
    }
   ],
   "source": [
    "norm2 = np.zeros(7)\n",
    "for i in range(7):\n",
    "  norm2[i] = np.linalg.norm(res_sol1[i]-res_sol3[i], ord=2)\n",
    "  print(np.linalg.norm(res_sol1[i]-res_sol3[i]))"
   ]
  },
  {
   "cell_type": "markdown",
   "metadata": {
    "colab_type": "text",
    "id": "DjZb2lUo0xat"
   },
   "source": [
    "La norma 1 está dada por"
   ]
  },
  {
   "cell_type": "code",
   "execution_count": 27,
   "metadata": {
    "colab": {
     "base_uri": "https://localhost:8080/",
     "height": 143
    },
    "colab_type": "code",
    "id": "7PNruKbV0xau",
    "outputId": "caff2f77-03ee-41fb-d683-02d2d503041c"
   },
   "outputs": [
    {
     "name": "stdout",
     "output_type": "stream",
     "text": [
      "6.573455842151521e-11\n",
      "7.96733798727467e-11\n",
      "6.933233327732768e-11\n",
      "1.0330760639304382e-10\n",
      "9.366458997295268e-11\n",
      "9.864391595226785e-11\n",
      "1.199407483054582e-10\n"
     ]
    }
   ],
   "source": [
    "norm1 = np.zeros(7)\n",
    "for i in range(7):\n",
    "  norm1[i] = np.linalg.norm(res_sol1[i]-res_sol3[i], ord=1)\n",
    "  print(np.linalg.norm(res_sol1[i]-res_sol3[i], ord=1))"
   ]
  },
  {
   "cell_type": "markdown",
   "metadata": {
    "colab_type": "text",
    "id": "ti3S09eh0xay"
   },
   "source": [
    "La restricción del rendimiento del primer solver es:"
   ]
  },
  {
   "cell_type": "code",
   "execution_count": 28,
   "metadata": {
    "colab": {
     "base_uri": "https://localhost:8080/",
     "height": 143
    },
    "colab_type": "code",
    "id": "cUzB8toY0xay",
    "outputId": "9ce86743-767a-4001-efc1-6766909a413c"
   },
   "outputs": [
    {
     "name": "stdout",
     "output_type": "stream",
     "text": [
      "0.4000000000000004\n",
      "0.5000000000000002\n",
      "0.6000000000000004\n",
      "0.7000000000000002\n",
      "0.8\n",
      "0.9000000000000002\n",
      "1.0000000000000002\n"
     ]
    }
   ],
   "source": [
    "mu1 = np.zeros(7)\n",
    "for i in range(7):\n",
    "  mu1[i] = sum(res_sol1[i]*mu)\n",
    "  print(sum(res_sol1[i]*mu))"
   ]
  },
  {
   "cell_type": "markdown",
   "metadata": {
    "colab_type": "text",
    "id": "MoOaYxvI0xa2"
   },
   "source": [
    "La restricción de rendimiento para el segundo solver es:"
   ]
  },
  {
   "cell_type": "code",
   "execution_count": 29,
   "metadata": {
    "colab": {
     "base_uri": "https://localhost:8080/",
     "height": 143
    },
    "colab_type": "code",
    "id": "VM-CjQkZ0xa3",
    "outputId": "86f73203-4fb5-4b91-c2b3-e9e272473ea8"
   },
   "outputs": [
    {
     "name": "stdout",
     "output_type": "stream",
     "text": [
      "0.39999999999999863\n",
      "0.4999999999999982\n",
      "0.5999999999999976\n",
      "0.6999999999999997\n",
      "0.7999999999999975\n",
      "0.8999999999999965\n",
      "0.9999999999999971\n"
     ]
    }
   ],
   "source": [
    "mu2 = np.zeros(7)\n",
    "for i in range(7):\n",
    "  mu2[i] = sum(res_sol3[i]*mu)\n",
    "  print(sum(res_sol3[i]*mu))"
   ]
  },
  {
   "cell_type": "markdown",
   "metadata": {
    "colab_type": "text",
    "id": "_2NLKiuL0xa6"
   },
   "source": [
    "La restricción de unicidad para el primer solver es:"
   ]
  },
  {
   "cell_type": "code",
   "execution_count": 30,
   "metadata": {
    "colab": {
     "base_uri": "https://localhost:8080/",
     "height": 143
    },
    "colab_type": "code",
    "id": "quY5BTSo0xa7",
    "outputId": "a4e1e126-f505-4695-935a-78b1e636c16e"
   },
   "outputs": [
    {
     "name": "stdout",
     "output_type": "stream",
     "text": [
      "0.9999999999999999\n",
      "0.9999999999999997\n",
      "0.9999999999999997\n",
      "1.0000000000000007\n",
      "0.9999999999999993\n",
      "0.9999999999999998\n",
      "1.0000000000000018\n"
     ]
    }
   ],
   "source": [
    "u1 = np.zeros(7)\n",
    "for i in range(7):\n",
    "  u1[i] = sum(res_sol1[i])\n",
    "  print(sum(res_sol1[i]))"
   ]
  },
  {
   "cell_type": "markdown",
   "metadata": {
    "colab_type": "text",
    "id": "u3BhCmuU0xa_"
   },
   "source": [
    "La restricción de unicidad para el segundo solver es:"
   ]
  },
  {
   "cell_type": "code",
   "execution_count": 31,
   "metadata": {
    "colab": {
     "base_uri": "https://localhost:8080/",
     "height": 143
    },
    "colab_type": "code",
    "id": "QCkrw5VY0xbA",
    "outputId": "de73e295-c3e7-467a-fcdd-caa0e3c68440"
   },
   "outputs": [
    {
     "name": "stdout",
     "output_type": "stream",
     "text": [
      "1.0000000000000002\n",
      "1.0000000000000024\n",
      "1.0000000000000002\n",
      "0.9999999999999999\n",
      "1.0000000000000024\n",
      "0.9999999999999987\n",
      "1.0000000000000047\n"
     ]
    }
   ],
   "source": [
    "\n",
    "u2 = np.zeros(7)\n",
    "for i in range(7):\n",
    "  u2[i] = sum(res_sol3[i])\n",
    "  print(sum(res_sol3[i]))"
   ]
  },
  {
   "cell_type": "markdown",
   "metadata": {
    "colab_type": "text",
    "id": "mmM23AJq0xbD"
   },
   "source": [
    "La solución a la función objetivo para el primer solver es:"
   ]
  },
  {
   "cell_type": "code",
   "execution_count": 32,
   "metadata": {
    "colab": {
     "base_uri": "https://localhost:8080/",
     "height": 143
    },
    "colab_type": "code",
    "id": "KSEQMMLU0xbE",
    "outputId": "558d309a-cfe7-4082-a654-c680081877d8"
   },
   "outputs": [
    {
     "name": "stdout",
     "output_type": "stream",
     "text": [
      "9.397644610398304e-05\n",
      "0.00012574783889287994\n",
      "0.00016502479794085683\n",
      "0.0002118073232479138\n",
      "0.00026609541481405164\n",
      "0.0003278890726392688\n",
      "0.0003971882967235673\n"
     ]
    }
   ],
   "source": [
    "s1 = np.zeros(7)\n",
    "for i in range(7):\n",
    "  s1[i] = res_sol1[i]@S@res_sol1[i]\n",
    "  print(res_sol1[i]@S@res_sol1[i])"
   ]
  },
  {
   "cell_type": "markdown",
   "metadata": {
    "colab_type": "text",
    "id": "7Cmr3lgE0xbI"
   },
   "source": [
    "La solución a la funcióón objetivo para el segundo solver es:"
   ]
  },
  {
   "cell_type": "code",
   "execution_count": 33,
   "metadata": {
    "colab": {
     "base_uri": "https://localhost:8080/",
     "height": 143
    },
    "colab_type": "code",
    "id": "8goDEGdP0xbI",
    "outputId": "c0b5914e-0795-4461-95f6-0c5f40b31e66"
   },
   "outputs": [
    {
     "name": "stdout",
     "output_type": "stream",
     "text": [
      "9.397644610366364e-05\n",
      "0.00012574783889287943\n",
      "0.00016502479794085575\n",
      "0.00021180732324791287\n",
      "0.0002660954148140495\n",
      "0.00032788907263593144\n",
      "0.0003971882967235453\n"
     ]
    }
   ],
   "source": [
    "s2 = np.zeros(7)\n",
    "for i in range(7):\n",
    "  s2[i] = res_sol2[i]@S@res_sol3[i]\n",
    "  print(res_sol2[i]@S@res_sol3[i])"
   ]
  },
  {
   "cell_type": "code",
   "execution_count": null,
   "metadata": {
    "colab": {},
    "colab_type": "code",
    "id": "S9G_acNV0xbM"
   },
   "outputs": [],
   "source": [
    "tabla = pd.DataFrame({'||Dif||': norm2,\n",
    "                     '|Dif|': norm1,\n",
    "                     'w1*mu': mu1,\n",
    "                     'w2*mu': mu2,\n",
    "                     'Sigma1': s1,\n",
    "                     'Sigma2': s2})"
   ]
  },
  {
   "cell_type": "code",
   "execution_count": 35,
   "metadata": {
    "colab": {
     "base_uri": "https://localhost:8080/",
     "height": 266
    },
    "colab_type": "code",
    "id": "Fw9NrDMV0xbP",
    "outputId": "8523c6b6-40c7-4534-c640-5f32a1f5caf0"
   },
   "outputs": [
    {
     "data": {
      "text/html": [
       "<div>\n",
       "<style scoped>\n",
       "    .dataframe tbody tr th:only-of-type {\n",
       "        vertical-align: middle;\n",
       "    }\n",
       "\n",
       "    .dataframe tbody tr th {\n",
       "        vertical-align: top;\n",
       "    }\n",
       "\n",
       "    .dataframe thead th {\n",
       "        text-align: right;\n",
       "    }\n",
       "</style>\n",
       "<table border=\"1\" class=\"dataframe\">\n",
       "  <thead>\n",
       "    <tr style=\"text-align: right;\">\n",
       "      <th></th>\n",
       "      <th>||Dif||</th>\n",
       "      <th>|Dif|</th>\n",
       "      <th>w1*mu</th>\n",
       "      <th>w2*mu</th>\n",
       "      <th>Sigma1</th>\n",
       "      <th>Sigma2</th>\n",
       "    </tr>\n",
       "  </thead>\n",
       "  <tbody>\n",
       "    <tr>\n",
       "      <th>0</th>\n",
       "      <td>1.411129e-11</td>\n",
       "      <td>6.573456e-11</td>\n",
       "      <td>0.4</td>\n",
       "      <td>0.4</td>\n",
       "      <td>0.000094</td>\n",
       "      <td>0.000094</td>\n",
       "    </tr>\n",
       "    <tr>\n",
       "      <th>1</th>\n",
       "      <td>1.622015e-11</td>\n",
       "      <td>7.967338e-11</td>\n",
       "      <td>0.5</td>\n",
       "      <td>0.5</td>\n",
       "      <td>0.000126</td>\n",
       "      <td>0.000126</td>\n",
       "    </tr>\n",
       "    <tr>\n",
       "      <th>2</th>\n",
       "      <td>1.578511e-11</td>\n",
       "      <td>6.933233e-11</td>\n",
       "      <td>0.6</td>\n",
       "      <td>0.6</td>\n",
       "      <td>0.000165</td>\n",
       "      <td>0.000165</td>\n",
       "    </tr>\n",
       "    <tr>\n",
       "      <th>3</th>\n",
       "      <td>2.458990e-11</td>\n",
       "      <td>1.033076e-10</td>\n",
       "      <td>0.7</td>\n",
       "      <td>0.7</td>\n",
       "      <td>0.000212</td>\n",
       "      <td>0.000212</td>\n",
       "    </tr>\n",
       "    <tr>\n",
       "      <th>4</th>\n",
       "      <td>2.322346e-11</td>\n",
       "      <td>9.366459e-11</td>\n",
       "      <td>0.8</td>\n",
       "      <td>0.8</td>\n",
       "      <td>0.000266</td>\n",
       "      <td>0.000266</td>\n",
       "    </tr>\n",
       "    <tr>\n",
       "      <th>5</th>\n",
       "      <td>2.237532e-11</td>\n",
       "      <td>9.864392e-11</td>\n",
       "      <td>0.9</td>\n",
       "      <td>0.9</td>\n",
       "      <td>0.000328</td>\n",
       "      <td>0.000328</td>\n",
       "    </tr>\n",
       "    <tr>\n",
       "      <th>6</th>\n",
       "      <td>2.747350e-11</td>\n",
       "      <td>1.199407e-10</td>\n",
       "      <td>1.0</td>\n",
       "      <td>1.0</td>\n",
       "      <td>0.000397</td>\n",
       "      <td>0.000397</td>\n",
       "    </tr>\n",
       "  </tbody>\n",
       "</table>\n",
       "</div>"
      ],
      "text/plain": [
       "        ||Dif||         |Dif|  w1*mu  w2*mu    Sigma1    Sigma2\n",
       "0  1.411129e-11  6.573456e-11    0.4    0.4  0.000094  0.000094\n",
       "1  1.622015e-11  7.967338e-11    0.5    0.5  0.000126  0.000126\n",
       "2  1.578511e-11  6.933233e-11    0.6    0.6  0.000165  0.000165\n",
       "3  2.458990e-11  1.033076e-10    0.7    0.7  0.000212  0.000212\n",
       "4  2.322346e-11  9.366459e-11    0.8    0.8  0.000266  0.000266\n",
       "5  2.237532e-11  9.864392e-11    0.9    0.9  0.000328  0.000328\n",
       "6  2.747350e-11  1.199407e-10    1.0    1.0  0.000397  0.000397"
      ]
     },
     "execution_count": 35,
     "metadata": {
      "tags": []
     },
     "output_type": "execute_result"
    }
   ],
   "source": [
    "tabla"
   ]
  },
  {
   "cell_type": "markdown",
   "metadata": {},
   "source": [
    "\n",
    "**Soluciones de método de Lagrange ($L$) vs Newton usando diferencias finitas ($N_{df}$)**\n",
    "\n",
    "Ahora mostramos el mismo comparativo, pero ahora entre el modelo con multiplicadores de Lagrange y el algoritmo de Newton usando las expresiones de las derivadas de a través de funciones simbólicas (véase el código de la implementación para mayor detalle):"
   ]
  },
  {
   "cell_type": "code",
   "execution_count": 36,
   "metadata": {
    "colab": {
     "base_uri": "https://localhost:8080/",
     "height": 179
    },
    "colab_type": "code",
    "id": "mwbRN_VA0xbU",
    "outputId": "069df775-7591-44ca-8db7-4730055f9714"
   },
   "outputs": [
    {
     "name": "stdout",
     "output_type": "stream",
     "text": [
      "|    |     ||Dif|| |       |Dif| |   w1*mu |   w2*mu |      Sigma1 |      Sigma2 |\n",
      "|---:|------------:|------------:|--------:|--------:|------------:|------------:|\n",
      "|  0 | 1.41113e-11 | 6.57346e-11 |     0.4 |     0.4 | 9.39764e-05 | 9.39764e-05 |\n",
      "|  1 | 1.62202e-11 | 7.96734e-11 |     0.5 |     0.5 | 0.000125748 | 0.000125748 |\n",
      "|  2 | 1.57851e-11 | 6.93323e-11 |     0.6 |     0.6 | 0.000165025 | 0.000165025 |\n",
      "|  3 | 2.45899e-11 | 1.03308e-10 |     0.7 |     0.7 | 0.000211807 | 0.000211807 |\n",
      "|  4 | 2.32235e-11 | 9.36646e-11 |     0.8 |     0.8 | 0.000266095 | 0.000266095 |\n",
      "|  5 | 2.23753e-11 | 9.86439e-11 |     0.9 |     0.9 | 0.000327889 | 0.000327889 |\n",
      "|  6 | 2.74735e-11 | 1.19941e-10 |     1   |     1   | 0.000397188 | 0.000397188 |\n"
     ]
    }
   ],
   "source": [
    "print(tabla.to_markdown())"
   ]
  },
  {
   "cell_type": "markdown",
   "metadata": {
    "colab": {},
    "colab_type": "code",
    "id": "z8hW7QCm2DOE"
   },
   "source": [
    "\n",
    "\n",
    "Por lo anterior podemos concluir que en las hipótesis de este segundo comparativo:\n",
    "\n",
    "* La diferencia entre las soluciones aumenta conforme aumenta el rendimiento deseado, pero en una magnitud mucho menor que con diferencias finitas.\n",
    "\n",
    "* Ambas soluciones sigen cumpliendo con las restricciones deseadas.\n",
    "\n",
    "* El riesgo con el solver usando los multiplicadores de Lagrange es prácticamente el mismo que el del solver con el método de Newton. \n",
    "\n",
    "* Aparenemtemente, las soluciones estimadas por ambos solvers son muy cercanas.\n",
    "\n",
    "\n",
    "Además, de tales comparativos se puede afirmar que el riesgo con el solver usando los multiplicadores de Lagrange siempre es igual o menor que el del solver con el método de Newton utilizando diferencias finitas y es igual con diferencias simbólicas.\n"
   ]
  }
 ],
 "metadata": {
  "accelerator": "GPU",
  "colab": {
   "collapsed_sections": [],
   "name": "Comparacion_Lagrange_Newton.ipynb",
   "provenance": [],
   "toc_visible": true
  },
  "kernelspec": {
   "display_name": "Python 3",
   "language": "python",
   "name": "python3"
  },
  "language_info": {
   "codemirror_mode": {
    "name": "ipython",
    "version": 3
   },
   "file_extension": ".py",
   "mimetype": "text/x-python",
   "name": "python",
   "nbconvert_exporter": "python",
   "pygments_lexer": "ipython3",
   "version": "3.7.4"
  }
 },
 "nbformat": 4,
 "nbformat_minor": 4
}
