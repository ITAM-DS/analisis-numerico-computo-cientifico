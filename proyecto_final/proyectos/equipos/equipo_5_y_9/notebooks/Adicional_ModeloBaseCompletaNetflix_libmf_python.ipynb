{
 "cells": [
  {
   "cell_type": "code",
   "execution_count": 3,
   "metadata": {},
   "outputs": [
    {
     "name": "stdout",
     "output_type": "stream",
     "text": [
      "Using file found in /home/miuser/.local/lib/python3.6/site-packages:\n",
      "/home/miuser/.local/lib/python3.6/site-packages/libmf.cpython-36m-x86_64-linux-gnu.so\n"
     ]
    }
   ],
   "source": [
    "#importamos librerias y paquetes a usar\n",
    "import os\n",
    "import numpy as np\n",
    "import pandas as pd\n",
    "from libmf import mf"
   ]
  },
  {
   "cell_type": "code",
   "execution_count": 4,
   "metadata": {},
   "outputs": [
    {
     "name": "stdout",
     "output_type": "stream",
     "text": [
      "Defaulting to user installation because normal site-packages is not writeable\n",
      "Requirement already satisfied: libmf in /home/miuser/.local/lib/python3.6/site-packages (0.9.2)\n",
      "Requirement already satisfied: numpy in /home/miuser/.local/lib/python3.6/site-packages (from libmf) (1.18.1)\n",
      "\u001b[33mWARNING: You are using pip version 20.0.2; however, version 20.1.1 is available.\n",
      "You should consider upgrading via the '/usr/bin/python3 -m pip install --upgrade pip' command.\u001b[0m\n",
      "Defaulting to user installation because normal site-packages is not writeable\n",
      "Collecting pytictoc\n",
      "  Downloading pytictoc-1.5.0-py2.py3-none-any.whl (3.1 kB)\n",
      "Installing collected packages: pytictoc\n",
      "Successfully installed pytictoc-1.5.0\n",
      "\u001b[33mWARNING: You are using pip version 20.0.2; however, version 20.1.1 is available.\n",
      "You should consider upgrading via the '/usr/bin/python3 -m pip install --upgrade pip' command.\u001b[0m\n"
     ]
    }
   ],
   "source": [
    "#instalamos tic toc para medir tiempos y hacer perfilamiento\n",
    "import sys\n",
    "!{sys.executable} -m pip install libmf # Se instala libmf porque se borra cada vez que paramos el contenedor de docker\n",
    "!{sys.executable} -m pip install pytictoc # Se instala el paquete de tictoc que sirve para medir el tiempo de ejecución"
   ]
  },
  {
   "cell_type": "code",
   "execution_count": 5,
   "metadata": {},
   "outputs": [],
   "source": [
    "#instaciamos un objeto de la clase tictoc \n",
    "from pytictoc import TicToc\n",
    "t = TicToc() #Create instance of class"
   ]
  },
  {
   "cell_type": "code",
   "execution_count": 31,
   "metadata": {},
   "outputs": [
    {
     "name": "stdout",
     "output_type": "stream",
     "text": [
      "/datos/datasets\n"
     ]
    }
   ],
   "source": [
    "#mostramos el working path\n",
    "!pwd\n",
    "directorio = '/datos/datasets/'\n",
    "os.chdir(directorio)"
   ]
  },
  {
   "cell_type": "code",
   "execution_count": 7,
   "metadata": {},
   "outputs": [
    {
     "name": "stdout",
     "output_type": "stream",
     "text": [
      "Elapsed time is 3.185897 seconds.\n"
     ]
    }
   ],
   "source": [
    "t.tic() #Start timer\n",
    "datos_val = pd.read_csv('/datos/datasets/netflix_test.txt',sep=' ', header = None, names = ['Cust_Id','Movie_Id','Rating'], usecols = [0,1,2])\n",
    "t.toc() #Time elapsed since t.tic()"
   ]
  },
  {
   "cell_type": "code",
   "execution_count": 8,
   "metadata": {},
   "outputs": [
    {
     "name": "stdout",
     "output_type": "stream",
     "text": [
      "Elapsed time is 12.601070 seconds.\n"
     ]
    }
   ],
   "source": [
    "t.tic() #Start timer\n",
    "datos_ent = pd.read_csv('/datos/datasets/netflix_train.txt',sep=' ', header = None, names = ['Cust_Id','Movie_Id','Rating'], usecols = [0,1,2])\n",
    "t.toc() #Time elapsed since t.tic()"
   ]
  },
  {
   "cell_type": "code",
   "execution_count": 35,
   "metadata": {},
   "outputs": [
    {
     "name": "stdout",
     "output_type": "stream",
     "text": [
      "472331\n",
      "17769\n"
     ]
    }
   ],
   "source": [
    "X = np.array(datos_ent)\n",
    "Y = np.array(datos_val)\n",
    "\n",
    "n = np.unique(datos_val['Cust_Id'])\n",
    "n=len(n)\n",
    "print(n) #Imprime el número de usuarios\n",
    "p = np.unique(datos_val['Movie_Id'])\n",
    "p=len(p)\n",
    "print(p) #Imprime el número de películas"
   ]
  },
  {
   "cell_type": "code",
   "execution_count": 36,
   "metadata": {},
   "outputs": [],
   "source": [
    " # #Declaramos las variables del modelo y creamos el objeto engine de predicciones de la siguiente forma:\n",
    "  # (1,2),...,(1,n),(2,3),...,(2,n),...,(n-1,n)\n",
    "  # Args: \n",
    "  #    lambda_p2:   Parámetros de regularización norma-l2 para P\n",
    "  #    lambda_q2:   Parámetros de regularización norma-l2 para Q\n",
    "  #    fun:   Función de pérdida\n",
    "  #    k:     Número de factores latentes\n",
    "  #    eta:   Tasa de aprendizaje\n",
    "  #    nr_iters (t): Número de iteraciones\n",
    "  #    quiet: (Boolean) TRUE en caso de generar output\n",
    "  #Returns:\n",
    "  #    P: Matriz de kxm\n",
    "  #    Q: Matriz de kxn\n",
    "\n",
    "\n",
    "fun = 0 #Función de pérdida usando squared error\n",
    "k   = 2 #Haremos predicciones sobre dos factores latentes o dimensiones. \n",
    "        #Ejemplo: (violencia, comedia). Si modificamos k podemos predecir\n",
    "        #sobre más dimensiones de las peliculas y usuarios\n",
    "\n",
    "eta = 0.1 #Tasa de aprendizaje para descenso en gradiente\n",
    "\n",
    "nr_iters = 10 #Número de iteraciones para descenso en gradiente\n",
    "# Sólo nos interesa el tiempo empleado por lo que hacemos quiet = FALSE\n",
    "\n",
    "engine = mf.MF(fun = fun, k = k, eta = eta, nr_iters = nr_iters, quiet = False, \n",
    "               lambda_p2 = 0, lambda_q2 = 0)"
   ]
  },
  {
   "cell_type": "code",
   "execution_count": 37,
   "metadata": {},
   "outputs": [
    {
     "name": "stdout",
     "output_type": "stream",
     "text": [
      "Tiempo de entrenamiento del modelo\n",
      "Elapsed time is 24.007705 seconds.\n",
      "Tiempo para realizar predicciones\n",
      "Elapsed time is 0.562242 seconds.\n"
     ]
    }
   ],
   "source": [
    "t.tic() #Start timer\n",
    "engine.fit(X)\n",
    "print(\"Tiempo de entrenamiento del modelo\")\n",
    "t.toc() #Time elapsed since t.tic()\n",
    "print(\"Tiempo para realizar predicciones\")\n",
    "t.tic() #Start timer for predictions\n",
    "engine.predict(Y[:,:2])\n",
    "t.toc() #Time elapsed since t.tic()"
   ]
  },
  {
   "cell_type": "code",
   "execution_count": null,
   "metadata": {},
   "outputs": [],
   "source": []
  }
 ],
 "metadata": {
  "kernelspec": {
   "display_name": "Python 3",
   "language": "python",
   "name": "python3"
  },
  "language_info": {
   "codemirror_mode": {
    "name": "ipython",
    "version": 3
   },
   "file_extension": ".py",
   "mimetype": "text/x-python",
   "name": "python",
   "nbconvert_exporter": "python",
   "pygments_lexer": "ipython3",
   "version": "3.6.9"
  }
 },
 "nbformat": 4,
 "nbformat_minor": 4
}
