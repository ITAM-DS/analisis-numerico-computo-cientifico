{
 "cells": [
  {
   "cell_type": "markdown",
   "metadata": {},
   "source": [
    "(PTDN)="
   ]
  },
  {
   "cell_type": "markdown",
   "metadata": {},
   "source": [
    "# 1.6 Polinomios de Taylor y diferenciación numérica"
   ]
  },
  {
   "cell_type": "markdown",
   "metadata": {},
   "source": [
    "```{admonition} Notas para contenedor de docker:\n",
    "\n",
    "Comando de docker para ejecución de la nota de forma local:\n",
    "\n",
    "nota: cambiar `<ruta a mi directorio>` por la ruta de directorio que se desea mapear a `/datos` dentro del contenedor de docker.\n",
    "\n",
    "`docker run --rm -v <ruta a mi directorio>:/datos --name jupyterlab_optimizacion -p 8888:8888 -d palmoreck/jupyterlab_optimizacion:2.1.4`\n",
    "\n",
    "password para jupyterlab: `qwerty`\n",
    "\n",
    "Detener el contenedor de docker:\n",
    "\n",
    "`docker stop jupyterlab_optimizacion`\n",
    "\n",
    "Documentación de la imagen de docker `palmoreck/jupyterlab_optimizacion:2.1.4` en [liga](https://github.com/palmoreck/dockerfiles/tree/master/jupyterlab/optimizacion).\n",
    "\n",
    "```"
   ]
  },
  {
   "cell_type": "markdown",
   "metadata": {},
   "source": [
    "---"
   ]
  },
  {
   "cell_type": "markdown",
   "metadata": {},
   "source": [
    "Nota generada a partir de la [liga1](https://www.dropbox.com/s/jfrxanjls8kndjp/Diferenciacion_e_Integracion.pdf?dl=0), [liga2](https://www.dropbox.com/s/mmd1uzvwhdwsyiu/4.3.2.Teoria_de_convexidad_Funciones_convexas.pdf?dl=0) e inicio de [liga3](https://www.dropbox.com/s/ko86cce1olbtsbk/4.3.1.Teoria_de_convexidad_Conjuntos_convexos.pdf?dl=0)."
   ]
  },
  {
   "cell_type": "markdown",
   "metadata": {},
   "source": [
    "```{admonition} Al final de esta nota el y la lectora:\n",
    ":class: tip\n",
    "\n",
    "* Aprenderá que el método de diferenciación finita es un método inestable numéricamente respecto al redondeo.\n",
    "\n",
    "* Conocerá las expresiones de los polinomios de Taylor para funciones de varias variables.\n",
    "\n",
    "* Tendrá en su lista de programas del lenguaje *R* implementaciones para aproximar al gradiente y a la Hessiana de una función con los métodos de diferenciación finita.\n",
    "\n",
    "```"
   ]
  },
  {
   "cell_type": "markdown",
   "metadata": {},
   "source": [
    "## Problema: ¿Cómo aproximar una función $f$ en un punto $x_1$?"
   ]
  },
  {
   "cell_type": "markdown",
   "metadata": {},
   "source": [
    "Si $f$ es continuamente diferenciable en $x_0$ y $f^{(1)}, f^{(2)}$ existen y están acotadas en $x_0$ entonces:\n",
    "\n",
    "$$f(x_1) \\approx f(x_0) + f^{(1)}(x_0)(x_1-x_0)$$"
   ]
  },
  {
   "cell_type": "markdown",
   "metadata": {},
   "source": [
    "y se nombra **aproximación de orden 1**. Ver {ref}`Definición de función, continuidad y derivada <FCD>` para definición de continuidad, diferenciabilidad y propiedades."
   ]
  },
  {
   "cell_type": "markdown",
   "metadata": {},
   "source": [
    "```{admonition} Comentarios\n",
    "\n",
    "* Lo anterior requiere de los valores: $x_0, x_1, f(x_0), f^{(1)}(x_0)$. Esta aproximación tiene un error de **orden** $2$ pues su error es **proporcional** al cuadrado del ancho del intervalo: $h=x_1-x_0$, esto es, si reducimos a la mitad $h$ entonces el error se reduce en una cuarta parte.\n",
    "\n",
    "* Otra aproximación más simple sería:\n",
    "\n",
    "$$f(x_1) \\approx f(x_0)$$\n",
    "\n",
    "lo cual sólo requiere del conocimiento de $f(x_0)$ y se nombra aproximación de **orden** $0$, sin embargo esta aproximación tiene un error de **orden** $1$ pues este es proporcional a $h$ , esto es, al reducir a la mitad $h$ se reduce a la mitad el error.\n",
    "\n",
    "* Los errores anteriores los nombramos errores por **truncamiento**, ver {ref}`Fuentes del error <FuenErr>` y {ref}`Análisis del error <AnErr>` para un recordatorio de tal error. Utilizamos la notación \"O grande\" $\\mathcal{O}(\\cdot)$ para escribir lo anterior:\n",
    "\n",
    "$$f(x)-f(x_0)=\\mathcal{O}(h)$$\n",
    "\n",
    "con la variable $h=x-x_0$. En este caso se representa a un error de orden $1$. Análogamente:\n",
    "\n",
    "$$f(x)-(f(x_0)+f^{(1)}(x_0)(x-x_0)) = \\mathcal{O}(h^2)$$\n",
    "\n",
    "y se representa un error de orden $2$.\n",
    "\n",
    "```"
   ]
  },
  {
   "cell_type": "markdown",
   "metadata": {},
   "source": [
    "```{admonition} Observaciones\n",
    ":class: tip\n",
    "\n",
    "* No confundir órdenes de  una aproximación con órdenes de error.\n",
    "\n",
    "* Otras aproximaciones a una función se pueden realizar con:\n",
    "\n",
    "    * Interpoladores polinomiales (representación por Vandermonde, Newton, Lagrange).\n",
    "```"
   ]
  },
  {
   "cell_type": "markdown",
   "metadata": {},
   "source": [
    "## Aproximación a una función por el teorema de Taylor"
   ]
  },
  {
   "cell_type": "markdown",
   "metadata": {},
   "source": [
    "En esta sección se presenta el teorema de Taylor, el cual, bajo ciertas hipótesis nos proporciona una expansión de una función alrededor de un punto. Este teorema será utilizado en **diferenciación e integración numérica**. El teorema es el siguiente:"
   ]
  },
  {
   "cell_type": "markdown",
   "metadata": {},
   "source": [
    "```{admonition} Teorema de Taylor\n",
    "\n",
    "Sea $f: \\mathbb{R} \\rightarrow \\mathbb{R}$, $f \\in \\mathcal{C}^n([a,b])$ tal que $f^{(n+1)}$ existe en [a,b]. Si $x_0 \\in [a,b]$ entonces $\\forall x \\in [a,b]$ se tiene: $f(x) = P_n(x) + R_n(x)$ donde: \n",
    "\n",
    "$$P_n(x) = \\displaystyle \\sum_{k=0}^n \\frac{f^{(k)}(x_0)(x-x_0)^k}{k!} \\quad (f^{(0)} = f)$$ y\n",
    "\n",
    "$$R_n(x) = \\frac{f^{(n+1)}(\\xi_x)(x-x_0)^{(n+1)}}{(n+1)!}$$ \n",
    "\n",
    "con $\\xi_x$ entre $x_0, x$ y $x_0$ se llama centro. Ver {ref}`Definición de función, continuidad y derivada <FCD>` para definición del conjunto $\\mathcal{C}^n([a,b])$.\n",
    "\n",
    "```"
   ]
  },
  {
   "cell_type": "markdown",
   "metadata": {},
   "source": [
    "- El residual nos puede ayudar a acotar el error asociado a la aproximación del polinomio del Taylor.\n",
    "- Con el residual podemos saber cuál es el error máximo que podríamos tener aproximando una función con polinomios de Taylor en un rango específico."
   ]
  },
  {
   "cell_type": "markdown",
   "metadata": {},
   "source": [
    "```{admonition} Comentarios\n",
    "\n",
    "* El teorema de Taylor nos indica que cualquier función suave (función en $\\mathcal{C}^n)$ se le puede aproximar por un polinomio en el intervalo $[a,b]$, de hecho $f(x) \\approx P_n(x)$. \n",
    "\n",
    "* Si el residuo no tiene una alta contribución a la suma $P_n(x) + R_n(x)$ entonces es una buena aproximación **local** (alta contribución y buena aproximación depende de factores como elección de la norma y la aplicación).\n",
    "\n",
    "* El teorema de Taylor es una generalización del [teorema del valor medio para derivadas](https://en.wikipedia.org/wiki/Mean_value_theorem).\n",
    "\n",
    "* $P_n(x)$ se le llama polinomio de Taylor alrededor de $x_0$ de orden $n$ y $R_n(x)$ es llamado residuo de Taylor alrededor de $x_0$ de orden $n+1$, tiene otras expresiones para representarlo y la que se utiliza en el enunciado anterior es en su forma de Lagrange (ver [liga](https://en.wikipedia.org/wiki/Taylor%27s_theorem) para otras expresiones del residuo).\n",
    "\n",
    "* $\\xi_x$ es un punto entre $x_0, x$ desconocido y está en función de $x$ (por eso se le escribe un subíndice).\n",
    "\n",
    "* Una forma del teorema de Taylor es escribirlo definiendo a la variable $h=x-x_0$:\n",
    "\n",
    "$$f(x) = f(x_0+h) = P_n(h) + R_n(h) = \\displaystyle \\sum_{k=0}^n \\frac{f^{(k)}(x_0)h^k}{k!} + \\frac{f^{(n+1)}(\\xi_h)h^{n+1}}{(n+1)!}$$\n",
    "\n",
    "y si $f^{(n+1)}$ es acotada, escribimos: $R_n(h) = \\mathcal{O}(h^{n+1})$.\n",
    "```"
   ]
  },
  {
   "cell_type": "markdown",
   "metadata": {},
   "source": [
    "### Ejemplo"
   ]
  },
  {
   "cell_type": "markdown",
   "metadata": {},
   "source": [
    "Graficar la función y los polinomios de Taylor de grados $0,1,2,3$ y $4$ en una sola gráfica para el intervalo $[1,2]$ de la función $\\frac{1}{x}$ con centro en $x_0=1.5$. ¿Cuánto es la aproximación de los polinomios en x=1.9?. Calcula el error relativo de tus aproximaciones."
   ]
  },
  {
   "cell_type": "markdown",
   "metadata": {},
   "source": [
    "**Solución**"
   ]
  },
  {
   "cell_type": "markdown",
   "metadata": {},
   "source": [
    "Obtengamos los polinomios de Taylor de orden $n$ con $n \\in \\{0,1,2, 3\\}$ y centro en $x_0=1.5$ para la función $\\frac{1}{x}$ en el intervalo $[1,2]$. Los primeros tres polinomios de Taylor son: "
   ]
  },
  {
   "cell_type": "markdown",
   "metadata": {},
   "source": [
    "$$P_0(x) = f(x_0) = \\frac{2}{3} \\quad \\text{(constante)}$$"
   ]
  },
  {
   "cell_type": "markdown",
   "metadata": {},
   "source": [
    "$$P_1(x) = f(x_0) + f^{(1)}(x_0)(x-x_0) = \\frac{2}{3} - \\frac{1}{x_0^2}(x-x_0) =\\frac{2}{3} - \\frac{1}{1.5^2}(x-1.5) \\quad \\text{(lineal)}$$"
   ]
  },
  {
   "cell_type": "markdown",
   "metadata": {},
   "source": [
    "$$\n",
    "\\begin{eqnarray}\n",
    "P_2(x) &=& f(x_0) + f^{(1)}(x_0)(x-x_0) + \\frac{f^{(2)}(x_0)(x-x_0)^2}{2} \\nonumber \\\\\n",
    "&=& \\frac{2}{3} - \\frac{1}{x_0^2}(x-x_0) + \\frac{1}{x_0^3}(x-x_0)^2 \\nonumber \\\\\n",
    "&=& \\frac{2}{3} -\\frac{1}{1.5^2}(x-1.5) + \\frac{1}{1.5^3}(x-1.5)^2 \\quad \\text{(cuadrático)} \\nonumber\n",
    "\\end{eqnarray}\n",
    "$$"
   ]
  },
  {
   "cell_type": "code",
   "execution_count": 6,
   "metadata": {
    "ExecuteTime": {
     "end_time": "2020-09-23T23:07:40.317061Z",
     "start_time": "2020-09-23T23:07:40.304Z"
    }
   },
   "outputs": [],
   "source": [
    "library(ggplot2)"
   ]
  },
  {
   "cell_type": "code",
   "execution_count": 7,
   "metadata": {
    "ExecuteTime": {
     "end_time": "2020-09-23T23:07:40.329738Z",
     "start_time": "2020-09-23T23:07:40.307Z"
    }
   },
   "outputs": [],
   "source": [
    "options(repr.plot.width=6, repr.plot.height=6) #esta línea sólo se ejecuta para jupyterlab con R"
   ]
  },
  {
   "cell_type": "code",
   "execution_count": 8,
   "metadata": {
    "ExecuteTime": {
     "end_time": "2020-09-23T23:07:40.343098Z",
     "start_time": "2020-09-23T23:07:40.309Z"
    }
   },
   "outputs": [],
   "source": [
    "Taylor_approx <- function(x,c,n){\n",
    "    '\n",
    "    Taylor approximation for 1/x function. Will return Taylor polynomial of degree n with\n",
    "    center in c and evaluated in x.\n",
    "    Args:\n",
    "        x (double): numeric vector or scalar in which Taylor polynomial will be evaluated. \n",
    "        c (double): scalar which represents center of Taylor polynomial of degree n.\n",
    "        n (integer): scalar which represents degree of Taylor polynomial. \n",
    "    Returns:\n",
    "        sum (double): scalar evaluation of Taylor polynomial of degree n with center c in x.\n",
    "    '\n",
    "    length_x <- length(x)\n",
    "    sum <- vector(\"double\", length_x)\n",
    "    for(j in 1:length_x){\n",
    "        mult <- c^(-1)\n",
    "        sum[j] <- mult\n",
    "        for(k in 1:n){\n",
    "            mult <- -1*c^(-1)*(x[j]-c)*mult\n",
    "            sum[j] <- sum[j] + mult\n",
    "            }\n",
    "    }\n",
    "    sum #accumulated sum\n",
    "}"
   ]
  },
  {
   "cell_type": "code",
   "execution_count": 9,
   "metadata": {
    "ExecuteTime": {
     "end_time": "2020-09-23T23:07:40.379248Z",
     "start_time": "2020-09-23T23:07:40.311Z"
    }
   },
   "outputs": [],
   "source": [
    "x0 <- 1.5\n",
    "x <- seq(from=1,to=2,by=.005)\n",
    "n <- c(0,1,2,3,4) #degrees of Taylor polynomials\n",
    "f <- function(z)1/z\n",
    "y <- f(x)\n",
    "y_Taylor_0 <- f(x0)*(vector(\"double\", length(x))+1)\n",
    "y_Taylor_1 <- Taylor_approx(x,x0,1)\n",
    "y_Taylor_2 <- Taylor_approx(x,x0,2)\n",
    "y_Taylor_3 <- Taylor_approx(x,x0,3)\n",
    "y_Taylor_4 <- Taylor_approx(x,x0,4)"
   ]
  },
  {
   "cell_type": "code",
   "execution_count": 10,
   "metadata": {
    "ExecuteTime": {
     "end_time": "2020-09-23T23:07:40.389701Z",
     "start_time": "2020-09-23T23:07:40.314Z"
    }
   },
   "outputs": [],
   "source": [
    "gg <- ggplot()"
   ]
  },
  {
   "cell_type": "code",
   "execution_count": 11,
   "metadata": {
    "ExecuteTime": {
     "end_time": "2020-09-23T23:07:40.827168Z",
     "start_time": "2020-09-23T23:07:40.317Z"
    }
   },
   "outputs": [
    {
     "data": {
      "image/png": "[encoded data removed]",
      "text/plain": [
       "plot without title"
      ]
     },
     "metadata": {
      "image/png": {
       "height": 360,
       "width": 360
      },
      "text/plain": {
       "height": 360,
       "width": 360
      }
     },
     "output_type": "display_data"
    }
   ],
   "source": [
    "print(gg+\n",
    "geom_line(aes(x=x,y=y,color='f(x)')) + \n",
    "geom_line(aes(x=x,y=y_Taylor_0,color='constante'))+\n",
    "geom_line(aes(x=x,y=y_Taylor_1,color='lineal')) + \n",
    "geom_line(aes(x=x,y=y_Taylor_2,color='grado 2')) + \n",
    "geom_line(aes(x=x,y=y_Taylor_3,color='grado 3')) +\n",
    "geom_line(aes(x=x,y=y_Taylor_4,color='grado 4')) + \n",
    "geom_point(aes(x=x0, y=f(x0)), color='blue',size=3))"
   ]
  },
  {
   "cell_type": "markdown",
   "metadata": {},
   "source": [
    "```{admonition} Observación\n",
    ":class: tip\n",
    "\n",
    "Para cualquier aproximación calculada siempre es una muy buena idea reportar el error relativo de la aproximación si tenemos el valor del objetivo. No olvidar esto :)\n",
    "\n",
    "```"
   ]
  },
  {
   "cell_type": "code",
   "execution_count": 12,
   "metadata": {
    "ExecuteTime": {
     "end_time": "2020-09-23T23:09:32.178130Z",
     "start_time": "2020-09-23T23:09:32.165Z"
    }
   },
   "outputs": [],
   "source": [
    "compute_error_point_wise<-function(obj, approx){\n",
    "    '\n",
    "    Relative or absolute error between approx and obj in a point wise fashion.\n",
    "    \n",
    "    '\n",
    "    if (abs(obj) > .Machine$double.eps){\n",
    "        Err<-abs(obj-approx)/abs(obj)\n",
    "    }else\n",
    "        Err<-abs(obj-approx)\n",
    "    Err\n",
    "}"
   ]
  },
  {
   "cell_type": "code",
   "execution_count": 13,
   "metadata": {
    "ExecuteTime": {
     "end_time": "2020-09-23T23:09:32.675845Z",
     "start_time": "2020-09-23T23:09:32.628Z"
    }
   },
   "outputs": [
    {
     "name": "stdout",
     "output_type": "stream",
     "text": [
      "[1] \"error relativo polinomio constante\"\n",
      "[1] 0.2666667\n",
      "[1] \"error relativo polinomio lineal\"\n",
      "[1] 0.07111111\n",
      "[1] \"error relativo polinomio grado 2\"\n",
      "[1] 0.01896296\n",
      "[1] \"error relativo polinomio grado 3\"\n",
      "[1] 0.00505679\n",
      "[1] \"error relativo polinomio grado 4\"\n",
      "[1] 0.001348477\n"
     ]
    }
   ],
   "source": [
    "x_test_point <- 1.9\n",
    "objective <- f(x_test_point)\n",
    "#Approximations\n",
    "p1_approx <- Taylor_approx(x_test_point, x0, 1)\n",
    "p2_approx <- Taylor_approx(x_test_point, x0, 2)\n",
    "p3_approx <- Taylor_approx(x_test_point, x0, 3)\n",
    "p4_approx <- Taylor_approx(x_test_point, x0, 4)\n",
    "\n",
    "print('error relativo polinomio constante')\n",
    "print(compute_error_point_wise(objective, 1/x0))\n",
    "print('error relativo polinomio lineal')\n",
    "print(compute_error_point_wise(objective, p1_approx))\n",
    "print('error relativo polinomio grado 2')\n",
    "print(compute_error_point_wise(objective, p2_approx))\n",
    "print('error relativo polinomio grado 3')\n",
    "print(compute_error_point_wise(objective, p3_approx))\n",
    "print('error relativo polinomio grado 4')\n",
    "print(compute_error_point_wise(objective, p4_approx))"
   ]
  },
  {
   "cell_type": "markdown",
   "metadata": {},
   "source": [
    "```{admonition} Ejercicio\n",
    ":class: tip\n",
    "\n",
    "Aproximar $f(1)$ con polinomios de Taylor de orden $0,1,2,3,4$ si $f(x)=-0.1x^4-0.15x^3-0.5x^2-0.25x+1.2$ con centro en $x0=0$. Calcula los errores relativos de tus aproximaciones. Realiza las gráficas de cada polinomio en el intervalo $[0,1]$ con `ggplot2`. Observa que $R_5(x)$ es cero.\n",
    "```"
   ]
  },
  {
   "cell_type": "markdown",
   "metadata": {},
   "source": [
    "(TEOTAYLORNVARIABLES)="
   ]
  },
  {
   "cell_type": "markdown",
   "metadata": {},
   "source": [
    "## Teorema de Taylor para una función $f: \\mathbb{R}^n \\rightarrow \\mathbb{R}$"
   ]
  },
  {
   "cell_type": "markdown",
   "metadata": {},
   "source": [
    "Sea $f: \\mathbb{R}^n \\rightarrow \\mathbb{R}$ diferenciable en $\\text{dom}f$. Si $x_0, x \\in \\text{dom}f$ y $x_0+t(x-x_0) \\in \\text{dom}f, \\forall t \\in (0,1),$  entonces $\\forall x \\in \\text{dom}f$ se tiene $f(x) = P_0(x) + R_0(x)$ donde:\n",
    "\n",
    "$$P_0(x) = f(x_0)$$"
   ]
  },
  {
   "cell_type": "markdown",
   "metadata": {},
   "source": [
    "$$R_0(x) = \\nabla f(x_0+t_x(x-x_0))^T(x-x_0)$$"
   ]
  },
  {
   "cell_type": "markdown",
   "metadata": {},
   "source": [
    "para alguna $t_x \\in (0,1)$ y $\\nabla f(\\cdot)$ gradiente de $f$, ver {ref}`Definición de función, continuidad y derivada <FCD>` para definición del gradiente de una función."
   ]
  },
  {
   "cell_type": "markdown",
   "metadata": {},
   "source": [
    "```{admonition} Observación\n",
    ":class: tip\n",
    "\n",
    "La aproximación anterior la nombramos **aproximación de orden $0$** para $f$ con centro en $x_0$. Si $\\nabla f(\\cdot)$ es acotado en $\\text{dom}f$ entonces se escribe: $R_0(x)=\\mathcal{O}(||x-x_0||)$.\n",
    "```"
   ]
  },
  {
   "cell_type": "markdown",
   "metadata": {},
   "source": [
    "Si además $f$ es continuamente diferenciable en $\\text{dom}f$(su derivada es continua, ver {ref}`Definición de función, continuidad y derivada <FCD>` para definición de continuidad), $f^{(2)}$ existe en $\\text{dom}f$, se tiene $f(x) = P_1(x) + R_1(x)$ donde:\n",
    "\n",
    "$$P_1(x) = f(x_0) + \\nabla f(x_0)^T(x-x_0)$$"
   ]
  },
  {
   "cell_type": "markdown",
   "metadata": {},
   "source": [
    "$$R_1(x) = \\frac{1}{2}(x-x_0)^T \\nabla ^2f(x_0+t_x(x-x_0))(x-x_0)$$"
   ]
  },
  {
   "cell_type": "markdown",
   "metadata": {},
   "source": [
    "para alguna $t_x \\in (0,1)$ y $\\nabla^2 f(\\cdot)$ Hessiana de $f$ (ver {ref}`Definición de función, continuidad y derivada <FCD>` para definición de la matriz Hessiana). "
   ]
  },
  {
   "cell_type": "markdown",
   "metadata": {},
   "source": [
    "```{admonition} Observación\n",
    ":class: tip\n",
    "\n",
    "La aproximación anterior la nombramos **aproximación de orden $1$** para $f$ con centro en $x_0$. Si $\\nabla^2f(\\cdot)$ es acotada en $\\text{dom}f$ entonces se escribe: $R_1(x) = \\mathcal{O}(||x-x_0||^2)$.\n",
    "```"
   ]
  },
  {
   "cell_type": "markdown",
   "metadata": {},
   "source": [
    "Si $f^{(2)}$ es continuamente diferenciable y $f^{(3)}$ existe y es acotada en $\\text{dom}f$, se tiene $f(x)=P_2(x) + R_2(x)$ donde:\n",
    "\n",
    "$$P_2(x) = f(x_0) + \\nabla f(x_0)^T(x-x_0) + \\frac{1}{2}(x-x_0)^T \\nabla ^2f(x_0)(x-x_0)$$"
   ]
  },
  {
   "cell_type": "markdown",
   "metadata": {},
   "source": [
    "```{admonition} Observación\n",
    ":class: tip\n",
    "\n",
    "* La aproximación anterior la nombramos **aproximación de orden $2$** para $f$ con centro en $x_0$. Para las suposiciones establecidas se tiene:\n",
    "\n",
    "$$R_2(x)= \\mathcal{O}(||x-x_0||^3).$$\n",
    "\n",
    "* En este caso $f^{(3)}$ es un tensor.\n",
    "\n",
    "```"
   ]
  },
  {
   "cell_type": "markdown",
   "metadata": {},
   "source": [
    "```{admonition} Comentario\n",
    "\n",
    "Tomando $h=x-x_0$, se reescribe el teorema como sigue, por ejemplo para la aproximación de orden $1$ incluyendo su residuo:\n",
    "\n",
    "$$f(x) = f(x_0 + h) = \\underbrace{f(x_0) + \\nabla f(x_0)^Th}_{\\textstyle P_1(h)} + \\underbrace{\\frac{1}{2}h^T \\nabla ^2f(x_0+t_xh)h}_{\\textstyle R_1(h)}.$$\n",
    "\n",
    "Si $f^{(2)}$ es acotada en $\\text{dom}f$, escribimos: $R_1(h)=\\mathcal{O}(||h||^2)$.\n",
    "```"
   ]
  },
  {
   "cell_type": "markdown",
   "metadata": {},
   "source": [
    "## Diferenciación numérica por diferencias finitas"
   ]
  },
  {
   "cell_type": "markdown",
   "metadata": {},
   "source": [
    "- Los polinomios de Taylor nos permiten ter fórmulas que podemos derivar"
   ]
  },
  {
   "cell_type": "markdown",
   "metadata": {},
   "source": [
    "```{admonition} Comentario\n",
    "\n",
    "En esta sección se revisan métodos numéricos para aproximar las derivadas. Otros métodos para el cálculo de las derivadas se realizan con el cómputo simbólico o algebraico, ver {ref}` Definición de función, continuidad y derivada <FCD>` para ejemplos.\n",
    "\n",
    "```"
   ]
  },
  {
   "cell_type": "markdown",
   "metadata": {},
   "source": [
    "Las fórmulas de aproximación a las derivadas por diferencias finitas pueden obtenerse con los polinomios de Taylor, presentes en el teorema del mismo autor, por ejemplo:"
   ]
  },
  {
   "cell_type": "markdown",
   "metadata": {},
   "source": [
    "Sea $f \\in \\mathcal{C}^1([a,b])$ y $f^{(2)}$ existe y está acotada $\\forall x \\in [a,b]$ entonces, si $x+h \\in [a,b]$ con $h>0$ por el teorema de Taylor:\n",
    "\n",
    "$$f(x+h) = f(x) + f^{(1)}(x)h + f^{(2)}(\\xi_{x+h})\\frac{h^2}{2}$$ con $\\xi_{x+h} \\in [x,x+h]$ y al despejar $f^{(1)}(x)$ se tiene: "
   ]
  },
  {
   "cell_type": "markdown",
   "metadata": {},
   "source": [
    "$$f^{(1)}(x) = \\frac{f(x+h)-f(x)}{h} - f^{(2)}(\\xi_{x+h})\\frac{h}{2}.$$"
   ]
  },
  {
   "cell_type": "markdown",
   "metadata": {},
   "source": [
    "y escribimos:\n",
    "\n",
    "$$f^{(1)}(x) = \\frac{f(x+h)-f(x)}{h} + \\mathcal{O}(h).$$\n",
    "\n",
    "La aproximación $\\frac{f(x+h)-f(x)}{h}$ es una fórmula por diferencias hacia delante con error de orden $1$. Gráficamente se tiene:\n"
   ]
  },
  {
   "cell_type": "markdown",
   "metadata": {},
   "source": [
    "<img src=\"https://dl.dropboxusercontent.com/s/r1ypkxkwa9g3pmk/dif_hacia_delante.png?dl=0\" heigth=\"500\" width=\"500\">"
   ]
  },
  {
   "cell_type": "markdown",
   "metadata": {},
   "source": [
    "Con las mismas suposiciones es posible obtener la fórmula para la aproximación por diferencias hacia atrás:\n",
    "\n",
    "$$f^{(1)}(x) = \\frac{f(x)-f(x-h)}{h} + \\mathcal{O}(h), h >0.$$\n"
   ]
  },
  {
   "cell_type": "markdown",
   "metadata": {},
   "source": [
    "<img src=\"https://dl.dropboxusercontent.com/s/mxmc8kohurlu9sp/dif_hacia_atras.png?dl=0\" heigth=\"500\" width=\"500\">"
   ]
  },
  {
   "cell_type": "markdown",
   "metadata": {},
   "source": [
    "Considerando $f \\in \\mathcal{C}^2([a,b]), f^{(3)}$ existe y está acotada $\\forall x \\in [a,b]$ si $x-h, x+h \\in [a,b]$ y $h>0$ entonces:\n",
    "\n",
    "$$f^{(1)}(x) = \\frac{f(x+h)-f(x-h)}{2h} + \\mathcal{O}(h^2), h >0.$$\n",
    "\n",
    "y el cociente $\\frac{f(x+h)-f(x-h)}{2h}$ es la aproximación por diferencias centradas con error de orden $2$. Gráficamente:\n"
   ]
  },
  {
   "cell_type": "markdown",
   "metadata": {},
   "source": [
    "<img src=\"https://dl.dropboxusercontent.com/s/jwi0y1t5z58pydz/dif_centradas.png?dl=0\" heigth=\"500\" width=\"500\">"
   ]
  },
  {
   "cell_type": "markdown",
   "metadata": {},
   "source": [
    "```{admonition} Observaciones\n",
    ":class: tip\n",
    "\n",
    "* La aproximación por diferencias finitas a la primer derivada de la función tiene un error de orden $\\mathcal{O}(h)$ por lo que una elección de $h$ igual a $.1 = 10^{-1}$ generará aproximaciones con alrededor de un dígito correcto.\n",
    "\n",
    "* La diferenciación numérica por diferencias finitas **no es un proceso con una alta exactitud** pues los problemas del redondeo de la aritmética en la máquina se hacen presentes en el mismo (ver nota {ref}`Sistema de punto flotante <SPF>`). Como ejemplo de esta situación realicemos el siguiente ejemplo.\n",
    "\n",
    "```"
   ]
  },
  {
   "cell_type": "markdown",
   "metadata": {},
   "source": [
    "### Ejemplo"
   ]
  },
  {
   "cell_type": "markdown",
   "metadata": {},
   "source": [
    "Realizar una gráfica de log(error relativo) vs log(h) (h en el eje horizontal) para aproximar la primera derivada de $f(x)=e^{-x}$ en $x=1$ con $h \\in \\{10^{-16}, 10^{-14}, \\dots , 10^{-1}\\}$ y diferencias hacia delante. Valor a aproximar: $f^{(1)}(1) = -e^{-1}$."
   ]
  },
  {
   "cell_type": "markdown",
   "metadata": {},
   "source": [
    "**Definimos la función**"
   ]
  },
  {
   "cell_type": "code",
   "execution_count": 14,
   "metadata": {
    "ExecuteTime": {
     "end_time": "2020-09-24T00:26:42.128461Z",
     "start_time": "2020-09-24T00:26:42.102Z"
    }
   },
   "outputs": [],
   "source": [
    "f <- function(x){\n",
    "     exp(-x)\n",
    "     }"
   ]
  },
  {
   "cell_type": "markdown",
   "metadata": {},
   "source": [
    "**Definimos la aproximación numérica por diferencias finitas a la primera derivada**"
   ]
  },
  {
   "cell_type": "code",
   "execution_count": 15,
   "metadata": {
    "ExecuteTime": {
     "end_time": "2020-09-24T00:26:53.172503Z",
     "start_time": "2020-09-24T00:26:53.159Z"
    }
   },
   "outputs": [],
   "source": [
    "approx_first_derivative <- function(f, x, h){    \n",
    "    '\n",
    "    Numerical differentiation by finite differences. Uses forward point formula\n",
    "    to approximate first derivative of function.\n",
    "    Args:\n",
    "        f (function): function definition.\n",
    "        x (float): point where first derivative will be approximated\n",
    "        h (float): step size for forward differences. Tipically less than 1\n",
    "    Returns:\n",
    "        res (float): approximation to first_derivative.\n",
    "    '\n",
    "    res <- (f(x+h)-f(x))/h\n",
    "    res\n",
    "    }"
   ]
  },
  {
   "cell_type": "markdown",
   "metadata": {},
   "source": [
    "**Puntos donde se evaluará la aproximación:**"
   ]
  },
  {
   "cell_type": "code",
   "execution_count": 16,
   "metadata": {
    "ExecuteTime": {
     "end_time": "2020-09-24T00:27:02.311746Z",
     "start_time": "2020-09-24T00:27:02.293Z"
    }
   },
   "outputs": [],
   "source": [
    "x<-1\n",
    "\n",
    "h<-10^(-1*(1:16))"
   ]
  },
  {
   "cell_type": "markdown",
   "metadata": {},
   "source": [
    "**Aproximación numérica:**"
   ]
  },
  {
   "cell_type": "code",
   "execution_count": 18,
   "metadata": {
    "ExecuteTime": {
     "end_time": "2020-09-24T00:27:24.582036Z",
     "start_time": "2020-09-24T00:27:24.569Z"
    }
   },
   "outputs": [],
   "source": [
    "approx_df <- approx_first_derivative(f,x,h)"
   ]
  },
  {
   "cell_type": "markdown",
   "metadata": {},
   "source": [
    "**Derivada de la función:**"
   ]
  },
  {
   "cell_type": "code",
   "execution_count": 19,
   "metadata": {
    "ExecuteTime": {
     "end_time": "2020-09-24T00:27:26.379155Z",
     "start_time": "2020-09-24T00:27:26.367Z"
    }
   },
   "outputs": [],
   "source": [
    "df<-function(x){\n",
    "    -exp(-x)\n",
    "}"
   ]
  },
  {
   "cell_type": "code",
   "execution_count": 20,
   "metadata": {
    "ExecuteTime": {
     "end_time": "2020-09-24T00:27:40.471746Z",
     "start_time": "2020-09-24T00:27:40.461Z"
    }
   },
   "outputs": [],
   "source": [
    "obj_df <- df(x)"
   ]
  },
  {
   "cell_type": "markdown",
   "metadata": {},
   "source": [
    "**Cálculo de errores:**"
   ]
  },
  {
   "cell_type": "code",
   "execution_count": 21,
   "metadata": {
    "ExecuteTime": {
     "end_time": "2020-09-24T00:27:57.199319Z",
     "start_time": "2020-09-24T00:27:57.188Z"
    }
   },
   "outputs": [],
   "source": [
    "res_relative_error <- compute_error_point_wise(obj_df, approx_df)"
   ]
  },
  {
   "cell_type": "markdown",
   "metadata": {},
   "source": [
    "**Gráfica:**"
   ]
  },
  {
   "cell_type": "code",
   "execution_count": 22,
   "metadata": {
    "ExecuteTime": {
     "end_time": "2020-09-24T00:28:04.441982Z",
     "start_time": "2020-09-24T00:28:04.430Z"
    }
   },
   "outputs": [],
   "source": [
    "gf <- ggplot()"
   ]
  },
  {
   "cell_type": "code",
   "execution_count": 23,
   "metadata": {
    "ExecuteTime": {
     "end_time": "2020-09-24T00:28:05.199571Z",
     "start_time": "2020-09-24T00:28:05.038Z"
    }
   },
   "outputs": [
    {
     "data": {
      "image/png": "[encoded data removed]",
      "text/plain": [
       "plot without title"
      ]
     },
     "metadata": {
      "image/png": {
       "height": 360,
       "width": 360
      },
      "text/plain": {
       "height": 360,
       "width": 360
      }
     },
     "output_type": "display_data"
    }
   ],
   "source": [
    "print(gf+\n",
    "geom_line(aes(x=log(h),y=log(res_relative_error)))+\n",
    "ggtitle('Aproximación a la primera derivada por diferencias finitas'))"
   ]
  },
  {
   "cell_type": "markdown",
   "metadata": {},
   "source": [
    "- Las componentes que infuencían la forma del error:\n",
    "    - Componente asociada al teorema de Taylor (derecha)\n",
    "    - Componente de error por redondeo (izquierda)\n",
    "        - La \"h\" es cada vez más pequeña y se acerca cada vez más a \"x\""
   ]
  },
  {
   "cell_type": "markdown",
   "metadata": {},
   "source": [
    "```{admonition} Ejercicio\n",
    ":class: tip\n",
    "\n",
    "Realizar una gráfica de log(error relativo) vs log(h) (h en el eje horizontal) con `ggplot2` para aproximar la segunda derivada de $f(x)=e^{-x}$ en $x=1$ con $h \\in \\{10^{-16}, 10^{-14}, \\dots , 10^{-1}\\}$ y diferencias hacia delante. Valor a aproximar: $f^{(2)}(1) = e^{-1}$. Usar:"
   ]
  },
  {
   "cell_type": "markdown",
   "metadata": {},
   "source": [
    "$$\\frac{d^2f(x)}{dx} = \\frac{f(x+2h)-2f(x+h)+f(x)}{h^2} + \\mathcal{O}(h)$$"
   ]
  },
  {
   "cell_type": "markdown",
   "metadata": {},
   "source": [
    "Encontrar valor(es) de $h$ que minimiza(n) al error absoluto y relativo.\n",
    "```"
   ]
  },
  {
   "cell_type": "markdown",
   "metadata": {},
   "source": [
    "```{admonition} Comentario\n",
    "\n",
    "Aproximaciones a la segunda derivada de una función $f: \\mathbb{R} \\rightarrow \\mathbb{R}$ se pueden obtener con las fórmulas:\n",
    "\n",
    "* $\\frac{d^2f(x)}{dx} = \\frac{f(x+2h)-2f(x+h)+f(x)}{h^2} + \\mathcal{O}(h)$ por diferencias hacia delante.\n",
    "\n",
    "* $\\frac{d^2f(x)}{dx} = \\frac{f(x)-2f(x-h)+f(x-2h)}{h^2} + \\mathcal{O}(h)$ por diferencias hacia atrás.\n",
    "\n",
    "* $\\frac{d^2f(x)}{dx} = \\frac{f(x+h)-2f(x)+f(x-h)}{h^2} + \\mathcal{O}(h^2)$ por diferencias centradas.\n",
    "\n",
    "Estas fórmulas se obtienen con el teorema de Taylor bajo las suposiciones correctas.\n",
    "\n",
    "```\n"
   ]
  },
  {
   "cell_type": "markdown",
   "metadata": {},
   "source": [
    "## Análisis del error por redondeo y truncamiento en aproximación por diferencias finitas hacia delante"
   ]
  },
  {
   "cell_type": "markdown",
   "metadata": {},
   "source": [
    "El ejemplo anterior muestra (vía una gráfica) que el método numérico de diferenciación numérica no es estable numéricamente respecto al redondeo (ver nota {ref}`Condición de un problema y estabilidad de un algoritmo <CPEA>` para definición de estabilidad de un algoritmo) y también se puede corroborar realizando un análisis del error. En esta sección consideramos la aproximación a la primer derivada por diferencias finitas hacia delante:\n",
    "\n",
    "$$\\frac{f(x+h)-f(x)}{h}$$"
   ]
  },
  {
   "cell_type": "markdown",
   "metadata": {},
   "source": [
    "Suponemos que $\\hat{f}(x)$ aproxima a $f(x)$ y por errores de redondeo $\\hat{f}(x) = f(x)(1 + \\epsilon_{f(x)})$ con $|\\epsilon_{f(x)}| \\leq \\epsilon_{maq}$ error de redondeo al evaluar $f$ en $x$. $\\hat{f}(x)$ es la aproximación en un SPFN (ver nota {ref}`Sistema de punto flotante <SPF>`). Además supóngase que $x,x+h,h \\in \\mathcal{Fl}$ . Entonces en la aproximación a la primer derivada por diferencias  hacia delante:"
   ]
  },
  {
   "cell_type": "markdown",
   "metadata": {},
   "source": [
    "$f^{(1)}(x) = \\frac{f(x+h)-f(x)}{h} + \\mathcal{O}(h)$ y calculando el error absoluto:\n"
   ]
  },
  {
   "cell_type": "markdown",
   "metadata": {},
   "source": [
    "$$\n",
    "\\begin{eqnarray}\n",
    "\\text{ErrAbs}\\left ( \\frac{\\hat{f}(x+h)-\\hat{f}(x)}{h} \\right ) &=&  \\left |f^{(1)}(x) - \\frac{\\hat{f}(x+h)-\\hat{f}(x)}{h} \\right | \\nonumber \\\\\n",
    "&=& \\left | \\frac{f(x+h)-f(x)}{h} + \\mathcal{O}(h) - \\left ( \\frac{f(x+h)(1+\\epsilon_{f(x+h)})-f(x)(1+\\epsilon_{f(x)})}{h} \\right ) \\right | \\nonumber \\\\\n",
    "&=& \\left |\\mathcal{O}(h) - \\frac{f(x+h)\\epsilon_{f(x+h)}-f(x)\\epsilon_{f(x)}}{h} \\right | \\nonumber \\\\\n",
    "&\\leq& \\mathcal{O}(h) + \\frac{C\\epsilon_{maq}}{h}\n",
    "\\end{eqnarray}\n",
    "$$"
   ]
  },
  {
   "cell_type": "markdown",
   "metadata": {},
   "source": [
    "suponiendo en el último paso que $|f(x+h)\\epsilon_{f(x+h)} - f(x)\\epsilon_{f(x)}| \\leq C \\epsilon_{maq}$ con $C>0$ constante que acota a la función $f$ en el intervalo $[a,b]$. Obsérvese que $\\frac{\\hat{f}(x+h)-\\hat{f}(x)}{h}$ es la aproximación a la primer derivada por diferencias hacia delante que se obtiene en la computadora, por lo que la cantidad $\\left |f^{(1)}(x) - \\frac{\\hat{f}(x+h)-\\hat{f}(x)}{h} \\right |$ es el error absoluto de la aproximación por diferencias hacia delante. "
   ]
  },
  {
   "cell_type": "markdown",
   "metadata": {},
   "source": [
    "El error relativo es:"
   ]
  },
  {
   "cell_type": "markdown",
   "metadata": {},
   "source": [
    "$$\\text{ErrRel}\\left (\\frac{\\hat{f}(x+h)-\\hat{f}(x)}{h} \\right) = \\frac{\\text{ErrAbs}\\left ( \\frac{\\hat{f}(x+h)-\\hat{f}(x)}{h} \\right )}{|f^{(1)}(x)|} \\leq \\frac{\\mathcal{O}(h) + \\frac{C\\epsilon_{maq}}{h}}{|f^{(1)}(x)|} = K_1h + K_2\\frac{1}{h}$$\n",
    "\n",
    "con $K_1, K_2 >0$ constantes."
   ]
  },
  {
   "cell_type": "markdown",
   "metadata": {},
   "source": [
    "- Cuando \"h\" es muy grande el valor que domina es \"K_1\"\n",
    "    - La \"K_1\" se está refiriendo al error por truncamiento\n",
    "- Cuando \"h\" es muy chica el valor que domina es \"K_2\"\n",
    "    - La \"K_2\" se refiere al error por redondeo"
   ]
  },
  {
   "cell_type": "markdown",
   "metadata": {},
   "source": [
    "Entonces la función $g(h) = \\mathcal{O}(h) + \\mathcal{O}\\left (\\frac{1}{h} \\right)$ acota al error absoluto y al error relativo y se tiene:\n",
    "\n",
    "* Si $h \\rightarrow 0$ la componente $\\mathcal{O} \\left ( \\frac{1}{h} \\right )$ domina a la componente $\\mathcal{O}(h)$, la cual tiende a $0$.\n",
    "\n",
    "* Si $h \\rightarrow \\infty$ la componente $\\mathcal{O}(h)$ domina a $\\mathcal{O} \\left ( \\frac{1}{h} \\right )$, la cual tiende a $0$.\n",
    "\n",
    "Por lo anterior, existe un valor de $h$ que minimiza a los errores. Tal valor se observa en las gráficas anteriores y es igual a:"
   ]
  },
  {
   "cell_type": "code",
   "execution_count": 20,
   "metadata": {},
   "outputs": [
    {
     "name": "stdout",
     "output_type": "stream",
     "text": [
      "[1] 1e-08\n"
     ]
    }
   ],
   "source": [
    "print(h[which.min(res_relative_error)])"
   ]
  },
  {
   "cell_type": "markdown",
   "metadata": {},
   "source": [
    "```{admonition} Ejercicio\n",
    ":class: tip\n",
    "\n",
    "Obtener de forma analítica el valor de $h$ que minimiza la función $g(h)$ anterior. Tip: utilizar criterio de primera y segunda derivada para encontrar mínimo global.\n",
    "```"
   ]
  },
  {
   "cell_type": "markdown",
   "metadata": {},
   "source": [
    "### Conclusiones y comentarios"
   ]
  },
  {
   "cell_type": "markdown",
   "metadata": {},
   "source": [
    "\n",
    "* La componente $\\mathcal{O}(h)$ es el error por truncamiento, la cual resulta del teorema de Taylor. El teorema de Taylor nos indica que añadir términos en el polinomio de Taylor si la $x$ a aproximar es cercana al centro, las derivadas de $f$ son acotadas y $h \\rightarrow 0$ entonces el error por truncamiento debe tender a $0$. Lo anterior no ocurre en la implementación numérica (corroborado de forma analítica y visual) del método por diferenciación numérica para la primer derivada por la presencia de la componente $\\mathcal{O}\\left(\\frac{1}{h}\\right)$ en los errores. Tal componente proviene del error por redondeo.\n"
   ]
  },
  {
   "cell_type": "markdown",
   "metadata": {},
   "source": [
    "* Obsérvese que el error relativo máximo es del $100\\%$ lo que indica que no se tiene ninguna cifra correcta en la aproximación:"
   ]
  },
  {
   "cell_type": "code",
   "execution_count": 21,
   "metadata": {},
   "outputs": [
    {
     "data": {
      "text/html": [
       "1"
      ],
      "text/latex": [
       "1"
      ],
      "text/markdown": [
       "1"
      ],
      "text/plain": [
       "[1] 1"
      ]
     },
     "metadata": {},
     "output_type": "display_data"
    }
   ],
   "source": [
    "print(max(res_relative_error))"
   ]
  },
  {
   "cell_type": "markdown",
   "metadata": {},
   "source": [
    "y esto ocurre para un valor de $h$ igual a:"
   ]
  },
  {
   "cell_type": "code",
   "execution_count": 22,
   "metadata": {},
   "outputs": [
    {
     "data": {
      "text/html": [
       "1e-16"
      ],
      "text/latex": [
       "1e-16"
      ],
      "text/markdown": [
       "1e-16"
      ],
      "text/plain": [
       "[1] 1e-16"
      ]
     },
     "metadata": {},
     "output_type": "display_data"
    }
   ],
   "source": [
    "print(h[which.max(res_relative_error)])"
   ]
  },
  {
   "cell_type": "markdown",
   "metadata": {},
   "source": [
    "```{admonition} Pregunta\n",
    ":class: tip\n",
    "\n",
    "¿Por qué se alcanza el máximo error relativo en el valor de $h=10^{-16}$?.\n",
    "```"
   ]
  },
  {
   "cell_type": "markdown",
   "metadata": {},
   "source": [
    "* Con lo anterior se tiene que la diferenciación numérica es un método **inestable numéricamente respecto al redondeo**. Ver nota {ref}`Condición de un problema y estabilidad de un algoritmo <CPEA>`."
   ]
  },
  {
   "cell_type": "markdown",
   "metadata": {},
   "source": [
    "* Un análisis de error similar se utiliza para el método de diferencias finitas por diferencias centradas para aproximar la primera derivada. En este caso el valor de $h$ que minimiza a los errores es del orden $h^* = 10^{-6}$."
   ]
  },
  {
   "cell_type": "markdown",
   "metadata": {},
   "source": [
    "## Diferenciación numérica para una función $f: \\mathbb{R}^n \\rightarrow \\mathbb{R}$"
   ]
  },
  {
   "cell_type": "markdown",
   "metadata": {},
   "source": [
    "Supongamos $f$ es dos veces diferenciable en $\\text{intdom}f$. Si $f: \\mathbb{R}^n \\rightarrow \\mathbb{R}$ entonces $\\nabla f: \\mathbb{R}^n \\rightarrow \\mathbb{R}^n$ y $\\nabla ^2f: \\mathbb{R}^n \\rightarrow \\mathbb{R}^{n\\times n}$ (ver {ref}`Definición de función, continuidad y derivada <FCD>` para definición de derivadas en funciones $f: \\mathbb{R}^n \\rightarrow \\mathbb{R}^m$). Ambas funciones al evaluarse resultan en un vector en $\\mathbb{R}^n$ y en una matriz en $\\mathbb{R}^{n\\times n}$ respectivamente. "
   ]
  },
  {
   "cell_type": "markdown",
   "metadata": {},
   "source": [
    "Podemos utilizar las fórmulas de aproximación en diferenciación numérica con diferencias finitas para el caso $f: \\mathbb{R} \\rightarrow \\mathbb{R}$ revisadas anteriormente para aproximar al gradiente y a la Hessiana.\n",
    "\n",
    "Para el caso del gradiente se tiene por **diferenciación hacia delante**:\n",
    "\n",
    "$$\\nabla f(x) = \n",
    "\\begin{array}{l}\n",
    "\\left[ \\begin{array}{c}\n",
    "\\frac{\\partial f(x)}{\\partial x_1}\\\\\n",
    "\\vdots\\\\\n",
    "\\frac{\\partial f(x)}{\\partial x_n}\n",
    "\\end{array}\n",
    "\\right] \\approx, \\nabla \\hat{f}(x) =\\left[ \n",
    "\\begin{array}{c} \n",
    "\\frac{f(x+he_1) - f(x)}{h}\\\\\n",
    "\\vdots\\\\\n",
    "\\frac{f(x+he_n) - f(x)}{h}\n",
    "\\end{array}\n",
    "\\right]\n",
    "\\end{array} \\in \\mathbb{R}^n$$\n",
    "\n",
    "con $e_j$ $j$-ésimo vector canónico que tiene un número $1$ en la posición $j$ y $0$ en las entradas restantes para $j=1,\\dots,n$. Se cumple $||\\nabla f(x) - \\nabla \\hat{f}(x)|| = \\mathcal{O}(h)$. Y para el caso de la Hessiana:"
   ]
  },
  {
   "cell_type": "markdown",
   "metadata": {},
   "source": [
    "$$\\nabla^2f(x) = \\left[\\begin{array}{cccc}\n",
    "\\frac{\\partial^2f(x)}{\\partial x_1^2} &\\frac{\\partial^2f(x)}{\\partial x_2 \\partial x_1}&\\dots&\\frac{\\partial^2f(x)}{\\partial x_n \\partial x_1}\\\\\n",
    "\\frac{\\partial^2f(x)}{\\partial x_1 \\partial x_2} &\\frac{\\partial^2f(x)}{\\partial x_2^2} &\\dots&\\frac{\\partial^2f(x)}{\\partial x_n \\partial x_2}\\\\\n",
    "\\vdots &\\vdots& \\ddots&\\vdots\\\\\n",
    "\\frac{\\partial^2f(x)}{\\partial x_1 \\partial x_n} &\\frac{\\partial^2f(x)}{\\partial x_2 \\partial x_n}&\\dots&\\frac{\\partial^2f(x)}{\\partial x_n^2} \\\\\n",
    "\\end{array}\n",
    "\\right],\n",
    "$$\n"
   ]
  },
  {
   "cell_type": "markdown",
   "metadata": {},
   "source": [
    "$$\n",
    "\\nabla^2 \\hat{f}(x) = \\left[\\begin{array}{cccc}\n",
    "\\frac{f(x+2he_1)-2f(x+he_1)+f(x)}{h^2} &\\frac{f(x+he_1+he_2)-f(x+he_1)-f(x+he_2)+f(x)}{h^2}&\\dots&\\frac{f(x+he_1+he_n)-f(x+he_1)-f(x+he_n)+f(x)}{h^2}\\\\\n",
    "\\frac{f(x+he_1+he_2)-f(x+he_2)-f(x+he_1)+f(x)}{h^2}&\\frac{f(x+2he_2)-2f(x+he_2)+f(x)}{h^2}  &\\dots&\\frac{f(x+he_2+he_n)-f(x+he_2)-f(x+he_n)+f(x)}{h^2}\\\\\n",
    "\\vdots &\\vdots& \\ddots&\\vdots\\\\\n",
    "\\frac{f(x+he_1+he_n)-f(x+he_n)-f(x+he_1)+f(x)}{h^2}&\\frac{f(x+he_2+he_n)-f(x+he_n)-f(x+he_2)+f(x)}{h^2}&\\dots&\\frac{f(x+2he_n)-2f(x+he_n)+f(x)}{h^2}\\\\\n",
    "\\end{array}\n",
    "\\right]\n",
    "$$\n",
    "\n",
    "Se cumple: $||\\nabla^2f(x)-\\nabla\\hat{f}^2(x)||=\\mathcal{O}(h)$."
   ]
  },
  {
   "cell_type": "markdown",
   "metadata": {},
   "source": [
    "### Ejemplo\n",
    "\n",
    "Aproximar $\\nabla f(x), \\nabla^2f(x)$ con diferencias hacia delante y $h \\in \\{10^{-16}, 10^{-14}, \\dots , 10^{-1}\\}$ para $f: \\mathbb{R}^4 \\rightarrow \\mathbb{R}$, dada por $f(x) = (x_1^2-x_2^2)^2+x_1^2+(x_3^2-x_4^2)^2+x_3^2$ en el punto $x_0=(1.5,1.5,1.5,1.5)^T$. Realizar una gráfica de $\\log($Err_rel) vs $\\log($h)\n",
    "\n",
    "Para esta función se tiene:\n"
   ]
  },
  {
   "cell_type": "markdown",
   "metadata": {},
   "source": [
    "$$\\nabla f(x) = \n",
    "\\left[ \\begin{array}{c}\n",
    "4x_1(x_1^2-x_2^2) + 2x_1\\\\\n",
    "-4x_2(x_1^2-x_2^2)\\\\\n",
    "4x_3(x_3^2-x_4^2)+2x_3\\\\\n",
    "-4x_4(x_3^2-x_4^2)\n",
    "\\end{array}\n",
    "\\right] ,\n",
    "$$"
   ]
  },
  {
   "cell_type": "markdown",
   "metadata": {},
   "source": [
    "$$\\nabla^2f(x)=\n",
    " \\left[\\begin{array}{cccc}\n",
    "12x_1^2-4x_2^2+2 &-8x_1x_2&0&0\\\\\n",
    "-8x_1x_2 &-4x_1^2+12x_2^2&0&0\\\\\n",
    "0 &0&12x_3^2-4x_4^2+2&-8x_3x_4\\\\\n",
    "0&0&-8x_3x_4&-4x_3^2+12x_4^2\\\\\n",
    "\\end{array}\n",
    "\\right]\n",
    "$$"
   ]
  },
  {
   "cell_type": "markdown",
   "metadata": {},
   "source": [
    "**Gradiente de f calculado de forma simbólica**\n"
   ]
  },
  {
   "cell_type": "code",
   "execution_count": 27,
   "metadata": {
    "ExecuteTime": {
     "end_time": "2020-09-24T00:57:24.788377Z",
     "start_time": "2020-09-24T00:57:24.776Z"
    }
   },
   "outputs": [],
   "source": [
    "gf<-function(x){\n",
    "    c(4*x[1]*(x[1]^2-x[2]^2)+2*x[1],\n",
    "      -4*x[2]*(x[1]^2-x[2]^2),\n",
    "      4*x[3]*(x[3]^2-x[4]^2)+2*x[3],\n",
    "      -4*x[4]*(x[3]^2-x[4]^2))\n",
    "}"
   ]
  },
  {
   "cell_type": "markdown",
   "metadata": {},
   "source": [
    "**Punto en el que se evaluará**"
   ]
  },
  {
   "cell_type": "code",
   "execution_count": 30,
   "metadata": {
    "ExecuteTime": {
     "end_time": "2020-09-24T00:58:42.829004Z",
     "start_time": "2020-09-24T00:58:42.816Z"
    }
   },
   "outputs": [],
   "source": [
    "x_0<-c(1.5, 1.5, 1.5, 1.5)"
   ]
  },
  {
   "cell_type": "code",
   "execution_count": 31,
   "metadata": {
    "ExecuteTime": {
     "end_time": "2020-09-24T00:58:45.909166Z",
     "start_time": "2020-09-24T00:58:45.893Z"
    }
   },
   "outputs": [
    {
     "name": "stdout",
     "output_type": "stream",
     "text": [
      "[1] 3 0 3 0\n"
     ]
    }
   ],
   "source": [
    "print(gf(x_0))"
   ]
  },
  {
   "cell_type": "markdown",
   "metadata": {},
   "source": [
    "$$\\nabla f(x_0) = \n",
    "\\left[ \\begin{array}{c}\n",
    "3\\\\\n",
    "0\\\\\n",
    "3\\\\\n",
    "0\n",
    "\\end{array}\n",
    "\\right],\n",
    "$$"
   ]
  },
  {
   "cell_type": "markdown",
   "metadata": {},
   "source": [
    "**Hessiana de f calculada de forma simbólica**\n"
   ]
  },
  {
   "cell_type": "code",
   "execution_count": 32,
   "metadata": {
    "ExecuteTime": {
     "end_time": "2020-09-24T00:58:47.094246Z",
     "start_time": "2020-09-24T00:58:47.082Z"
    }
   },
   "outputs": [],
   "source": [
    "gf2<-function(x){\n",
    "    matrix(c(12*x[1]^2-4*x[2]^2+2,-8*x[1]*x[2],0,0,\n",
    "             -8*x[1]*x[2],-4*x[1]^2+12*x[2]^2,0,0,\n",
    "             0,0,12*x[3]^2-4*x[4]^2+2,-8*x[3]*x[4],\n",
    "             0,0,-8*x[3]*x[4],-4*x[3]^2+12*x[4]^2),nrow=4,ncol=4)\n",
    "}"
   ]
  },
  {
   "cell_type": "markdown",
   "metadata": {},
   "source": [
    "**Evaluación de la Hessiana**"
   ]
  },
  {
   "cell_type": "code",
   "execution_count": 33,
   "metadata": {
    "ExecuteTime": {
     "end_time": "2020-09-24T00:58:48.359267Z",
     "start_time": "2020-09-24T00:58:48.329Z"
    }
   },
   "outputs": [
    {
     "name": "stdout",
     "output_type": "stream",
     "text": [
      "     [,1] [,2] [,3] [,4]\n",
      "[1,]   20  -18    0    0\n",
      "[2,]  -18   18    0    0\n",
      "[3,]    0    0   20  -18\n",
      "[4,]    0    0  -18   18\n"
     ]
    }
   ],
   "source": [
    "print(gf2(x_0))"
   ]
  },
  {
   "cell_type": "markdown",
   "metadata": {},
   "source": [
    "$$\\nabla^2f(x_0)=\n",
    " \\left[\\begin{array}{cccc}\n",
    "20 &-18&0&0\\\\\n",
    "-18&18&0&0\\\\\n",
    "0 &0&20&-18\\\\\n",
    "0&0&-18&18\\\\\n",
    "\\end{array}\n",
    "\\right]\n",
    "$$"
   ]
  },
  {
   "cell_type": "markdown",
   "metadata": {},
   "source": [
    "**Definición de función y punto en el que se calculan las aproximaciones**\n"
   ]
  },
  {
   "cell_type": "code",
   "execution_count": 34,
   "metadata": {
    "ExecuteTime": {
     "end_time": "2020-09-24T00:58:54.214262Z",
     "start_time": "2020-09-24T00:58:54.200Z"
    }
   },
   "outputs": [],
   "source": [
    "f <- function(x){\n",
    "    (x[1]^2-x[2]^2)^2+x[1]^2+(x[3]^2-x[4]^2)^2+x[3]^2\n",
    "    }\n",
    "x0 <- rep(1.5,4)\n"
   ]
  },
  {
   "cell_type": "markdown",
   "metadata": {},
   "source": [
    "**Lo siguiente calcula el gradiente y la Hessiana de forma numérica con la aproximación por diferencias hacia delante**"
   ]
  },
  {
   "cell_type": "code",
   "execution_count": 35,
   "metadata": {
    "ExecuteTime": {
     "end_time": "2020-09-24T00:58:54.828577Z",
     "start_time": "2020-09-24T00:58:54.811Z"
    }
   },
   "outputs": [],
   "source": [
    "inc_index<-function(vec,index,h){\n",
    "    '\n",
    "    Auxiliary function for gradient and Hessian computation.\n",
    "    Args:\n",
    "        vec (double): vector\n",
    "        index (int): index.\n",
    "        h (float):   quantity that vec[index] will be increased.\n",
    "    Returns:\n",
    "        vec (double): vector with vec[index] increased by h.\n",
    "    '\n",
    "    vec[index]<-vec[index]+h\n",
    "    vec\n",
    "}"
   ]
  },
  {
   "cell_type": "code",
   "execution_count": 36,
   "metadata": {
    "ExecuteTime": {
     "end_time": "2020-09-24T00:58:55.063052Z",
     "start_time": "2020-09-24T00:58:55.049Z"
    }
   },
   "outputs": [],
   "source": [
    "gradient_approximation<-function(f,x,h=1e-8){\n",
    "    '\n",
    "    Numerical approximation of gradient for function f using forward differences.\n",
    "    Args:\n",
    "        f (expression): definition of function f.\n",
    "        x (double): vector that holds values where gradient will be computed.\n",
    "        h (float): step size for forward differences, tipically h=1e-8\n",
    "    Returns:\n",
    "        gf (array): numerical approximation to gradient of f.\n",
    "    '\n",
    "    n<-length(x)\n",
    "    gf<-vector(\"double\",n)\n",
    "    for(i in 1:n){\n",
    "        gf[i]=(f(inc_index(x,i,h))-f(x))\n",
    "    }\n",
    "    gf/h\n",
    "}"
   ]
  },
  {
   "cell_type": "code",
   "execution_count": 37,
   "metadata": {
    "ExecuteTime": {
     "end_time": "2020-09-24T00:58:55.251830Z",
     "start_time": "2020-09-24T00:58:55.237Z"
    }
   },
   "outputs": [],
   "source": [
    "Hessian_approximation<-function(f,x,h=1e-6){\n",
    "    '\n",
    "    Numerical approximation of Hessian for function f using forward differences.\n",
    "    Args:\n",
    "        f (expression): definition of function f.\n",
    "        x (double): vector that holds values where Hessian will be computed.\n",
    "        h (float): step size for forward differences, tipically h=1e-6\n",
    "    Returns:\n",
    "        Hf (double): matrix of numerical approximation to Hessian of f.\n",
    "    '\n",
    "    n<-length(x)\n",
    "    Hf<-matrix(rep(0,n^2),nrow=n,ncol=n)\n",
    "    f_x<-f(x)\n",
    "    for(i in 1:n){\n",
    "        x_inc_in_i<-inc_index(x,i,h)\n",
    "        f_x_inc_in_i<-f(x_inc_in_i)\n",
    "        for(j in i:n){\n",
    "            dif<-f(inc_index(x_inc_in_i,j,h))-f_x_inc_in_i-f(inc_index(x,j,h))+f_x\n",
    "            Hf[i,j]<-dif\n",
    "            if(j!=i)\n",
    "                Hf[j,i]<-dif\n",
    "        }\n",
    "    }\n",
    "    Hf/h^2\n",
    "}"
   ]
  },
  {
   "cell_type": "markdown",
   "metadata": {},
   "source": [
    "**Conjunto de valores de h para diferencias hacia delante**"
   ]
  },
  {
   "cell_type": "code",
   "execution_count": 38,
   "metadata": {
    "ExecuteTime": {
     "end_time": "2020-09-24T00:58:56.320097Z",
     "start_time": "2020-09-24T00:58:56.308Z"
    }
   },
   "outputs": [],
   "source": [
    "h<-10^(-1*(1:16))"
   ]
  },
  {
   "cell_type": "markdown",
   "metadata": {},
   "source": [
    "**Funciones para cálculo del error:**\n",
    "\n",
    "$$\\text{ErrRel(approx)} = \\frac{||\\text{approx}-\\text{obj}||}{||\\text{obj}||}$$"
   ]
  },
  {
   "cell_type": "code",
   "execution_count": 39,
   "metadata": {
    "ExecuteTime": {
     "end_time": "2020-09-24T00:59:40.597145Z",
     "start_time": "2020-09-24T00:59:40.581Z"
    }
   },
   "outputs": [],
   "source": [
    "Euclidian_norm<-function(vec){\n",
    "    'Compute Euclidian norm of vector'\n",
    "    sqrt(sum(vec*vec))\n",
    "}\n",
    "\n",
    "compute_error<-function(obj,approx){\n",
    "    '\n",
    "    Relative or absolute error between obj and approx based in Euclidian norm. \n",
    "    Approx is a numeric vector.\n",
    "    '\n",
    "    if (Euclidian_norm(obj) > .Machine$double.eps){\n",
    "        Err<-Euclidian_norm(obj-approx)/Euclidian_norm(obj)\n",
    "    }else\n",
    "        Err<-Euclidian_norm(obj-approx)\n",
    "    Err\n",
    "}"
   ]
  },
  {
   "cell_type": "code",
   "execution_count": 40,
   "metadata": {
    "ExecuteTime": {
     "end_time": "2020-09-24T00:59:41.465875Z",
     "start_time": "2020-09-24T00:59:41.402Z"
    }
   },
   "outputs": [],
   "source": [
    "gf_numeric_approximations <- lapply(h,gradient_approximation,f=f,x=x0)\n",
    "gf2_numeric_approximations <- lapply(h,Hessian_approximation,f=f,x=x0)\n",
    "\n",
    "\n",
    "rel_err_gf <- sapply(gf_numeric_approximations,compute_error,obj=gf(x_0))\n",
    "\n",
    "rel_err_gf2 <- sapply(gf2_numeric_approximations,compute_error,obj=gf2(x_0))"
   ]
  },
  {
   "cell_type": "code",
   "execution_count": 41,
   "metadata": {
    "ExecuteTime": {
     "end_time": "2020-09-24T00:59:42.111959Z",
     "start_time": "2020-09-24T00:59:42.100Z"
    }
   },
   "outputs": [],
   "source": [
    "gg<-ggplot()"
   ]
  },
  {
   "cell_type": "code",
   "execution_count": 42,
   "metadata": {
    "ExecuteTime": {
     "end_time": "2020-09-24T00:59:43.006272Z",
     "start_time": "2020-09-24T00:59:42.858Z"
    }
   },
   "outputs": [
    {
     "data": {
      "image/png": "[encoded data removed]",
      "text/plain": [
       "plot without title"
      ]
     },
     "metadata": {
      "image/png": {
       "height": 360,
       "width": 360
      },
      "text/plain": {
       "height": 360,
       "width": 360
      }
     },
     "output_type": "display_data"
    }
   ],
   "source": [
    "print(gg+\n",
    "geom_line(aes(x=log(h),y=log(rel_err_gf)))+\n",
    "ggtitle('Aproximación al gradiente por diferencias finitas'))"
   ]
  },
  {
   "cell_type": "code",
   "execution_count": 43,
   "metadata": {
    "ExecuteTime": {
     "end_time": "2020-09-24T01:00:18.568001Z",
     "start_time": "2020-09-24T01:00:18.555Z"
    }
   },
   "outputs": [
    {
     "name": "stdout",
     "output_type": "stream",
     "text": [
      "[1] 1e-08\n"
     ]
    }
   ],
   "source": [
    "print(h[which.min(rel_err_gf)])"
   ]
  },
  {
   "cell_type": "code",
   "execution_count": 44,
   "metadata": {
    "ExecuteTime": {
     "end_time": "2020-09-24T01:00:20.116879Z",
     "start_time": "2020-09-24T01:00:19.977Z"
    }
   },
   "outputs": [
    {
     "data": {
      "image/png": "[encoded data removed]",
      "text/plain": [
       "plot without title"
      ]
     },
     "metadata": {
      "image/png": {
       "height": 360,
       "width": 360
      },
      "text/plain": {
       "height": 360,
       "width": 360
      }
     },
     "output_type": "display_data"
    }
   ],
   "source": [
    "print(gg+\n",
    "geom_line(aes(x=log(h),y=log(rel_err_gf2)))+\n",
    "ggtitle('Aproximación a la Hessiana por diferencias finitas'))"
   ]
  },
  {
   "cell_type": "code",
   "execution_count": 45,
   "metadata": {
    "ExecuteTime": {
     "end_time": "2020-09-24T01:00:20.289973Z",
     "start_time": "2020-09-24T01:00:20.273Z"
    }
   },
   "outputs": [
    {
     "name": "stdout",
     "output_type": "stream",
     "text": [
      "[1] 1e-06\n"
     ]
    }
   ],
   "source": [
    "print(h[which.min(rel_err_gf2)])"
   ]
  },
  {
   "cell_type": "markdown",
   "metadata": {},
   "source": [
    "```{admonition} Ejercicio\n",
    ":class: tip\n",
    "\n",
    "Aproximar $\\nabla f(x), \\nabla^2f(x)$ con diferencias hacia delante y $h \\in \\{10^{-16}, 10^{-14}, \\dots , 10^{-1}\\}$ para $f: \\mathbb{R}^3 \\rightarrow \\mathbb{R}$, dada por $f(x) = x_1x_2\\exp(x_1^2+x_3^2-5)$ en el punto $x_0=(1,3,-2)^T$ Realizar una gráfica de $\\log($Err_rel) vs $\\log($h).\n",
    "```"
   ]
  },
  {
   "cell_type": "markdown",
   "metadata": {},
   "source": [
    "```{admonition} Ejercicios\n",
    ":class: tip\n",
    "\n",
    "1. Resuelve los ejercicios y preguntas de la nota.\n",
    "```"
   ]
  },
  {
   "cell_type": "markdown",
   "metadata": {},
   "source": [
    "**Referencias**\n",
    "\n",
    "1. R. L. Burden, J. D. Faires, Numerical Analysis, Brooks/Cole Cengage Learning, 2005.\n",
    "\n",
    "2. M. T. Heath, Scientific Computing. An Introductory Survey, McGraw-Hill, 2002.\n",
    "\n",
    "3. S. P. Boyd, L. Vandenberghe, Convex Optimization. Cambridge University Press, 2004.\n"
   ]
  },
  {
   "cell_type": "markdown",
   "metadata": {},
   "source": [
    "---\n",
    "---"
   ]
  }
 ],
 "metadata": {
  "kernelspec": {
   "display_name": "R",
   "language": "R",
   "name": "ir"
  },
  "language_info": {
   "codemirror_mode": "r",
   "file_extension": ".r",
   "mimetype": "text/x-r-source",
   "name": "R",
   "pygments_lexer": "r",
   "version": "4.0.2"
  }
 },
 "nbformat": 4,
 "nbformat_minor": 4
}
