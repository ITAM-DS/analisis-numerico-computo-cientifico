{
 "cells": [
  {
   "cell_type": "markdown",
   "metadata": {},
   "source": [
    "Nota generada a partir de [liga](https://www.dropbox.com/s/z5ifw3ti66gukdy/1.1.Analisis_numerico_y_computo_cientifico.pdf?dl=0)"
   ]
  },
  {
   "cell_type": "markdown",
   "metadata": {},
   "source": [
    "(ANCC)="
   ]
  },
  {
   "cell_type": "markdown",
   "metadata": {},
   "source": [
    "# 1.1 Análisis numérico y cómputo científico"
   ]
  },
  {
   "cell_type": "markdown",
   "metadata": {},
   "source": [
    "## Introducción"
   ]
  },
  {
   "cell_type": "markdown",
   "metadata": {},
   "source": [
    "El cómputo científico (ver [liga](https://en.wikipedia.org/wiki/Computational_science)) es parte de lo que se conoce como ciencia de la computación, cuya investigación incluye las fases:\n",
    "\n",
    "1) Desarrollo de un modelo matemático para un fenómeno de interés. \n",
    "\n",
    "2) Desarrollo de un algoritmo.\n",
    "\n",
    "3) Implementación del algoritmo en un software.\n",
    "\n",
    "4) Simulaciones numéricas del fenómeno con el software.\n",
    "\n",
    "5) Representación de los resultados calculados (gráficas o herramientas visuales).\n",
    "\n",
    "6) Interpretación y validación de los resultados.\n",
    "\n",
    "y se realizan los puntos anteriores en una forma repetida ($1$-$6$) dependiendo de los resultados obtenidos en $6$."
   ]
  },
  {
   "cell_type": "markdown",
   "metadata": {},
   "source": [
    "El cómputo científico se encarga de las fases $2$ a $4$: desarrollo, implementación y uso de los algoritmos numéricos y software para aplicaciones. Ejemplos de aplicaciones las encontramos en análisis y ajuste de modelos a datos, optimización y machine learning, entre otras."
   ]
  },
  {
   "cell_type": "markdown",
   "metadata": {},
   "source": [
    "## Análisis numérico y cómputo científico."
   ]
  },
  {
   "cell_type": "markdown",
   "metadata": {},
   "source": [
    "Nuestro curso involucra temas del análisis numérico el cual se enfoca al diseño y análisis de algoritmos para resolver problemas que surgen en la ciencia de la computación e ingeniería. Por esto, al análisis numérico se le ha llamado también cómputo científico y se distingue de otras áreas de la ciencia de la computación en que trabaja con **cantidades continuas**, cantidades como velocidad y temperatura presentes naturalmente son algunos ejemplos. \n",
    "\n",
    "Tales cantidades las encontramos en muchos problemas de matemáticas los cuales no se resuelven en principio con un número finito de pasos, sino que deben resolverse por un proceso iterativo que converja a la solución, teóricamente infinito. Sin embargo, en la práctica, no se realizan procesos infinitos y además no se resuelven problemas de manera exacta; se obtienen respuestas aproximadamente correctas, \"suficientemente cercanas o precisas\" al resultado deseado. Así, el análisis numérico debe trabajar con recursos finitos y cantidades discretas.\n",
    "\n",
    "Lo anterior subraya uno de los aspectos más importantes del cómputo científico: encontrar algoritmos iterativos que **converjan** \"rápidamente\", así como dar una estimación de la **exactitud** de las aproximaciones calculadas. Así, un segundo tema que distingue al análisis numérico de otras áreas de la ciencia de la computación es el relacionado con las **aproximaciones** y sus efectos. Es indispensable que tales aproximaciones sean controladas por algoritmos \"buenos\", esto es, que sean **eficientes** (hacer más con menos), sean **confiables** y **exactos** ante la serie de aproximaciones realizadas: sean **estables**.\n",
    "\n",
    "La eficiencia se relaciona directamente con el **costo computacional**, el cual típicamente se mide a partir del número de operaciones que realiza el algoritmo (aunque otra componente común para medir el costo computacional, es la transferencia de datos entre las diferentes jerarquías de memoria en una máquina) y la **estabilidad** se refiere a no amplificar los **errores** generados por las aproximaciones o resultados calculados durante la ejecución del algoritmo. Asimismo, la estabilidad se relaciona con la pregunta: ¿si se perturban los datos de entrada, el algoritmo calcula una solución \"cercana\" a los datos no perturbados? (esta pregunta tiene que ver con el **análisis de sensibilidad** en un algoritmo ante perturbaciones en los datos de entrada).\n"
   ]
  },
  {
   "cell_type": "markdown",
   "metadata": {},
   "source": [
    "```\n",
    "- El cómputo científico también toma en cuenta cantidades discretas, no solo continuas; de hecho muchas veces se resuelven problemas haciendo discretización.\n",
    "```"
   ]
  },
  {
   "cell_type": "markdown",
   "metadata": {},
   "source": [
    "## Fuentes de error"
   ]
  },
  {
   "cell_type": "markdown",
   "metadata": {},
   "source": [
    "Algunas fuentes de error que nos encontramos al resolver un problema surgen por:\n",
    "\n",
    "* Uso de modelos (simplificación u omisión).\n",
    "\n",
    "* Mediciones con instrumentos.\n",
    "\n",
    "* Cálculos previos.\n"
   ]
  },
  {
   "cell_type": "markdown",
   "metadata": {},
   "source": [
    "```\n",
    "- Estos errores se pueden acumular y hacer crecer el error considerablemente\n",
    "```"
   ]
  },
  {
   "cell_type": "markdown",
   "metadata": {},
   "source": [
    "Las fuentes anteriores típicamente están fuera de nuestro control. En el cómputo científico se estudian dos fuentes que influyen directamente en el algoritmo utilizado para resolver un problema y sí podemos controlarlas:\n",
    "\n",
    "* Truncamiento: relacionado con el uso de procesos o cantidades finitas.\n",
    "\n",
    "* Redondeo: relacionado con la representación de los números y la aritmética realizada en una máquina.\n"
   ]
  },
  {
   "cell_type": "markdown",
   "metadata": {},
   "source": [
    "```\n",
    "- Por ejemplo, el truncamiento podría hacerse con un ciclo \"for\". Si tuvieras que hacer ese ciclo infinitas veces, vas a limitarlo a un número finito de veces.\n",
    "```"
   ]
  },
  {
   "cell_type": "markdown",
   "metadata": {},
   "source": [
    "Estas fuentes de error influyen en la exactitud de un cálculo y las perturbaciones que resulten de estas fuentes, serán amplificadas (o no) por la **naturaleza del problema** y el **tipo de algoritmo utilizado**. Al estudio de la exactitud y estabilidad de un algoritmo por fuentes de error se le llama **análisis del error**."
   ]
  },
  {
   "cell_type": "markdown",
   "metadata": {},
   "source": [
    "(AnErr)="
   ]
  },
  {
   "cell_type": "markdown",
   "metadata": {},
   "source": [
    "## Análisis del error"
   ]
  },
  {
   "cell_type": "markdown",
   "metadata": {},
   "source": [
    "En general un problema puede verse como evaluar una función $f: \\mathbb{R} \\rightarrow \\mathbb{R}$. Por ejemplo, sea $x$ el dato de entrada, considérese el problema de evaluar $f(x)$, el dato de salida.\n",
    "\n",
    "Al trabajar con la máquina, nos encontramos que la representación de un número real en general no es exacta, por ello tenemos una aproximación $\\hat{x}$ a la cantidad $x$ (error por redondeo) y nuestra forma de calcular $f$ es por medio de un algoritmo $\\hat{f}$, entonces, el error al evaluar $f$ es:\n",
    "\n",
    "$$\\text{Error total} = \\hat{f}(\\hat{x}) - f(x) = \\underbrace{\\hat{f}(\\hat{x})-f(\\hat{x})}_\\text{Error Computacional} + \\underbrace{f(\\hat{x})-f(x)}_\\text{Error en datos}.$$\n",
    "\n",
    "El primer término es generado por el algoritmo utilizado: $\\hat{f}$ (cálculos y aproximaciones realizadas por el algoritmo utilizando $\\hat{x}$) y el segundo es debido a mediciones o redondeos realizados por la máquina o personas o instrumentos, observa que este término no se ve influenciado por el algoritmo utilizado y es un error que no controlamos."
   ]
  },
  {
   "cell_type": "markdown",
   "metadata": {},
   "source": [
    "```\n",
    "- Por ejemplo, hacer una aproximación por serie sería un error por truncamiento; si usáramos Monte Carlo el truncamiento estaría asociado al número de puntos que se generan en una región.\n",
    "- El error por datos es algo que no podemos controlar; nos debemos enfocar en el error computacional.\n",
    "```"
   ]
  },
  {
   "cell_type": "markdown",
   "metadata": {},
   "source": [
    "El error computacional tiene dos componentes: uno por **truncamiento** y otro por **redondeo**: \n",
    "\n",
    "* El truncamiento es la diferencia entre el resultado verdadero y el resultado que se obtiene con un algoritmo usando aritmética exacta. Por ejemplo, reemplazar una serie infinita (resultado verdadero) con una serie truncada (algoritmo: truncar serie infinita) y evaluar la serie truncada con **aritmética exacta** (por ejemplo usar $\\frac{1}{3}$ en los cálculos en lugar de $0.333$). \n",
    "\n",
    "* El error por redondeo es la diferencia entre el resultado obtenido por un algoritmo utilizando aritmética exacta y el resultado producido por el mismo algoritmo usando **aritmética de máquina**.\n",
    "\n"
   ]
  },
  {
   "cell_type": "markdown",
   "metadata": {},
   "source": [
    "```{admonition} Observación\n",
    ":class: tip\n",
    "\n",
    "Obsérvese que en la descomposición del error total de arriba se utiliza en el error computacional $\\hat{x}$. En la nota {ref}`Condición de un problema y estabilidad de un algoritmo <CPEA>` se define la estabilidad de un algoritmo utilizando $x$ en lugar de $\\hat{x}$ pues se desea medir la cercanía entre $x$ y $\\hat{x}$ determinada por el sistema de punto flotante (errores por redondeo).\n",
    "\n",
    "```"
   ]
  },
  {
   "cell_type": "markdown",
   "metadata": {},
   "source": [
    "```{admonition} Comentario\n",
    "\n",
    "Aunque los errores por truncamiento y por redondeo son componentes del error total, típicamente un tipo de error domina sobre otro. Hacer la distinción entre ellos, nos ayuda a entender el comportamiento de los algoritmos y los factores que influyen en su **exactitud**.\n",
    "\n",
    "```"
   ]
  },
  {
   "cell_type": "markdown",
   "metadata": {},
   "source": [
    "## Nota sobre exactitud y precisión."
   ]
  },
  {
   "cell_type": "markdown",
   "metadata": {},
   "source": [
    "Los errores en los cálculos y las medidas se pueden caracterizar respecto a su exactitud y precisión. La exactitud se refiere a que tan cercano está el valor calculado o medido del valor verdadero. La precisión se refiere a qué tan cercanos se encuentran unos de otros diversos valores calculados o medidos. Obsérvese el siguiente diagrama:"
   ]
  },
  {
   "cell_type": "markdown",
   "metadata": {},
   "source": [
    "<img src=\"https://www.dl.dropboxusercontent.com/s/azkoe49xfg3a90d/1.1.exactitud_precision.png?dl=0\" heigth=\"500\" width=\"500\">"
   ]
  },
  {
   "cell_type": "markdown",
   "metadata": {},
   "source": [
    "**Preguntas de comprehensión**\n",
    "\n",
    "1) ¿Cuáles son las características del análisis numérico y cómputo científico?"
   ]
  },
  {
   "cell_type": "markdown",
   "metadata": {},
   "source": [
    "- "
   ]
  },
  {
   "cell_type": "markdown",
   "metadata": {},
   "source": [
    "2)¿Qué propiedades debe tener un buen algoritmo?"
   ]
  },
  {
   "cell_type": "markdown",
   "metadata": {},
   "source": [
    "3)¿Cuáles fuentes de error principalmente son estudiadas por el análisis numérico y cómputo científico al resolver un problema?"
   ]
  },
  {
   "cell_type": "markdown",
   "metadata": {},
   "source": [
    "4)Menciona las diferencias entre los términos exactitud y precisión."
   ]
  },
  {
   "cell_type": "markdown",
   "metadata": {},
   "source": [
    "**Referencias:**\n",
    "\n",
    "1. M. T. Heath, Scientific Computing. An Introductory Survey, McGraw-Hill, 2002.\n"
   ]
  }
 ],
 "metadata": {
  "kernelspec": {
   "display_name": "Python 3",
   "language": "python",
   "name": "python3"
  },
  "language_info": {
   "codemirror_mode": {
    "name": "ipython",
    "version": 3
   },
   "file_extension": ".py",
   "mimetype": "text/x-python",
   "name": "python",
   "nbconvert_exporter": "python",
   "pygments_lexer": "ipython3",
   "version": "3.7.4"
  }
 },
 "nbformat": 4,
 "nbformat_minor": 4
}
