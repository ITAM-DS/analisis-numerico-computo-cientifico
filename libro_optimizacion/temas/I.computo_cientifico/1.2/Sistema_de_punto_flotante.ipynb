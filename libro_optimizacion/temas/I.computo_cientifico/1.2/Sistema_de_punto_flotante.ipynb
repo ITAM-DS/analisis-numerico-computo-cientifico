{
 "cells": [
  {
   "cell_type": "markdown",
   "metadata": {},
   "source": [
    "(SPF)="
   ]
  },
  {
   "cell_type": "markdown",
   "metadata": {},
   "source": [
    "# 1.2 Sistema de punto flotante"
   ]
  },
  {
   "cell_type": "markdown",
   "metadata": {},
   "source": [
    "```{admonition} Notas para contenedor de docker:\n",
    "\n",
    "Comando de docker para ejecución de la nota de forma local:\n",
    "\n",
    "nota: cambiar `<ruta a mi directorio>` por la ruta de directorio que se desea mapear a `/datos` dentro del contenedor de docker.\n",
    "\n",
    "`docker run --rm -v <ruta a mi directorio>:/datos --name jupyterlab_optimizacion -p 8888:8888 -d palmoreck/jupyterlab_optimizacion:2.1.4`\n",
    "\n",
    "password para jupyterlab: `qwerty`\n",
    "\n",
    "Detener el contenedor de docker:\n",
    "\n",
    "`docker stop jupyterlab_optimizacion`\n",
    "\n",
    "Documentación de la imagen de docker `palmoreck/jupyterlab_optimizacion:2.1.4` en [liga](https://github.com/palmoreck/dockerfiles/tree/master/jupyterlab/optimizacion).\n",
    "\n",
    "```"
   ]
  },
  {
   "cell_type": "markdown",
   "metadata": {},
   "source": [
    "---"
   ]
  },
  {
   "cell_type": "markdown",
   "metadata": {},
   "source": [
    "Nota generada a partir de [liga](https://www.dropbox.com/s/9fsupm3bhwmv7cb/1.2.Sistema_de_punto_flotante.pdf?dl=0)"
   ]
  },
  {
   "cell_type": "markdown",
   "metadata": {},
   "source": [
    "## Representación de los números en la computadora"
   ]
  },
  {
   "cell_type": "markdown",
   "metadata": {},
   "source": [
    "Las computadoras utilizan una determinada cantidad de cifras de un número real para realizar operaciones. Además, utilizan una representación de los números en bases no usadas por las personas para realizar cálculos comunes, ejemplos son la **2, 8 o 16**.  En contraste, la mayoría de las personas utilizamos la base **10** para representar a los números y realizar cálculos."
   ]
  },
  {
   "cell_type": "markdown",
   "metadata": {},
   "source": [
    "A continuación se muestran construcciones que se han hecho para representar los números en una computadora."
   ]
  },
  {
   "cell_type": "markdown",
   "metadata": {},
   "source": [
    "### Enteros"
   ]
  },
  {
   "cell_type": "markdown",
   "metadata": {},
   "source": [
    "```{margin}\n",
    "\n",
    "Otro método para representar a los números enteros es el [complemento de dos](https://en.wikipedia.org/wiki/Two%27s_complement) que incorpora en forma directa el signo dentro de la magnitud del número, en lugar de emplear un bit adicional para representar el signo.\n",
    "```"
   ]
  },
  {
   "cell_type": "markdown",
   "metadata": {},
   "source": [
    "Tenemos distintos métodos para la representación de los enteros en una computadora, pero uno que es más utilizado es el de \"magnitud con signo\" en el que se utiliza un bit para el signo del número y los bits restantes para almacenar al número. El primer bit se le da el valor de $0$ para  codificar al signo `+` y el valor $1$ codifica al bit `-`. Entonces el número $-173$ se almacena con la cadena de $16$ bits:\n",
    "\n",
    "| | | | | | | | | | | | | | | | |\n",
    "|:---:|:---:|:---:|:---:|:---:|:---:|:---:|:---:|:---:|:---:|:---:|:---:|:---:|:---:|:---:|:---:|\n",
    "|1|0|0|0|0|0|0|0|1|0|1|0|1|1|0|1|\n",
    "\n"
   ]
  },
  {
   "cell_type": "markdown",
   "metadata": {},
   "source": [
    "Utilizamos la notación posicional para convertir este número binario a base 10: el primer bit es $1$ por lo que se tiene un signo negativo. Luego:\n"
   ]
  },
  {
   "cell_type": "markdown",
   "metadata": {},
   "source": [
    "$$\\begin{eqnarray}\n",
    "0*2^{14} + 0*2^{13} + \\dots+ 1*2^7+0*2^6+ 1*2^5+0*2^4+1*2^3+1*2^2+0*2^1+1*2^0 &=& \\nonumber \\\\\n",
    "1*2^7+ 1*2^5+1*2^3+1*2^2+1*2^0 &=& \\nonumber \\\\\n",
    "173 \\nonumber\n",
    "\\end{eqnarray}\n",
    "$$"
   ]
  },
  {
   "cell_type": "markdown",
   "metadata": {},
   "source": [
    "- Puedes usar \"C\" con jupyter notebooks\n",
    "- La ventaja es que aquí mismo puedes compilar y toda la cosa"
   ]
  },
  {
   "cell_type": "code",
   "execution_count": 1,
   "metadata": {},
   "outputs": [
    {
     "name": "stdout",
     "output_type": "stream",
     "text": [
      "suma: 173.000000"
     ]
    }
   ],
   "source": [
    "//%cflags:-lm\n",
    "#include<stdio.h>\n",
    "#include<math.h>\n",
    "int main(){\n",
    "    printf(\"suma: %f\",pow(2,7)+pow(2,5)+pow(2,3)+pow(2,2)+pow(2,0));\n",
    "    return 0;\n",
    "}"
   ]
  },
  {
   "cell_type": "markdown",
   "metadata": {},
   "source": [
    "```{admonition} Ejercicio\n",
    ":class: tip\n",
    "\n",
    "Determina el rango de enteros de base $10$ que puede representarse en una computadora de $16$ bits utilizando el primer bit para el signo\n",
    "```"
   ]
  },
  {
   "cell_type": "markdown",
   "metadata": {},
   "source": [
    "- Para el más grande solo hay que llenar con \"1's\" todo el arreglo salvo el primer número.\n",
    "- Para el más chico es lo mismo que el más grande, solo cambia que el primer dígito es 1 para asignar valor negativo.\n",
    "- Este ejercicio es importante para estar conscientes de que tenemos un rango de números disponibles."
   ]
  },
  {
   "cell_type": "markdown",
   "metadata": {},
   "source": [
    "### Reales"
   ]
  },
  {
   "cell_type": "markdown",
   "metadata": {},
   "source": [
    "Dadas las limitaciones en el almacenamiento de una computadora (hardware), sólo se representa un subconjunto de los números reales en ella, tal conjunto se denota como $\\mathcal{F}\\mathcal{l}$ y contiene números racionales:\n",
    "\n",
    "$$\\mathcal{F}\\mathcal{l} \\subset \\mathbb{Q} \\subset \\mathbb{R}.$$\n"
   ]
  },
  {
   "cell_type": "markdown",
   "metadata": {},
   "source": [
    "- Los números de punto flotante son un suconjunto de los racionales, los cuales a su vez son un subconjunto de los reales."
   ]
  },
  {
   "cell_type": "markdown",
   "metadata": {},
   "source": [
    "```{sidebar} Un poco de historia...\n",
    "\n",
    "En 1985 la IEEE publicó un estándar de nombre [Binary Floating Point Arithmetic Standard 754-1985](https://standards.ieee.org/standard/754-1985.html) y ha habido más estándares publicados, siendo el más reciente el [IEEE 754-2019](https://standards.ieee.org/standard/754-2019.html). El estándar $754-1985$ proveía estándares para números de punto flotante binarios y decimales, formatos para intercambio de datos, algoritmos para operaciones de redondeo y manejo de excepciones. Los formatos se especificaron para precisiones simple, doble y extendida y tales estándares son seguidos por las manufactureras de computadoras que utilizan el hardware de punto flotante:\n",
    "\n",
    "\"...A family of commercially feasible ways for new systems to perform binary floating-point arithmetic is defined. This standard specifies basic and extended floating-point number formats; add, subtract, multiply, divide, square root, remainder, and compare operations; conversions between integer and floating-point formats; conversions between different floating-point formats; conversions between basic-format floating-point numbers and decimal strings; and floating-point exceptions and their handling, including nonnumbers...\" (estándar $754-1985$)\n",
    "```"
   ]
  },
  {
   "cell_type": "markdown",
   "metadata": {},
   "source": [
    "## Sistema de punto flotante (SPF)"
   ]
  },
  {
   "cell_type": "markdown",
   "metadata": {},
   "source": [
    "En un sistema de punto flotante se define:\n",
    "\n",
    "1. Rango de un exponente definido por un límite inferior y uno superior.\n",
    "\n",
    "2. Base del sistema.\n",
    "\n",
    "3. Precisión."
   ]
  },
  {
   "cell_type": "markdown",
   "metadata": {},
   "source": [
    "Así, un número $x$ en el SPF, $x \\in \\mathcal{F}\\mathcal{l}$, se representa de la forma:\n",
    "\n",
    "$$\\pm 0.d_1d_2 \\dots d_k \\times \\beta^n .$$\n",
    "\n",
    "donde:\n",
    "\n",
    "$n$ es el exponente, $n \\in [L,U] \\cap \\mathbb{Z}$ con $L, U$ fijos.\n",
    "\n",
    "$k$ es la precisión.\n",
    "\n",
    "$\\beta$ es la base.\n",
    "\n",
    "$d_i \\in \\{0,1,\\dots,\\beta-1\\} \\forall i=1,\\dots,k$ son los dígitos.\n"
   ]
  },
  {
   "cell_type": "markdown",
   "metadata": {},
   "source": [
    "```{admonition} Definición\n",
    "\n",
    "A la parte $\\pm 0.d_1d_2 \\dots d_k$ se le nombra **mantisa**. A la porción $d_2 \\dots d_k$ se le nombra **fracción** $f$.\n",
    "\n",
    "```"
   ]
  },
  {
   "cell_type": "markdown",
   "metadata": {},
   "source": [
    "Los números reales que tienen una representación exacta en el $\\mathcal{F}\\mathcal{l}$ se les conoce como **números de máquina**."
   ]
  },
  {
   "cell_type": "markdown",
   "metadata": {},
   "source": [
    "- En el sistema de punto flotante la notación científica es muy importante"
   ]
  },
  {
   "cell_type": "markdown",
   "metadata": {},
   "source": [
    "### Ejemplo\n",
    "\n",
    "Supóngase un $\\mathcal{F}\\mathcal{l}$ con $\\beta = 10, k=4, n\\in[-4,3]\\cap \\mathbb{Z}$ entonces:\n",
    "\n",
    "$$0.3330 \\times 10^{-1} , 0.3300 \\times 10^{3} \\in \\mathcal{F}\\mathcal{L}$$\n",
    "\n",
    "pero: \n",
    "\n",
    "$$\\frac{1}{3} \\notin \\mathcal{F}\\mathcal{l}$$\n",
    "\n",
    "por lo que $0.333 \\times 10^{-1} , 0.3300 \\times 10^{3}$ son números de máquina.\n"
   ]
  },
  {
   "cell_type": "markdown",
   "metadata": {},
   "source": [
    "## SPFN"
   ]
  },
  {
   "cell_type": "markdown",
   "metadata": {},
   "source": [
    "```{margin}\n",
    "\n",
    "La representación normalizada permite una representación única de los números reales en el $\\mathcal{F}{l}$:\n",
    "\n",
    "el número $0.343 \\times 10^{-3}$ como se vio en el ejemplo $1)$ está en $\\mathcal{F}\\mathcal{l}$ pero ni $0.0343 \\times 10^{-2}$ ni $3.43 \\times 10^{-4}$ están en el $\\mathcal{F}\\mathcal{l}$.\n",
    "\n",
    "```"
   ]
  },
  {
   "cell_type": "markdown",
   "metadata": {},
   "source": [
    "- $d_1$ no se permite que sea 0"
   ]
  },
  {
   "cell_type": "markdown",
   "metadata": {},
   "source": [
    "Un Sistema de Punto Flotante Normalizado es aquel que cumple:\n",
    "\n",
    "$$d_1 \\in \\{1,2,\\dots \\beta -1\\}$$\n",
    "\n",
    "para números distintos de cero."
   ]
  },
  {
   "cell_type": "markdown",
   "metadata": {},
   "source": [
    "```{admonition} Observación\n",
    ":class: tip\n",
    "\n",
    "El número cero es el único que tiene dígitos de la mantisa y exponente iguales a cero.\n",
    "\n",
    "```"
   ]
  },
  {
   "cell_type": "markdown",
   "metadata": {},
   "source": [
    "### Ejemplo\n",
    "\n",
    "$\\beta = 10, k=3$, rango del exponente en $[-3,3] \\cap \\mathbb{Z}$, entonces algunos números en el SPFN:\n",
    "\n",
    "|Notación de punto flotante |Mantisa |Exponente|Valor de punto fijo|\n",
    "|:---:|:---:|:---:|:---:|\n",
    "|$0.153\\times10^0$|$0.153$|$0$|$0.153$|\n",
    "|$-0.990\\times10^2$|$-0.990$|$2$|$-99.0$|\n",
    "|$0.343\\times10^{-3}$|$0.343$|$-3$|$0.000343$|\n"
   ]
  },
  {
   "cell_type": "markdown",
   "metadata": {},
   "source": [
    "- Hay que notar que la presición está en la mantisa.\n",
    "- Si usamos el sistema normalizado, solo habrá una representación para cada número; en caso contrario habrá muchas representaciones.\n",
    "- $\\mathcal{F}\\mathcal{l}$ está compuesto por todos los números de máquina."
   ]
  },
  {
   "cell_type": "markdown",
   "metadata": {},
   "source": [
    "```{margin} **Nota**\n",
    "\n",
    "Se utiliza $(\\cdot)_{10}$ para representar un número en base 10 pero típicamente se omite escribir paréntesis y la base.\n",
    "\n",
    "```"
   ]
  },
  {
   "cell_type": "markdown",
   "metadata": {},
   "source": [
    "### Ejemplo\n",
    "\n",
    "En un SPFN con $\\beta=2, k=3$, rango del exponente en $[0,2] \\cap \\mathbb{Z}$ se tiene:\n",
    "\n",
    "a) El número más grande positivo que es posible representar es:\n",
    "\n",
    "$$0.111 \\times 2^2 = (11.1)_2 = 1*2^1 + 1*2^0 + 1*2^{-1} = (3.5)_{10}.$$\n",
    "\n",
    "b) El más chico positivo es:\n",
    "\n",
    "$$0.100 \\times 2^0 = (0.1)_2 = 1*2^{-1} = (0.5)_{10}.$$\n"
   ]
  },
  {
   "cell_type": "markdown",
   "metadata": {},
   "source": [
    "- Hay que notar que el exponente \"-1\" en el ejemplo \"b)\" es por la posición del número que queremos representar."
   ]
  },
  {
   "cell_type": "markdown",
   "metadata": {},
   "source": [
    "```{admonition} Observación\n",
    ":class: tip\n",
    "\n",
    "En un SPFN con $\\beta=2$ no es necesario almacenar el primer bit pues siempre es $1$ por lo que sólo se almacenará la parte fraccionaria de la forma $1.f$ (más sobre esto en la siguiente sección).\n",
    "\n",
    "```"
   ]
  },
  {
   "cell_type": "markdown",
   "metadata": {},
   "source": [
    "- Conclusiones que podemos sacar\n",
    "    - Tenemos un numero más grande positivo y más chico positivo que podemos representar si nos dan una base y una posición.\n",
    "    - En una máquina tenemos más bits disponibles pero también se puede determinar un límite superior y uno inferior."
   ]
  },
  {
   "cell_type": "markdown",
   "metadata": {},
   "source": [
    "## Números de máquina binarios"
   ]
  },
  {
   "cell_type": "markdown",
   "metadata": {},
   "source": [
    "Un SPF de doble precisión utiliza 64 bits para representar un número real. El primero es un indicador de signo denotado por $s$. Le siguen $11$ bits para construir al exponente $n$ y $52$ bits que construyen a la parte fraccionaria $f$ de la mantisa. La base es $\\beta=2$.\n",
    "\n",
    "\n",
    "Si es SPFN entonces aunque se tienen 52 bits, éstos se utilizan para almacenar un dígito más del número (ver **Observación** anterior). Así, en un SPF en general maneja 52 (o 53 si se usa la **Observación** anterior) dígitos binarios, que corresponden a aproximadamente 15 (o 16) dígitos decimales. Ver: [Double-precision floating-point format](https://en.wikipedia.org/wiki/Double-precision_floating-point_format).\n"
   ]
  },
  {
   "cell_type": "markdown",
   "metadata": {},
   "source": [
    "- Debido a que estamos en base 2, estamos usando el truco de no guardar $d_1$ (eficiencia)"
   ]
  },
  {
   "cell_type": "code",
   "execution_count": 3,
   "metadata": {},
   "outputs": [
    {
     "name": "stdout",
     "output_type": "stream",
     "text": [
      "52 bits corresponden aproximadamente a: 15.653560 dígitos decimales\n",
      "53 bits corresponden aproximadamente a: 15.954590 dígitos decimales\n"
     ]
    }
   ],
   "source": [
    "//%cflags:-lm\n",
    "#include<stdio.h>\n",
    "#include<math.h>\n",
    "int main(){\n",
    "    printf(\"52 bits corresponden aproximadamente a: %f dígitos decimales\\n\", log10(pow(2,52)));\n",
    "    printf(\"53 bits corresponden aproximadamente a: %f dígitos decimales\\n\", log10(pow(2,53)));\n",
    "    return 0;\n",
    "}"
   ]
  },
  {
   "cell_type": "markdown",
   "metadata": {},
   "source": [
    "- Todos los números que escribamos lo tendremos a una precisión de 15-16 decimales."
   ]
  },
  {
   "cell_type": "markdown",
   "metadata": {},
   "source": [
    "Los 11 bits que se utilizan para construir al exponente producen un rango de $0$ a $2^{11}-1=2047:$\n"
   ]
  },
  {
   "cell_type": "code",
   "execution_count": 4,
   "metadata": {},
   "outputs": [
    {
     "name": "stdout",
     "output_type": "stream",
     "text": [
      "Suma de 2^0 + 2^1 + ... + 2^10: 2047"
     ]
    }
   ],
   "source": [
    "//%cflags:-lm\n",
    "#include<stdio.h>\n",
    "#include<math.h>\n",
    "int main(){\n",
    "    int sum = 0;\n",
    "    int n=10;\n",
    "    int i;\n",
    "    for(i=0;i<=n;i++)\n",
    "        sum+=pow(2,i);\n",
    "    printf(\"Suma de 2^0 + 2^1 + ... + 2^10: %d\", sum);\n",
    "    return 0;\n",
    "}"
   ]
  },
  {
   "cell_type": "markdown",
   "metadata": {},
   "source": [
    "- El problema con este rango es que vamos a tener un hueco de 0 a 1.\n",
    "- Es por eso que aplicamos un truco para rellenar el espacio vacío mencionado.\n",
    "- Los exponentes los guardas como positivos y tienes ya guardado en otra pate el \"-1,023\" para hacer la resta."
   ]
  },
  {
   "cell_type": "markdown",
   "metadata": {},
   "source": [
    "\n",
    "pero esto construye un exponente con signo positivo, por lo que se resta (*offset*) la cantidad de $-1023$ y se tiene el rango del exponente en $[-1023,1024] \\cap \\mathbb{Z}$:\n",
    "\n",
    "$$2^{n-1023}.$$\n",
    "\n",
    "Y un valor de $n=1023$ representa un exponente de $0$.\n",
    "\n",
    "Los valores $-1023$ (todos los bits iguales a $0$) y $1024$ (todos los bits iguales a $1$) para el exponente se reservan para números especiales. Por esto, el exponente corre en el rango de $[-1022, 1023] \\cap \\mathbb{Z}$.\n",
    "\n",
    "Todos los bits iguales a 0 para el exponente se utiliza para representar al número 0 con signo (si su fracción $f$ es $0$) y a los números subnormales (si su fracción $f$ es $\\neq0$). Todos los bits iguales a 1 se utiliza para representar $\\infty$ (si su fracción $f$ es $0$) y NaNs (si su fracción $f$ $\\neq 0$).\n"
   ]
  },
  {
   "cell_type": "markdown",
   "metadata": {},
   "source": [
    "Entonces un número de máquina binario en un SPFN se representa por:\n",
    "\n",
    "$$(-1)^s2^{n-1023}(1+f)$$\n"
   ]
  },
  {
   "cell_type": "markdown",
   "metadata": {},
   "source": [
    "```{margin}\n",
    "\n",
    "Los números subnormales son todos aquellos números con magnitud menor al número más chico positivo normalizado. Con estos números se sacrifica precisión por representatividad alrededor del $0$. Para representar a estos números $d_1$ no es igual a $1$.\n",
    "\n",
    "```"
   ]
  },
  {
   "cell_type": "markdown",
   "metadata": {},
   "source": [
    "\n",
    "Y los subnormales como:\n",
    "\n",
    "$$(-1)^s2^{1-1023}(0+f)=(-1)^s2^{-1022}f.$$\n",
    "\n"
   ]
  },
  {
   "cell_type": "markdown",
   "metadata": {},
   "source": [
    "```{admonition} Observación\n",
    ":class: tip\n",
    "\n",
    "Obsérvese que aunque el exponente para los números subnormales se describió que tiene bits iguales a $0$ se toma una $n=1$ para finalmente tener el exponente $n-1023 = 1-1023 = -1022$. Esto se realiza para tener un *gradual underflow*, ver [Denormal_number](https://en.wikipedia.org/wiki/Denormal_number). Si se tomara de forma estricta $n=0$ (bits iguales a $0$) y por tanto un exponente $n-1023=-1023$ habría un hueco entre el número positivo más pequeño normalizado y el más grande positivo subnormal:\n",
    "\n",
    "$$0 00000000001 0000000000000000000000000000000000000000000000000000$$\n",
    "\n",
    "$$0 00000000000 1111111111111111111111111111111111111111111111111111$$\n",
    "\n",
    "respectivamente. Lo anterior extraído de [Double precision examples](https://en.wikipedia.org/wiki/Double-precision_floating-point_format#Double-precision_examples).\n",
    "```"
   ]
  },
  {
   "cell_type": "markdown",
   "metadata": {},
   "source": [
    "```{admonition} Comentario\n",
    "\n",
    "\n",
    "Hay dos representaciones para el $0$, una con signo positivo ($s=0, n=0, f=0$) y otra con signo negativo ($s=1,n=0,f=0$).\n",
    "\n",
    "```"
   ]
  },
  {
   "cell_type": "markdown",
   "metadata": {},
   "source": [
    "### Ejemplo\n",
    "\n",
    "* El valor del exponente más chico para los números normales es: $2^{1-1023} = 2^{-1022}$.\n",
    "\n",
    "* El valor del exponente más grande es: $2^{2046-1023} = 2^{1023}$.\n"
   ]
  },
  {
   "cell_type": "markdown",
   "metadata": {},
   "source": [
    "### Ejemplo\n",
    "\n",
    "Considérese el número formado por:\n",
    "\n",
    "primer bit: $0$.\n",
    "\n",
    "bits del exponente: $10000000011$.\n",
    "\n",
    "bits de la mantisa: $1011100100010\\dots0$.\n",
    "\n",
    "Entonces:\n",
    "\n",
    "1. El número es positivo pues $s=0$: $(-1)^s = 1$.\n",
    "\n",
    "2. Los bits del exponente generan al número decimal:\n",
    "\n",
    "$$n = 1*2^{10} + 0*2^9+\\dots+0*2^2+1*2^1+1*2^0=1024+2+1=1027$$\n",
    "\n",
    "por lo que el exponente es $4$: $2^{1027-1023}=2^4$.\n",
    "\n",
    "3. Los bits de la mantisa generan al número decimal:\n",
    "\n",
    "$$1*2^{-1} + 1*2^{-3}+1*2^{-4}+1*2^{-5}+1*2^{-8} + 1*2^{-12} = 0.7229.$$\n"
   ]
  },
  {
   "cell_type": "code",
   "execution_count": 5,
   "metadata": {},
   "outputs": [
    {
     "name": "stdout",
     "output_type": "stream",
     "text": [
      "Suma de 2^-1 + 2^-3 + 2^-4+2^-5+2^-8+2^-12: 0.722900"
     ]
    }
   ],
   "source": [
    "//%cflags:-lm\n",
    "#include<stdio.h>\n",
    "#include<math.h>\n",
    "int main(){\n",
    "    printf(\"Suma de 2^-1 + 2^-3 + 2^-4+2^-5+2^-8+2^-12: %f\", pow(2,-1)+pow(2,-3)+pow(2,-4)+pow(2,-5)+pow(2,-8)+pow(2,-12));\n",
    "    return 0;\n",
    "}"
   ]
  },
  {
   "cell_type": "markdown",
   "metadata": {},
   "source": [
    "Entonces el número de máquina binario $0$ $10000000011$ $1011100100010\\dots0$ es el número decimal:\n",
    "\n",
    "$$(-1)^s2^{n-1023}(1+f)=(-1)^{0}2^{4}(1+0.7229) =27.5664 $$\n"
   ]
  },
  {
   "cell_type": "code",
   "execution_count": 6,
   "metadata": {},
   "outputs": [
    {
     "name": "stdout",
     "output_type": "stream",
     "text": [
      "2^4(1.7229): 27.566400"
     ]
    }
   ],
   "source": [
    "//%cflags:-lm\n",
    "#include<stdio.h>\n",
    "#include<math.h>\n",
    "int main(){\n",
    "    printf(\"2^4(1.7229): %f\",pow(2,4)*1.7229);\n",
    "    return 0;\n",
    "}"
   ]
  },
  {
   "cell_type": "markdown",
   "metadata": {},
   "source": [
    "## Valores interesantes en un SPFN de doble precisión"
   ]
  },
  {
   "cell_type": "markdown",
   "metadata": {},
   "source": [
    "El número de máquina más grande positivo normalizado es: \n",
    "\n",
    "$$2^{1023}(1+(2^{-1}+\\dots+2^{-52}))=2^{1023}(1+(1-2^{-52})) = 2^{1023}(2-2^{-52}) \\approx 1.7977 \\times 10^{308}.$$"
   ]
  },
  {
   "cell_type": "code",
   "execution_count": 7,
   "metadata": {},
   "outputs": [
    {
     "name": "stdout",
     "output_type": "stream",
     "text": [
      "Numéro más grande positivo: 1.797693e+308\n"
     ]
    }
   ],
   "source": [
    "#include<stdio.h>\n",
    "#include<float.h>\n",
    "int main(){\n",
    "    printf(\"Numéro más grande positivo: %e\\n\", DBL_MAX);\n",
    "    return 0;\n",
    "}\n"
   ]
  },
  {
   "cell_type": "markdown",
   "metadata": {},
   "source": [
    "Números que rebasen este límite superior resultan en un **overflow**:"
   ]
  },
  {
   "cell_type": "code",
   "execution_count": 8,
   "metadata": {},
   "outputs": [
    {
     "name": "stdout",
     "output_type": "stream",
     "text": [
      "overflow: inf\n"
     ]
    }
   ],
   "source": [
    "//%cflags:-lm\n",
    "#include<stdio.h>\n",
    "#include<float.h>\n",
    "#include<math.h>\n",
    "int main(){\n",
    "    printf(\"overflow: %e\\n\", DBL_MAX + 0.0000000000000001*pow(10,308));\n",
    "    return 0;\n",
    "}\n"
   ]
  },
  {
   "cell_type": "markdown",
   "metadata": {},
   "source": [
    "```{admonition} Ejercicio \n",
    ":class: tip\n",
    "\n",
    "Da más ejemplos de ejecuciones como la anterior que resulten en overflow.\n",
    "```"
   ]
  },
  {
   "cell_type": "markdown",
   "metadata": {},
   "source": [
    "El número de máquina **normalizado** más pequeño positivo es: \n",
    "\n",
    "$$2^{-1022}(1+0) \\approx 2.2251 \\times 10^{-308}.$$"
   ]
  },
  {
   "cell_type": "code",
   "execution_count": 9,
   "metadata": {},
   "outputs": [
    {
     "name": "stdout",
     "output_type": "stream",
     "text": [
      "Numéro normalizado más chico positivo: 2.225074e-308\n"
     ]
    }
   ],
   "source": [
    "#include<stdio.h>\n",
    "#include<float.h>\n",
    "int main(){\n",
    "    printf(\"Numéro normalizado más chico positivo: %e\\n\", DBL_MIN);\n",
    "    return 0;\n",
    "}\n"
   ]
  },
  {
   "cell_type": "markdown",
   "metadata": {},
   "source": [
    "El número de máquina no normalizado o **subnormalizado** más chico positivo es del orden de \n",
    "\n",
    "$$2^{-1022}(2^{-52})=2^{-1074} \\approx 10^{-324}.$$"
   ]
  },
  {
   "cell_type": "code",
   "execution_count": 10,
   "metadata": {},
   "outputs": [
    {
     "name": "stdout",
     "output_type": "stream",
     "text": [
      "Numéro más chico positivo: 4.940656e-324\n"
     ]
    }
   ],
   "source": [
    "//%cflags:-lm\n",
    "#include<stdio.h>\n",
    "#include<float.h>\n",
    "#include<math.h>\n",
    "int main(){\n",
    "    printf(\"Numéro más chico positivo: %e\\n\", pow(2,-52)*DBL_MIN);\n",
    "    return 0;\n",
    "}"
   ]
  },
  {
   "cell_type": "markdown",
   "metadata": {},
   "source": [
    "Números con magnitud más chica que el valor anterior resultan en un **underflow**:"
   ]
  },
  {
   "cell_type": "code",
   "execution_count": 11,
   "metadata": {},
   "outputs": [
    {
     "name": "stdout",
     "output_type": "stream",
     "text": [
      "Underflow: 0.000000e+00\n"
     ]
    }
   ],
   "source": [
    "//%cflags:-lm\n",
    "#include<stdio.h>\n",
    "#include<float.h>\n",
    "#include<math.h>\n",
    "int main(){\n",
    "    printf(\"Underflow: %e\\n\",(1-.5)*pow(2,-52)*DBL_MIN);\n",
    "    return 0;\n",
    "}"
   ]
  },
  {
   "cell_type": "markdown",
   "metadata": {},
   "source": [
    "```{admonition} Ejercicio\n",
    ":class: tip\n",
    "\n",
    "Da más ejemplos de ejecuciones como la anterior que resulten en underflow.\n",
    "```"
   ]
  },
  {
   "cell_type": "markdown",
   "metadata": {},
   "source": [
    "### Epsilon de la máquina $\\epsilon_{maq}$"
   ]
  },
  {
   "cell_type": "code",
   "execution_count": 12,
   "metadata": {},
   "outputs": [
    {
     "name": "stdout",
     "output_type": "stream",
     "text": [
      "Epsilon de la máquina equivale aproximadamente a 2^(-53): 1.110223e-16\n"
     ]
    }
   ],
   "source": [
    "//%cflags:-lm\n",
    "#include<stdio.h>\n",
    "#include<float.h>\n",
    "#include<math.h>\n",
    "int main(){\n",
    "    printf(\"Epsilon de la máquina equivale aproximadamente a 2^(-53): %e\\n\", DBL_EPSILON/2);\n",
    "    return 0;\n",
    "}"
   ]
  },
  {
   "cell_type": "markdown",
   "metadata": {},
   "source": [
    "El valor anterior representa el máximo **error relativo** en la representación de un número real en su número de máquina. Como se observa en la ejecución anterior $\\epsilon_{maq} \\approx 2^{-53} \\approx 1.11 \\times 10 ^{-16}$ por lo que tenemos alrededor de $15$ o $16$ dígitos de precisión para un número real en el SPFN de doble precisión.\n"
   ]
  },
  {
   "cell_type": "markdown",
   "metadata": {},
   "source": [
    "```{admonition} Definición\n",
    "\n",
    "Si `aprox` es mi cantidad con la que aproximo a mi objetivo `obj` entonces el error absoluto de `aprox` y el error relativo de `aprox` es:\n",
    "\n",
    "$$ErrAbs(aprox) = |aprox - obj|.$$\n",
    "\n",
    "$$ErrRel(aprox) = \\frac{ErrAbs(aprox)}{|obj|}.$$\n",
    "\n",
    "En la definición anterior de error relativo se asume `obj` es diferente de $0$.\n",
    "\n",
    "Si $ErrRel(aprox) \\approx 10^{-k}$ se dice que `aprox` aproxima a `obj` con alrededor de $k$ dígitos correctos.\n",
    "```"
   ]
  },
  {
   "cell_type": "markdown",
   "metadata": {},
   "source": [
    "- Todas las máquinas tendrán estos valores especiales que estamos viendo"
   ]
  },
  {
   "cell_type": "markdown",
   "metadata": {},
   "source": [
    "```{admonition} Comentarios\n",
    "\n",
    "Otras definiciones para $\\epsilon_{maq}$ son:\n",
    "\n",
    "* $\\epsilon_{maq}$ es el número más chico positivo tal que: $1 + \\epsilon_{maq} \\neq 1$ a precisión de la máquina.\n",
    "\n",
    "* $\\epsilon_{maq}$ es la distancia del número $1$ al siguiente número de máquina.\n",
    "\n",
    "Aunque las tres definiciones pueden diferir ligeramente, las tres pretenden dar la medida de granularidad de un SPF. Una representación gráfica para números positivos de un SPF es la siguiente:\n",
    "\n",
    "<img src=\"https://dl.dropboxusercontent.com/s/bkxfiqni0f8izhi/SPFN_graficamente.png?dl=0\" heigth=\"500\" width=\"500\">\n",
    "```"
   ]
  },
  {
   "cell_type": "markdown",
   "metadata": {},
   "source": [
    "- Cualquier número entre el 0 y el primer número de máquina se redondeará a 0.\n",
    "- Todos los números por arriba del número de máquina más grande se va a infinito.\n",
    "- Los números que caen en los huecos, la máquina tendrá que elegir el número de máquina que quiere utilizar.\n",
    "    - La idea de los algoritmos es que busquemos no amplificar ese error de redondeo.\n",
    "    - Parecería que el error es más grande entre más grandes sean los números que usas, pero en realidad es que, en términos relativos, el error va a ser el mismo."
   ]
  },
  {
   "cell_type": "markdown",
   "metadata": {},
   "source": [
    "Se tienen las siguientes afirmaciones:\n",
    "\n",
    "* El intervalo $[1,2]$ en un SPFN de doble precisión está formado por la secuencia de números de máquina: $1, 1+ 2^{-52}, 1 + 2\\times 2^{-52}, 1+ 3\\times2^{-52}, \\dots, 2$.\n",
    "\n",
    "* El intervalo $[2,4]$ en tal sistema está formado por: $2, 2+ 2^{-51}, 2 + 2\\times 2^{-51}, 2+ 3\\times2^{-51}, \\dots, 4$.\n",
    "\n",
    "Por lo que el intervalo $[2^j, 2^{j+1}]$ se obtiene multiplicando $2^j$ veces la secuencia en $[1,2]$ y los huecos entre un número de máquina y otro número de máquina no son en términos relativos más grandes que $2^{-52} \\approx 2.22 \\times 10^{-16}$.\n",
    "\n",
    "Asimismo, el intervalo $[\\frac{1}{2}, 1]$ en tal sistema está formado por: $\\frac{1}{2}, \\frac{1}{2}+2^{-53},\\frac{1}{2}+2\\times2^{-53},\\frac{1}{2}+3\\times2^{-53},\\dots , 1$.\n",
    "\n",
    "Si continuamos con esta idea puede verificarse que el cociente $\\frac{\\text{número de máquina}_{j+1} - \\text{número de máquina}_{j}}{2^{j+1}}$ es igual a $\\frac{2^{j-52}}{2^{j+1}} = 2^{-53}$. Entonces el espaciado entre cada número de máquina en el intervalo $[2^j, 2^{j+1}]$ siempre es menor o igual a $2^{-53} = \\epsilon_{maq}$. "
   ]
  },
  {
   "cell_type": "markdown",
   "metadata": {},
   "source": [
    "\n",
    "Una forma computacional de obtener al $\\epsilon_{maq}$ de forma sencilla es con el cálculo:\n"
   ]
  },
  {
   "cell_type": "code",
   "execution_count": 13,
   "metadata": {},
   "outputs": [
    {
     "name": "stdout",
     "output_type": "stream",
     "text": [
      "Epsilon de la máquina: 2.220446e-16\n"
     ]
    }
   ],
   "source": [
    "#include<stdio.h>\n",
    "#include<float.h>\n",
    "int main(){\n",
    "    printf(\"Epsilon de la máquina: %e\\n\", 1-3.0*(4/3.0-1));\n",
    "    return 0;\n",
    "}"
   ]
  },
  {
   "cell_type": "markdown",
   "metadata": {},
   "source": [
    "```{admonition} Pregunta\n",
    ":class: tip\n",
    "\n",
    "¿Por qué funciona esto? tip: imprímase el cálculo $3.0*(4/3.0-1)$ con el especificador de formato de la función `printf` `%.16f` o bien `%.15e`.\n",
    "\n",
    "```"
   ]
  },
  {
   "cell_type": "markdown",
   "metadata": {},
   "source": [
    "## Reglas de corte y redondeo"
   ]
  },
  {
   "cell_type": "markdown",
   "metadata": {},
   "source": [
    "- Estas son las reglas para que la máquina haga una aproximación cuando caiga en un hueco."
   ]
  },
  {
   "cell_type": "markdown",
   "metadata": {},
   "source": [
    "Al ver el diagrama anterior de la representación gráfica de un SPF se observa que existen huecos entre cada número de máquina. Lo anterior implica que al ingresar un número real $x$ en la computadora, ésta realiza una aproximación a $x$ que se encuentre en el SPF. Esta aproximación genera errores conocidos con el nombre de **errores por redondeo**.\n",
    "\n",
    "Entre las reglas que una computadora realiza para dar las aproximaciones a un número $x \\in \\mathbb{R}$ están: la regla de corte y la de redondeo y se pueden representar con funciones matemáticas:\n",
    "\n",
    "**Regla de corte:** sea $fl_c : \\mathbb{R} \\rightarrow \\mathcal{F}\\mathcal{l}$ una función cuya regla de correspondencia es: $x \\in \\mathbb{R}$ con $x$ en el rango de valores del SPF, entonces: $x = \\pm 0.d_1d_2 \\dots d_kd_{k+1}\\dots \\times \\beta^n$ y la regla de corte a $k$ dígitos es: $fl_c(x) = \\pm 0.d_1d_2 \\dots d_k$.\n",
    "\n",
    "**Regla de redondeo:** sean $\\beta=10$ y $fl_r : \\mathbb{R} \\rightarrow \\mathcal{F}\\mathcal{l}$ una función cuya regla de correspondencia es: $x \\in \\mathbb{R}$ con $x$ en el rango de valores del SPF, entonces: $x = \\pm 0.d_1d_2 \\dots d_kd_{k+1}\\dots \\times \\beta^n$ y la regla de redondeo es:\n",
    "\n",
    " $$f_r(x) = \\begin{cases}\n",
    "\\text{sumar uno a } d_k & \\text{si } d_{k+1} \\geq 5,\\\\\n",
    "f_c(x) & \\text{en otro caso}\n",
    "\\end{cases}$$\n",
    "\n"
   ]
  },
  {
   "cell_type": "markdown",
   "metadata": {},
   "source": [
    "```{admonition} Observación\n",
    ":class: tip\n",
    "\n",
    "La regla $fl_r(\\cdot)$ también suele definirse como antes y añadiendo la restricción que considera si es par o impar el último dígito en caso de empate, entonces se almacena el par. Lo anterior se conoce como [*round half to even*](https://en.wikipedia.org/wiki/Rounding#Round_half_to_even).\n",
    "```"
   ]
  },
  {
   "cell_type": "markdown",
   "metadata": {},
   "source": [
    "### Ejemplo\n",
    "\n",
    "$\\pi=3.141592\\dots = 0.3141592\\dots \\times 10^1$. Si un SPFN usa $k=5$ entonces:\n",
    "\n",
    "$$fl_c(\\pi) = 0.31415.$$\n",
    "\n",
    "$$fl_r(\\pi) = 0.31416.$$\n",
    "\n"
   ]
  },
  {
   "cell_type": "markdown",
   "metadata": {},
   "source": [
    "### Ejemplo\n",
    "\n",
    "Supóngase que $fl_r(\\cdot)$ hace diferencia entre el último dígito almacenado es par e impar (*round half to even*). Entonces para $k=2$:\n",
    "\n",
    "|Número: x|Corte: $fl_c(x)$|Redondeo: $fl_r(x)$| \n",
    "|:--:|:--:|:--:|\n",
    "|0.1649|0.16|0.16|\n",
    "|0.1650|0.16|0.16|\n",
    "|0.1651|0.16|0.17|\n",
    "|0.1749|0.17|0.17|\n",
    "|0.1750|0.17|0.18|\n",
    "|0.1751|0.17|0.18|\n"
   ]
  },
  {
   "cell_type": "markdown",
   "metadata": {},
   "source": [
    "En la tabla anterior el empate lo encontramos en los casos en los que $x=0.1650$ y $x=0.1750$ pues están a la mitad del intervalo $[0.16, 0.17]$ y $[0.17, 0.18]$ respectivamente. Por lo anterior, la regla $fl_r$ con el *round half to even* realiza la siguiente asignación:\n",
    "\n",
    "* Para el caso $x=0.1650$ resulta en $fl_r(x) = 0.16$ pues $k=2$ y entonces se almacena el dígito $6$ (par) y no el $7$.\n",
    "\n",
    "* Para el caso $x=0.1750$ resulta en $fl_r(x) = 0.18$ pues $k=2$ y entonces se almacena el dígito $8$ (par) y no el $7$.\n",
    "\n",
    "* Para los casos $0.1649,0.1651,0.1749,0.1751$ como no hay empate se aplica la regla $fl_r$ sin la restricción con lo que resulta en los valores $0.16,0.17,0.17,0.18$ respectivamente."
   ]
  },
  {
   "cell_type": "markdown",
   "metadata": {},
   "source": [
    "```{admonition} Pregunta\n",
    ":class: tip\n",
    "\n",
    "Para el caso en el que $k=3$ teniendo el punto $x = 0.16550$ que está a la mitad del intervalo $[0.165,0.166]$ (hay empate) ¿cuál es el resultado de $fl_r(x)$ con *round half to even*?\n",
    "```"
   ]
  },
  {
   "cell_type": "markdown",
   "metadata": {},
   "source": [
    "Por los ejemplos anteriores se puede comprobar que la regla de redondeo tiene menor error que la de corte:"
   ]
  },
  {
   "cell_type": "markdown",
   "metadata": {},
   "source": [
    "<img src=\"https://dl.dropboxusercontent.com/s/e8iqxqelkxj1y8r/regla_corte_redondeo.png?dl=0\" heigth=\"500\" width=\"500\">\n",
    "\n",
    "En el dibujo anterior considérese como números de máquina $x, x-\\Delta x, x - \\frac{\\Delta x}{2}, x+ \\frac{\\Delta x}{2}, x + \\Delta x$."
   ]
  },
  {
   "cell_type": "markdown",
   "metadata": {},
   "source": [
    "```{admonition} Definición\n",
    "\n",
    "Otra expresión utilizada para la regla $fl(\\cdot)$ es a partir de la definición de error relativo: $aprox = obj(1+ErrRel(aprox))$ (si $aprox \\geq obj$ y $obj > 0$):\n",
    "\n",
    "$$\\forall{x}\\in \\mathbb{R} \\exists \\epsilon \\in \\mathbb{R} \\text{ con } |\\epsilon| \\leq \\epsilon_{maq} \\text{ tal que: }.$$\n",
    "\n",
    "$$fl(x) = x(1+\\epsilon), |\\epsilon| \\leq \\epsilon_{maq}.$$\n",
    "\n",
    "cuya interpretación es: la diferencia entre $x$ con $fl(x)$ es un término (en magnitud) de a lo más $\\epsilon_{maq}$ relativo a $|x|$.\n",
    "```"
   ]
  },
  {
   "cell_type": "markdown",
   "metadata": {},
   "source": [
    "```{admonition} Comentario\n",
    "\n",
    "Un resultado que puede verificarse de forma teórica es:\n",
    "\n",
    " $$\\epsilon_{maq} = \\begin{cases}\n",
    "\\beta^{1-k} &\\text{ si se utiliza regla de corte},\\\\\n",
    "\\frac{1}{2}\\beta^{1-k} &\\text{ si se utiliza la regla de redondeo}\n",
    "\\end{cases}$$\n",
    "\n",
    "Para el caso de un sistema de punto flotante de doble precisión se tiene $1-k = -52$ esto es: $k=53$.\n",
    "```"
   ]
  },
  {
   "cell_type": "markdown",
   "metadata": {},
   "source": [
    "### Ejemplo\n",
    "\n",
    "Considérese un SPFN con $\\beta=2, k=3$ entonces si se utiliza la regla de corte:\n",
    "\n",
    "$$\\epsilon_{maq} = \\beta^{1-k} = \\beta^{-2}=2^{-2}=0.25.$$\n",
    "\n",
    "si se utiliza la regla de redondeo:\n",
    "\n",
    "$$\\epsilon_{maq} = \\frac{1}{2}\\beta^{1-k} = \\frac{1}{2}\\beta^{-2}=\\frac{1}{2}2^{-2}=0.125.$$\n"
   ]
  },
  {
   "cell_type": "markdown",
   "metadata": {},
   "source": [
    "## Aritmética de máquina."
   ]
  },
  {
   "cell_type": "markdown",
   "metadata": {},
   "source": [
    "Además de representar números reales en la máquina otro objetivo es el de realizar operaciones entre ellos. Si la representación de números tiene un error asociado (error por redondeo) entonces es natural pensar que las operaciones aritméticas también tendrán errores por redondeo. Las razones de los errores son nuevamente el uso de precisión finita y la conversión entre bases: al ingresar números a la computadora se convierte a base $2$ (por ejemplo), se realizan operaciones y el resultado se presenta en base $10$. \n",
    "\n",
    "Para analizar los errores por redondeo que se presentan en la aritmética de máquina es suficiente considerar la base $10$, no conversiones entre bases (por ejemplo de la base $2$ a la base $10$) y utilizar los siguientes operadores y suposiciones:\n",
    "\n",
    "Supongamos que se tiene un SPFN y $fl(\\cdot)$ regla de corte o redondeo a una precisión $k$ dada. Sean $a,b \\in \\mathbb{R}$, se definen los siguientes operadores en el SPFN:\n",
    "\n",
    "$$\\oplus: \\mathbb{R}^2 \\rightarrow \\mathcal{F}\\mathcal{l} \\quad a \\oplus b = fl(fl(a) + fl(b)).$$\n"
   ]
  },
  {
   "cell_type": "markdown",
   "metadata": {},
   "source": [
    "$$\\ominus: \\mathbb{R}^2 \\rightarrow \\mathcal{F}\\mathcal{l} \\quad a \\ominus b = fl(fl(a) - fl(b)).$$\n"
   ]
  },
  {
   "cell_type": "markdown",
   "metadata": {},
   "source": [
    "$$\\otimes: \\mathbb{R}^2 \\rightarrow \\mathcal{F}\\mathcal{l} \\quad a \\otimes b = fl(fl(a) \\cdot fl(b)).$$\n"
   ]
  },
  {
   "cell_type": "markdown",
   "metadata": {},
   "source": [
    "$$\\oslash: \\mathbb{R}^2 \\rightarrow \\mathcal{F}\\mathcal{l} \\quad a \\oslash b = fl(fl(a) \\div fl(b)).$$\n"
   ]
  },
  {
   "cell_type": "markdown",
   "metadata": {},
   "source": [
    "```{admonition} Ejercicio\n",
    ":class: tip\n",
    "\n",
    "Considérese $x = \\frac{5}{7} \\approx \\overline{0.714285}$, $y=\\frac{1}{3} = \\overline{.3}$, $u=0.714251, v=98765.9, w=0.111111 \\times 10^{-4}$ y un SPFN con $\\beta=10, k=5$. Entonces llenar la siguiente tabla de acuerdo a las instrucciones: \n",
    "\n",
    "1. En la columna \"Aritmética de máquina con k=8\" se realiza aritmética a $8$ dígitos con las operaciones definidas previamente $\\oplus, \\ominus, \\otimes, \\oslash$ con la regla de corte $fl_c(\\cdot)$. \n",
    "\n",
    "2. En la columna \"Aritmética de máquina con k=5\" se realiza aritmética a $5$ dígitos con las operaciones definidas previamente $\\oplus, \\ominus, \\otimes, \\oslash$ con la regla de corte $fl_c(\\cdot)$. \n",
    "\n",
    "3. Para el cálculo de errores absoluto y relativo tomar como valor real u objetivo el valor a $8$ dígitos.\n",
    "```"
   ]
  },
  {
   "cell_type": "markdown",
   "metadata": {},
   "source": [
    "- Para este ejercicio vamos a usar la aproximación a k=8 como el objetivo y la aproximación a k=5 como el aproximado.\n",
    "- Hay que notar que aquí no estamos considerando el error de convertir a base 2."
   ]
  },
  {
   "cell_type": "code",
   "execution_count": 10,
   "metadata": {
    "ExecuteTime": {
     "end_time": "2020-08-19T23:55:36.206197Z",
     "start_time": "2020-08-19T23:55:36.201742Z"
    }
   },
   "outputs": [
    {
     "data": {
      "text/plain": [
       "1.04761904"
      ]
     },
     "execution_count": 10,
     "metadata": {},
     "output_type": "execute_result"
    }
   ],
   "source": [
    "k = 8\n",
    "c1 = round(round(5/7, k) + round(1/3, k), k)\n",
    "c1"
   ]
  },
  {
   "cell_type": "code",
   "execution_count": 11,
   "metadata": {
    "ExecuteTime": {
     "end_time": "2020-08-19T23:55:36.595384Z",
     "start_time": "2020-08-19T23:55:36.591867Z"
    }
   },
   "outputs": [
    {
     "data": {
      "text/plain": [
       "1.04762"
      ]
     },
     "execution_count": 11,
     "metadata": {},
     "output_type": "execute_result"
    }
   ],
   "source": [
    "k = 5\n",
    "c2 = round(round(5/7, k) + round(1/3, k), k)\n",
    "c2"
   ]
  },
  {
   "cell_type": "code",
   "execution_count": 33,
   "metadata": {
    "ExecuteTime": {
     "end_time": "2020-08-20T00:22:32.157296Z",
     "start_time": "2020-08-20T00:22:32.154234Z"
    }
   },
   "outputs": [
    {
     "name": "stdout",
     "output_type": "stream",
     "text": [
      "0.10476190e1\n"
     ]
    }
   ],
   "source": [
    "print('{:0.8f}e1'.format(c1/1e1))"
   ]
  },
  {
   "cell_type": "code",
   "execution_count": 13,
   "metadata": {
    "ExecuteTime": {
     "end_time": "2020-08-19T23:57:22.247753Z",
     "start_time": "2020-08-19T23:57:22.244901Z"
    }
   },
   "outputs": [
    {
     "data": {
      "text/plain": [
       "-9.599999999387876e-07"
      ]
     },
     "execution_count": 13,
     "metadata": {},
     "output_type": "execute_result"
    }
   ],
   "source": [
    "c1 - c2"
   ]
  },
  {
   "cell_type": "markdown",
   "metadata": {},
   "source": [
    "|Operación|Aritmética de máquina con k=8| Aritmética de máquina con k=5|Error Absoluto de aprox|Error Relativo de aprox|\n",
    "|:--:|:--:|:--:|:--:|:--:|\n",
    "|x $\\oplus$y|1.04761904|1.04762|||\n",
    "|x$\\ominus$y|||||\n",
    "|x$\\otimes$y|||||\n",
    "|x$\\oslash$y|||||\n",
    "|x$\\ominus$u|||||\n",
    "|(x$\\ominus$u)$\\oslash$w|||||\n",
    "|(x$\\ominus$u)$\\otimes$ v|||||\n",
    "|u$\\oplus$v|||||"
   ]
  },
  {
   "cell_type": "markdown",
   "metadata": {},
   "source": [
    "- Vemos que para el renglón 5 hay un error bastante grande.\n",
    "    - El problema es que estamos quitando cifras significativas y nos estamos quedando con algunas cifras no tan confiables.\n",
    "- Cuano aumentamos el número de operaciones estamos también propagando el error."
   ]
  },
  {
   "cell_type": "markdown",
   "metadata": {},
   "source": [
    "### Ejemplo\n",
    "\n",
    "El resultado del primer renglón con aritmética exacta es: \n",
    "\n",
    "$$x+y = \\frac{5}{7} + \\frac{1}{3} = \\frac{22}{21} \\approx 0.10476190 \\times 10^1.$$\n",
    "\n",
    "Para el llenado de las columnas:\n",
    "\n",
    "1. Aritmética de máquina a $8$ dígitos usamos $k=8$: $x \\oplus_8 y = fl_c(0.71428571 + 0.33333333) = 0.10476190 \\times 10^1$.\n",
    "\n",
    "2. Aritmética de máquina usamos $k=5$: $x \\oplus_5 y = fl_c(fl_c(x)+fl_c(y)) = fl_c(0.71428 + 0.33333) = fl_c(0.104761\\times10^1) = 0.10476 \\times10^1$.\n",
    "\n",
    "3. Error absoluto de aprox: $ErrAbs(x \\oplus_5 y) =  |(x \\oplus_8) y - (x \\oplus_5)| = |0.10476190 \\times 10^1 - 0.10476 \\times10^1| = |0.00000190| = .190 \\times 10^{-5}$.\n",
    "\n",
    "4. Error relativo de aprox: $ErrRel(x \\oplus_5 y) = \\frac{ErrAbs(x \\oplus_5 y)}{|x \\oplus_8|} =\\frac{.190 \\times 10^{-5}}{0.10476190 \\times 10^1} \\approx 1.81 \\times 10^{-6} = 0.181 \\times 10^{-5}$.\n"
   ]
  },
  {
   "cell_type": "code",
   "execution_count": 14,
   "metadata": {},
   "outputs": [
    {
     "name": "stdout",
     "output_type": "stream",
     "text": [
      "valor x a 8 dígitos: 7.1428571e-01\n",
      "valor y a 8 dígitos: 3.3333333e-01\n",
      "x+y a 8 dígitos 1.0476190e+00\n",
      "valor x a 5 dígitos: 7.1428e-01\n",
      "valor y a 5 dígitos: 3.3333e-01\n",
      "x+y a 5 dígitos 1.0476e+00\n",
      "--------\n",
      "Error absoluto de aprox: 1.900000e-05\n",
      "Error relativo de aprox: 1.813636e-05\n"
     ]
    }
   ],
   "source": [
    "//%cflags:-lm\n",
    "#include<stdio.h>\n",
    "#include<stdlib.h>\n",
    "#include<math.h>\n",
    "\n",
    "double fl_c_k(double a, int k){\n",
    "    return (double)((int)(pow(10,k)*a)*pow(10,-k));\n",
    "}\n",
    "\n",
    "double err_abs(double aprox, double obj){   \n",
    "    return fabs(obj-aprox);\n",
    "}\n",
    "\n",
    "double err_rel(double errabs, double obj){\n",
    "    return errabs/fabs(obj);\n",
    "}\n",
    "\n",
    "int main(){\n",
    "    double x = 5/7.0;\n",
    "    double y = 1/3.0;\n",
    "    double res1=0;\n",
    "    double res2=0;\n",
    "    int k;\n",
    "\n",
    "    k=8; //precisión 8\n",
    "    printf(\"valor x a 8 dígitos: %0.7e\\n\", fl_c_k(x,k));\n",
    "    printf(\"valor y a 8 dígitos: %0.7e\\n\", fl_c_k(y,k));\n",
    "    res1 = fl_c_k(fl_c_k(x,k)+fl_c_k(y,k),k-1); //k-1 para seguir manteniendo 5 dígitos pues la suma aumenta un dígito\n",
    "    printf(\"x+y a 8 dígitos %0.7e\\n\", res1);\n",
    "    \n",
    "    k=5; //precisión 5\n",
    "    printf(\"valor x a 5 dígitos: %0.4e\\n\", fl_c_k(x,k));\n",
    "    printf(\"valor y a 5 dígitos: %0.4e\\n\", fl_c_k(y,k));\n",
    "    res2 = fl_c_k(fl_c_k(x,k)+fl_c_k(y,k),k-1); //k-1 para seguir manteniendo 5 dígitos pues la suma aumenta un dígito\n",
    "    printf(\"x+y a 5 dígitos %0.4e\\n\", res2); \n",
    "    \n",
    "    printf(\"--------\\n\");\n",
    "    printf(\"Error absoluto de aprox: %e\\n\",err_abs(res2,res1));\n",
    "    printf(\"Error relativo de aprox: %e\\n\",err_rel(err_abs(res2,res1),res1));\n",
    "    return 0;\n",
    "}"
   ]
  },
  {
   "cell_type": "markdown",
   "metadata": {},
   "source": [
    "```{admonition} Ejercicio\n",
    ":class: tip\n",
    "\n",
    "Finalizar la tabla con un programa en C.\n",
    "\n",
    "**Solución de la tabla:** [liga](https://www.dropbox.com/scl/fi/oplgwf10lmve0fam0wvz8/respuestas.xlsx?dl=0&rlkey=j3ro10hw9ptvirpn38fadvi7a)\n",
    "```"
   ]
  },
  {
   "cell_type": "markdown",
   "metadata": {},
   "source": [
    "### Listando algunos problemas típicos que se presentan en la aritmética de máquina se tienen:"
   ]
  },
  {
   "cell_type": "markdown",
   "metadata": {},
   "source": [
    "1. Problema de cancelación: pérdida de cifras significativas a partir de la resta de números similares.\n",
    "\n",
    "2. Suma entre un número de magnitud grande y un número de magnitud pequeña.\n",
    "\n",
    "3. Sumas con términos que involucren signos alternados. \n",
    "\n",
    "4. Multiplicación por un número de magnitud grande.\n",
    "\n",
    "5. División por un número de magnitud pequeña.\n",
    "\n"
   ]
  },
  {
   "cell_type": "markdown",
   "metadata": {},
   "source": [
    "### Posibles soluciones:"
   ]
  },
  {
   "cell_type": "markdown",
   "metadata": {},
   "source": [
    "1. Usar mayor precisión.\n",
    "\n",
    "2. Reordenar operaciones.\n",
    "\n",
    "3. Reescribir expresiones matemáticas para obtener expresiones equivalentes.\n",
    "\n",
    "4. Escalar las variables. También funciona estandarizarlas.\n"
   ]
  },
  {
   "cell_type": "markdown",
   "metadata": {},
   "source": [
    "```{admonition} Ejercicios\n",
    ":class: tip\n",
    "\n",
    "1.Resuelve los ejercicios y preguntas de la nota.\n",
    "\n",
    "2.Utiliza la notación posicional para representar al número $86409$ y $(1001.1)_2$ en base $10$.\n",
    "\n",
    "3.¿Cuáles de los siguientes números son números de máquina en un SPFN con $\\beta=2$?\n",
    "\n",
    "a. $(2.125)_{10}$.\n",
    "\n",
    "b. $(3.1)_{10}$.\n",
    "\n",
    "**tip: escribe los números anteriores como sumas de potencias de $2$.**\n",
    "\n",
    "4.Considérese un SPFN con $\\beta=2, k=3$. En este sistema se tienen $7$ bits para almacenar números. El primer bit se utiliza para el signo del número, el segundo bit se utiliza para el signo del exponente, los dos siguientes bits para construir al exponente y el último bit para construir a la mantisa. Entonces el número positivo normalizado más pequeño que es posible representar en este SPFN es:\n",
    "\n",
    "$$(0111100)_2=(.5\\times2^{-3})_{10}=.0625.$$\n",
    "\n",
    "a. Escribe los siguientes números más grandes a este número que forman al SPFN hasta el valor más grande positivo que es posible representar en este SPFN.\n",
    "\n",
    "b. Calcula las distancias entre los números con mismo valor de exponente.\n",
    "\n",
    "c. Verifica que el error relativo para $x=0.156249$ utilizando la regla de corte es menor o igual a $\\epsilon_{maq}=.25$ y el error relativo para $x=0.14$ utilizando la regla de redondeo es menor o igual a $\\epsilon_{maq}=0.125$.\n",
    "\n",
    "```"
   ]
  },
  {
   "cell_type": "markdown",
   "metadata": {},
   "source": [
    "**Preguntas de comprehensión**.\n",
    "\n",
    "1)¿Cuáles componentes definen  a un sistema de punto flotante?\n",
    "\n",
    "2)Si un número tiene una representación exacta en la máquina, ¿qué nombre recibe?\n",
    "\n",
    "3)¿Qué es un sistema de punto flotante normalizado?\n",
    "\n",
    "4)Menciona algunas propiedades de un sistema de punto flotante normalizado.\n",
    "\n",
    "5)¿Cuántos bits se utilizan en el hardware de una máquina para almacenar un número en un sistema de doble precisión?\n",
    "\n",
    "6)¿Qué nombre reciben los errores que se generan por utilizar un sistema de punto flotante?\n",
    "\n",
    "7)¿Cuáles reglas utiliza la máquina para dar aproximaciones a un número?\n",
    "\n",
    "8)Explica con palabras la diferencia entre el epsilon de la máquina y el nivel de underflow:\n",
    "\n",
    "a.¿Cuál de ellos depende únicamente del número de dígitos de la mantisa?\n",
    "\n",
    "b.¿Cuál de ellos depende únicamente del número de dígitos del exponente?\n",
    "\n",
    "c.¿Cuál de ellos no depende de la reglas usadas que se preguntaron en la pregunta 7?\n",
    "\n",
    "9)Si calculamos un error relativo para una aproximación y resulta ser del orden de $10^{-8}$ ¿alrededor de cuántos dígitos correctos tengo en mi aproximación?\n",
    "\n",
    "10)Menciona algunos problemas típicos de la aritmética de máquina y algunas formas de resolverlos.\n"
   ]
  },
  {
   "cell_type": "markdown",
   "metadata": {},
   "source": [
    "**Referencias:**\n",
    "\n",
    "1. R. L. Burden, J. D. Faires, Numerical Analysis, Brooks/Cole Cengage Learning, 2005.\n",
    "\n",
    "2. M. T. Heath, Scientific Computing. An Introductory Survey, McGraw-Hill, 2002.\n",
    "\n",
    "3. [Lenguaje C de programación](https://github.com/palmoreck/programming-languages)."
   ]
  }
 ],
 "metadata": {
  "kernelspec": {
   "display_name": "Python 3",
   "language": "python",
   "name": "python3"
  },
  "language_info": {
   "codemirror_mode": {
    "name": "ipython",
    "version": 3
   },
   "file_extension": ".py",
   "mimetype": "text/x-python",
   "name": "python",
   "nbconvert_exporter": "python",
   "pygments_lexer": "ipython3",
   "version": "3.7.4"
  }
 },
 "nbformat": 4,
 "nbformat_minor": 4
}
