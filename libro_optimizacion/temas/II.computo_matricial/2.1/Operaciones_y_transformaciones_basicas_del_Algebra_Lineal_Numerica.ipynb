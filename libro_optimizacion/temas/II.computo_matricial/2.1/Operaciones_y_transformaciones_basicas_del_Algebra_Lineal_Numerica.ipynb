{
 "cells": [
  {
   "cell_type": "markdown",
   "metadata": {},
   "source": [
    "(OTBALN)="
   ]
  },
  {
   "cell_type": "markdown",
   "metadata": {},
   "source": [
    "# 2.1 Operaciones y transformaciones básicas del Álgebra Lineal Numérica"
   ]
  },
  {
   "cell_type": "markdown",
   "metadata": {},
   "source": [
    "```{admonition} Notas para contenedor de docker:\n",
    "\n",
    "Comando de docker para ejecución de la nota de forma local:\n",
    "\n",
    "nota: cambiar `<ruta a mi directorio>` por la ruta de directorio que se desea mapear a `/datos` dentro del contenedor de docker.\n",
    "\n",
    "`docker run --rm -v <ruta a mi directorio>:/datos --name jupyterlab_optimizacion -p 8888:8888 -d palmoreck/jupyterlab_optimizacion:2.1.4`\n",
    "\n",
    "password para jupyterlab: `qwerty`\n",
    "\n",
    "Detener el contenedor de docker:\n",
    "\n",
    "`docker stop jupyterlab_optimizacion`\n",
    "\n",
    "Documentación de la imagen de docker `palmoreck/jupyterlab_optimizacion:2.1.4` en [liga](https://github.com/palmoreck/dockerfiles/tree/master/jupyterlab/optimizacion).\n",
    "\n",
    "```"
   ]
  },
  {
   "cell_type": "markdown",
   "metadata": {},
   "source": [
    "---"
   ]
  },
  {
   "cell_type": "markdown",
   "metadata": {},
   "source": [
    "Nota generada a partir de [liga1](https://www.dropbox.com/s/fyqwiqasqaa3wlt/3.1.1.Multiplicacion_de_matrices_y_estructura_de_datos.pdf?dl=0), [liga2](https://www.dropbox.com/s/jwu8lu4r14pb7ut/3.2.1.Sistemas_de_ecuaciones_lineales_eliminacion_Gaussiana_y_factorizacion_LU.pdf?dl=0) y [liga3](https://www.dropbox.com/s/s4ch0ww1687pl76/3.2.2.Factorizaciones_matriciales_SVD_Cholesky_QR.pdf?dl=0)."
   ]
  },
  {
   "cell_type": "markdown",
   "metadata": {},
   "source": [
    "Las operaciones básicas del Álgebra Lineal Numérica podemos dividirlas en vectoriales y matriciales."
   ]
  },
  {
   "cell_type": "markdown",
   "metadata": {},
   "source": [
    "## Vectoriales"
   ]
  },
  {
   "cell_type": "markdown",
   "metadata": {},
   "source": [
    "* **Transponer:** $\\mathbb{R}^{n \\times 1}  \\rightarrow \\mathbb{R} ^{1 \\times n}$: $y = x^T$ entonces\n",
    "\n",
    "$$x = \n",
    "\\left[\n",
    "\\begin{array}{c}\n",
    "x_1 \\\\\n",
    "x_2 \\\\\n",
    "\\vdots \\\\\n",
    "x_n\n",
    "\\end{array}\n",
    "\\right ]\n",
    "$$\n",
    "y se tiene:"
   ]
  },
  {
   "cell_type": "markdown",
   "metadata": {},
   "source": [
    "$$ y = x^T = [x_1, x_2, \\dots, x_n].$$"
   ]
  },
  {
   "cell_type": "markdown",
   "metadata": {},
   "source": [
    "* **Suma:** $\\mathbb{R}^n  \\times \\mathbb{R} ^n \\rightarrow \\mathbb{R}^n$: $z = x + y$ entonces $z_i = x_i + y_i$\n",
    "\n",
    "* **Multiplicación por un escalar:** $\\mathbb{R} \\times \\mathbb{R} ^n \\rightarrow \\mathbb{R}^n$: $y = \\alpha x$ entonces $y_i = \\alpha x_i$.\n",
    "\n",
    "* **Producto interno estándar o producto punto:** $\\mathbb{R}^n \\times \\mathbb{R} ^n \\rightarrow \\mathbb{R}$: $c = x^Ty$ entonces $c = \\displaystyle \\sum_{i=1}^n x_i y_i$.\n",
    "\n",
    "\n",
    "* **Multiplicación *point wise:*** $\\mathbb{R}^n \\times \\mathbb{R} ^n \\rightarrow \\mathbb{R}^n$: $z = x.*y$ entonces $z_i = x_i y_i$.\n",
    "\n",
    "* **División *point wise:*** $\\mathbb{R}^n \\times \\mathbb{R} ^n \\rightarrow \\mathbb{R}^n$: $z = x./y$ entonces $z_i = x_i /y_i$ con $y_i \\neq 0$.\n",
    "\n",
    "\n",
    "* **Producto exterior o *outer product*:** $\\mathbb{R}^n \\times \\mathbb{R} ^n \\rightarrow \\mathbb{R}^{n \\times n}$: $A = xy^T$ entonces $A[i, :] = x_i y^T$ con $A[i,:]$ el $i$-ésimo renglón de $A$."
   ]
  },
  {
   "cell_type": "markdown",
   "metadata": {},
   "source": [
    "## Matriciales"
   ]
  },
  {
   "cell_type": "markdown",
   "metadata": {},
   "source": [
    "\n",
    "* **Transponer:** $\\mathbb{R}^{m \\times n} \\rightarrow \\mathbb{R}^{n \\times m}$: $C = A^T$ entonces $c_{ij} = a_{ij}$.\n",
    "\n",
    "* **Sumar:** $\\mathbb{R}^{m \\times n} \\times \\mathbb{R}^{m \\times n} \\rightarrow \\mathbb{R}^{m \\times n}$: $C = A + B$ entonces $c_{ij} = a_{ij} + b_{ij}$.\n",
    "\n",
    "* **Multiplicación por un escalar:** $\\mathbb{R} \\times \\mathbb{R}^{m \\times n} \\rightarrow \\mathbb{R}^{m \\times n}$: $C = \\alpha A$ entonces $c_{ij} = \\alpha a_{ij}$\n",
    "\n",
    "* **Multiplicación por un vector:** $\\mathbb{R}^{m \\times n} \\times \\mathbb{R}^{n} \\rightarrow \\mathbb{R}^{m}$: $y = Ax$ entonces $y_i = \\displaystyle \\sum_{j=1}^n a_{ij}x_j$.\n",
    "\n",
    "* **Multiplicación entre matrices:** $\\mathbb{R}^{m \\times k} \\times \\mathbb{R}^{k \\times n} \\rightarrow \\mathbb{R}^{m \\times n}$: $C = AB$ entonces $c_{ij} = \\displaystyle \\sum_{r=1}^k a_{ir}b_{rj}$.\n",
    "\n",
    "* **Multiplicación *point wise*:** $\\mathbb{R}^{m \\times n} \\times \\mathbb{R}^{m \\times n} \\rightarrow \\mathbb{R}^{m \\times n}$: $C = A.*B$ entonces $c_{ij} = a_{ij}b_{ij}$.\n",
    "\n",
    "\n",
    "* **División *point wise*:** $\\mathbb{R}^{m \\times n} \\times \\mathbb{R}^{m \\times n} \\rightarrow \\mathbb{R}^{m \\times n}$: $C = A./B$ entonces $c_{ij} = a_{ij}/b_{ij}$ con $b_{ij} \\neq 0$.\n",
    "\n"
   ]
  },
  {
   "cell_type": "markdown",
   "metadata": {},
   "source": [
    "**Como ejemplos de transformaciones básicas del Álgebra Lineal Numérica se encuentran:**"
   ]
  },
  {
   "cell_type": "markdown",
   "metadata": {},
   "source": [
    "## Transformaciones de Gauss"
   ]
  },
  {
   "cell_type": "markdown",
   "metadata": {},
   "source": [
    "En esta sección suponemos que $A \\in \\mathbb{R}^{n \\times n}$ y $A$ es una matriz con entradas $a_{ij} \\in \\mathbb{R}^{n \\times n} \\forall i,j=1,2,\\dots,n$."
   ]
  },
  {
   "cell_type": "markdown",
   "metadata": {},
   "source": [
    "```{margin}\n",
    "\n",
    "Como ejemplo de vector canónico tenemos: $e_1=(1,0)^T$ en $\\mathbb{R}^2$ o $e_3 = (0,0,1,0,0)$ en $\\mathbb{R}^5$.\n",
    "```"
   ]
  },
  {
   "cell_type": "markdown",
   "metadata": {},
   "source": [
    "Considérese al vector $a \\in \\mathbb{R}^{n}$ y $e_k \\in \\mathbb{R}^n$ el $k$-ésimo vector canónico: vector con un $1$ en la posición $k$ y ceros en las entradas restantes."
   ]
  },
  {
   "cell_type": "markdown",
   "metadata": {},
   "source": [
    "```{admonition} Definición\n",
    "\n",
    "Una transformación de Gauss está definida de forma general como $L_k = I_n - \\ell_ke_k^T$ con $\\ell_k = (0,0,\\dots,\\ell_{k+1,k},\\dots,\\ell_{n,k})^T$ y $\\ell_{i,k}=\\frac{a_{ik}}{a_{kk}} \\forall i=k+1,\\dots,n$.\n",
    "\n",
    "$a_{kk}$ se le nombra **pivote** y **debe ser diferente de cero**.\n",
    "```"
   ]
  },
  {
   "cell_type": "markdown",
   "metadata": {},
   "source": [
    "Las transformaciones de Gauss se utilizan para hacer ceros por debajo del **pivote**."
   ]
  },
  {
   "cell_type": "markdown",
   "metadata": {},
   "source": [
    "(EG1)="
   ]
  },
  {
   "cell_type": "markdown",
   "metadata": {},
   "source": [
    "### Ejemplo aplicando transformaciones de Gauss a un vector"
   ]
  },
  {
   "cell_type": "markdown",
   "metadata": {},
   "source": [
    "Considérese al vector $a=(-2,3,4)^T$. Definir una transformación de Gauss para hacer ceros por debajo de $a_1$ y otra transformación de Gauss para hacer cero la entrada $a_3$"
   ]
  },
  {
   "cell_type": "markdown",
   "metadata": {},
   "source": [
    "**Solución:**"
   ]
  },
  {
   "cell_type": "code",
   "execution_count": 1,
   "metadata": {},
   "outputs": [],
   "source": [
    "import numpy as np\n",
    "import math"
   ]
  },
  {
   "cell_type": "markdown",
   "metadata": {},
   "source": [
    "a)Para hacer ceros por debajo del **pivote** $a_1 = -2$:"
   ]
  },
  {
   "cell_type": "code",
   "execution_count": 2,
   "metadata": {},
   "outputs": [],
   "source": [
    "a = np.array([-2,3,4])"
   ]
  },
  {
   "cell_type": "code",
   "execution_count": 3,
   "metadata": {},
   "outputs": [],
   "source": [
    "pivote = a[0]"
   ]
  },
  {
   "cell_type": "markdown",
   "metadata": {},
   "source": [
    "```{margin} \n",
    "\n",
    "Recuerda la definición de $\\ell_1=(0, \\frac{a_2}{a_1}, \\frac{a_3}{a_1})^T$\n",
    "```"
   ]
  },
  {
   "cell_type": "code",
   "execution_count": 4,
   "metadata": {},
   "outputs": [],
   "source": [
    "l1 = np.array([0,a[1]/pivote, a[2]/pivote])"
   ]
  },
  {
   "cell_type": "markdown",
   "metadata": {},
   "source": [
    "```{margin}\n",
    "\n",
    "Usamos $e_1$ pues se desea hacer ceros en las entradas debajo de la primera.\n",
    "```"
   ]
  },
  {
   "cell_type": "code",
   "execution_count": 5,
   "metadata": {},
   "outputs": [],
   "source": [
    "e1 = np.array([1,0,0])"
   ]
  },
  {
   "cell_type": "markdown",
   "metadata": {},
   "source": [
    "```{margin}\n",
    "\n",
    "Observa que por la definición de la transformación de Gauss, **no necesitamos construir a la matriz $L_1$, directamente se tiene $L_1a = a - \\ell_1 e_1^Ta$.**\n",
    "```"
   ]
  },
  {
   "cell_type": "code",
   "execution_count": 6,
   "metadata": {},
   "outputs": [],
   "source": [
    "L1_a = a-l1*(e1.dot(a))"
   ]
  },
  {
   "cell_type": "code",
   "execution_count": 7,
   "metadata": {},
   "outputs": [
    {
     "data": {
      "text/plain": [
       "array([-2.,  0.,  0.])"
      ]
     },
     "execution_count": 7,
     "metadata": {},
     "output_type": "execute_result"
    }
   ],
   "source": [
    "L1_a"
   ]
  },
  {
   "cell_type": "markdown",
   "metadata": {},
   "source": [
    "A continuación se muestra que el producto $L_1 a$ si se construye $L_1$ es equivalente a lo anterior:"
   ]
  },
  {
   "cell_type": "markdown",
   "metadata": {},
   "source": [
    "```{margin}\n",
    "$L_1 = I_3 - \\ell_1 e_1^T$.\n",
    "```"
   ]
  },
  {
   "cell_type": "code",
   "execution_count": 8,
   "metadata": {},
   "outputs": [],
   "source": [
    "L1 = np.eye(3) - np.outer(l1,e1)"
   ]
  },
  {
   "cell_type": "code",
   "execution_count": 9,
   "metadata": {},
   "outputs": [
    {
     "data": {
      "text/plain": [
       "array([[1. , 0. , 0. ],\n",
       "       [1.5, 1. , 0. ],\n",
       "       [2. , 0. , 1. ]])"
      ]
     },
     "execution_count": 9,
     "metadata": {},
     "output_type": "execute_result"
    }
   ],
   "source": [
    "L1"
   ]
  },
  {
   "cell_type": "code",
   "execution_count": 10,
   "metadata": {},
   "outputs": [
    {
     "data": {
      "text/plain": [
       "array([-2.,  0.,  0.])"
      ]
     },
     "execution_count": 10,
     "metadata": {},
     "output_type": "execute_result"
    }
   ],
   "source": [
    "L1@a"
   ]
  },
  {
   "cell_type": "markdown",
   "metadata": {},
   "source": [
    "b) Para hacer ceros por debajo del **pivote** $a_2 = 3$:"
   ]
  },
  {
   "cell_type": "code",
   "execution_count": 11,
   "metadata": {},
   "outputs": [],
   "source": [
    "a = np.array([-2,3,4])"
   ]
  },
  {
   "cell_type": "code",
   "execution_count": 12,
   "metadata": {},
   "outputs": [],
   "source": [
    "pivote = a[1]"
   ]
  },
  {
   "cell_type": "markdown",
   "metadata": {},
   "source": [
    "```{margin} \n",
    "\n",
    "Recuerda la definición de $\\ell_2=(0, 0, \\frac{a_3}{a_2})^T$\n",
    "```"
   ]
  },
  {
   "cell_type": "code",
   "execution_count": 13,
   "metadata": {},
   "outputs": [],
   "source": [
    "l2 = np.array([0,0, a[2]/pivote])"
   ]
  },
  {
   "cell_type": "markdown",
   "metadata": {},
   "source": [
    "```{margin}\n",
    "\n",
    "Usamos $e_2$ pues se desea hacer ceros en las entradas debajo de la segunda.\n",
    "```"
   ]
  },
  {
   "cell_type": "code",
   "execution_count": 14,
   "metadata": {},
   "outputs": [],
   "source": [
    "e2 = np.array([0,1,0])"
   ]
  },
  {
   "cell_type": "markdown",
   "metadata": {},
   "source": [
    "```{margin}\n",
    "\n",
    "Observa que por la definición de la transformación de Gauss, **no necesitamos construir a la matriz $L_2$, directamente se tiene $L_2a = a - \\ell_2 e_2^Ta$.**\n",
    "```"
   ]
  },
  {
   "cell_type": "code",
   "execution_count": 15,
   "metadata": {},
   "outputs": [],
   "source": [
    "L2_a = a-l2*(e2.dot(a))"
   ]
  },
  {
   "cell_type": "code",
   "execution_count": 16,
   "metadata": {},
   "outputs": [
    {
     "data": {
      "text/plain": [
       "array([-2.,  3.,  0.])"
      ]
     },
     "execution_count": 16,
     "metadata": {},
     "output_type": "execute_result"
    }
   ],
   "source": [
    "L2_a"
   ]
  },
  {
   "cell_type": "markdown",
   "metadata": {},
   "source": [
    "A continuación se muestra que el producto $L_2 a$ si se construye $L_2$ es equivalente a lo anterior:"
   ]
  },
  {
   "cell_type": "markdown",
   "metadata": {},
   "source": [
    "```{margin}\n",
    "\n",
    "$L_2 = I_3 - \\ell_2 e_2^T$.\n",
    "```"
   ]
  },
  {
   "cell_type": "code",
   "execution_count": 17,
   "metadata": {},
   "outputs": [],
   "source": [
    "L2 = np.eye(3) - np.outer(l2,e2)"
   ]
  },
  {
   "cell_type": "code",
   "execution_count": 18,
   "metadata": {},
   "outputs": [
    {
     "data": {
      "text/plain": [
       "array([[ 1.        ,  0.        ,  0.        ],\n",
       "       [ 0.        ,  1.        ,  0.        ],\n",
       "       [ 0.        , -1.33333333,  1.        ]])"
      ]
     },
     "execution_count": 18,
     "metadata": {},
     "output_type": "execute_result"
    }
   ],
   "source": [
    "L2"
   ]
  },
  {
   "cell_type": "code",
   "execution_count": 19,
   "metadata": {},
   "outputs": [
    {
     "data": {
      "text/plain": [
       "array([-2.,  3.,  0.])"
      ]
     },
     "execution_count": 19,
     "metadata": {},
     "output_type": "execute_result"
    }
   ],
   "source": [
    "L2@a"
   ]
  },
  {
   "cell_type": "markdown",
   "metadata": {},
   "source": [
    "(EG2)="
   ]
  },
  {
   "cell_type": "markdown",
   "metadata": {},
   "source": [
    "### Ejemplo aplicando transformaciones de Gauss a una matriz"
   ]
  },
  {
   "cell_type": "markdown",
   "metadata": {},
   "source": [
    "Si tenemos una matriz $A \\in \\mathbb{R}^{3 \\times 3}$ y queremos hacer ceros por debajo de su **diagonal** y tener una forma **triangular superior**, realizamos los productos matriciales:\n",
    "\n",
    "$$L_2 L_1 A$$"
   ]
  },
  {
   "cell_type": "markdown",
   "metadata": {},
   "source": [
    "donde: $L_1, L_2$ son transformaciones de Gauss."
   ]
  },
  {
   "cell_type": "markdown",
   "metadata": {},
   "source": [
    "Posterior a realizar el producto $L_2 L_1 A$ se obtiene una **matriz triangular superior:**\n",
    "\n",
    "$$\n",
    "L_2L_1A = \\left [\n",
    "\\begin{array}{ccc}\n",
    "* & * & *\\\\\n",
    "0 & * & * \\\\\n",
    "0 & 0 & * \n",
    "\\end{array}\n",
    "\\right ]\n",
    "$$"
   ]
  },
  {
   "cell_type": "markdown",
   "metadata": {},
   "source": [
    "**Ejemplo:**"
   ]
  },
  {
   "cell_type": "markdown",
   "metadata": {},
   "source": [
    "a) Utilizando $L_1$"
   ]
  },
  {
   "cell_type": "code",
   "execution_count": 20,
   "metadata": {},
   "outputs": [],
   "source": [
    "A = np.array([[-1, 2, 5],\n",
    "              [4, 5, -7],\n",
    "              [3, 0, 8]], dtype=float)"
   ]
  },
  {
   "cell_type": "code",
   "execution_count": 21,
   "metadata": {},
   "outputs": [
    {
     "data": {
      "text/plain": [
       "array([[-1.,  2.,  5.],\n",
       "       [ 4.,  5., -7.],\n",
       "       [ 3.,  0.,  8.]])"
      ]
     },
     "execution_count": 21,
     "metadata": {},
     "output_type": "execute_result"
    }
   ],
   "source": [
    "A"
   ]
  },
  {
   "cell_type": "markdown",
   "metadata": {},
   "source": [
    "Para hacer ceros por debajo del **pivote** $a_{11} = -1$:"
   ]
  },
  {
   "cell_type": "code",
   "execution_count": 22,
   "metadata": {},
   "outputs": [],
   "source": [
    "pivote = A[0, 0]"
   ]
  },
  {
   "cell_type": "markdown",
   "metadata": {},
   "source": [
    "```{margin} \n",
    "\n",
    "Recuerda la definición de $\\ell_1=(0, \\frac{a_{21}}{a_{11}}, \\frac{a_{31}}{a_{11}})^T$\n",
    "```"
   ]
  },
  {
   "cell_type": "code",
   "execution_count": 23,
   "metadata": {},
   "outputs": [],
   "source": [
    "l1 = np.array([0,A[1,0]/pivote, A[2,0]/pivote])"
   ]
  },
  {
   "cell_type": "code",
   "execution_count": 24,
   "metadata": {},
   "outputs": [],
   "source": [
    "e1 = np.array([1,0,0])"
   ]
  },
  {
   "cell_type": "markdown",
   "metadata": {},
   "source": [
    "```{margin}\n",
    "\n",
    "Observa que por la definición de la transformación de Gauss, **no necesitamos construir a la matriz $L_1$, directamente se tiene $L_1 A[1:3,1] = A[1:3,1] - \\ell_1 e_1^T A[1:3,1]$.**\n",
    "```"
   ]
  },
  {
   "cell_type": "code",
   "execution_count": 25,
   "metadata": {},
   "outputs": [],
   "source": [
    "L1_A_1 = A[:,0]-l1*(e1.dot(A[:,0]))"
   ]
  },
  {
   "cell_type": "code",
   "execution_count": 26,
   "metadata": {},
   "outputs": [
    {
     "data": {
      "text/plain": [
       "array([-1.,  0.,  0.])"
      ]
     },
     "execution_count": 26,
     "metadata": {},
     "output_type": "execute_result"
    }
   ],
   "source": [
    "L1_A_1"
   ]
  },
  {
   "cell_type": "markdown",
   "metadata": {},
   "source": [
    "**Y se debe aplicar $\\ell_1$ a las columnas número 2 y 3 de $A$ para completar el producto $L_1A$:**"
   ]
  },
  {
   "cell_type": "markdown",
   "metadata": {},
   "source": [
    "```{margin}\n",
    "\n",
    "Aplicando $L_1$ a la segunda columna de $A$: $A[1:3,2]$.\n",
    "\n",
    "```"
   ]
  },
  {
   "cell_type": "code",
   "execution_count": 27,
   "metadata": {},
   "outputs": [],
   "source": [
    "L1_A_2 = A[:,1]-l1*(e1.dot(A[:,1]))"
   ]
  },
  {
   "cell_type": "code",
   "execution_count": 28,
   "metadata": {},
   "outputs": [
    {
     "data": {
      "text/plain": [
       "array([ 2., 13.,  6.])"
      ]
     },
     "execution_count": 28,
     "metadata": {},
     "output_type": "execute_result"
    }
   ],
   "source": [
    "L1_A_2"
   ]
  },
  {
   "cell_type": "markdown",
   "metadata": {},
   "source": [
    "```{margin}\n",
    "\n",
    "Aplicando $L_1$ a la tercer columna de $A$: $A[1:3,3]$.\n",
    "\n",
    "```"
   ]
  },
  {
   "cell_type": "code",
   "execution_count": 29,
   "metadata": {},
   "outputs": [],
   "source": [
    "L1_A_3 = A[:,2]-l1*(e1.dot(A[:,2]))"
   ]
  },
  {
   "cell_type": "code",
   "execution_count": 30,
   "metadata": {},
   "outputs": [
    {
     "data": {
      "text/plain": [
       "array([ 5., 13., 23.])"
      ]
     },
     "execution_count": 30,
     "metadata": {},
     "output_type": "execute_result"
    }
   ],
   "source": [
    "L1_A_3"
   ]
  },
  {
   "cell_type": "markdown",
   "metadata": {},
   "source": [
    "A continuación se muestra que el producto $L_1 A$ si se construye $L_1$ es equivalente a lo anterior:"
   ]
  },
  {
   "cell_type": "markdown",
   "metadata": {},
   "source": [
    "```{margin}\n",
    "$L_1 = I_3 - \\ell_1 e_1^T$.\n",
    "```"
   ]
  },
  {
   "cell_type": "code",
   "execution_count": 31,
   "metadata": {},
   "outputs": [],
   "source": [
    "L1 = np.eye(3) - np.outer(l1,e1)"
   ]
  },
  {
   "cell_type": "code",
   "execution_count": 32,
   "metadata": {},
   "outputs": [
    {
     "data": {
      "text/plain": [
       "array([[1., 0., 0.],\n",
       "       [4., 1., 0.],\n",
       "       [3., 0., 1.]])"
      ]
     },
     "execution_count": 32,
     "metadata": {},
     "output_type": "execute_result"
    }
   ],
   "source": [
    "L1"
   ]
  },
  {
   "cell_type": "code",
   "execution_count": 33,
   "metadata": {},
   "outputs": [
    {
     "data": {
      "text/plain": [
       "array([[-1.,  2.,  5.],\n",
       "       [ 0., 13., 13.],\n",
       "       [ 0.,  6., 23.]])"
      ]
     },
     "execution_count": 33,
     "metadata": {},
     "output_type": "execute_result"
    }
   ],
   "source": [
    "L1 @ A"
   ]
  },
  {
   "cell_type": "markdown",
   "metadata": {},
   "source": [
    "```{admonition} Observación\n",
    ":class: tip\n",
    "\n",
    "Al aplicar $\\ell_1$ a la primer columna de $A$ **siempre** obtenemos ceros por debajo del pivote que en este caso es $a_{11}$.\n",
    "```"
   ]
  },
  {
   "cell_type": "markdown",
   "metadata": {},
   "source": [
    "(EG2.1)="
   ]
  },
  {
   "cell_type": "markdown",
   "metadata": {},
   "source": [
    "**Después de hacer la multiplicación $L_1A$ en cualquiera de los dos casos (construyendo o no explícitamente $L_1$) no se modifica el primer renglón de $A$:**\n"
   ]
  },
  {
   "cell_type": "code",
   "execution_count": 34,
   "metadata": {},
   "outputs": [
    {
     "data": {
      "text/plain": [
       "array([[-1.,  2.,  5.],\n",
       "       [ 4.,  5., -7.],\n",
       "       [ 3.,  0.,  8.]])"
      ]
     },
     "execution_count": 34,
     "metadata": {},
     "output_type": "execute_result"
    }
   ],
   "source": [
    "A"
   ]
  },
  {
   "cell_type": "markdown",
   "metadata": {},
   "source": [
    "```{margin}\n",
    "\n",
    "Este es el primer renglón de $A$.\n",
    "\n",
    "```"
   ]
  },
  {
   "cell_type": "code",
   "execution_count": 35,
   "metadata": {},
   "outputs": [
    {
     "data": {
      "text/plain": [
       "array([-1.,  2.,  5.])"
      ]
     },
     "execution_count": 35,
     "metadata": {},
     "output_type": "execute_result"
    }
   ],
   "source": [
    "A[0,:]"
   ]
  },
  {
   "cell_type": "markdown",
   "metadata": {},
   "source": [
    "```{margin}\n",
    "\n",
    "Tomando el primer renglón del producto $L_1A$.\n",
    "```"
   ]
  },
  {
   "cell_type": "code",
   "execution_count": 36,
   "metadata": {},
   "outputs": [
    {
     "data": {
      "text/plain": [
       "array([-1.,  2.,  5.])"
      ]
     },
     "execution_count": 36,
     "metadata": {},
     "output_type": "execute_result"
    }
   ],
   "source": [
    "(L1 @ A)[0,:]"
   ]
  },
  {
   "cell_type": "markdown",
   "metadata": {},
   "source": [
    "**por lo que la multiplicación $L_1A$ entonces modifica del segundo renglón de $A$ en adelante y de la segunda columna de $A$ en adelante.**\n"
   ]
  },
  {
   "cell_type": "markdown",
   "metadata": {},
   "source": [
    "```{admonition} Observación\n",
    ":class: tip\n",
    "\n",
    "Dada la forma de $L_1 = I_3 - \\ell_1e_1^T$, al hacer la multiplicación por la segunda y tercer columna de $A$ se tiene:\n",
    "\n",
    "$$e_1^T A[1:3,2] = A[0,2]$$\n",
    "\n",
    "$$e_1^T A[1:3,3] = A[0,3]$$\n",
    "\n",
    "respectivamente.\n",
    "```"
   ]
  },
  {
   "cell_type": "markdown",
   "metadata": {},
   "source": [
    "```{margin}\n",
    "\n",
    "El resultado de este producto es un escalar.\n",
    "```"
   ]
  },
  {
   "cell_type": "code",
   "execution_count": 37,
   "metadata": {},
   "outputs": [
    {
     "data": {
      "text/plain": [
       "2.0"
      ]
     },
     "execution_count": 37,
     "metadata": {},
     "output_type": "execute_result"
    }
   ],
   "source": [
    "e1.dot(A[:, 1])"
   ]
  },
  {
   "cell_type": "markdown",
   "metadata": {},
   "source": [
    "```{margin}\n",
    "\n",
    "El resultado de este producto es un escalar.\n",
    "```"
   ]
  },
  {
   "cell_type": "code",
   "execution_count": 38,
   "metadata": {},
   "outputs": [
    {
     "data": {
      "text/plain": [
       "5.0"
      ]
     },
     "execution_count": 38,
     "metadata": {},
     "output_type": "execute_result"
    }
   ],
   "source": [
    "e1.dot(A[:, 2])"
   ]
  },
  {
   "cell_type": "markdown",
   "metadata": {},
   "source": [
    "y puede escribirse de forma compacta:"
   ]
  },
  {
   "cell_type": "markdown",
   "metadata": {},
   "source": [
    "$$e_1^T A[1:3,2:3] = A[0, 2:3]$$"
   ]
  },
  {
   "cell_type": "code",
   "execution_count": 39,
   "metadata": {},
   "outputs": [
    {
     "data": {
      "text/plain": [
       "array([2., 5.])"
      ]
     },
     "execution_count": 39,
     "metadata": {},
     "output_type": "execute_result"
    }
   ],
   "source": [
    "A[0, 1:3] #observe that we have to use 2+1=3 as the second number after \":\" in 1:3"
   ]
  },
  {
   "cell_type": "code",
   "execution_count": 40,
   "metadata": {},
   "outputs": [
    {
     "data": {
      "text/plain": [
       "array([2., 5.])"
      ]
     },
     "execution_count": 40,
     "metadata": {},
     "output_type": "execute_result"
    }
   ],
   "source": [
    "A[0, 1:] #also we could have use this statement"
   ]
  },
  {
   "cell_type": "markdown",
   "metadata": {},
   "source": [
    "Entonces los productos $\\ell_1 e_1^T A[:,2]$ y $\\ell_1 e_1^T A[:,3]$ quedan respectivamente como:"
   ]
  },
  {
   "cell_type": "markdown",
   "metadata": {},
   "source": [
    "$$\\ell_1A[0, 2]$$"
   ]
  },
  {
   "cell_type": "code",
   "execution_count": 41,
   "metadata": {},
   "outputs": [
    {
     "data": {
      "text/plain": [
       "array([ 0., -8., -6.])"
      ]
     },
     "execution_count": 41,
     "metadata": {},
     "output_type": "execute_result"
    }
   ],
   "source": [
    "l1*A[0,1]"
   ]
  },
  {
   "cell_type": "markdown",
   "metadata": {},
   "source": [
    "$$\\ell_1A[0,3]$$"
   ]
  },
  {
   "cell_type": "code",
   "execution_count": 42,
   "metadata": {},
   "outputs": [
    {
     "data": {
      "text/plain": [
       "array([  0., -20., -15.])"
      ]
     },
     "execution_count": 42,
     "metadata": {},
     "output_type": "execute_result"
    }
   ],
   "source": [
    "l1*A[0, 2]"
   ]
  },
  {
   "cell_type": "markdown",
   "metadata": {},
   "source": [
    "```{admonition} Observación\n",
    ":class: tip\n",
    "\n",
    "En los dos cálculos anteriores, las primeras entradas son iguales a $0$ por lo que es consistente con el hecho que únicamente se modifican dos entradas de la segunda y tercer columna de $A$.\n",
    "```"
   ]
  },
  {
   "cell_type": "markdown",
   "metadata": {},
   "source": [
    "De forma compacta y aprovechando funciones en `numpy` como `outer` se puede calcular lo anterior como:"
   ]
  },
  {
   "cell_type": "code",
   "execution_count": 43,
   "metadata": {},
   "outputs": [
    {
     "data": {
      "text/plain": [
       "array([[ -8., -20.],\n",
       "       [ -6., -15.]])"
      ]
     },
     "execution_count": 43,
     "metadata": {},
     "output_type": "execute_result"
    }
   ],
   "source": [
    "np.outer(l1[1:3],A[0,1:3])"
   ]
  },
  {
   "cell_type": "code",
   "execution_count": 44,
   "metadata": {},
   "outputs": [
    {
     "data": {
      "text/plain": [
       "array([[ -8., -20.],\n",
       "       [ -6., -15.]])"
      ]
     },
     "execution_count": 44,
     "metadata": {},
     "output_type": "execute_result"
    }
   ],
   "source": [
    "np.outer(l1[1:],A[0,1:]) #also we could have use this statement"
   ]
  },
  {
   "cell_type": "markdown",
   "metadata": {},
   "source": [
    "Y finalmente la aplicación de $L_1$ al segundo renglón y segunda columna en adelante de $A$ queda:"
   ]
  },
  {
   "cell_type": "markdown",
   "metadata": {},
   "source": [
    "```{margin}\n",
    "\n",
    "Observa que por la definición de la transformación de Gauss, **no necesitamos construir a la matriz $L_1$, directamente se tiene $L_1 A = A - \\ell_1 e_1^T A$ y podemos aprovechar lo anterior para sólo operar de la segunda columna y segundo renglón en adelante.**\n",
    "```"
   ]
  },
  {
   "cell_type": "code",
   "execution_count": 45,
   "metadata": {},
   "outputs": [
    {
     "data": {
      "text/plain": [
       "array([[13., 13.],\n",
       "       [ 6., 23.]])"
      ]
     },
     "execution_count": 45,
     "metadata": {},
     "output_type": "execute_result"
    }
   ],
   "source": [
    "A[1:, 1:] - np.outer(l1[1:],A[0,1:])"
   ]
  },
  {
   "cell_type": "markdown",
   "metadata": {},
   "source": [
    "Compárese con:"
   ]
  },
  {
   "cell_type": "code",
   "execution_count": 46,
   "metadata": {},
   "outputs": [
    {
     "data": {
      "text/plain": [
       "array([[-1.,  2.,  5.],\n",
       "       [ 0., 13., 13.],\n",
       "       [ 0.,  6., 23.]])"
      ]
     },
     "execution_count": 46,
     "metadata": {},
     "output_type": "execute_result"
    }
   ],
   "source": [
    "L1 @ A"
   ]
  },
  {
   "cell_type": "markdown",
   "metadata": {},
   "source": [
    "Entonces sólo falta colocar el primer renglón y primera columna al producto. Para esto combinamos columnas y renglones en *numpy* con [column_stack](https://numpy.org/doc/stable/reference/generated/numpy.vstack.html) y *row_stack*:"
   ]
  },
  {
   "cell_type": "code",
   "execution_count": 47,
   "metadata": {},
   "outputs": [],
   "source": [
    "A_aux = A[1:, 1:] - np.outer(l1[1:],A[0,1:])"
   ]
  },
  {
   "cell_type": "code",
   "execution_count": 48,
   "metadata": {},
   "outputs": [],
   "source": [
    "m, n = A.shape\n",
    "number_of_zeros = m-1\n",
    "A_aux_2 = np.column_stack((np.zeros(number_of_zeros), A_aux)) # stack two zeros"
   ]
  },
  {
   "cell_type": "code",
   "execution_count": 49,
   "metadata": {},
   "outputs": [
    {
     "data": {
      "text/plain": [
       "array([[ 0., 13., 13.],\n",
       "       [ 0.,  6., 23.]])"
      ]
     },
     "execution_count": 49,
     "metadata": {},
     "output_type": "execute_result"
    }
   ],
   "source": [
    "A_aux_2"
   ]
  },
  {
   "cell_type": "code",
   "execution_count": 50,
   "metadata": {},
   "outputs": [],
   "source": [
    "A_aux_3 = np.row_stack((A[0, :], A_aux_2))"
   ]
  },
  {
   "cell_type": "code",
   "execution_count": 51,
   "metadata": {},
   "outputs": [
    {
     "data": {
      "text/plain": [
       "array([[-1.,  2.,  5.],\n",
       "       [ 0., 13., 13.],\n",
       "       [ 0.,  6., 23.]])"
      ]
     },
     "execution_count": 51,
     "metadata": {},
     "output_type": "execute_result"
    }
   ],
   "source": [
    "A_aux_3"
   ]
  },
  {
   "cell_type": "markdown",
   "metadata": {},
   "source": [
    "que es el resultado de:"
   ]
  },
  {
   "cell_type": "code",
   "execution_count": 52,
   "metadata": {},
   "outputs": [
    {
     "data": {
      "text/plain": [
       "array([[-1.,  2.,  5.],\n",
       "       [ 0., 13., 13.],\n",
       "       [ 0.,  6., 23.]])"
      ]
     },
     "execution_count": 52,
     "metadata": {},
     "output_type": "execute_result"
    }
   ],
   "source": [
    "L1 @ A"
   ]
  },
  {
   "cell_type": "markdown",
   "metadata": {},
   "source": [
    "**Lo que falta para obtener una matriz triangular superior es hacer la multiplicación $L_2L_1A$.** Para este caso la matriz $L_2=I_3 - \\ell_2e_2^T$ utiliza $\\ell_2 = \\left( 0, 0, \\frac{a^{(1)}_{32}}{a^{(1)}_{22}} \\right )^T$ donde: $a^{(1)}_{ij}$ son las entradas de $A^{(1)} = L_1A^{(0)}$ y $A^{(0)}=A$."
   ]
  },
  {
   "cell_type": "markdown",
   "metadata": {},
   "source": [
    "```{admonition} Ejercicio\n",
    ":class: tip\n",
    "\n",
    "Calcular el producto $L_2 L_1 A$ para la matriz anterior y para la matriz:\n",
    "\n",
    "$$\n",
    "A = \\left [\n",
    "\\begin{array}{ccc}\n",
    "1 & 4 & -2 \\\\\n",
    "-3 & 9 & 8 \\\\\n",
    "5 & 1 & -6\n",
    "\\end{array}\n",
    "\\right]\n",
    "$$\n",
    "\n",
    "tomando en cuenta que en este caso $L_2$ sólo opera del segundo renglón y segunda columna en adelante:\n",
    "\n",
    "\n",
    "<img src=\"https://dl.dropboxusercontent.com/s/su4z0obupk95vql/transf_Gauss_outer_product.png?dl=0\" heigth=\"550\" width=\"550\">\n",
    "\n",
    "y obtener una matriz triangular superior en cada ejercicio.\n",
    "```"
   ]
  },
  {
   "cell_type": "markdown",
   "metadata": {},
   "source": [
    "```{admonition} Comentario\n",
    "\n",
    "Las transformaciones de Gauss se utilizan para la fase de eliminación del método de eliminación Gaussiana o también llamada factorización LU. Ver [Gaussian elimination](https://en.wikipedia.org/wiki/Gaussian_elimination).\n",
    "```"
   ]
  },
  {
   "cell_type": "markdown",
   "metadata": {},
   "source": [
    "## Matriz ortogonal y matriz con columnas ortonormales"
   ]
  },
  {
   "cell_type": "markdown",
   "metadata": {},
   "source": [
    "Un conjunto de vectores $\\{x_1, \\dots, x_p\\}$ en $\\mathbb{R}^m$ ($x_i \\in \\mathbb{R}^m$)es ortogonal si $x_i^Tx_j=0$ $\\forall i\\neq j$. Por ejemplo, para un conjunto de $2$ vectores $x_1,x_2$ en $\\mathbb{R}^3$ esto se visualiza:\n",
    "\n",
    "<img src=\"https://dl.dropboxusercontent.com/s/cekagqnxe0grvu4/vectores_ortogonales.png?dl=0\" heigth=\"550\" width=\"550\">\n"
   ]
  },
  {
   "cell_type": "markdown",
   "metadata": {},
   "source": [
    "```{admonition} Comentarios\n",
    "\n",
    "* Si el conjunto $\\{x_1,\\dots,x_n\\}$ en $\\mathbb{R}^m$ satisface $x_i^Tx_j= \\delta_{ij}= \\begin{cases}\n",
    "1 &\\text{ si } i=j,\\\\\n",
    "0 &\\text{ si } i\\neq j\n",
    "\\end{cases}$, ver [Kronecker_delta](https://en.wikipedia.org/wiki/Kronecker_delta) se le nombra conjunto **ortonormal**, esto es, constituye un conjunto ortogonal y cada elemento del conjunto tiene norma $2$ o Euclidiana igual a $1$: $||x_i||_2 = 1, \\forall i=1,\\dots,n$.\n",
    "\n",
    "* Si definimos a la matriz $X$ con columnas dadas por cada uno de los vectores del conjunto $\\{x_1,\\dots, x_n\\}$: $X=(x_1, \\dots , x_n) \\in \\mathbb{R}^{m \\times n}$ entonces la propiedad de que cada par de columnas satisfaga $x_i^Tx_j=\\delta_{ij}$ se puede escribir en notación matricial como $X^TX = I_n$ con $I_n$ la matriz identidad de tamaño $n$ o bien $XX^T=I_m$. A la matriz $X$ se le nombra **matriz con columnas ortonormales**.\n",
    "\n",
    "* Si cada $x_i$ está en $\\mathbb{R}^n$ (en lugar de $\\mathbb{R}^m$) entonces construímos a la matriz $X$ como el punto anterior con la diferencia que $X \\in \\mathbb{R}^{n \\times n}$. En este caso $X$ se le nombra **matriz ortogonal**.\n",
    "\n",
    "* Entre las propiedades más importantes de las matrices ortogonales o con columnas ortonormales es que son isometrías bajo la norma $2$ o Euclidiana y multiplicar por tales matrices es estable numéricamente bajo el redondeo, ver {ref}`Condición de un problema y estabilidad de un algoritmo <CPEA>`.\n",
    "```"
   ]
  },
  {
   "cell_type": "markdown",
   "metadata": {},
   "source": [
    "## Transformaciones de reflexión"
   ]
  },
  {
   "cell_type": "markdown",
   "metadata": {},
   "source": [
    "En esta sección suponemos que $A \\in \\mathbb{R}^{m \\times n}$ y $A$ es una matriz con entradas $a_{ij} \\in \\mathbb{R}^{m \\times n} \\forall i=1,2,\\dots,m, j=1, 2, \\dots, n$."
   ]
  },
  {
   "cell_type": "markdown",
   "metadata": {},
   "source": [
    "### Reflectores de Householder"
   ]
  },
  {
   "cell_type": "markdown",
   "metadata": {},
   "source": [
    "```{margin}\n",
    "\n",
    "Recuerda que $u^\\perp = \\{x \\in \\mathbb{R}^m| u^Tx=0\\}$ es un subespacio de $\\mathbb{R}^m$ de dimensión $m-1$ y es el complemento ortogonal de $u$.\n",
    "\n",
    "```"
   ]
  },
  {
   "cell_type": "markdown",
   "metadata": {},
   "source": [
    "```{admonition} Definición\n",
    "\n",
    "Las reflexiones de Householder son matrices **simétricas, ortogonales** y se construyen a partir de un vector $v \\neq 0$ definiendo:\n",
    "\n",
    "$$R = I_m-\\beta v v^T$$ \n",
    "\n",
    "con $v \\in \\mathbb{R}^m - \\{0\\}$ y $\\beta = \\frac{2}{v^Tv}$. El vector $v$ se llama **vector de Householder**. La multiplicación $Rx$ representa la reflexión del vector $x \\in \\mathbb{R}^m$ a través del hiperplano $v^\\perp$.\n",
    "```"
   ]
  },
  {
   "cell_type": "markdown",
   "metadata": {},
   "source": [
    "```{admonition} Comentario\n",
    "\n",
    "Algunas propiedades de las reflexiones de Householder son: $R^TR = R^2 = I_m$, $R^{-1}=R$, $det(R)=-1$.\n",
    "```"
   ]
  },
  {
   "cell_type": "markdown",
   "metadata": {},
   "source": [
    "```{sidebar} Proyector ortogonal elemental\n",
    "\n",
    "En este dibujo se utiliza el **proyector ortogonal elemental** sobre el complemento ortogonal $u^\\perp$ definido como: $P=I_m- u u^T$ y $Px$ es la proyección ortogonal de $x$ sobre $u^\\perp$ . Los proyectores ortogonales elementales **no** son matrices ortogonales, son singulares, son simétricas y $P^2=P$. El proyector ortogonal elemental de $x$ sobre $u^\\perp$ tienen $rank$ igual a $m-1$ y el proyector ortogonal de $x$ sobre $span\\{u\\}$ definido por $I_m-P=uu^T$ tienen $rank$ igual a $1$.\n",
    "\n",
    "<img src=\"https://dl.dropboxusercontent.com/s/itjn9edajx4g2ql/elementary_projector_drawing.png?dl=0\" heigth=\"350\" width=\"350\">\n",
    "\n",
    "Recuerda que $span\\{u\\}$ es el conjunto generado por $u$. Se define como el conjunto de combinaciones lineales de $u$: $span\\{u\\} = \\left \\{\\displaystyle \\sum_{i=1}^m k_i u_i | k_i \\in \\mathbb{R} \\forall i =1,\\dots,m \\right \\}$.\n",
    "```"
   ]
  },
  {
   "cell_type": "markdown",
   "metadata": {},
   "source": [
    "Un dibujo que ayuda a visualizar el reflector elemental alrededor de $u^\\perp$ en el que se utiliza $u \\in \\mathbb{R}^m - \\{0\\}$ , $||u||_2 = 1$ y  $R=I_m-2 u u^T$ es el siguiente :\n",
    "\n",
    "<img src=\"https://dl.dropboxusercontent.com/s/o3oht181nm8lfit/householder_drawing.png?dl=0\" heigth=\"350\" width=\"350\">\n",
    "\n"
   ]
  },
  {
   "cell_type": "markdown",
   "metadata": {},
   "source": [
    "Las reflexiones de Householder pueden utilizarse para hacer ceros por debajo de una entrada de un vector. "
   ]
  },
  {
   "cell_type": "markdown",
   "metadata": {},
   "source": [
    "### Ejemplo aplicando reflectores de Householder a un vector"
   ]
  },
  {
   "cell_type": "markdown",
   "metadata": {},
   "source": [
    "Considérese al vector $x=(1,2,3)^T$. Definir un reflector de Householder para hacer ceros por debajo de $x_1$."
   ]
  },
  {
   "cell_type": "code",
   "execution_count": 53,
   "metadata": {},
   "outputs": [],
   "source": [
    "x = np.array([1,2,3])"
   ]
  },
  {
   "cell_type": "code",
   "execution_count": 54,
   "metadata": {},
   "outputs": [
    {
     "data": {
      "text/plain": [
       "array([1, 2, 3])"
      ]
     },
     "execution_count": 54,
     "metadata": {},
     "output_type": "execute_result"
    }
   ],
   "source": [
    "x"
   ]
  },
  {
   "cell_type": "markdown",
   "metadata": {},
   "source": [
    "Utilizamos la definición $v=x-||x||_2e_1$ con $e_1=(1,0,0)^T$ vector canónico para construir al vector de Householder:"
   ]
  },
  {
   "cell_type": "markdown",
   "metadata": {},
   "source": [
    "```{margin}\n",
    "\n",
    "Usamos $e_1$ pues se desea hacer ceros en las entradas debajo de la primera.\n",
    "```"
   ]
  },
  {
   "cell_type": "code",
   "execution_count": 55,
   "metadata": {},
   "outputs": [],
   "source": [
    "e1 = np.array([1,0,0]) \n",
    "v = x-np.linalg.norm(x)*e1"
   ]
  },
  {
   "cell_type": "markdown",
   "metadata": {},
   "source": [
    "```{margin}\n",
    "\n",
    "Recuerda la definición de $\\beta = \\frac{2}{v^Tv}$ para $v$ no unitario.\n",
    "```"
   ]
  },
  {
   "cell_type": "code",
   "execution_count": 56,
   "metadata": {},
   "outputs": [],
   "source": [
    "beta = 2/v.dot(v)"
   ]
  },
  {
   "cell_type": "markdown",
   "metadata": {},
   "source": [
    "```{margin}\n",
    "\n",
    "Observa que por la definición de la reflexión de Householder, **no necesitamos construir a la matriz $R$, directamente se tiene $R x = x - \\beta vv^Tx$.**\n",
    "```"
   ]
  },
  {
   "cell_type": "markdown",
   "metadata": {},
   "source": [
    "Hacemos ceros por debajo de la primera entrada de $x$ haciendo la multiplicación matriz-vector $Rx$:"
   ]
  },
  {
   "cell_type": "code",
   "execution_count": 57,
   "metadata": {},
   "outputs": [
    {
     "data": {
      "text/plain": [
       "array([3.74165739, 0.        , 0.        ])"
      ]
     },
     "execution_count": 57,
     "metadata": {},
     "output_type": "execute_result"
    }
   ],
   "source": [
    "x-beta*v*(v.dot(x))"
   ]
  },
  {
   "cell_type": "markdown",
   "metadata": {},
   "source": [
    "El resultado de $Rx$ es $(||x||_2,0,0)^T$ con $||x||_2$ dada por:"
   ]
  },
  {
   "cell_type": "code",
   "execution_count": 58,
   "metadata": {},
   "outputs": [
    {
     "data": {
      "text/plain": [
       "3.7416573867739413"
      ]
     },
     "execution_count": 58,
     "metadata": {},
     "output_type": "execute_result"
    }
   ],
   "source": [
    "np.linalg.norm(x)"
   ]
  },
  {
   "cell_type": "markdown",
   "metadata": {},
   "source": [
    "```{admonition} Observación\n",
    ":class: tip\n",
    "\n",
    "* Observa que se preserva la norma $2$ o Euclidiana del vector, las matrices de reflexión de Householder son matrices ortogonales y por tanto isometrías: $||Rv||_2=||v||_2$.\n",
    "\n",
    "* Observa que a diferencia de las transformaciones de Gauss con las reflexiones de Householder en general se modifica la primera entrada, ver {ref}`Ejemplo aplicando transformaciones de Gauss a un vector <EG1>`.\n",
    "\n",
    "```"
   ]
  },
  {
   "cell_type": "markdown",
   "metadata": {},
   "source": [
    "A continuación se muestra que el producto $Rx$ si se construye $R$ es equivalente a lo anterior:"
   ]
  },
  {
   "cell_type": "markdown",
   "metadata": {},
   "source": [
    "```{margin}\n",
    "\n",
    "$R = I_3 - \\beta v v^T$.\n",
    "```"
   ]
  },
  {
   "cell_type": "code",
   "execution_count": 59,
   "metadata": {},
   "outputs": [],
   "source": [
    "R = np.eye(3)-beta*np.outer(v,np.transpose(v))"
   ]
  },
  {
   "cell_type": "code",
   "execution_count": 60,
   "metadata": {},
   "outputs": [
    {
     "data": {
      "text/plain": [
       "array([[ 0.26726124,  0.53452248,  0.80178373],\n",
       "       [ 0.53452248,  0.61007346, -0.5848898 ],\n",
       "       [ 0.80178373, -0.5848898 ,  0.12266529]])"
      ]
     },
     "execution_count": 60,
     "metadata": {},
     "output_type": "execute_result"
    }
   ],
   "source": [
    "R"
   ]
  },
  {
   "cell_type": "code",
   "execution_count": 61,
   "metadata": {},
   "outputs": [
    {
     "data": {
      "text/plain": [
       "array([3.74165739e+00, 0.00000000e+00, 2.22044605e-16])"
      ]
     },
     "execution_count": 61,
     "metadata": {},
     "output_type": "execute_result"
    }
   ],
   "source": [
    "R@x"
   ]
  },
  {
   "cell_type": "markdown",
   "metadata": {},
   "source": [
    "### Ejemplo aplicando reflectores de Householder a un vector"
   ]
  },
  {
   "cell_type": "markdown",
   "metadata": {},
   "source": [
    "Considérese al mismo vector $x$ del ejemplo anterior y el mismo objetivo \"Definir un reflector de Householder para hacer ceros por debajo de $x_1$.\". Otra opción para construir al vector de Householder es $v=x+||x||_2e_1$ con $e_1=(1,0,0)^T$ vector canónico:\n"
   ]
  },
  {
   "cell_type": "markdown",
   "metadata": {},
   "source": [
    "```{margin}\n",
    "\n",
    "Usamos $e_1$ pues se desea hacer ceros en las entradas debajo de la primera.\n",
    "```"
   ]
  },
  {
   "cell_type": "code",
   "execution_count": 62,
   "metadata": {},
   "outputs": [],
   "source": [
    "e1 = np.array([1,0,0])\n",
    "v = x+np.linalg.norm(x)*e1"
   ]
  },
  {
   "cell_type": "markdown",
   "metadata": {},
   "source": [
    "```{margin}\n",
    "\n",
    "Recuerda la definición de $\\beta = \\frac{2}{v^Tv}$ para $v$ no unitario.\n",
    "```"
   ]
  },
  {
   "cell_type": "code",
   "execution_count": 63,
   "metadata": {},
   "outputs": [],
   "source": [
    "beta = 2/v.dot(v)"
   ]
  },
  {
   "cell_type": "markdown",
   "metadata": {},
   "source": [
    "```{margin}\n",
    "\n",
    "Observa que por la definición de la reflexión de Householder, **no necesitamos construir a la matriz $R$, directamente se tiene $R x = x - \\beta vv^Tx$.**\n",
    "```"
   ]
  },
  {
   "cell_type": "markdown",
   "metadata": {},
   "source": [
    "Hacemos ceros por debajo de la primera entrada de $x$ haciendo la multiplicación matriz-vector $Rx$:"
   ]
  },
  {
   "cell_type": "code",
   "execution_count": 64,
   "metadata": {},
   "outputs": [
    {
     "data": {
      "text/plain": [
       "array([-3.74165739e+00, -4.44089210e-16, -4.44089210e-16])"
      ]
     },
     "execution_count": 64,
     "metadata": {},
     "output_type": "execute_result"
    }
   ],
   "source": [
    "x-beta*v*(v.dot(x))"
   ]
  },
  {
   "cell_type": "markdown",
   "metadata": {},
   "source": [
    "```{admonition} Observación\n",
    ":class: tip\n",
    "\n",
    "Observa que difieren en signo las primeras entradas al utilizar  $v=x + ||x||_2 e_1$ o  $v=x - ||x||_2 e_1$.\n",
    "```"
   ]
  },
  {
   "cell_type": "markdown",
   "metadata": {},
   "source": [
    "### ¿Cuál definición del vector de Householder usar?"
   ]
  },
  {
   "cell_type": "markdown",
   "metadata": {},
   "source": [
    "En cualquiera de las dos definiciones del vector de Householder $v=x \\pm ||x||_2 e_1$, la multiplicación $Rx$ refleja $x$ en el primer eje coordenado (pues se usa $e_1$):\n",
    "\n",
    "\n",
    "<img src=\"https://dl.dropboxusercontent.com/s/bfk7gojxm93ah5s/householder_2_posibilites.png?dl=0\" heigth=\"400\" width=\"400\">\n"
   ]
  },
  {
   "cell_type": "markdown",
   "metadata": {},
   "source": [
    "El vector $v^+ = - u_0^+ = x-||x||_2e_1$ refleja $x$ respecto al subespacio $H^+$ (que en el dibujo es una recta que cruza el origen). El vector $v^- = -u_0^- = x+||x||_2e_1$ refleja $x$ respecto al subespacio $H^-$. \n",
    "\n",
    "Para reducir los errores por redondeo y evitar el problema de cancelación en la aritmética de punto flotante (ver [Sistema de punto flotante](https://itam-ds.github.io/analisis-numerico-computo-cientifico/I.computo_cientifico/1.2/Sistema_de_punto_flotante.html)) se utiliza:\n",
    "\n",
    "$$v = x+signo(x_1)||x||_2e_1$$\n",
    "\n",
    "donde: $signo(x_1) = \\begin{cases}\n",
    "1 &\\text{ si } x_1 \\geq 0 ,\\\\\n",
    "-1 &\\text{ si } x_1 < 0\n",
    "\\end{cases}.$\n",
    "\n",
    "La idea de la definción anterior con la función $signo(\\cdot)$ es que la reflexión (en el dibujo anterior $-||x||_2e_1$ o $||x||_2e_1$) sea lo más alejada posible de $x$. En el dibujo anterior como $x_1, x_2>0$ entonces se refleja respecto al subespacio $H^-$ quedando su reflexión igual a $-||x||_2e_1$."
   ]
  },
  {
   "cell_type": "markdown",
   "metadata": {},
   "source": [
    "```{admonition} Comentarios\n",
    "\n",
    "* Otra forma de lidiar con el problema de cancelación es definiendo a la primera componente del vector de Householder $v_1$ como $v_1=x_1-||x||_2$ y haciendo una manipulación algebraica como sigue:\n",
    "\n",
    "$$v_1=x_1-||x||_2 = \\frac{x_1^2-||x||_2^2}{x_1+||x||_2} = -\\frac{x_2^2+x_3^2+\\dots + x_m^2}{x_1+||x||_2}.$$\n",
    "\n",
    "* En la implementación del cálculo del vector de Householder, es útil que $v_1=1$ y así únicamente se almacenará $v[2:m]$. Al vector $v[2:m]$ se le nombra **parte esencial del vector de Householder**.\n",
    "\n",
    "* Las transformaciones de reflexión de Householder se utilizan para la factorización QR. Ver [QR decomposition](https://en.wikipedia.org/wiki/QR_decomposition).\n",
    "\n",
    "```"
   ]
  },
  {
   "cell_type": "markdown",
   "metadata": {},
   "source": [
    "```{admonition} Ejercicio\n",
    ":class: tip\n",
    "\n",
    "Reflejar al vector $(1,1)^T$ utilizando al vector $(\\frac{-4}{3}, \\frac{2}{3})$ para construir $R$.\n",
    "```"
   ]
  },
  {
   "cell_type": "markdown",
   "metadata": {},
   "source": [
    "### Ejemplo aplicando reflectores de Householder a una matriz"
   ]
  },
  {
   "cell_type": "markdown",
   "metadata": {},
   "source": [
    "Las reflexiones de Householder se utilizan para hacer ceros por debajo de la **diagonal** a una matriz y tener una forma triangular superior (mismo objetivo que las transformaciones de Gauss, ver {ref}`Ejemplo aplicando transformaciones de Gauss a una matriz <EG2>`). Por ejemplo si se han hecho ceros por debajo del elemento $a_{11}$ y se quieren hacer ceros debajo de $a_{22}^{(1)}$:\n",
    "\n"
   ]
  },
  {
   "cell_type": "markdown",
   "metadata": {},
   "source": [
    "$$\\begin{array}{l}\n",
    "R_2A^{(1)} = R_2\n",
    "\\left[\n",
    "\\begin{array}{cccc}\n",
    "* & * & * & *\\\\\n",
    "0 & * & * & *\\\\\n",
    "0 & * & * & * \\\\\n",
    "0 & * & * & * \\\\\n",
    "0 & * & * & *\n",
    "\\end{array}\n",
    "\\right]\n",
    "\\left[\n",
    "\\begin{array}{cccc}\n",
    "* & * & * & *\\\\\n",
    "0 & * & * & *\\\\\n",
    "0 & 0 & * & * \\\\\n",
    "0 & 0 & * & * \\\\\n",
    "0 & 0 & * & *\n",
    "\\end{array}\n",
    "\\right]\n",
    ":= A^{(2)}\n",
    "\\end{array}\n",
    "$$\n",
    "\n",
    "\n",
    "donde: $a^{(1)}_{ij}$ son las entradas de $A^{(1)} = R_1A^{(0)}$ y $A^{(0)}=A$, $R_1$ es matriz de reflexión de Householder."
   ]
  },
  {
   "cell_type": "markdown",
   "metadata": {},
   "source": [
    "En este caso \n",
    "\n",
    "$$R_2 = \n",
    "\\left [ \n",
    "\\begin{array}{cc}\n",
    "1 & 0 \\\\\n",
    "0 & \\hat{R_2}\n",
    "\\end{array}\n",
    "\\right ]\n",
    "$$"
   ]
  },
  {
   "cell_type": "markdown",
   "metadata": {},
   "source": [
    "con $\\hat{R}_2$ una matriz de reflexión de Householder que hace ceros por debajo de de $a_{22}^{(1)}$. Se tienen las siguientes propiedades de $R_2$:\n",
    "\n",
    "* No modifica el primer renglón de $A^{(1)}$.\n",
    "\n",
    "* No destruye los ceros de la primer columna de $A^{(1)}$.\n",
    "\n",
    "* $R_2$ es una matriz de reflexión de Householder.\n"
   ]
  },
  {
   "cell_type": "markdown",
   "metadata": {},
   "source": [
    "```{admonition} Observación\n",
    ":class: tip\n",
    "\n",
    "Para la implementación computacional **no se inserta** $\\hat{R}_2$ en $R_2$, en lugar de esto se aplica $\\hat{R}_2$ a la submatriz $A^{(1)}[2:m, 2:m]$.\n",
    "```"
   ]
  },
  {
   "cell_type": "markdown",
   "metadata": {},
   "source": [
    "\n",
    "Considérese a la matriz $A \\in \\mathbb{R}^{4 \\times 3}$:\n",
    "\n",
    "$$A =\n",
    "\\left [\n",
    "\\begin{array}{ccc}\n",
    "3 & 2 & -1 \\\\\n",
    "2 & 3 & 2 \\\\\n",
    "-1 & 2 & 3 \\\\\n",
    "2 & 1 & 4\n",
    "\\end{array}\n",
    "\\right ] \n",
    "$$\n",
    "\n",
    "y aplíquense reflexiones de Householder para llevarla a una forma triangular superior."
   ]
  },
  {
   "cell_type": "code",
   "execution_count": 65,
   "metadata": {},
   "outputs": [],
   "source": [
    "A = np.array([[3 ,2, -1],\n",
    "              [2 ,3 ,2],\n",
    "              [-1, 2 ,3],\n",
    "              [2 ,1 ,4]], dtype = float)"
   ]
  },
  {
   "cell_type": "code",
   "execution_count": 66,
   "metadata": {},
   "outputs": [
    {
     "data": {
      "text/plain": [
       "array([[ 3.,  2., -1.],\n",
       "       [ 2.,  3.,  2.],\n",
       "       [-1.,  2.,  3.],\n",
       "       [ 2.,  1.,  4.]])"
      ]
     },
     "execution_count": 66,
     "metadata": {},
     "output_type": "execute_result"
    }
   ],
   "source": [
    "A"
   ]
  },
  {
   "cell_type": "markdown",
   "metadata": {},
   "source": [
    "```{margin}\n",
    "\n",
    "Usamos $e_1$ pues se desea hacer ceros en las entradas debajo de la primera entrada de la primera columna de $A$: $A[1:4,1]$.\n",
    "```"
   ]
  },
  {
   "cell_type": "code",
   "execution_count": 67,
   "metadata": {},
   "outputs": [],
   "source": [
    "e1 = np.array([1,0,0,0])"
   ]
  },
  {
   "cell_type": "markdown",
   "metadata": {},
   "source": [
    "```{margin}\n",
    "\n",
    "Recuerda la definición de $v= A[1:4,1] + signo(A[1,1])||A[1:4,1]||_2e_1$.\n",
    "\n",
    "```"
   ]
  },
  {
   "cell_type": "code",
   "execution_count": 68,
   "metadata": {},
   "outputs": [],
   "source": [
    "v = A[:,0] + np.linalg.norm(A[:,0])*e1"
   ]
  },
  {
   "cell_type": "code",
   "execution_count": 69,
   "metadata": {},
   "outputs": [
    {
     "data": {
      "text/plain": [
       "array([ 7.24264069,  2.        , -1.        ,  2.        ])"
      ]
     },
     "execution_count": 69,
     "metadata": {},
     "output_type": "execute_result"
    }
   ],
   "source": [
    "v"
   ]
  },
  {
   "cell_type": "markdown",
   "metadata": {},
   "source": [
    "```{margin}\n",
    "\n",
    "Recuerda la definición de $\\beta = \\frac{2}{v^Tv}$ para $v$ no unitario.\n",
    "```"
   ]
  },
  {
   "cell_type": "code",
   "execution_count": 70,
   "metadata": {},
   "outputs": [],
   "source": [
    "beta = 2/v.dot(v)"
   ]
  },
  {
   "cell_type": "code",
   "execution_count": 71,
   "metadata": {},
   "outputs": [
    {
     "data": {
      "text/plain": [
       "0.032543690979272503"
      ]
     },
     "execution_count": 71,
     "metadata": {},
     "output_type": "execute_result"
    }
   ],
   "source": [
    "beta"
   ]
  },
  {
   "cell_type": "markdown",
   "metadata": {},
   "source": [
    "```{margin}\n",
    "\n",
    "Observa que por la definición de la reflexión de Householder, **no necesitamos construir a la matriz $R_1$, directamente se tiene $R_1 A[1:4,1] = A[1:4,1] - \\beta vv^TA[1:4,1]$.**\n",
    "```"
   ]
  },
  {
   "cell_type": "code",
   "execution_count": 72,
   "metadata": {},
   "outputs": [
    {
     "data": {
      "text/plain": [
       "array([-4.24264069e+00, -4.44089210e-16,  2.22044605e-16, -4.44089210e-16])"
      ]
     },
     "execution_count": 72,
     "metadata": {},
     "output_type": "execute_result"
    }
   ],
   "source": [
    "A[:,0] - beta*v*v.dot(A[:,0])"
   ]
  },
  {
   "cell_type": "markdown",
   "metadata": {},
   "source": [
    "```{margin}\n",
    "\n",
    "Recuerda $A^{(1)} = R_1 A^{(0)}$.\n",
    "```"
   ]
  },
  {
   "cell_type": "code",
   "execution_count": 73,
   "metadata": {},
   "outputs": [],
   "source": [
    "A1 = A[:,0:]-beta*np.outer(v,v.dot(A[:,0:]))"
   ]
  },
  {
   "cell_type": "code",
   "execution_count": 74,
   "metadata": {},
   "outputs": [
    {
     "data": {
      "text/plain": [
       "array([[-4.24264069e+00, -2.82842712e+00, -1.41421356e+00],\n",
       "       [-4.44089210e-16,  1.66666667e+00,  1.88561808e+00],\n",
       "       [ 2.22044605e-16,  2.66666667e+00,  3.05719096e+00],\n",
       "       [-4.44089210e-16, -3.33333333e-01,  3.88561808e+00]])"
      ]
     },
     "execution_count": 74,
     "metadata": {},
     "output_type": "execute_result"
    }
   ],
   "source": [
    "A1"
   ]
  },
  {
   "cell_type": "markdown",
   "metadata": {},
   "source": [
    "```{admonition} Observación\n",
    ":class: tip\n",
    "\n",
    "Observa que a diferencia de las transformaciones de Gauss la reflexión de Householder $R_1$ sí modifica el primer renglón de $A^{(0)}$, ver {ref}`Después de hacer la multiplicación... <EG2.1>`.\n",
    "\n",
    "```"
   ]
  },
  {
   "cell_type": "markdown",
   "metadata": {},
   "source": [
    "```{margin}\n",
    "\n",
    "Se preserva la norma $2$ o Euclidiana de $A[1:4,1]$.\n",
    "```"
   ]
  },
  {
   "cell_type": "code",
   "execution_count": 75,
   "metadata": {},
   "outputs": [
    {
     "data": {
      "text/plain": [
       "4.2426406871192865"
      ]
     },
     "execution_count": 75,
     "metadata": {},
     "output_type": "execute_result"
    }
   ],
   "source": [
    "np.linalg.norm(A1[:,0])"
   ]
  },
  {
   "cell_type": "code",
   "execution_count": 76,
   "metadata": {},
   "outputs": [
    {
     "data": {
      "text/plain": [
       "4.242640687119285"
      ]
     },
     "execution_count": 76,
     "metadata": {},
     "output_type": "execute_result"
    }
   ],
   "source": [
    "np.linalg.norm(A[:,0])"
   ]
  },
  {
   "cell_type": "markdown",
   "metadata": {},
   "source": [
    "**A continuación queremos hacer ceros debajo de la segunda entrada de la segunda columna de $A^{(1)}$.**"
   ]
  },
  {
   "cell_type": "markdown",
   "metadata": {},
   "source": [
    "```{margin}\n",
    "\n",
    "Usamos $e_1$ pues se desea hacer ceros en las entradas debajo de la segunda entrada de la segunda columna de $A^{(1)}$: $A^{(1)}[2:4,2]$.\n",
    "```"
   ]
  },
  {
   "cell_type": "code",
   "execution_count": 77,
   "metadata": {},
   "outputs": [],
   "source": [
    "e1 = np.array([1, 0, 0])"
   ]
  },
  {
   "cell_type": "markdown",
   "metadata": {},
   "source": [
    "```{margin}\n",
    "\n",
    "Recuerda la definición de $v= A[2:4,2] + signo(A[2,2])||A[2:4,2]||_2e_1$.\n",
    "\n",
    "```"
   ]
  },
  {
   "cell_type": "code",
   "execution_count": 78,
   "metadata": {},
   "outputs": [],
   "source": [
    "v = A1[1:,1] + np.linalg.norm(A1[1:,1])*e1"
   ]
  },
  {
   "cell_type": "code",
   "execution_count": 79,
   "metadata": {},
   "outputs": [
    {
     "data": {
      "text/plain": [
       "array([ 4.82894433,  2.66666667, -0.33333333])"
      ]
     },
     "execution_count": 79,
     "metadata": {},
     "output_type": "execute_result"
    }
   ],
   "source": [
    "v"
   ]
  },
  {
   "cell_type": "markdown",
   "metadata": {},
   "source": [
    "```{margin}\n",
    "\n",
    "Recuerda la definición de $\\beta = \\frac{2}{v^Tv}$ para $v$ no unitario.\n",
    "```"
   ]
  },
  {
   "cell_type": "code",
   "execution_count": 80,
   "metadata": {},
   "outputs": [],
   "source": [
    "beta = 2/v.dot(v)"
   ]
  },
  {
   "cell_type": "markdown",
   "metadata": {},
   "source": [
    "```{margin}\n",
    "\n",
    "Observa que por la definición de la reflexión de Householder, **no necesitamos construir a la matriz $R_2$, directamente se tiene $R_2A[2:4,2] = A[2:4,2] - \\beta vv^TA[2:4,2]$.**\n",
    "```"
   ]
  },
  {
   "cell_type": "code",
   "execution_count": 81,
   "metadata": {},
   "outputs": [
    {
     "data": {
      "text/plain": [
       "array([-3.16227766,  0.        ,  0.        ])"
      ]
     },
     "execution_count": 81,
     "metadata": {},
     "output_type": "execute_result"
    }
   ],
   "source": [
    "A1[1:,1] - beta*v*v.dot(A1[1:,1])"
   ]
  },
  {
   "cell_type": "markdown",
   "metadata": {},
   "source": [
    "```{margin}\n",
    "\n",
    "Recuerda $A^{(2)} = R_2 A^{(1)}$ pero sólo operamos en $A^{(2)}[2:4, 2:3]$.\n",
    "```"
   ]
  },
  {
   "cell_type": "code",
   "execution_count": 82,
   "metadata": {},
   "outputs": [],
   "source": [
    "A2_aux = A1[1:,1:]-beta*np.outer(v,v.dot(A1[1:,1:]))"
   ]
  },
  {
   "cell_type": "code",
   "execution_count": 83,
   "metadata": {},
   "outputs": [
    {
     "data": {
      "text/plain": [
       "array([[-3.16227766, -3.16227766],\n",
       "       [ 0.        ,  0.26961371],\n",
       "       [ 0.        ,  4.23406524]])"
      ]
     },
     "execution_count": 83,
     "metadata": {},
     "output_type": "execute_result"
    }
   ],
   "source": [
    "A2_aux"
   ]
  },
  {
   "cell_type": "markdown",
   "metadata": {},
   "source": [
    "```{margin}\n",
    "\n",
    "Se preserva la norma $2$ o Euclidiana de $A[2:4,2]$.\n",
    "```"
   ]
  },
  {
   "cell_type": "code",
   "execution_count": 84,
   "metadata": {},
   "outputs": [
    {
     "data": {
      "text/plain": [
       "3.1622776601683795"
      ]
     },
     "execution_count": 84,
     "metadata": {},
     "output_type": "execute_result"
    }
   ],
   "source": [
    "np.linalg.norm(A1[1:,1])"
   ]
  },
  {
   "cell_type": "markdown",
   "metadata": {},
   "source": [
    "**A continuación queremos hacer ceros debajo de la tercera entrada de la tercera columna de $A^{(2)}$.**"
   ]
  },
  {
   "cell_type": "code",
   "execution_count": 85,
   "metadata": {},
   "outputs": [],
   "source": [
    "e1 = np.array([1, 0])"
   ]
  },
  {
   "cell_type": "code",
   "execution_count": 86,
   "metadata": {},
   "outputs": [],
   "source": [
    "v = A2_aux[1:,1] + np.linalg.norm(A2_aux[1:,1])*e1"
   ]
  },
  {
   "cell_type": "code",
   "execution_count": 87,
   "metadata": {},
   "outputs": [
    {
     "data": {
      "text/plain": [
       "array([4.5122544 , 4.23406524])"
      ]
     },
     "execution_count": 87,
     "metadata": {},
     "output_type": "execute_result"
    }
   ],
   "source": [
    "v"
   ]
  },
  {
   "cell_type": "code",
   "execution_count": 88,
   "metadata": {},
   "outputs": [],
   "source": [
    "beta = 2/v.dot(v)"
   ]
  },
  {
   "cell_type": "markdown",
   "metadata": {},
   "source": [
    "```{margin}\n",
    "\n",
    "Recuerda $A^{(3)} = R_3 A^{(2)}$ pero sólo operamos en $A^{(2)}[3:4, 3]$.\n",
    "```"
   ]
  },
  {
   "cell_type": "code",
   "execution_count": 89,
   "metadata": {},
   "outputs": [],
   "source": [
    "A3_aux = A2_aux[1:,1]-beta*v*v.dot(A2_aux[1:,1])"
   ]
  },
  {
   "cell_type": "code",
   "execution_count": 90,
   "metadata": {},
   "outputs": [
    {
     "data": {
      "text/plain": [
       "array([-4.24264069,  0.        ])"
      ]
     },
     "execution_count": 90,
     "metadata": {},
     "output_type": "execute_result"
    }
   ],
   "source": [
    "A3_aux"
   ]
  },
  {
   "cell_type": "code",
   "execution_count": 91,
   "metadata": {},
   "outputs": [
    {
     "data": {
      "text/plain": [
       "4.242640687119285"
      ]
     },
     "execution_count": 91,
     "metadata": {},
     "output_type": "execute_result"
    }
   ],
   "source": [
    "np.linalg.norm(A2_aux[1:,1])"
   ]
  },
  {
   "cell_type": "markdown",
   "metadata": {},
   "source": [
    "Entonces sólo falta colocar los renglones y columnas para tener a la matriz $A^{(3)}$. Para esto combinamos columnas y renglones en *numpy* con [column_stack](https://numpy.org/doc/stable/reference/generated/numpy.vstack.html) y *row_stack*:"
   ]
  },
  {
   "cell_type": "code",
   "execution_count": 92,
   "metadata": {},
   "outputs": [],
   "source": [
    "m,n = A.shape"
   ]
  },
  {
   "cell_type": "code",
   "execution_count": 93,
   "metadata": {},
   "outputs": [],
   "source": [
    "number_of_zeros = m-2"
   ]
  },
  {
   "cell_type": "code",
   "execution_count": 94,
   "metadata": {},
   "outputs": [],
   "source": [
    "A3_aux_2 = np.column_stack((np.zeros(number_of_zeros), A3_aux)) "
   ]
  },
  {
   "cell_type": "code",
   "execution_count": 95,
   "metadata": {},
   "outputs": [
    {
     "data": {
      "text/plain": [
       "array([[ 0.        , -4.24264069],\n",
       "       [ 0.        ,  0.        ]])"
      ]
     },
     "execution_count": 95,
     "metadata": {},
     "output_type": "execute_result"
    }
   ],
   "source": [
    "A3_aux_2"
   ]
  },
  {
   "cell_type": "code",
   "execution_count": 96,
   "metadata": {},
   "outputs": [],
   "source": [
    "A3_aux_3 = np.row_stack((A2_aux[0, 0:], A3_aux_2))"
   ]
  },
  {
   "cell_type": "code",
   "execution_count": 97,
   "metadata": {},
   "outputs": [
    {
     "data": {
      "text/plain": [
       "array([[-3.16227766, -3.16227766],\n",
       "       [ 0.        , -4.24264069],\n",
       "       [ 0.        ,  0.        ]])"
      ]
     },
     "execution_count": 97,
     "metadata": {},
     "output_type": "execute_result"
    }
   ],
   "source": [
    "A3_aux_3"
   ]
  },
  {
   "cell_type": "code",
   "execution_count": 98,
   "metadata": {},
   "outputs": [],
   "source": [
    "number_of_zeros = m-1"
   ]
  },
  {
   "cell_type": "code",
   "execution_count": 99,
   "metadata": {},
   "outputs": [],
   "source": [
    "A3_aux_4 = np.column_stack((np.zeros(number_of_zeros), A3_aux_3)) "
   ]
  },
  {
   "cell_type": "code",
   "execution_count": 100,
   "metadata": {},
   "outputs": [
    {
     "data": {
      "text/plain": [
       "array([[ 0.        , -3.16227766, -3.16227766],\n",
       "       [ 0.        ,  0.        , -4.24264069],\n",
       "       [ 0.        ,  0.        ,  0.        ]])"
      ]
     },
     "execution_count": 100,
     "metadata": {},
     "output_type": "execute_result"
    }
   ],
   "source": [
    "A3_aux_4"
   ]
  },
  {
   "cell_type": "markdown",
   "metadata": {},
   "source": [
    "La matriz $A^{(3)} = R_3 R_2 R_1 A^{(0)}$ es:"
   ]
  },
  {
   "cell_type": "code",
   "execution_count": 101,
   "metadata": {},
   "outputs": [],
   "source": [
    "A3 = np.row_stack((A1[0, 0:], A3_aux_4))"
   ]
  },
  {
   "cell_type": "code",
   "execution_count": 102,
   "metadata": {},
   "outputs": [
    {
     "data": {
      "text/plain": [
       "array([[-4.24264069, -2.82842712, -1.41421356],\n",
       "       [ 0.        , -3.16227766, -3.16227766],\n",
       "       [ 0.        ,  0.        , -4.24264069],\n",
       "       [ 0.        ,  0.        ,  0.        ]])"
      ]
     },
     "execution_count": 102,
     "metadata": {},
     "output_type": "execute_result"
    }
   ],
   "source": [
    "A3"
   ]
  },
  {
   "cell_type": "markdown",
   "metadata": {},
   "source": [
    "Podemos verificar lo anterior comparando con la matriz $R$ de la factorización $QR$ de $A$:"
   ]
  },
  {
   "cell_type": "code",
   "execution_count": 103,
   "metadata": {},
   "outputs": [
    {
     "data": {
      "text/plain": [
       "(array([[-7.07106781e-01,  1.18454328e-16,  4.71404521e-01],\n",
       "        [-4.71404521e-01, -5.27046277e-01,  7.85674201e-02],\n",
       "        [ 2.35702260e-01, -8.43274043e-01, -1.57134840e-01],\n",
       "        [-4.71404521e-01,  1.05409255e-01, -8.64241621e-01]]),\n",
       " array([[-4.24264069, -2.82842712, -1.41421356],\n",
       "        [ 0.        , -3.16227766, -3.16227766],\n",
       "        [ 0.        ,  0.        , -4.24264069]]))"
      ]
     },
     "execution_count": 103,
     "metadata": {},
     "output_type": "execute_result"
    }
   ],
   "source": [
    "np.linalg.qr(A)"
   ]
  },
  {
   "cell_type": "markdown",
   "metadata": {},
   "source": [
    "```{admonition} Ejercicio\n",
    ":class: tip\n",
    "\n",
    "Aplicar reflexiones de Householder a la matriz\n",
    "\n",
    "$$A =\n",
    "\\left [\n",
    "\\begin{array}{cccc}\n",
    "4 & 1 & -2 & 2 \\\\\n",
    "1 & 2 & 0 & 1\\\\\n",
    "-2 & 0 & 3 & -2 \\\\\n",
    "2 & 1 & -2 & -1\n",
    "\\end{array}\n",
    "\\right ] \n",
    "$$\n",
    "\n",
    "para obtener una matriz triangular superior.\n",
    "```"
   ]
  },
  {
   "cell_type": "markdown",
   "metadata": {},
   "source": [
    "## Transformaciones de rotación"
   ]
  },
  {
   "cell_type": "markdown",
   "metadata": {},
   "source": [
    "En esta sección suponemos que $A \\in \\mathbb{R}^{m \\times n}$ y $A$ es una matriz con entradas $a_{ij} \\in \\mathbb{R}^{m \\times n} \\forall i=1,2,\\dots,m, j=1, 2, \\dots, n$."
   ]
  },
  {
   "cell_type": "markdown",
   "metadata": {},
   "source": [
    "Si $u, v \\in \\mathbb{R}^2-\\{0\\}$ con $\\ell = ||u||_2 = ||v||_2$ y se desea rotar al vector $u$ en sentido contrario a las manecillas del reloj por un ángulo $\\theta$ para llevarlo a la dirección de $v$:"
   ]
  },
  {
   "cell_type": "markdown",
   "metadata": {},
   "source": [
    "<img src=\"https://dl.dropboxusercontent.com/s/vq8eu0yga2x7cb2/rotation_1.png?dl=0\" heigth=\"500\" width=\"500\">\n"
   ]
  },
  {
   "cell_type": "markdown",
   "metadata": {},
   "source": [
    "A partir de las relaciones anteriores como $cos(\\phi)=\\frac{u_1}{\\ell}, sen(\\phi)=\\frac{u_2}{\\ell}$ se tiene: $v_1 = (cos\\theta)u_1-(sen\\theta)u_2$, $v_2=(sen\\theta)u_1+(cos\\theta)u_2$ equivalentemente:\n",
    "\n",
    "$$\\begin{array}{l}\n",
    "\\left[\\begin{array}{c}\n",
    "v_1\\\\\n",
    "v_2\n",
    "\\end{array}\n",
    "\\right]\n",
    "=\n",
    "\\left[ \\begin{array}{cc}\n",
    "cos\\theta & -sen\\theta\\\\\n",
    "sen\\theta & cos\\theta\n",
    "\\end{array}\n",
    "\\right] \\cdot \n",
    "\\left[\\begin{array}{c}\n",
    "u_1\\\\\n",
    "u_2\n",
    "\\end{array}\n",
    "\\right]\n",
    "\\end{array}\n",
    "$$"
   ]
  },
  {
   "cell_type": "markdown",
   "metadata": {},
   "source": [
    "```{admonition} Comentarios\n",
    "\n",
    "* La matriz $R_O$ se llama matriz de **rotación** o **rotaciones Givens**, es una matriz ortogonal pues $R_O^TR_O=I_2$.\n",
    "\n",
    "* La multiplicación $v=R_Ou$ es una rotación en sentido contrario a las manecillas del reloj. La multiplicación $u=R_O^Tv$ es una rotación en sentido de las manecillas del reloj y el ángulo asociado es $-\\theta$.\n",
    "\n",
    "* $det(R_O)=1$.\n",
    "```"
   ]
  },
  {
   "cell_type": "markdown",
   "metadata": {},
   "source": [
    "### Ejemplo aplicando rotaciones Givens a un vector"
   ]
  },
  {
   "cell_type": "markdown",
   "metadata": {},
   "source": [
    "Rotar al vector $v=(1,1)^T$ un ángulo de $45^o$ en **sentido contrario a las manecillas del reloj**."
   ]
  },
  {
   "cell_type": "code",
   "execution_count": 104,
   "metadata": {},
   "outputs": [],
   "source": [
    "v=np.array([1,1])"
   ]
  },
  {
   "cell_type": "markdown",
   "metadata": {},
   "source": [
    "La matriz $R_O$ es: \n",
    "\n",
    "$$R_O = \\left[ \\begin{array}{cc}\n",
    "cos(\\frac{\\pi}{4}) & -sen(\\frac{\\pi}{4})\\\\\n",
    "sen(\\frac{\\pi}{4}) & cos(\\frac{\\pi}{4})\n",
    "\\end{array}\n",
    "\\right ]\n",
    "$$"
   ]
  },
  {
   "cell_type": "code",
   "execution_count": 105,
   "metadata": {},
   "outputs": [],
   "source": [
    "theta=math.pi/4\n",
    "RO=np.array([[math.cos(theta), -math.sin(theta)],\n",
    "              [math.sin(theta), math.cos(theta)]])"
   ]
  },
  {
   "cell_type": "code",
   "execution_count": 106,
   "metadata": {},
   "outputs": [
    {
     "data": {
      "text/plain": [
       "array([[ 0.70710678, -0.70710678],\n",
       "       [ 0.70710678,  0.70710678]])"
      ]
     },
     "execution_count": 106,
     "metadata": {},
     "output_type": "execute_result"
    }
   ],
   "source": [
    "RO"
   ]
  },
  {
   "cell_type": "code",
   "execution_count": 107,
   "metadata": {},
   "outputs": [
    {
     "data": {
      "text/plain": [
       "array([1.11022302e-16, 1.41421356e+00])"
      ]
     },
     "execution_count": 107,
     "metadata": {},
     "output_type": "execute_result"
    }
   ],
   "source": [
    "RO@v"
   ]
  },
  {
   "cell_type": "code",
   "execution_count": 108,
   "metadata": {},
   "outputs": [
    {
     "data": {
      "text/plain": [
       "1.4142135623730951"
      ]
     },
     "execution_count": 108,
     "metadata": {},
     "output_type": "execute_result"
    }
   ],
   "source": [
    "np.linalg.norm(v)"
   ]
  },
  {
   "cell_type": "markdown",
   "metadata": {},
   "source": [
    "```{admonition} Observación\n",
    ":class: tip\n",
    "\n",
    "Observa que se preserva la norma $2$ o Euclidiana del vector, las matrices de rotación Givens son matrices ortogonales y por tanto isometrías: $||R_0v||_2=||v||_2$.\n",
    "```"
   ]
  },
  {
   "cell_type": "markdown",
   "metadata": {},
   "source": [
    "En el ejemplo anterior se hizo cero la entrada $v_1$ de $v$. Las matrices de rotación se utilizan para hacer ceros en entradas de un vector. Por ejemplo si $v=(v_1,v_2)^T$ y **se desea hacer cero la entrada $v_2$ de $v$** se puede utilizar la matriz de rotación:\n",
    "\n",
    "$$R_O = \\left[ \\begin{array}{cc}\n",
    "\\frac{v_1}{\\sqrt{v_1^2+v_2^2}} & \\frac{v_2}{\\sqrt{v_1^2+v_2^2}}\\\\\n",
    "-\\frac{v_2}{\\sqrt{v_1^2+v_2^2}} & \\frac{v_1}{\\sqrt{v_1^2+v_2^2}}\n",
    "\\end{array}\n",
    "\\right ]\n",
    "$$"
   ]
  },
  {
   "cell_type": "markdown",
   "metadata": {},
   "source": [
    "pues:\n",
    "\n",
    "$$\\begin{array}{l}\n",
    " \\left[ \\begin{array}{cc}\n",
    "\\frac{v_1}{\\sqrt{v_1^2+v_2^2}} & \\frac{v_2}{\\sqrt{v_1^2+v_2^2}}\\\\\n",
    "-\\frac{v_2}{\\sqrt{v_1^2+v_2^2}} & \\frac{v_1}{\\sqrt{v_1^2+v_2^2}}\n",
    "\\end{array}\n",
    "\\right ] \\cdot \n",
    "\\left[\\begin{array}{c}\n",
    "v_1\\\\\n",
    "v_2\n",
    "\\end{array}\n",
    "\\right]=\n",
    "\\left[ \\begin{array}{c}\n",
    "\\frac{v_1^2+v_2^2}{\\sqrt{v_1^2+v_2^2}}\\\\\n",
    "\\frac{-v_1v_2+v_1v_2}{\\sqrt{v_1^2+v_2^2}}\n",
    "\\end{array}\n",
    "\\right ]\n",
    "=\n",
    "\\left[ \\begin{array}{c}\n",
    "\\frac{v_1^2+v_2^2}{\\sqrt{v_1^2+v_2^2}}\\\\\n",
    "0\n",
    "\\end{array}\n",
    "\\right ]=\n",
    "\\left[ \\begin{array}{c}\n",
    "||v||_2\\\\\n",
    "0\n",
    "\\end{array}\n",
    "\\right ]\n",
    "\\end{array}\n",
    "$$\n"
   ]
  },
  {
   "cell_type": "markdown",
   "metadata": {},
   "source": [
    "Y definiendo $cos(\\theta)=\\frac{v_1}{\\sqrt{v_1^2+v_2^2}}, sen(\\theta)=\\frac{v_2}{\\sqrt{v_1^2+v_2^2}}$ se tiene :\n",
    "\n",
    "$$\n",
    "R_O=\\left[ \\begin{array}{cc}\n",
    "cos\\theta & sen\\theta\\\\\n",
    "-sen\\theta & cos\\theta\n",
    "\\end{array}\n",
    "\\right]\n",
    "$$\n",
    "\n",
    "que en el ejemplo anterior como $v=(1,1)^T$ entonces: $cos(\\theta)=\\frac{1}{\\sqrt{2}}, sen(\\theta)=\\frac{1}{\\sqrt{2}}$ por lo que $\\theta=\\frac{\\pi}{4}$ y:\n",
    "\n",
    "$$\n",
    "R_O=\\left[ \\begin{array}{cc}\n",
    "\\frac{1}{\\sqrt{2}} & \\frac{1}{\\sqrt{2}}\\\\\n",
    "-\\frac{1}{\\sqrt{2}} & \\frac{1}{\\sqrt{2}}\n",
    "\\end{array}\n",
    "\\right]\n",
    "$$\n",
    "\n",
    "que es una matriz de rotación para un ángulo que gira **en sentido de las manecillas del reloj**."
   ]
  },
  {
   "cell_type": "markdown",
   "metadata": {},
   "source": [
    "Para **hacer cero la entrada $v_1$ de $v$** hay que usar:\n",
    "\n",
    "$$\\begin{array}{l}\n",
    "R_O=\\left[ \\begin{array}{cc}\n",
    "cos\\theta & -sen\\theta\\\\\n",
    "sen\\theta & cos\\theta\n",
    "\\end{array}\n",
    "\\right]\n",
    "=\\left[ \\begin{array}{cc}\n",
    "\\frac{1}{\\sqrt{2}} & -\\frac{1}{\\sqrt{2}}\\\\\n",
    "\\frac{1}{\\sqrt{2}} & \\frac{1}{\\sqrt{2}}\n",
    "\\end{array}\n",
    "\\right]\n",
    "\\end{array}\n",
    "$$\n",
    "\n",
    "que es una matriz de rotación para un ángulo que gira **en sentido contrario de las manecillas del reloj**."
   ]
  },
  {
   "cell_type": "markdown",
   "metadata": {},
   "source": [
    "```{admonition} Ejercicio\n",
    ":class: tip\n",
    "\n",
    "Usar una matriz de rotación Givens para rotar al vector $(-3, 4)^T$ un ángulo de $\\frac{\\pi}{3}$ en sentido de las manecillas del reloj.\n",
    "\n",
    "```"
   ]
  },
  {
   "cell_type": "markdown",
   "metadata": {},
   "source": [
    "### Ejemplo aplicando rotaciones Givens a una matriz"
   ]
  },
  {
   "cell_type": "markdown",
   "metadata": {},
   "source": [
    "Las rotaciones Givens permiten hacer ceros en entradas de una matriz que son **seleccionadas**. Por ejemplo si se desea hacer cero la entrada $x_4$ de $x \\in \\mathbb{R}^4$, se definen $cos\\theta = \\frac{x_2}{\\sqrt{x_2^2 + x_4^2}}, sen\\theta = \\frac{x_4}{\\sqrt{x_2^2 + x_4^2}}$ y \n",
    "\n",
    "$$\n",
    "R_{24}^\\theta=\n",
    "\\left [ \n",
    "\\begin{array}{cccc}\n",
    "1 & 0 & 0 & 0\\\\\n",
    "0 & cos\\theta & 0 & sen\\theta \\\\\n",
    "0 & 0 & 1 & 0 \\\\\n",
    "0 & -sen\\theta & 0 & cos\\theta\n",
    "\\end{array}\n",
    "\\right ]\n",
    "$$\n",
    "\n",
    "entonces:"
   ]
  },
  {
   "cell_type": "markdown",
   "metadata": {},
   "source": [
    "$$\n",
    "R_{24}^\\theta x =\n",
    "\\begin{array}{l}\n",
    "\\left [\n",
    "\\begin{array}{cccc}\n",
    "1 & 0 & 0 & 0\\\\\n",
    "0 & cos\\theta & 0 & sen\\theta \\\\\n",
    "0 & 0 & 1 & 0 \\\\\n",
    "0 & -sen\\theta & 0 & cos\\theta\n",
    "\\end{array}\n",
    "\\right ]\n",
    "\\left [\n",
    "\\begin{array}{c}\n",
    "x_1 \\\\\n",
    "x_2 \\\\\n",
    "x_3 \\\\\n",
    "x_4\n",
    "\\end{array}\n",
    "\\right ]\n",
    "=\n",
    "\\left [\n",
    "\\begin{array}{c}\n",
    "x_1 \\\\\n",
    "\\sqrt{x_2^2 + x_4^2} \\\\\n",
    "x_3 \\\\\n",
    "0\n",
    "\\end{array}\n",
    "\\right ]\n",
    "\\end{array}\n",
    "$$"
   ]
  },
  {
   "cell_type": "markdown",
   "metadata": {},
   "source": [
    "Y se escribe que se hizo una rotación en el plano $(2,4)$."
   ]
  },
  {
   "cell_type": "markdown",
   "metadata": {},
   "source": [
    "```{admonition} Observación\n",
    ":class: tip\n",
    "\n",
    "Obsérvese que sólo se modificaron dos entradas de $x$: $x_2, x_4$ por lo que el mismo efecto se obtiene al hacer la multiplicación:\n",
    "\n",
    "$$\n",
    "\\begin{array}{l}\n",
    "\\left[ \\begin{array}{cc}\n",
    "cos\\theta & -sen\\theta\\\\\n",
    "sen\\theta & cos\\theta\n",
    "\\end{array}\n",
    "\\right]\n",
    "\\left [ \n",
    "\\begin{array}{c}\n",
    "x_2\\\\\n",
    "x_4\n",
    "\\end{array}\n",
    "\\right ]\n",
    "\\end{array}\n",
    "$$\n",
    "\n",
    "para tales entradas.\n",
    "\n",
    "```"
   ]
  },
  {
   "cell_type": "markdown",
   "metadata": {},
   "source": [
    "Considérese a la matriz $A \\in \\mathbb{R}^{4 \\times 4}$:\n",
    "\n",
    "$$A =\n",
    "\\left [\n",
    "\\begin{array}{cccc}\n",
    "4 & 1 & -2 & 2 \\\\\n",
    "1 & 2 & 0 & 1\\\\\n",
    "-2 & 0 & 3 & -2 \\\\\n",
    "2 & 1 & -2 & -1\n",
    "\\end{array}\n",
    "\\right ] \n",
    "$$\n",
    "\n",
    "y aplíquense rotaciones Givens para hacer ceros en las entradas debajo de la diagonal de $A$ y tener una matriz **triangular superior**."
   ]
  },
  {
   "cell_type": "markdown",
   "metadata": {},
   "source": [
    "**Entrada $a_{21}$, plano $(1,2)$:**"
   ]
  },
  {
   "cell_type": "code",
   "execution_count": 109,
   "metadata": {},
   "outputs": [],
   "source": [
    "idx_1 = 0\n",
    "idx_2 = 1\n",
    "idx_column = 0"
   ]
  },
  {
   "cell_type": "code",
   "execution_count": 110,
   "metadata": {},
   "outputs": [],
   "source": [
    "A = np.array([[4, 1, -2, 2],\n",
    "              [1, 2, 0, 1],\n",
    "              [-2, 0, 3, -2],\n",
    "              [2, 1, -2, -1]], dtype=float)"
   ]
  },
  {
   "cell_type": "code",
   "execution_count": 111,
   "metadata": {},
   "outputs": [
    {
     "data": {
      "text/plain": [
       "array([[ 4.,  1., -2.,  2.],\n",
       "       [ 1.,  2.,  0.,  1.],\n",
       "       [-2.,  0.,  3., -2.],\n",
       "       [ 2.,  1., -2., -1.]])"
      ]
     },
     "execution_count": 111,
     "metadata": {},
     "output_type": "execute_result"
    }
   ],
   "source": [
    "A"
   ]
  },
  {
   "cell_type": "code",
   "execution_count": 112,
   "metadata": {},
   "outputs": [],
   "source": [
    "a_11 = A[idx_1,idx_column]\n",
    "a_21 = A[idx_2,idx_column]\n",
    "norm = math.sqrt(a_11**2 + a_21**2)\n",
    "cos_theta = a_11/norm\n",
    "sen_theta = a_21/norm"
   ]
  },
  {
   "cell_type": "code",
   "execution_count": 113,
   "metadata": {},
   "outputs": [],
   "source": [
    "R12 = np.array([[cos_theta, sen_theta],\n",
    "                [-sen_theta, cos_theta]])"
   ]
  },
  {
   "cell_type": "code",
   "execution_count": 114,
   "metadata": {},
   "outputs": [
    {
     "data": {
      "text/plain": [
       "array([[ 0.9701425 ,  0.24253563],\n",
       "       [-0.24253563,  0.9701425 ]])"
      ]
     },
     "execution_count": 114,
     "metadata": {},
     "output_type": "execute_result"
    }
   ],
   "source": [
    "R12"
   ]
  },
  {
   "cell_type": "markdown",
   "metadata": {},
   "source": [
    "```{margin}\n",
    "\n",
    "Extraemos sólo los renglones a los que se les aplicará la matriz de rotación.\n",
    "```"
   ]
  },
  {
   "cell_type": "code",
   "execution_count": 115,
   "metadata": {},
   "outputs": [],
   "source": [
    "A_subset = np.row_stack((A[idx_1,:], A[idx_2,:]))"
   ]
  },
  {
   "cell_type": "code",
   "execution_count": 116,
   "metadata": {},
   "outputs": [
    {
     "data": {
      "text/plain": [
       "array([[ 4.,  1., -2.,  2.],\n",
       "       [ 1.,  2.,  0.,  1.]])"
      ]
     },
     "execution_count": 116,
     "metadata": {},
     "output_type": "execute_result"
    }
   ],
   "source": [
    "A_subset"
   ]
  },
  {
   "cell_type": "code",
   "execution_count": 117,
   "metadata": {},
   "outputs": [
    {
     "data": {
      "text/plain": [
       "array([[ 4.12310563,  1.45521375, -1.940285  ,  2.18282063],\n",
       "       [ 0.        ,  1.69774938,  0.48507125,  0.48507125]])"
      ]
     },
     "execution_count": 117,
     "metadata": {},
     "output_type": "execute_result"
    }
   ],
   "source": [
    "R12@A_subset"
   ]
  },
  {
   "cell_type": "code",
   "execution_count": 118,
   "metadata": {},
   "outputs": [],
   "source": [
    "A1_aux = R12@A_subset"
   ]
  },
  {
   "cell_type": "code",
   "execution_count": 119,
   "metadata": {},
   "outputs": [
    {
     "data": {
      "text/plain": [
       "array([[ 4.12310563,  1.45521375, -1.940285  ,  2.18282063],\n",
       "       [ 0.        ,  1.69774938,  0.48507125,  0.48507125]])"
      ]
     },
     "execution_count": 119,
     "metadata": {},
     "output_type": "execute_result"
    }
   ],
   "source": [
    "A1_aux"
   ]
  },
  {
   "cell_type": "markdown",
   "metadata": {},
   "source": [
    "Hacemos copia para un fácil manejo de los índices y matrices modificadas. Podríamos también usar [numpy.view](https://numpy.org/doc/stable/reference/generated/numpy.ndarray.view.html)."
   ]
  },
  {
   "cell_type": "code",
   "execution_count": 120,
   "metadata": {},
   "outputs": [],
   "source": [
    "A1 = A.copy()"
   ]
  },
  {
   "cell_type": "code",
   "execution_count": 121,
   "metadata": {},
   "outputs": [],
   "source": [
    "A1[idx_1, :] = A1_aux[0, :]\n",
    "A1[idx_2, :] = A1_aux[1, :]"
   ]
  },
  {
   "cell_type": "markdown",
   "metadata": {},
   "source": [
    "```{margin} \n",
    "\n",
    "$A^{(1)} = R_{12}^\\theta A^{(0)}$.\n",
    "```"
   ]
  },
  {
   "cell_type": "code",
   "execution_count": 122,
   "metadata": {},
   "outputs": [
    {
     "data": {
      "text/plain": [
       "array([[ 4.12310563,  1.45521375, -1.940285  ,  2.18282063],\n",
       "       [ 0.        ,  1.69774938,  0.48507125,  0.48507125],\n",
       "       [-2.        ,  0.        ,  3.        , -2.        ],\n",
       "       [ 2.        ,  1.        , -2.        , -1.        ]])"
      ]
     },
     "execution_count": 122,
     "metadata": {},
     "output_type": "execute_result"
    }
   ],
   "source": [
    "A1"
   ]
  },
  {
   "cell_type": "code",
   "execution_count": 123,
   "metadata": {},
   "outputs": [
    {
     "data": {
      "text/plain": [
       "array([[ 4.,  1., -2.,  2.],\n",
       "       [ 1.,  2.,  0.,  1.],\n",
       "       [-2.,  0.,  3., -2.],\n",
       "       [ 2.,  1., -2., -1.]])"
      ]
     },
     "execution_count": 123,
     "metadata": {},
     "output_type": "execute_result"
    }
   ],
   "source": [
    "A"
   ]
  },
  {
   "cell_type": "markdown",
   "metadata": {},
   "source": [
    "```{margin}\n",
    "\n",
    "Se preserva la norma 2 o Euclidiana de $A[1:4,1]$.\n",
    "```"
   ]
  },
  {
   "cell_type": "code",
   "execution_count": 124,
   "metadata": {},
   "outputs": [
    {
     "data": {
      "text/plain": [
       "5.0"
      ]
     },
     "execution_count": 124,
     "metadata": {},
     "output_type": "execute_result"
    }
   ],
   "source": [
    "np.linalg.norm(A1[:, idx_column])"
   ]
  },
  {
   "cell_type": "code",
   "execution_count": 125,
   "metadata": {},
   "outputs": [
    {
     "data": {
      "text/plain": [
       "5.0"
      ]
     },
     "execution_count": 125,
     "metadata": {},
     "output_type": "execute_result"
    }
   ],
   "source": [
    "np.linalg.norm(A[:, idx_column])"
   ]
  },
  {
   "cell_type": "markdown",
   "metadata": {},
   "source": [
    "**Entrada $a_{31}$, plano $(1,3)$:**"
   ]
  },
  {
   "cell_type": "code",
   "execution_count": 126,
   "metadata": {},
   "outputs": [],
   "source": [
    "idx_1 = 0\n",
    "idx_2 = 2\n",
    "idx_column = 0"
   ]
  },
  {
   "cell_type": "code",
   "execution_count": 127,
   "metadata": {},
   "outputs": [],
   "source": [
    "a_11 = A1[idx_1, idx_column]\n",
    "a_31 = A1[idx_2, idx_column]\n",
    "norm = math.sqrt(a_11**2 + a_31**2)\n",
    "cos_theta = a_11/norm\n",
    "sen_theta = a_31/norm"
   ]
  },
  {
   "cell_type": "code",
   "execution_count": 128,
   "metadata": {},
   "outputs": [],
   "source": [
    "R13 = np.array([[cos_theta, sen_theta],\n",
    "                [-sen_theta, cos_theta]])"
   ]
  },
  {
   "cell_type": "code",
   "execution_count": 129,
   "metadata": {},
   "outputs": [
    {
     "data": {
      "text/plain": [
       "array([[ 0.89973541, -0.43643578],\n",
       "       [ 0.43643578,  0.89973541]])"
      ]
     },
     "execution_count": 129,
     "metadata": {},
     "output_type": "execute_result"
    }
   ],
   "source": [
    "R13"
   ]
  },
  {
   "cell_type": "markdown",
   "metadata": {},
   "source": [
    "```{margin}\n",
    "\n",
    "Extraemos sólo los renglones a los que se les aplicará la matriz de rotación.\n",
    "```"
   ]
  },
  {
   "cell_type": "code",
   "execution_count": 130,
   "metadata": {},
   "outputs": [],
   "source": [
    "A1_subset = np.row_stack((A1[idx_1,:], A1[idx_2,:]))"
   ]
  },
  {
   "cell_type": "code",
   "execution_count": 131,
   "metadata": {},
   "outputs": [
    {
     "data": {
      "text/plain": [
       "array([[ 4.12310563,  1.45521375, -1.940285  ,  2.18282063],\n",
       "       [-2.        ,  0.        ,  3.        , -2.        ]])"
      ]
     },
     "execution_count": 131,
     "metadata": {},
     "output_type": "execute_result"
    }
   ],
   "source": [
    "A1_subset"
   ]
  },
  {
   "cell_type": "code",
   "execution_count": 132,
   "metadata": {},
   "outputs": [
    {
     "data": {
      "text/plain": [
       "array([[ 4.58257569,  1.30930734, -3.05505046,  2.83683257],\n",
       "       [ 0.        ,  0.63510735,  1.85239643, -0.8468098 ]])"
      ]
     },
     "execution_count": 132,
     "metadata": {},
     "output_type": "execute_result"
    }
   ],
   "source": [
    "R13@A1_subset"
   ]
  },
  {
   "cell_type": "code",
   "execution_count": 133,
   "metadata": {},
   "outputs": [],
   "source": [
    "A2_aux = R13@A1_subset"
   ]
  },
  {
   "cell_type": "code",
   "execution_count": 134,
   "metadata": {},
   "outputs": [
    {
     "data": {
      "text/plain": [
       "array([[ 4.58257569,  1.30930734, -3.05505046,  2.83683257],\n",
       "       [ 0.        ,  0.63510735,  1.85239643, -0.8468098 ]])"
      ]
     },
     "execution_count": 134,
     "metadata": {},
     "output_type": "execute_result"
    }
   ],
   "source": [
    "A2_aux"
   ]
  },
  {
   "cell_type": "code",
   "execution_count": 135,
   "metadata": {},
   "outputs": [],
   "source": [
    "A2 = A1.copy()"
   ]
  },
  {
   "cell_type": "code",
   "execution_count": 136,
   "metadata": {},
   "outputs": [],
   "source": [
    "A2[idx_1, :] = A2_aux[0, :]\n",
    "A2[idx_2, :] = A2_aux[1, :]"
   ]
  },
  {
   "cell_type": "markdown",
   "metadata": {},
   "source": [
    "```{margin} \n",
    "\n",
    "$A^{(2)} = R_{13}^\\theta A^{(1)}$.\n",
    "```"
   ]
  },
  {
   "cell_type": "code",
   "execution_count": 137,
   "metadata": {},
   "outputs": [
    {
     "data": {
      "text/plain": [
       "array([[ 4.58257569,  1.30930734, -3.05505046,  2.83683257],\n",
       "       [ 0.        ,  1.69774938,  0.48507125,  0.48507125],\n",
       "       [ 0.        ,  0.63510735,  1.85239643, -0.8468098 ],\n",
       "       [ 2.        ,  1.        , -2.        , -1.        ]])"
      ]
     },
     "execution_count": 137,
     "metadata": {},
     "output_type": "execute_result"
    }
   ],
   "source": [
    "A2"
   ]
  },
  {
   "cell_type": "code",
   "execution_count": 138,
   "metadata": {},
   "outputs": [
    {
     "data": {
      "text/plain": [
       "array([[ 4.12310563,  1.45521375, -1.940285  ,  2.18282063],\n",
       "       [ 0.        ,  1.69774938,  0.48507125,  0.48507125],\n",
       "       [-2.        ,  0.        ,  3.        , -2.        ],\n",
       "       [ 2.        ,  1.        , -2.        , -1.        ]])"
      ]
     },
     "execution_count": 138,
     "metadata": {},
     "output_type": "execute_result"
    }
   ],
   "source": [
    "A1"
   ]
  },
  {
   "cell_type": "code",
   "execution_count": 139,
   "metadata": {},
   "outputs": [
    {
     "data": {
      "text/plain": [
       "array([[ 4.,  1., -2.,  2.],\n",
       "       [ 1.,  2.,  0.,  1.],\n",
       "       [-2.,  0.,  3., -2.],\n",
       "       [ 2.,  1., -2., -1.]])"
      ]
     },
     "execution_count": 139,
     "metadata": {},
     "output_type": "execute_result"
    }
   ],
   "source": [
    "A"
   ]
  },
  {
   "cell_type": "markdown",
   "metadata": {},
   "source": [
    "```{margin}\n",
    "\n",
    "Se preserva la norma 2 o Euclidiana de $A[1:4,1]$.\n",
    "```"
   ]
  },
  {
   "cell_type": "code",
   "execution_count": 140,
   "metadata": {},
   "outputs": [
    {
     "data": {
      "text/plain": [
       "5.0"
      ]
     },
     "execution_count": 140,
     "metadata": {},
     "output_type": "execute_result"
    }
   ],
   "source": [
    "np.linalg.norm(A2[:, idx_column])"
   ]
  },
  {
   "cell_type": "code",
   "execution_count": 141,
   "metadata": {},
   "outputs": [
    {
     "data": {
      "text/plain": [
       "5.0"
      ]
     },
     "execution_count": 141,
     "metadata": {},
     "output_type": "execute_result"
    }
   ],
   "source": [
    "np.linalg.norm(A[:, idx_column])"
   ]
  },
  {
   "cell_type": "markdown",
   "metadata": {},
   "source": [
    "**Entrada $a_{41}$, plano $(1,4)$:**"
   ]
  },
  {
   "cell_type": "code",
   "execution_count": 142,
   "metadata": {},
   "outputs": [],
   "source": [
    "idx_1 = 0\n",
    "idx_2 = 3\n",
    "idx_column = 0"
   ]
  },
  {
   "cell_type": "code",
   "execution_count": 143,
   "metadata": {},
   "outputs": [],
   "source": [
    "a_11 = A2[idx_1, idx_column]\n",
    "a_41 = A2[idx_2, idx_column]\n",
    "norm = math.sqrt(a_11**2 + a_41**2)\n",
    "cos_theta = a_11/norm\n",
    "sen_theta = a_41/norm"
   ]
  },
  {
   "cell_type": "code",
   "execution_count": 144,
   "metadata": {},
   "outputs": [],
   "source": [
    "R14 = np.array([[cos_theta, sen_theta],\n",
    "                [-sen_theta, cos_theta]])"
   ]
  },
  {
   "cell_type": "code",
   "execution_count": 145,
   "metadata": {},
   "outputs": [
    {
     "data": {
      "text/plain": [
       "array([[ 0.91651514,  0.4       ],\n",
       "       [-0.4       ,  0.91651514]])"
      ]
     },
     "execution_count": 145,
     "metadata": {},
     "output_type": "execute_result"
    }
   ],
   "source": [
    "R14"
   ]
  },
  {
   "cell_type": "markdown",
   "metadata": {},
   "source": [
    "```{margin}\n",
    "\n",
    "Extraemos sólo los renglones a los que se les aplicará la matriz de rotación.\n",
    "```"
   ]
  },
  {
   "cell_type": "code",
   "execution_count": 146,
   "metadata": {},
   "outputs": [],
   "source": [
    "A2_subset = np.row_stack((A2[idx_1,:], A2[idx_2,:]))"
   ]
  },
  {
   "cell_type": "code",
   "execution_count": 147,
   "metadata": {},
   "outputs": [
    {
     "data": {
      "text/plain": [
       "array([[ 4.58257569,  1.30930734, -3.05505046,  2.83683257],\n",
       "       [ 2.        ,  1.        , -2.        , -1.        ]])"
      ]
     },
     "execution_count": 147,
     "metadata": {},
     "output_type": "execute_result"
    }
   ],
   "source": [
    "A2_subset"
   ]
  },
  {
   "cell_type": "code",
   "execution_count": 148,
   "metadata": {},
   "outputs": [
    {
     "data": {
      "text/plain": [
       "array([[ 5.        ,  1.6       , -3.6       ,  2.2       ],\n",
       "       [ 0.        ,  0.3927922 , -0.61101009, -2.05124817]])"
      ]
     },
     "execution_count": 148,
     "metadata": {},
     "output_type": "execute_result"
    }
   ],
   "source": [
    "R14@A2_subset"
   ]
  },
  {
   "cell_type": "code",
   "execution_count": 149,
   "metadata": {},
   "outputs": [],
   "source": [
    "A3_aux = R14@A2_subset"
   ]
  },
  {
   "cell_type": "code",
   "execution_count": 150,
   "metadata": {},
   "outputs": [
    {
     "data": {
      "text/plain": [
       "array([[ 5.        ,  1.6       , -3.6       ,  2.2       ],\n",
       "       [ 0.        ,  0.3927922 , -0.61101009, -2.05124817]])"
      ]
     },
     "execution_count": 150,
     "metadata": {},
     "output_type": "execute_result"
    }
   ],
   "source": [
    "A3_aux"
   ]
  },
  {
   "cell_type": "code",
   "execution_count": 151,
   "metadata": {},
   "outputs": [],
   "source": [
    "A3 = A2.copy()"
   ]
  },
  {
   "cell_type": "code",
   "execution_count": 152,
   "metadata": {},
   "outputs": [],
   "source": [
    "A3[idx_1, :] = A3_aux[0, :]\n",
    "A3[idx_2, :] = A3_aux[1, :]"
   ]
  },
  {
   "cell_type": "markdown",
   "metadata": {},
   "source": [
    "```{margin} \n",
    "\n",
    "$A^{(3)} = R_{14}^\\theta A^{(2)}$.\n",
    "```"
   ]
  },
  {
   "cell_type": "code",
   "execution_count": 153,
   "metadata": {},
   "outputs": [
    {
     "data": {
      "text/plain": [
       "array([[ 5.        ,  1.6       , -3.6       ,  2.2       ],\n",
       "       [ 0.        ,  1.69774938,  0.48507125,  0.48507125],\n",
       "       [ 0.        ,  0.63510735,  1.85239643, -0.8468098 ],\n",
       "       [ 0.        ,  0.3927922 , -0.61101009, -2.05124817]])"
      ]
     },
     "execution_count": 153,
     "metadata": {},
     "output_type": "execute_result"
    }
   ],
   "source": [
    "A3"
   ]
  },
  {
   "cell_type": "code",
   "execution_count": 154,
   "metadata": {},
   "outputs": [
    {
     "data": {
      "text/plain": [
       "array([[ 4.58257569,  1.30930734, -3.05505046,  2.83683257],\n",
       "       [ 0.        ,  1.69774938,  0.48507125,  0.48507125],\n",
       "       [ 0.        ,  0.63510735,  1.85239643, -0.8468098 ],\n",
       "       [ 2.        ,  1.        , -2.        , -1.        ]])"
      ]
     },
     "execution_count": 154,
     "metadata": {},
     "output_type": "execute_result"
    }
   ],
   "source": [
    "A2"
   ]
  },
  {
   "cell_type": "markdown",
   "metadata": {},
   "source": [
    "```{margin}\n",
    "\n",
    "Se preserva la norma 2 o Euclidiana de $A[1:4,1]$.\n",
    "```"
   ]
  },
  {
   "cell_type": "code",
   "execution_count": 155,
   "metadata": {},
   "outputs": [
    {
     "data": {
      "text/plain": [
       "5.0"
      ]
     },
     "execution_count": 155,
     "metadata": {},
     "output_type": "execute_result"
    }
   ],
   "source": [
    "np.linalg.norm(A3[:, idx_column])"
   ]
  },
  {
   "cell_type": "code",
   "execution_count": 156,
   "metadata": {},
   "outputs": [
    {
     "data": {
      "text/plain": [
       "5.0"
      ]
     },
     "execution_count": 156,
     "metadata": {},
     "output_type": "execute_result"
    }
   ],
   "source": [
    "np.linalg.norm(A[:, idx_column])"
   ]
  },
  {
   "cell_type": "markdown",
   "metadata": {},
   "source": [
    "**Entrada $a_{32}$, plano $(2,3)$:**"
   ]
  },
  {
   "cell_type": "code",
   "execution_count": 157,
   "metadata": {},
   "outputs": [],
   "source": [
    "idx_1 = 1\n",
    "idx_2 = 2\n",
    "idx_column = 1"
   ]
  },
  {
   "cell_type": "code",
   "execution_count": 158,
   "metadata": {},
   "outputs": [],
   "source": [
    "a_22 = A2[idx_1, idx_column]\n",
    "a_32 = A2[idx_2, idx_column]\n",
    "norm = math.sqrt(a_22**2 + a_32**2)\n",
    "cos_theta = a_22/norm\n",
    "sen_theta = a_32/norm"
   ]
  },
  {
   "cell_type": "code",
   "execution_count": 159,
   "metadata": {},
   "outputs": [],
   "source": [
    "R23 = np.array([[cos_theta, sen_theta],\n",
    "                [-sen_theta, cos_theta]])"
   ]
  },
  {
   "cell_type": "code",
   "execution_count": 160,
   "metadata": {},
   "outputs": [
    {
     "data": {
      "text/plain": [
       "array([[ 0.93660976,  0.3503743 ],\n",
       "       [-0.3503743 ,  0.93660976]])"
      ]
     },
     "execution_count": 160,
     "metadata": {},
     "output_type": "execute_result"
    }
   ],
   "source": [
    "R23"
   ]
  },
  {
   "cell_type": "markdown",
   "metadata": {},
   "source": [
    "```{margin}\n",
    "\n",
    "Extraemos sólo los renglones a los que se les aplicará la matriz de rotación.\n",
    "```"
   ]
  },
  {
   "cell_type": "code",
   "execution_count": 161,
   "metadata": {},
   "outputs": [],
   "source": [
    "A3_subset = np.row_stack((A3[idx_1,:], A3[idx_2,:]))"
   ]
  },
  {
   "cell_type": "code",
   "execution_count": 162,
   "metadata": {},
   "outputs": [
    {
     "data": {
      "text/plain": [
       "array([[ 0.        ,  1.69774938,  0.48507125,  0.48507125],\n",
       "       [ 0.        ,  0.63510735,  1.85239643, -0.8468098 ]])"
      ]
     },
     "execution_count": 162,
     "metadata": {},
     "output_type": "execute_result"
    }
   ],
   "source": [
    "A3_subset"
   ]
  },
  {
   "cell_type": "code",
   "execution_count": 163,
   "metadata": {},
   "outputs": [
    {
     "data": {
      "text/plain": [
       "array([[ 0.        ,  1.81265393,  1.10335457,  0.15762208],\n",
       "       [ 0.        ,  0.        ,  1.56501609, -0.96308682]])"
      ]
     },
     "execution_count": 163,
     "metadata": {},
     "output_type": "execute_result"
    }
   ],
   "source": [
    "R23@A3_subset"
   ]
  },
  {
   "cell_type": "code",
   "execution_count": 164,
   "metadata": {},
   "outputs": [],
   "source": [
    "A4_aux = R23@A3_subset"
   ]
  },
  {
   "cell_type": "code",
   "execution_count": 165,
   "metadata": {},
   "outputs": [
    {
     "data": {
      "text/plain": [
       "array([[ 0.        ,  1.81265393,  1.10335457,  0.15762208],\n",
       "       [ 0.        ,  0.        ,  1.56501609, -0.96308682]])"
      ]
     },
     "execution_count": 165,
     "metadata": {},
     "output_type": "execute_result"
    }
   ],
   "source": [
    "A4_aux"
   ]
  },
  {
   "cell_type": "code",
   "execution_count": 166,
   "metadata": {},
   "outputs": [],
   "source": [
    "A4 = A3.copy()"
   ]
  },
  {
   "cell_type": "code",
   "execution_count": 167,
   "metadata": {},
   "outputs": [],
   "source": [
    "A4[idx_1, :] = A4_aux[0, :]\n",
    "A4[idx_2, :] = A4_aux[1, :]"
   ]
  },
  {
   "cell_type": "markdown",
   "metadata": {},
   "source": [
    "```{margin} \n",
    "\n",
    "$A^{(4)} = R_{23}^\\theta A^{(3)}$.\n",
    "```"
   ]
  },
  {
   "cell_type": "code",
   "execution_count": 168,
   "metadata": {},
   "outputs": [
    {
     "name": "stdout",
     "output_type": "stream",
     "text": [
      "[[ 5.          1.6        -3.6         2.2       ]\n",
      " [ 0.          1.81265393  1.10335457  0.15762208]\n",
      " [ 0.          0.          1.56501609 -0.96308682]\n",
      " [ 0.          0.3927922  -0.61101009 -2.05124817]]\n"
     ]
    }
   ],
   "source": [
    "print(A4)"
   ]
  },
  {
   "cell_type": "code",
   "execution_count": 169,
   "metadata": {},
   "outputs": [
    {
     "data": {
      "text/plain": [
       "array([[ 5.        ,  1.6       , -3.6       ,  2.2       ],\n",
       "       [ 0.        ,  1.69774938,  0.48507125,  0.48507125],\n",
       "       [ 0.        ,  0.63510735,  1.85239643, -0.8468098 ],\n",
       "       [ 0.        ,  0.3927922 , -0.61101009, -2.05124817]])"
      ]
     },
     "execution_count": 169,
     "metadata": {},
     "output_type": "execute_result"
    }
   ],
   "source": [
    "A3"
   ]
  },
  {
   "cell_type": "code",
   "execution_count": 170,
   "metadata": {},
   "outputs": [
    {
     "data": {
      "text/plain": [
       "array([[ 4.58257569,  1.30930734, -3.05505046,  2.83683257],\n",
       "       [ 0.        ,  1.69774938,  0.48507125,  0.48507125],\n",
       "       [ 0.        ,  0.63510735,  1.85239643, -0.8468098 ],\n",
       "       [ 2.        ,  1.        , -2.        , -1.        ]])"
      ]
     },
     "execution_count": 170,
     "metadata": {},
     "output_type": "execute_result"
    }
   ],
   "source": [
    "A2"
   ]
  },
  {
   "cell_type": "markdown",
   "metadata": {},
   "source": [
    "```{margin}\n",
    "\n",
    "Se preserva la norma 2 o Euclidiana de $A[1:4,2]$.\n",
    "```"
   ]
  },
  {
   "cell_type": "code",
   "execution_count": 171,
   "metadata": {},
   "outputs": [
    {
     "data": {
      "text/plain": [
       "2.449489742783178"
      ]
     },
     "execution_count": 171,
     "metadata": {},
     "output_type": "execute_result"
    }
   ],
   "source": [
    "np.linalg.norm(A4[:, idx_column])"
   ]
  },
  {
   "cell_type": "code",
   "execution_count": 172,
   "metadata": {},
   "outputs": [
    {
     "data": {
      "text/plain": [
       "2.449489742783178"
      ]
     },
     "execution_count": 172,
     "metadata": {},
     "output_type": "execute_result"
    }
   ],
   "source": [
    "np.linalg.norm(A[:, idx_column])"
   ]
  },
  {
   "cell_type": "markdown",
   "metadata": {},
   "source": [
    "```{admonition} Ejercicio\n",
    ":class: tip\n",
    "\n",
    "Finalizar el ejercicio para llevar a la matriz $A$ a una matriz triangular superior.\n",
    "\n",
    "```"
   ]
  },
  {
   "cell_type": "markdown",
   "metadata": {},
   "source": [
    "**Referencias:**\n",
    "\n",
    "*  G. H. Golub, C. F. Van Loan, Matrix Computations, John Hopkins University Press, 2013.\n"
   ]
  }
 ],
 "metadata": {
  "kernelspec": {
   "display_name": "Python 3",
   "language": "python",
   "name": "python3"
  },
  "language_info": {
   "codemirror_mode": {
    "name": "ipython",
    "version": 3
   },
   "file_extension": ".py",
   "mimetype": "text/x-python",
   "name": "python",
   "nbconvert_exporter": "python",
   "pygments_lexer": "ipython3",
   "version": "3.7.4"
  }
 },
 "nbformat": 4,
 "nbformat_minor": 4
}
