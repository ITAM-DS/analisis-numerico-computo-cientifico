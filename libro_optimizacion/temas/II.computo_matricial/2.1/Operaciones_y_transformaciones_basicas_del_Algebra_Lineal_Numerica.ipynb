{
 "cells": [
  {
   "cell_type": "markdown",
   "metadata": {},
   "source": [
    "(OTBALN)="
   ]
  },
  {
   "cell_type": "markdown",
   "metadata": {},
   "source": [
    "# 2.1 Operaciones y transformaciones básicas del Álgebra Lineal Numérica"
   ]
  },
  {
   "cell_type": "markdown",
   "metadata": {},
   "source": [
    "```{admonition} Notas para contenedor de docker:\n",
    "\n",
    "Comando de docker para ejecución de la nota de forma local:\n",
    "\n",
    "nota: cambiar `<ruta a mi directorio>` por la ruta de directorio que se desea mapear a `/datos` dentro del contenedor de docker.\n",
    "\n",
    "`docker run --rm -v <ruta a mi directorio>:/datos --name jupyterlab_optimizacion -p 8888:8888 -d palmoreck/jupyterlab_optimizacion:2.1.4`\n",
    "\n",
    "password para jupyterlab: `qwerty`\n",
    "\n",
    "Detener el contenedor de docker:\n",
    "\n",
    "`docker stop jupyterlab_optimizacion`\n",
    "\n",
    "Documentación de la imagen de docker `palmoreck/jupyterlab_optimizacion:2.1.4` en [liga](https://github.com/palmoreck/dockerfiles/tree/master/jupyterlab/optimizacion).\n",
    "\n",
    "```"
   ]
  },
  {
   "cell_type": "markdown",
   "metadata": {},
   "source": [
    "---"
   ]
  },
  {
   "cell_type": "markdown",
   "metadata": {},
   "source": [
    "Nota generada a partir de [liga1](https://www.dropbox.com/s/fyqwiqasqaa3wlt/3.1.1.Multiplicacion_de_matrices_y_estructura_de_datos.pdf?dl=0), [liga2](https://www.dropbox.com/s/jwu8lu4r14pb7ut/3.2.1.Sistemas_de_ecuaciones_lineales_eliminacion_Gaussiana_y_factorizacion_LU.pdf?dl=0) y [liga3](https://www.dropbox.com/s/s4ch0ww1687pl76/3.2.2.Factorizaciones_matriciales_SVD_Cholesky_QR.pdf?dl=0)."
   ]
  },
  {
   "cell_type": "markdown",
   "metadata": {},
   "source": [
    "Las operaciones básicas del Álgebra Lineal Numérica podemos dividirlas en vectoriales y matriciales."
   ]
  },
  {
   "cell_type": "markdown",
   "metadata": {},
   "source": [
    "## Vectoriales"
   ]
  },
  {
   "cell_type": "markdown",
   "metadata": {},
   "source": [
    "* **Transponer:** $\\mathbb{R}^{n \\times 1}  \\rightarrow \\mathbb{R} ^{1 \\times n}$: $y = x^T$ entonces\n",
    "\n",
    "$$x = \n",
    "\\left[\n",
    "\\begin{array}{c}\n",
    "x_1 \\\\\n",
    "x_2 \\\\\n",
    "\\vdots \\\\\n",
    "x_n\n",
    "\\end{array}\n",
    "\\right ]\n",
    "$$\n",
    "y se tiene:"
   ]
  },
  {
   "cell_type": "markdown",
   "metadata": {},
   "source": [
    "$$ y = x^T = [x_1, x_2, \\dots, x_n].$$"
   ]
  },
  {
   "cell_type": "markdown",
   "metadata": {},
   "source": [
    "* **Suma:** $\\mathbb{R}^n  \\times \\mathbb{R} ^n \\rightarrow \\mathbb{R}^n$: $z = x + y$ entonces $z_i = x_i + y_i$\n",
    "\n",
    "* **Multiplicación por un escalar:** $\\mathbb{R} \\times \\mathbb{R} ^n \\rightarrow \\mathbb{R}^n$: $y = \\alpha x$ entonces $y_i = \\alpha x_i$.\n",
    "\n",
    "* **Producto interno estándar o producto punto:** $\\mathbb{R}^n \\times \\mathbb{R} ^n \\rightarrow \\mathbb{R}$: $c = x^Ty$ entonces $c = \\displaystyle \\sum_{i=1}^n x_i y_i$.\n",
    "\n",
    "\n",
    "* **Multiplicación *point wise:*** $\\mathbb{R}^n \\times \\mathbb{R} ^n \\rightarrow \\mathbb{R}^n$: $z = x.*y$ entonces $z_i = x_i y_i$.\n",
    "\n",
    "* **División *point wise:*** $\\mathbb{R}^n \\times \\mathbb{R} ^n \\rightarrow \\mathbb{R}^n$: $z = x./y$ entonces $z_i = x_i /y_i$ con $y_i \\neq 0$.\n",
    "\n",
    "\n",
    "* **Producto exterior o *outer product*:** $\\mathbb{R}^n \\times \\mathbb{R} ^n \\rightarrow \\mathbb{R}^{n \\times n}$: $A = xy^T$ entonces $A[i, :] = x_i y^T$ con $A[i,:]$ el $i$-ésimo renglón de $A$."
   ]
  },
  {
   "cell_type": "markdown",
   "metadata": {},
   "source": [
    "## Matriciales"
   ]
  },
  {
   "cell_type": "markdown",
   "metadata": {},
   "source": [
    "\n",
    "* **Transponer:** $\\mathbb{R}^{m \\times n} \\rightarrow \\mathbb{R}^{n \\times m}$: $C = A^T$ entonces $c_{ij} = a_{ij}$.\n",
    "\n",
    "* **Sumar:** $\\mathbb{R}^{m \\times n} \\times \\mathbb{R}^{m \\times n} \\rightarrow \\mathbb{R}^{m \\times n}$: $C = A + B$ entonces $c_{ij} = a_{ij} + b_{ij}$.\n",
    "\n",
    "* **Multiplicación por un escalar:** $\\mathbb{R} \\times \\mathbb{R}^{m \\times n} \\rightarrow \\mathbb{R}^{m \\times n}$: $C = \\alpha A$ entonces $c_{ij} = \\alpha a_{ij}$\n",
    "\n",
    "* **Multiplicación por un vector:** $\\mathbb{R}^{m \\times n} \\times \\mathbb{R}^{n} \\rightarrow \\mathbb{R}^{m}$: $y = Ax$ entonces $y_i = \\displaystyle \\sum_{j=1}^n a_{ij}x_j$.\n",
    "\n",
    "* **Multiplicación entre matrices:** $\\mathbb{R}^{m \\times k} \\times \\mathbb{R}^{k \\times n} \\rightarrow \\mathbb{R}^{m \\times n}$: $C = AB$ entonces $c_{ij} = \\displaystyle \\sum_{r=1}^k a_{ir}b_{rj}$.\n",
    "\n",
    "* **Multiplicación *point wise*:** $\\mathbb{R}^{m \\times n} \\times \\mathbb{R}^{m \\times n} \\rightarrow \\mathbb{R}^{m \\times n}$: $C = A.*B$ entonces $c_{ij} = a_{ij}b_{ij}$.\n",
    "\n",
    "\n",
    "* **División *point wise*:** $\\mathbb{R}^{m \\times n} \\times \\mathbb{R}^{m \\times n} \\rightarrow \\mathbb{R}^{m \\times n}$: $C = A./B$ entonces $c_{ij} = a_{ij}/b_{ij}$ con $b_{ij} \\neq 0$.\n",
    "\n"
   ]
  },
  {
   "cell_type": "markdown",
   "metadata": {},
   "source": [
    "**Como ejemplos de transformaciones básicas del Álgebra Lineal Numérica se encuentran:**"
   ]
  },
  {
   "cell_type": "markdown",
   "metadata": {},
   "source": [
    "## Transformaciones de Gauss"
   ]
  },
  {
   "cell_type": "code",
   "execution_count": 1,
   "metadata": {},
   "outputs": [],
   "source": [
    "import numpy as np"
   ]
  },
  {
   "cell_type": "markdown",
   "metadata": {},
   "source": [
    "En esta sección suponemos que $A \\in \\mathbb{R}^{n \\times n}$ y $A$ es una matriz con entradas $a_{ij} \\in \\mathbb{R}^{n \\times n} \\forall i,j=1,2,\\dots,n$."
   ]
  },
  {
   "cell_type": "markdown",
   "metadata": {},
   "source": [
    "```{margin}\n",
    "\n",
    "Como ejemplo de vector canónico tenemos: $e_1=(1,0)^T$ en $\\mathbb{R}^2$ o $e_3 = (0,0,1,0,0)$ en $\\mathbb{R}^5$.\n",
    "```"
   ]
  },
  {
   "cell_type": "markdown",
   "metadata": {},
   "source": [
    "Considérese al vector $a \\in \\mathbb{R}^{n}$ y $e_k \\in \\mathbb{R}^n$ el $k$-ésimo vector canónico: vector con un $1$ en la posición $k$ y ceros en las entradas restantes."
   ]
  },
  {
   "cell_type": "markdown",
   "metadata": {},
   "source": [
    "```{admonition} Definición\n",
    "\n",
    "Una transformación de Gauss está definida de forma general como $L_k = I_n - \\ell_ke_k^T$ con $\\ell_k = (0,0,\\dots,\\ell_{k+1,k},\\dots,\\ell_{n,k})^T$ y $\\ell_{i,k}=\\frac{a_{ik}}{a_{kk}} \\forall i=k+1,\\dots,n$.\n",
    "```"
   ]
  },
  {
   "cell_type": "markdown",
   "metadata": {},
   "source": [
    "Las transformaciones de Gauss se utilizan para hacer ceros por debajo del **pivote**."
   ]
  },
  {
   "cell_type": "markdown",
   "metadata": {},
   "source": [
    "### Ejemplo aplicando transformaciones de Gauss a un vector"
   ]
  },
  {
   "cell_type": "markdown",
   "metadata": {},
   "source": [
    "Considérese al vector $a=(-2,3,4)^T$. Definir una transformación de Gauss para hacer ceros por debajo de $a_1$ y otra transformación de Gauss para hacer cero la entrada $a_3$"
   ]
  },
  {
   "cell_type": "markdown",
   "metadata": {},
   "source": [
    "**Solución:**"
   ]
  },
  {
   "cell_type": "markdown",
   "metadata": {},
   "source": [
    "a)Para hacer ceros por debajo del **pivote** $a_1 = -2$:"
   ]
  },
  {
   "cell_type": "code",
   "execution_count": 2,
   "metadata": {},
   "outputs": [],
   "source": [
    "a = np.array([-2,3,4])"
   ]
  },
  {
   "cell_type": "code",
   "execution_count": 3,
   "metadata": {},
   "outputs": [],
   "source": [
    "pivote = a[0]"
   ]
  },
  {
   "cell_type": "markdown",
   "metadata": {},
   "source": [
    "```{margin} \n",
    "\n",
    "Recuerda la definición de $l_1=(0, \\frac{a_2}{a_1}, \\frac{a_3}{a_1})^T$\n",
    "```"
   ]
  },
  {
   "cell_type": "code",
   "execution_count": 4,
   "metadata": {},
   "outputs": [],
   "source": [
    "l1 = np.array([0,a[1]/pivote, a[2]/pivote])"
   ]
  },
  {
   "cell_type": "code",
   "execution_count": 5,
   "metadata": {},
   "outputs": [],
   "source": [
    "e1 = np.array([1,0,0])"
   ]
  },
  {
   "cell_type": "markdown",
   "metadata": {},
   "source": [
    "```{margin}\n",
    "\n",
    "Observa que por la definición de la transformación de Gauss, **no necesitamos construir a la matriz $L_1$, directamente se tiene $L_1a = a - \\ell_1 e_1^Ta$.**\n",
    "```"
   ]
  },
  {
   "cell_type": "code",
   "execution_count": 6,
   "metadata": {},
   "outputs": [],
   "source": [
    "L1_a = a-l1*(e1.dot(a))"
   ]
  },
  {
   "cell_type": "code",
   "execution_count": 7,
   "metadata": {},
   "outputs": [
    {
     "data": {
      "text/plain": [
       "array([-2.,  0.,  0.])"
      ]
     },
     "execution_count": 7,
     "metadata": {},
     "output_type": "execute_result"
    }
   ],
   "source": [
    "L1_a"
   ]
  },
  {
   "cell_type": "markdown",
   "metadata": {},
   "source": [
    "A continuación se muestra que el producto $L_1 a$ si se construye $L_1$ es equivalente a lo anterior:"
   ]
  },
  {
   "cell_type": "markdown",
   "metadata": {},
   "source": [
    "```{margin}\n",
    "$L_1 = I_3 - \\ell_1 e_1^T$.\n",
    "```"
   ]
  },
  {
   "cell_type": "code",
   "execution_count": 8,
   "metadata": {},
   "outputs": [],
   "source": [
    "L1 = np.eye(3) - np.outer(l1,e1)"
   ]
  },
  {
   "cell_type": "code",
   "execution_count": 9,
   "metadata": {},
   "outputs": [
    {
     "data": {
      "text/plain": [
       "array([[1. , 0. , 0. ],\n",
       "       [1.5, 1. , 0. ],\n",
       "       [2. , 0. , 1. ]])"
      ]
     },
     "execution_count": 9,
     "metadata": {},
     "output_type": "execute_result"
    }
   ],
   "source": [
    "L1"
   ]
  },
  {
   "cell_type": "code",
   "execution_count": 10,
   "metadata": {},
   "outputs": [
    {
     "data": {
      "text/plain": [
       "array([-2.,  0.,  0.])"
      ]
     },
     "execution_count": 10,
     "metadata": {},
     "output_type": "execute_result"
    }
   ],
   "source": [
    "L1@a"
   ]
  },
  {
   "cell_type": "markdown",
   "metadata": {},
   "source": [
    "b) Para hacer ceros por debajo del **pivote** $a_2 = 3$:"
   ]
  },
  {
   "cell_type": "code",
   "execution_count": 11,
   "metadata": {},
   "outputs": [],
   "source": [
    "a = np.array([-2,3,4])"
   ]
  },
  {
   "cell_type": "code",
   "execution_count": 12,
   "metadata": {},
   "outputs": [],
   "source": [
    "pivote = a[1]"
   ]
  },
  {
   "cell_type": "markdown",
   "metadata": {},
   "source": [
    "```{margin} Recuerda\n",
    "La definición de $l_2=(0, 0, \\frac{a_3}{a_2})^T$\n",
    "```"
   ]
  },
  {
   "cell_type": "code",
   "execution_count": 13,
   "metadata": {},
   "outputs": [],
   "source": [
    "l2 = np.array([0,0, a[2]/pivote])"
   ]
  },
  {
   "cell_type": "code",
   "execution_count": 14,
   "metadata": {},
   "outputs": [],
   "source": [
    "e2 = np.array([0,1,0])"
   ]
  },
  {
   "cell_type": "markdown",
   "metadata": {},
   "source": [
    "```{margin}\n",
    "\n",
    "Observa que por la definición de la transformación de Gauss, **no necesitamos construir a la matriz $L_2$, directamente se tiene $L_2a = a - \\ell_2 e_2^Ta$.**\n",
    "```"
   ]
  },
  {
   "cell_type": "code",
   "execution_count": 15,
   "metadata": {},
   "outputs": [],
   "source": [
    "L2_a = a-l2*(e2.dot(a))"
   ]
  },
  {
   "cell_type": "code",
   "execution_count": 16,
   "metadata": {},
   "outputs": [
    {
     "data": {
      "text/plain": [
       "array([-2.,  3.,  0.])"
      ]
     },
     "execution_count": 16,
     "metadata": {},
     "output_type": "execute_result"
    }
   ],
   "source": [
    "L2_a"
   ]
  },
  {
   "cell_type": "markdown",
   "metadata": {},
   "source": [
    "A continuación se muestra que el producto $L_2 a$ si se construye $L_2$ es equivalente a lo anterior:"
   ]
  },
  {
   "cell_type": "markdown",
   "metadata": {},
   "source": [
    "```{margin}\n",
    "\n",
    "$L_2 = I_3 - \\ell_2 e_2^T$.\n",
    "```"
   ]
  },
  {
   "cell_type": "code",
   "execution_count": 17,
   "metadata": {},
   "outputs": [],
   "source": [
    "L2 = np.eye(3) - np.outer(l2,e2)"
   ]
  },
  {
   "cell_type": "code",
   "execution_count": 18,
   "metadata": {},
   "outputs": [
    {
     "data": {
      "text/plain": [
       "array([[ 1.        ,  0.        ,  0.        ],\n",
       "       [ 0.        ,  1.        ,  0.        ],\n",
       "       [ 0.        , -1.33333333,  1.        ]])"
      ]
     },
     "execution_count": 18,
     "metadata": {},
     "output_type": "execute_result"
    }
   ],
   "source": [
    "L2"
   ]
  },
  {
   "cell_type": "code",
   "execution_count": 19,
   "metadata": {},
   "outputs": [
    {
     "data": {
      "text/plain": [
       "array([-2.,  3.,  0.])"
      ]
     },
     "execution_count": 19,
     "metadata": {},
     "output_type": "execute_result"
    }
   ],
   "source": [
    "L2@a"
   ]
  },
  {
   "cell_type": "markdown",
   "metadata": {},
   "source": [
    "### Ejemplo aplicando transformaciones de Gauss a una matriz"
   ]
  },
  {
   "cell_type": "markdown",
   "metadata": {},
   "source": [
    "Si tenemos una matriz $A \\in \\mathbb{R}^{3 \\times 3}$ y queremos hacer ceros por debajo de su diagonal, realizamos los productos matriciales:\n",
    "\n",
    "$$L_2 L_1 A$$"
   ]
  },
  {
   "cell_type": "markdown",
   "metadata": {},
   "source": [
    "donde: $L_1, L_2$ son transformaciones de Gauss."
   ]
  },
  {
   "cell_type": "markdown",
   "metadata": {},
   "source": [
    "**Ejemplo:**"
   ]
  },
  {
   "cell_type": "markdown",
   "metadata": {},
   "source": [
    "a) Utilizando $L_1$"
   ]
  },
  {
   "cell_type": "code",
   "execution_count": 20,
   "metadata": {},
   "outputs": [],
   "source": [
    "A = np.array([[-1, 2, 5],\n",
    "              [4, 5, -7],\n",
    "              [3, 0, 8]])"
   ]
  },
  {
   "cell_type": "code",
   "execution_count": 21,
   "metadata": {},
   "outputs": [
    {
     "data": {
      "text/plain": [
       "array([[-1,  2,  5],\n",
       "       [ 4,  5, -7],\n",
       "       [ 3,  0,  8]])"
      ]
     },
     "execution_count": 21,
     "metadata": {},
     "output_type": "execute_result"
    }
   ],
   "source": [
    "A"
   ]
  },
  {
   "cell_type": "markdown",
   "metadata": {},
   "source": [
    "Para hacer ceros por debajo del **pivote** $a_{11} = -1$:"
   ]
  },
  {
   "cell_type": "code",
   "execution_count": 22,
   "metadata": {},
   "outputs": [],
   "source": [
    "pivote = A[0, 0]"
   ]
  },
  {
   "cell_type": "markdown",
   "metadata": {},
   "source": [
    "```{margin} \n",
    "\n",
    "Recuerda la definición de $l_1=(0, \\frac{a_{21}}{a_{11}}, \\frac{a_{31}}{a_{11}})^T$\n",
    "```"
   ]
  },
  {
   "cell_type": "code",
   "execution_count": 23,
   "metadata": {},
   "outputs": [],
   "source": [
    "l1 = np.array([0,A[1,0]/pivote, A[2,0]/pivote])"
   ]
  },
  {
   "cell_type": "code",
   "execution_count": 24,
   "metadata": {},
   "outputs": [],
   "source": [
    "e1 = np.array([1,0,0])"
   ]
  },
  {
   "cell_type": "markdown",
   "metadata": {},
   "source": [
    "```{margin}\n",
    "\n",
    "Observa que por la definición de la transformación de Gauss, **no necesitamos construir a la matriz $L_1$, directamente se tiene $L_1 A[:,1] = A[:,1] - \\ell_1 e_1^T A[:,1]$.**\n",
    "```"
   ]
  },
  {
   "cell_type": "code",
   "execution_count": 25,
   "metadata": {},
   "outputs": [],
   "source": [
    "L1_A_1 = A[:,0]-l1*(e1.dot(A[:,0]))"
   ]
  },
  {
   "cell_type": "code",
   "execution_count": 26,
   "metadata": {},
   "outputs": [
    {
     "data": {
      "text/plain": [
       "array([-1.,  0.,  0.])"
      ]
     },
     "execution_count": 26,
     "metadata": {},
     "output_type": "execute_result"
    }
   ],
   "source": [
    "L1_A_1"
   ]
  },
  {
   "cell_type": "markdown",
   "metadata": {},
   "source": [
    "**Y se debe aplicar $\\ell_1$ a las columnas número 2 y 3 de $A$ para completar el producto $L_1A$:**"
   ]
  },
  {
   "cell_type": "markdown",
   "metadata": {},
   "source": [
    "```{margin}\n",
    "\n",
    "Aplicando $L_1$ a la segunda columna de $A$: $A[:,2]$.\n",
    "\n",
    "```"
   ]
  },
  {
   "cell_type": "code",
   "execution_count": 27,
   "metadata": {},
   "outputs": [],
   "source": [
    "L1_A_2 = A[:,1]-l1*(e1.dot(A[:,1]))"
   ]
  },
  {
   "cell_type": "code",
   "execution_count": 28,
   "metadata": {},
   "outputs": [
    {
     "data": {
      "text/plain": [
       "array([ 2., 13.,  6.])"
      ]
     },
     "execution_count": 28,
     "metadata": {},
     "output_type": "execute_result"
    }
   ],
   "source": [
    "L1_A_2"
   ]
  },
  {
   "cell_type": "markdown",
   "metadata": {},
   "source": [
    "```{margin}\n",
    "\n",
    "Aplicando $L_1$ a la tercer columna de $A$: $A[:,3]$.\n",
    "\n",
    "```"
   ]
  },
  {
   "cell_type": "code",
   "execution_count": 29,
   "metadata": {},
   "outputs": [],
   "source": [
    "L1_A_3 = A[:,2]-l1*(e1.dot(A[:,2]))"
   ]
  },
  {
   "cell_type": "code",
   "execution_count": 30,
   "metadata": {},
   "outputs": [
    {
     "data": {
      "text/plain": [
       "array([ 5., 13., 23.])"
      ]
     },
     "execution_count": 30,
     "metadata": {},
     "output_type": "execute_result"
    }
   ],
   "source": [
    "L1_A_3"
   ]
  },
  {
   "cell_type": "markdown",
   "metadata": {},
   "source": [
    "A continuación se muestra que el producto $L_1 A$ si se construye $L_1$ es equivalente a lo anterior:"
   ]
  },
  {
   "cell_type": "markdown",
   "metadata": {},
   "source": [
    "```{margin}\n",
    "$L_1 = I_3 - \\ell_1 e_1^T$.\n",
    "```"
   ]
  },
  {
   "cell_type": "code",
   "execution_count": 31,
   "metadata": {},
   "outputs": [],
   "source": [
    "L1 = np.eye(3) - np.outer(l1,e1)"
   ]
  },
  {
   "cell_type": "code",
   "execution_count": 32,
   "metadata": {},
   "outputs": [
    {
     "data": {
      "text/plain": [
       "array([[1., 0., 0.],\n",
       "       [4., 1., 0.],\n",
       "       [3., 0., 1.]])"
      ]
     },
     "execution_count": 32,
     "metadata": {},
     "output_type": "execute_result"
    }
   ],
   "source": [
    "L1"
   ]
  },
  {
   "cell_type": "code",
   "execution_count": 33,
   "metadata": {},
   "outputs": [
    {
     "data": {
      "text/plain": [
       "array([[-1.,  2.,  5.],\n",
       "       [ 0., 13., 13.],\n",
       "       [ 0.,  6., 23.]])"
      ]
     },
     "execution_count": 33,
     "metadata": {},
     "output_type": "execute_result"
    }
   ],
   "source": [
    "L1 @ A"
   ]
  },
  {
   "cell_type": "markdown",
   "metadata": {},
   "source": [
    "```{admonition} Observación\n",
    ":class: tip\n",
    "\n",
    "Al aplicar $\\ell_1$ a la primer columna de $A$ **siempre** obtenemos ceros por debajo del pivote que en este caso es $a_{11}$.\n",
    "```"
   ]
  },
  {
   "cell_type": "markdown",
   "metadata": {},
   "source": [
    "**Después de hacer la multiplicación $L_1A$ en cualquiera de los dos casos (construyendo o no explícitamente $L_1$) no se modifica el primer renglón de $A$:**\n"
   ]
  },
  {
   "cell_type": "code",
   "execution_count": 34,
   "metadata": {},
   "outputs": [
    {
     "data": {
      "text/plain": [
       "array([[-1,  2,  5],\n",
       "       [ 4,  5, -7],\n",
       "       [ 3,  0,  8]])"
      ]
     },
     "execution_count": 34,
     "metadata": {},
     "output_type": "execute_result"
    }
   ],
   "source": [
    "A"
   ]
  },
  {
   "cell_type": "markdown",
   "metadata": {},
   "source": [
    "```{margin}\n",
    "\n",
    "Este es el primer renglón de $A$.\n",
    "\n",
    "```"
   ]
  },
  {
   "cell_type": "code",
   "execution_count": 35,
   "metadata": {},
   "outputs": [
    {
     "data": {
      "text/plain": [
       "array([-1,  2,  5])"
      ]
     },
     "execution_count": 35,
     "metadata": {},
     "output_type": "execute_result"
    }
   ],
   "source": [
    "A[0,:]"
   ]
  },
  {
   "cell_type": "markdown",
   "metadata": {},
   "source": [
    "```{margin}\n",
    "\n",
    "Tomando el primer renglón del producto $L_1A$.\n",
    "```"
   ]
  },
  {
   "cell_type": "code",
   "execution_count": 36,
   "metadata": {},
   "outputs": [
    {
     "data": {
      "text/plain": [
       "array([-1.,  2.,  5.])"
      ]
     },
     "execution_count": 36,
     "metadata": {},
     "output_type": "execute_result"
    }
   ],
   "source": [
    "(L1 @ A)[0,:]"
   ]
  },
  {
   "cell_type": "markdown",
   "metadata": {},
   "source": [
    "**por lo que la multiplicación $L_1A$ entonces modifica del segundo renglón de $A$ en adelante y de la segunda columna de $A$ en adelante.**\n"
   ]
  },
  {
   "cell_type": "markdown",
   "metadata": {},
   "source": [
    "```{admonition} Observación\n",
    ":class: tip\n",
    "\n",
    "Dada la forma de $L_1 = I_n - \\ell_1e_1^T$, al hacer la multiplicación por la segunda y tercer columna de $A$ se tiene:\n",
    "\n",
    "$$e_1^T A[:,2] = A[0,2]$$\n",
    "\n",
    "$$e_1^T A[:,3] = A[0,3]$$\n",
    "\n",
    "respectivamente.\n",
    "```"
   ]
  },
  {
   "cell_type": "markdown",
   "metadata": {},
   "source": [
    "```{margin}\n",
    "\n",
    "El resultado de este producto es un escalar.\n",
    "```"
   ]
  },
  {
   "cell_type": "code",
   "execution_count": 37,
   "metadata": {},
   "outputs": [
    {
     "data": {
      "text/plain": [
       "2"
      ]
     },
     "execution_count": 37,
     "metadata": {},
     "output_type": "execute_result"
    }
   ],
   "source": [
    "e1.dot(A[:, 1])"
   ]
  },
  {
   "cell_type": "markdown",
   "metadata": {},
   "source": [
    "```{margin}\n",
    "\n",
    "El resultado de este producto es un escalar.\n",
    "```"
   ]
  },
  {
   "cell_type": "code",
   "execution_count": 38,
   "metadata": {},
   "outputs": [
    {
     "data": {
      "text/plain": [
       "5"
      ]
     },
     "execution_count": 38,
     "metadata": {},
     "output_type": "execute_result"
    }
   ],
   "source": [
    "e1.dot(A[:, 2])"
   ]
  },
  {
   "cell_type": "markdown",
   "metadata": {},
   "source": [
    "y puede escribirse de forma compacta:"
   ]
  },
  {
   "cell_type": "markdown",
   "metadata": {},
   "source": [
    "$$e_1^T A[:,2:3] = A[0, 2:3]$$"
   ]
  },
  {
   "cell_type": "code",
   "execution_count": 39,
   "metadata": {},
   "outputs": [
    {
     "data": {
      "text/plain": [
       "array([2, 5])"
      ]
     },
     "execution_count": 39,
     "metadata": {},
     "output_type": "execute_result"
    }
   ],
   "source": [
    "A[0, 1:3] #observe that we have to use 2+1=3 as the second number after \":\" in 1:3"
   ]
  },
  {
   "cell_type": "code",
   "execution_count": 40,
   "metadata": {},
   "outputs": [
    {
     "data": {
      "text/plain": [
       "array([2, 5])"
      ]
     },
     "execution_count": 40,
     "metadata": {},
     "output_type": "execute_result"
    }
   ],
   "source": [
    "A[0, 1:] #also we could have use this statement"
   ]
  },
  {
   "cell_type": "markdown",
   "metadata": {},
   "source": [
    "Entonces los productos $\\ell_1 e_1^T A[:,2]$ y $\\ell_1 e_1^T A[:,3]$ quedan respectivamente como:"
   ]
  },
  {
   "cell_type": "markdown",
   "metadata": {},
   "source": [
    "$$\\ell_1A[0, 2]$$"
   ]
  },
  {
   "cell_type": "code",
   "execution_count": 41,
   "metadata": {},
   "outputs": [
    {
     "data": {
      "text/plain": [
       "array([ 0., -8., -6.])"
      ]
     },
     "execution_count": 41,
     "metadata": {},
     "output_type": "execute_result"
    }
   ],
   "source": [
    "l1*A[0,1]"
   ]
  },
  {
   "cell_type": "markdown",
   "metadata": {},
   "source": [
    "$$\\ell_1A[0,3]$$"
   ]
  },
  {
   "cell_type": "code",
   "execution_count": 42,
   "metadata": {},
   "outputs": [
    {
     "data": {
      "text/plain": [
       "array([  0., -20., -15.])"
      ]
     },
     "execution_count": 42,
     "metadata": {},
     "output_type": "execute_result"
    }
   ],
   "source": [
    "l1*A[0, 2]"
   ]
  },
  {
   "cell_type": "markdown",
   "metadata": {},
   "source": [
    "```{admonition} Observación\n",
    ":class: tip\n",
    "\n",
    "En los dos cálculos anteriores, las primeras entradas son iguales a $0$ por lo que es consistente con el hecho que únicamente se modifican dos entradas de la segunda y tercer columna de $A$.\n",
    "```"
   ]
  },
  {
   "cell_type": "markdown",
   "metadata": {},
   "source": [
    "De forma compacta y aprovechando funciones en `numpy` como `outer` se puede calcular lo anterior como:"
   ]
  },
  {
   "cell_type": "code",
   "execution_count": 43,
   "metadata": {},
   "outputs": [
    {
     "data": {
      "text/plain": [
       "array([[ -8., -20.],\n",
       "       [ -6., -15.]])"
      ]
     },
     "execution_count": 43,
     "metadata": {},
     "output_type": "execute_result"
    }
   ],
   "source": [
    "np.outer(l1[1:3],A[0,1:3])"
   ]
  },
  {
   "cell_type": "code",
   "execution_count": 44,
   "metadata": {},
   "outputs": [
    {
     "data": {
      "text/plain": [
       "array([[ -8., -20.],\n",
       "       [ -6., -15.]])"
      ]
     },
     "execution_count": 44,
     "metadata": {},
     "output_type": "execute_result"
    }
   ],
   "source": [
    "np.outer(l1[1:],A[0,1:]) #also we could have use this statement"
   ]
  },
  {
   "cell_type": "markdown",
   "metadata": {},
   "source": [
    "Y finalmente la aplicación de $L_1$ al segundo renglón y segunda columna en adelante de $A$ queda:"
   ]
  },
  {
   "cell_type": "markdown",
   "metadata": {},
   "source": [
    "```{margin}\n",
    "\n",
    "Observa que por la definición de la transformación de Gauss, **no necesitamos construir a la matriz $L_1$, directamente se tiene $L_1 A = A - \\ell_1 e_1^T A$ y podemos aprovechar lo anterior para sólo operar de la segunda columna y segundo renglón en adelante.**\n",
    "```"
   ]
  },
  {
   "cell_type": "code",
   "execution_count": 45,
   "metadata": {},
   "outputs": [
    {
     "data": {
      "text/plain": [
       "array([[13., 13.],\n",
       "       [ 6., 23.]])"
      ]
     },
     "execution_count": 45,
     "metadata": {},
     "output_type": "execute_result"
    }
   ],
   "source": [
    "A[1:, 1:] - np.outer(l1[1:],A[0,1:])"
   ]
  },
  {
   "cell_type": "markdown",
   "metadata": {},
   "source": [
    "Compárese con:"
   ]
  },
  {
   "cell_type": "code",
   "execution_count": 51,
   "metadata": {},
   "outputs": [
    {
     "data": {
      "text/plain": [
       "array([[-1.,  2.,  5.],\n",
       "       [ 0., 13., 13.],\n",
       "       [ 0.,  6., 23.]])"
      ]
     },
     "execution_count": 51,
     "metadata": {},
     "output_type": "execute_result"
    }
   ],
   "source": [
    "L1 @ A"
   ]
  },
  {
   "cell_type": "markdown",
   "metadata": {},
   "source": [
    "Entonces sólo falta colocar el primer renglón y primera columna al producto. Para esto combinamos columnas y renglones en *numpy* con [column_stack](https://numpy.org/doc/stable/reference/generated/numpy.vstack.html) y *row_stack*:"
   ]
  },
  {
   "cell_type": "code",
   "execution_count": 46,
   "metadata": {},
   "outputs": [],
   "source": [
    "A_aux = A[1:, 1:] - np.outer(l1[1:],A[0,1:])"
   ]
  },
  {
   "cell_type": "code",
   "execution_count": 47,
   "metadata": {},
   "outputs": [],
   "source": [
    "m, n = A.shape\n",
    "number_of_zeros = m-1\n",
    "A_aux_2 = np.column_stack((np.zeros(number_of_zeros), A_aux)) # stack two zeros"
   ]
  },
  {
   "cell_type": "code",
   "execution_count": 48,
   "metadata": {},
   "outputs": [
    {
     "data": {
      "text/plain": [
       "array([[ 0., 13., 13.],\n",
       "       [ 0.,  6., 23.]])"
      ]
     },
     "execution_count": 48,
     "metadata": {},
     "output_type": "execute_result"
    }
   ],
   "source": [
    "A_aux_2"
   ]
  },
  {
   "cell_type": "code",
   "execution_count": 49,
   "metadata": {},
   "outputs": [],
   "source": [
    "A_aux_3 = np.row_stack((A[0, :], A_aux_2))"
   ]
  },
  {
   "cell_type": "code",
   "execution_count": 50,
   "metadata": {},
   "outputs": [
    {
     "data": {
      "text/plain": [
       "array([[-1.,  2.,  5.],\n",
       "       [ 0., 13., 13.],\n",
       "       [ 0.,  6., 23.]])"
      ]
     },
     "execution_count": 50,
     "metadata": {},
     "output_type": "execute_result"
    }
   ],
   "source": [
    "A_aux_3"
   ]
  },
  {
   "cell_type": "markdown",
   "metadata": {},
   "source": [
    "que es el resultado de:"
   ]
  },
  {
   "cell_type": "code",
   "execution_count": 51,
   "metadata": {},
   "outputs": [
    {
     "data": {
      "text/plain": [
       "array([[-1.,  2.,  5.],\n",
       "       [ 0., 13., 13.],\n",
       "       [ 0.,  6., 23.]])"
      ]
     },
     "execution_count": 51,
     "metadata": {},
     "output_type": "execute_result"
    }
   ],
   "source": [
    "L1 @ A"
   ]
  },
  {
   "cell_type": "markdown",
   "metadata": {},
   "source": [
    "```{admonition} Ejercicio\n",
    ":class: tip\n",
    "\n",
    "Calcular el producto $L_2 L_1 A$ para la matriz anterior y para la matriz:\n",
    "\n",
    "$$\n",
    "A = \\left [\n",
    "\\begin{array}{ccc}\n",
    "1 & 4 & -2 \\\\\n",
    "-3 & 9 & 8 \\\\\n",
    "5 & 1 & -6\n",
    "\\end{array}\n",
    "\\right]\n",
    "$$\n",
    "```"
   ]
  },
  {
   "cell_type": "markdown",
   "metadata": {},
   "source": [
    "```{admonition} Comentario\n",
    "\n",
    "Las transformaciones de Gauss se utilizan para la fase de eliminación del método de eliminación Gaussiana o también llamada factorización LU. Ver [Gaussian elimination](https://en.wikipedia.org/wiki/Gaussian_elimination).\n",
    "```"
   ]
  },
  {
   "cell_type": "markdown",
   "metadata": {},
   "source": [
    "## Transformaciones de reflexión"
   ]
  },
  {
   "cell_type": "markdown",
   "metadata": {},
   "source": [
    "### Matriz ortogonal y matriz con columnas ortonormales"
   ]
  },
  {
   "cell_type": "markdown",
   "metadata": {},
   "source": [
    "Un conjunto de vectores $\\{x_1, \\dots, x_p\\}$ en $\\mathbb{R}^m$ ($x_i \\in \\mathbb{R}^m$)es ortogonal si $x_i^Tx_j=0$ $\\forall i\\neq j$. Por ejemplo, para un conjunto de $2$ vectores $x_1,x_2$ en $\\mathbb{R}^3$ esto se visualiza:\n",
    "\n",
    "<img src=\"https://dl.dropboxusercontent.com/s/cekagqnxe0grvu4/vectores_ortogonales.png?dl=0\" heigth=\"550\" width=\"550\">\n"
   ]
  },
  {
   "cell_type": "markdown",
   "metadata": {},
   "source": [
    "```{admonition} Comentarios\n",
    "\n",
    "* Si el conjunto $\\{x_1,\\dots,x_p\\}$ en $\\mathbb{R}^m$ satisface $x_i^Tx_j= \\delta_{ij}= \\begin{cases}\n",
    "1 &\\text{ si } i=j,\\\\\n",
    "0 &\\text{ si } i\\neq j\n",
    "\\end{cases}$ se le nombra conjunto **ortonormal**, esto es, constituye un conjunto ortogonal y cada elemento del conjunto tiene norma Euclidiana igual a $1$: $||x_i||_2 = 1, \\forall i=1,\\dots,p$.\n",
    "\n",
    "* Si definimos a la matriz $X$ con columnas dadas por cada uno de los vectores del conjunto $\\{x_1,\\dots, x_p\\}$: $X=(x_1, \\dots , x_p) \\in \\mathbb{R}^{m \\times p}$ entonces la propiedad de que cada par de columnas satisfaga $x_i^Tx_j=\\delta_{ij}$ se puede escribir en notación matricial como $X^TX = I_p$ con $I_p$ la matriz identidad de tamaño $p$ o bien $XX^T=I_m$. A la matriz $X$ se le nombra **matriz con columnas ortonormales**.\n",
    "\n",
    "* Si cada $x_i$ está en $\\mathbb{R}^p$ (en lugar de $\\mathbb{R}^m$) entonces construímos a la matriz $X$ como el punto anterior con la diferencia que $X \\in \\mathbb{R}^{p \\times p}$. En este caso $X$ se le nombra **matriz ortogonal**.\n",
    "```"
   ]
  },
  {
   "cell_type": "markdown",
   "metadata": {},
   "source": [
    "### Reflectores de Householder"
   ]
  },
  {
   "cell_type": "markdown",
   "metadata": {},
   "source": [
    "```{margin}\n",
    "\n",
    "$span\\{v\\}$ es el conjunto generado por $v$. Se define como el conjunto de combinaciones lineales de $v$: $span\\{v\\} = \\left \\{\\displaystyle \\sum_{i=1}^m k_i v_i | k_i \\in \\mathbb{R} \\forall i =1,\\dots,m \\right \\}$. \n",
    "```"
   ]
  },
  {
   "cell_type": "markdown",
   "metadata": {},
   "source": [
    "Las reflexiones de Householder son **matrices** simétricas, ortogonales y se construyen a partir de un vector $v \\neq 0$ definiendo:\n",
    "\n",
    "$$R = I_m-\\beta v v^T$$ \n",
    "\n",
    "con $v \\in \\mathbb{R}^m - \\{0\\}$ y $\\beta = \\frac{2}{v^Tv}$. El vector $v$ se llama **vector de Householder**. La multiplicación $Rx$ representa la reflexión del vector $x \\in \\mathbb{R}^m$ a través del hiperplano $span\\{v\\}^\\perp$.\n"
   ]
  },
  {
   "cell_type": "markdown",
   "metadata": {},
   "source": [
    "Algunas propiedades de las reflexiones de Householder son: $R^TR = R^2 = I_m$, $R^{-1}=R$, $det(R)=-1$.\n"
   ]
  },
  {
   "cell_type": "markdown",
   "metadata": {},
   "source": [
    "```{sidebar} Proyector ortogonal elemental\n",
    "\n",
    "En este dibujo se utiliza el **proyector ortogonal elemental** sobre el complemento ortogonal de u: $u^\\perp = \\{x \\in \\mathbb{R}^m| u^Tx=0\\}$ (que es un subespacio de $\\mathbb{R}^m$ de dimensión $m-1$) definido como: $P=I_m- u u^T$ y $Px$ es la proyección ortogonal de $x$ sobre $u^\\perp$ . Los proyectores ortogonales elementales **no** son matrices ortogonales, son singulares, son simétricas y $P^2=P$. El proyector ortogonal elemental de $x$ sobre $u^\\perp$ tienen $rank$ igual a $m-1$ y el proyector ortogonal de $x$ sobre $span\\{u\\}$ definido por $I_m-P=uu^T$ tienen $rank$ igual a $1$.\n",
    "\n",
    "<img src=\"https://dl.dropboxusercontent.com/s/itjn9edajx4g2ql/elementary_projector_drawing.png?dl=0\" heigth=\"350\" width=\"350\">\n",
    "```"
   ]
  },
  {
   "cell_type": "markdown",
   "metadata": {},
   "source": [
    "Un dibujo que representa lo anterior es el siguiente en el que se utiliza $u \\in \\mathbb{R}^m - \\{0\\}$ , $||u||_2 = 1$ y  $R=I_m-2 u u^T$, el reflector elemental alrededor de $u^\\perp$:\n",
    "\n",
    "<img src=\"https://dl.dropboxusercontent.com/s/o3oht181nm8lfit/householder_drawing.png?dl=0\" heigth=\"350\" width=\"350\">\n",
    "\n"
   ]
  },
  {
   "cell_type": "markdown",
   "metadata": {},
   "source": [
    "Las reflexiones de Householder pueden utilizarse para hacer ceros por debajo de una entrada de un vector. Por ejemplo:"
   ]
  },
  {
   "cell_type": "code",
   "execution_count": 2,
   "metadata": {},
   "outputs": [],
   "source": [
    "x = np.array([1,2,3])"
   ]
  },
  {
   "cell_type": "code",
   "execution_count": 3,
   "metadata": {},
   "outputs": [
    {
     "data": {
      "text/plain": [
       "array([1, 2, 3])"
      ]
     },
     "execution_count": 3,
     "metadata": {},
     "output_type": "execute_result"
    }
   ],
   "source": [
    "x"
   ]
  },
  {
   "cell_type": "markdown",
   "metadata": {},
   "source": [
    "Utilizamos la definición $v=x-||x||_2e_1$ con $e_1=(1,0,0)^T$ vector canónico para construir al vector de Householder:"
   ]
  },
  {
   "cell_type": "code",
   "execution_count": 4,
   "metadata": {},
   "outputs": [],
   "source": [
    "v = x-np.linalg.norm(x)*np.array([1,0,0]) #uno en la primer entrada pues se desea\n",
    "                                          #hacer ceros en las entradas restantes"
   ]
  },
  {
   "cell_type": "code",
   "execution_count": 5,
   "metadata": {},
   "outputs": [],
   "source": [
    "beta = 2/v.dot(v)\n"
   ]
  },
  {
   "cell_type": "markdown",
   "metadata": {},
   "source": [
    "Hacemos ceros por debajo de la primera entrada de $x$ haciendo la multiplicación matriz-vector $Rx$. Pero para aplicar $Rx$ **no** construímos $R = I_3 -\\beta vv^T$, en lugar de eso hacemos $Rx = x - \\beta v v^Tx$:"
   ]
  },
  {
   "cell_type": "code",
   "execution_count": 6,
   "metadata": {},
   "outputs": [
    {
     "data": {
      "text/plain": [
       "array([3.74165739, 0.        , 0.        ])"
      ]
     },
     "execution_count": 6,
     "metadata": {},
     "output_type": "execute_result"
    }
   ],
   "source": [
    "x-beta*v*(v.dot(x))"
   ]
  },
  {
   "cell_type": "markdown",
   "metadata": {},
   "source": [
    "obsérvese que el resultado de $Rx$ es $(||x||_2,0,0)^T$:"
   ]
  },
  {
   "cell_type": "code",
   "execution_count": 14,
   "metadata": {},
   "outputs": [
    {
     "data": {
      "text/plain": [
       "3.7416573867739413"
      ]
     },
     "execution_count": 14,
     "metadata": {},
     "output_type": "execute_result"
    }
   ],
   "source": [
    "np.linalg.norm(x)"
   ]
  },
  {
   "cell_type": "markdown",
   "metadata": {},
   "source": [
    "Sólo para mostrar que $Rx$ construyendo $R$ es equivalente a lo anterior, se construye a continuación $R$:"
   ]
  },
  {
   "cell_type": "code",
   "execution_count": 17,
   "metadata": {},
   "outputs": [],
   "source": [
    "R = np.eye(3)-beta*np.outer(v,np.transpose(v))"
   ]
  },
  {
   "cell_type": "code",
   "execution_count": 18,
   "metadata": {},
   "outputs": [
    {
     "data": {
      "text/plain": [
       "array([[ 0.26726124,  0.53452248,  0.80178373],\n",
       "       [ 0.53452248,  0.61007346, -0.5848898 ],\n",
       "       [ 0.80178373, -0.5848898 ,  0.12266529]])"
      ]
     },
     "execution_count": 18,
     "metadata": {},
     "output_type": "execute_result"
    }
   ],
   "source": [
    "R"
   ]
  },
  {
   "cell_type": "code",
   "execution_count": 19,
   "metadata": {},
   "outputs": [
    {
     "data": {
      "text/plain": [
       "array([3.74165739e+00, 0.00000000e+00, 2.22044605e-16])"
      ]
     },
     "execution_count": 19,
     "metadata": {},
     "output_type": "execute_result"
    }
   ],
   "source": [
    "R@x"
   ]
  },
  {
   "cell_type": "markdown",
   "metadata": {},
   "source": [
    "**Otra opción para definir al vector de Householder es $v=x+||x||_2e_1$ con $e_1=(1,0,0)^T:$**\n"
   ]
  },
  {
   "cell_type": "code",
   "execution_count": 22,
   "metadata": {},
   "outputs": [],
   "source": [
    "v = x+np.linalg.norm(x)*np.array([1,0,0]) #uno en la primer entrada pues se desea\n",
    "                                          #hacer ceros en las entradas restantes"
   ]
  },
  {
   "cell_type": "code",
   "execution_count": 24,
   "metadata": {},
   "outputs": [],
   "source": [
    "beta = 2/v.dot(v)"
   ]
  },
  {
   "cell_type": "code",
   "execution_count": 25,
   "metadata": {},
   "outputs": [
    {
     "data": {
      "text/plain": [
       "array([-3.74165739e+00, -4.44089210e-16, -4.44089210e-16])"
      ]
     },
     "execution_count": 25,
     "metadata": {},
     "output_type": "execute_result"
    }
   ],
   "source": [
    "x-beta*v*(v.dot(x))"
   ]
  },
  {
   "cell_type": "markdown",
   "metadata": {},
   "source": [
    "**¿Cuál definición del vector de Householder usar?**"
   ]
  },
  {
   "cell_type": "markdown",
   "metadata": {},
   "source": [
    "La respuesta a la pregunta tiene que ver con que en cualquiera de las dos definiciones del vector de Householder $v=x \\pm ||x||_2 e_1$, la multiplicación $Rx$ refleja $x$ en el primer eje coordenado:\n",
    "\n",
    "\n",
    "<img src=\"https://dl.dropboxusercontent.com/s/bfk7gojxm93ah5s/householder_2_posibilites.png?dl=0\" heigth=\"400\" width=\"400\">\n"
   ]
  },
  {
   "cell_type": "markdown",
   "metadata": {},
   "source": [
    "El vector $v^+ = - u_0^+ = x-||x||_2e_1$ refleja $x$ respecto al subespacio $H^+$. El vector $v^- = -u_0^- = x+||x||_2e_1$ refleja $x$ respecto al subespacio $H^-$. Para disminuir los errores por redondeo y evitar el problema de cancelación en la aritmética de punto flotante (ver [Sistema de punto flotante](https://itam-ds.github.io/analisis-numerico-computo-cientifico/I.computo_cientifico/1.2/Sistema_de_punto_flotante.html)) se utiliza $v = x+signo(x_1)||x||_2e_1$ donde $signo(x_1) = \\begin{cases}\n",
    "1 &\\text{ si } x_1 \\geq 0 ,\\\\\n",
    "-1 &\\text{ si } x_1 < 0\n",
    "\\end{cases}$. La idea de la definción anterior con la función $signo(\\cdot)$ es que la reflexión (en el dibujo anterior $-||x||_2e_1$ o $||x||_2e_1$) sea lo más alejada posible de $x$. En el dibujo anterior como $x_1, x_2>0$ entonces se refleja respecto al subespacio $H^-$ quedando su reflexión igual a $-||x||_2e_1$."
   ]
  },
  {
   "cell_type": "markdown",
   "metadata": {},
   "source": [
    "```{admonition} Comentarios\n",
    "\n",
    "* Otra forma de lidiar con el problema de cancelación es definiendo a la primera componente del vector de Householder $v_1$ como $v_1=x_1-||x||_2$ y haciendo una manipulación algebraica como sigue:\n",
    "\n",
    "$$v_1=x_1-||x||_2 = \\frac{x_1^2-||x||_2^2}{x_1+||x||_2} = -\\frac{x_2^2+x_3^2+\\dots + x_m^2}{x_1+||x||_2}.$$\n",
    "\n",
    "* En la implementación del cálculo del vector de Householder, es útil que $v_1=1$ y así únicamente se almacenará $v(2:m)$. Al vector $v(2:m)$ se le nombra **parte esencial del vector de Householder**.\n",
    "\n",
    "```"
   ]
  },
  {
   "cell_type": "markdown",
   "metadata": {},
   "source": [
    "## Transformaciones de rotación"
   ]
  },
  {
   "cell_type": "markdown",
   "metadata": {},
   "source": [
    "**Referencias:**\n",
    "\n",
    "*  G. H. Golub, C. F. Van Loan, Matrix Computations, John Hopkins University Press, 2013.\n"
   ]
  }
 ],
 "metadata": {
  "kernelspec": {
   "display_name": "Python 3",
   "language": "python",
   "name": "python3"
  },
  "language_info": {
   "codemirror_mode": {
    "name": "ipython",
    "version": 3
   },
   "file_extension": ".py",
   "mimetype": "text/x-python",
   "name": "python",
   "nbconvert_exporter": "python",
   "pygments_lexer": "ipython3",
   "version": "3.7.3"
  }
 },
 "nbformat": 4,
 "nbformat_minor": 4
}
