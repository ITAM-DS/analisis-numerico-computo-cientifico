{
 "cells": [
  {
   "cell_type": "markdown",
   "metadata": {},
   "source": [
    "(AAEVALEVEC)="
   ]
  },
  {
   "cell_type": "markdown",
   "metadata": {},
   "source": [
    "# 2.3 Algoritmos y aplicaciones de eigenvalores y eigenvectores de una matriz"
   ]
  },
  {
   "cell_type": "markdown",
   "metadata": {},
   "source": [
    "```{admonition} Notas para contenedor de docker:\n",
    "\n",
    "Comando de docker para ejecución de la nota de forma local:\n",
    "\n",
    "nota: cambiar `<ruta a mi directorio>` por la ruta de directorio que se desea mapear a `/datos` dentro del contenedor de docker.\n",
    "\n",
    "`docker run --rm -v <ruta a mi directorio>:/datos --name jupyterlab_optimizacion -p 8888:8888 -d palmoreck/jupyterlab_optimizacion:2.1.4`\n",
    "\n",
    "password para jupyterlab: `qwerty`\n",
    "\n",
    "Detener el contenedor de docker:\n",
    "\n",
    "`docker stop jupyterlab_optimizacion`\n",
    "\n",
    "Documentación de la imagen de docker `palmoreck/jupyterlab_optimizacion:2.1.4` en [liga](https://github.com/palmoreck/dockerfiles/tree/master/jupyterlab/optimizacion).\n",
    "\n",
    "```"
   ]
  },
  {
   "cell_type": "markdown",
   "metadata": {},
   "source": [
    "---"
   ]
  },
  {
   "cell_type": "markdown",
   "metadata": {},
   "source": [
    "Nota generada a partir de [liga](https://www.dropbox.com/s/s4ch0ww1687pl76/3.2.2.Factorizaciones_matriciales_SVD_Cholesky_QR.pdf?dl=0)."
   ]
  },
  {
   "cell_type": "markdown",
   "metadata": {},
   "source": [
    "En esta nota **asumimos** que la matriz $A \\in \\mathbb{R}^{n \\times n}$ es simétrica. Esto tiene como consecuencia que sus eigenvalores son reales y existe una base de eigenvectores ortonormal ver {ref}`descomposición espectral de una matriz simétrica <DESCESP>`."
   ]
  },
  {
   "cell_type": "markdown",
   "metadata": {},
   "source": [
    "## Rotaciones de Jacobi para matrices simétricas"
   ]
  },
  {
   "cell_type": "markdown",
   "metadata": {},
   "source": [
    "Este método produce una secuencia de transformaciones ortogonales de la forma $J^TAJ$ con el objetivo de hacer \"más diagonal\" a la matriz $A \\in \\mathbb{R}^{n \\times n}$."
   ]
  },
  {
   "cell_type": "markdown",
   "metadata": {},
   "source": [
    "```{margin}\n",
    "\n",
    "Los pasos de un algoritmo representan una guía para la implementación, no implica que se tengan que implementar uno a continuación del otro como se describe. Si una implementación respeta la lógica y al mismo algoritmo, entonces pueden seguirse los pasos de una forma distinta.\n",
    "```"
   ]
  },
  {
   "cell_type": "markdown",
   "metadata": {},
   "source": [
    "### Algoritmo: método de rotaciones de Jacobi para matrices simétricas"
   ]
  },
  {
   "cell_type": "markdown",
   "metadata": {},
   "source": [
    "> **Dados** $A$ simétrica y $tol >0$ **definir** $A_0 = A$, $Q_0 = I_n$.\n",
    ">\n",
    "> **Repetir** el siguiente bloque para $k=0,1,2,\\dots$\n",
    ">> 1. Elegir un par de índices $(idx1,idx2)$ con alguna de las metodologías descritas en el bloque siguiente de comentarios.\n",
    ">>\n",
    ">> 2. Calcular las entradas $\\cos(\\theta),\\sin(\\theta)$ de la matriz de rotación $J_k$.\n",
    ">>\n",
    ">> 3. $A_{k+1} = J_k^T A_k J_k$\n",
    ">>\n",
    ">> 4. $Q_{k+1} = Q_{k}J_k$.\n",
    ">\n",
    "> **hasta** convergencia: satisfacer criterio de paro en el que se utiliza $tol$.\n",
    "\n"
   ]
  },
  {
   "cell_type": "markdown",
   "metadata": {},
   "source": [
    "La matriz $J_k$ es una transformación de rotación que se utiliza para eliminar un par de entradas (simétricas) en la matriz $A_k$, esto  preserva la simetría de la matriz original, ver {ref}`transformaciones de rotación <TROT>`. En las columnas de la matriz $Q_{k}$ se encuentran aproximaciones a los eigenvectores de $A$ y en la diagonal de $A_{k}$ se tienen aproximaciones a los eigenvalores de $A$."
   ]
  },
  {
   "cell_type": "markdown",
   "metadata": {},
   "source": [
    "```{admonition} Comentarios\n",
    "\n",
    "En el método se hace mención de **metodologías** que ayudan a elegir los índices del renglón y columna del par de entradas de $A$ que serán eliminadas (hacer cercanas a cero). Algunas de éstas son:\n",
    "\n",
    "1.Elegir $(idx1,idx2)$ tales que $|a_{idx1,idx2}| = \\displaystyle \\max_{i \\neq j}|a_{ij}|$.\n",
    "\n",
    "2.**Ordenamiento cíclico por renglones:** elegir $(idx1, idx2)$ en el conjunto $(1,2),(1,3),\\dots,(1,n),(2,3),(2,4)\\dots,(n-1,n)$.\n",
    "\n",
    "```"
   ]
  },
  {
   "cell_type": "markdown",
   "metadata": {},
   "source": [
    "```{admonition} Observación\n",
    ":class: tip\n",
    "\n",
    "Obsérvese que $A_{k+1}$ y $A_{k}$ son matrices ortogonalmente similares, ver {ref}`similitud <SIMILITUD>`.\n",
    "\n",
    "```"
   ]
  },
  {
   "cell_type": "markdown",
   "metadata": {},
   "source": [
    "Para encontrar la forma que debe tener $J_k$ es suficiente considerar el caso $2 \\times 2$ y se **asume** que $a_{12} \\neq 0$ pues **si $a_{12} =0$ entonces no hay que realizar rotación**:"
   ]
  },
  {
   "cell_type": "markdown",
   "metadata": {},
   "source": [
    "$$\n",
    "\\begin{eqnarray}\n",
    "J_k^TAJ_k &=&  \n",
    "\\left [\n",
    "\\begin{array}{cc}\n",
    "c & -s\\\\\n",
    "s & c\n",
    "\\end{array}\n",
    "\\right ]\n",
    "\\left [\n",
    "\\begin{array}{cc}\n",
    "a_{11} & a_{12}\\\\\n",
    "a_{12} & a_{22}\n",
    "\\end{array}\n",
    "\\right ]\n",
    "\\left [\n",
    "\\begin{array}{cc}\n",
    "c & s\\\\\n",
    "-s & c\n",
    "\\end{array}\n",
    "\\right ]\n",
    "\\nonumber \\\\\n",
    "&=&\n",
    "\\left [\n",
    "\\begin{array}{cc}\n",
    "c^2a_{11} -2 csa_{12} + s^2a_{22} & c^2a_{12} - cs(a_{22}-a_{11})-s^2a_{12}\\nonumber \\\\\n",
    "c^2a_{12} - cs(a_{22}-a_{11})-s^2a_{12} & c^2a_{22}+2csa_{12}+s^2a_{11} \\nonumber\n",
    "\\end{array}\n",
    "\\right ]\n",
    "\\nonumber \n",
    "\\end{eqnarray}\n",
    "$$"
   ]
  },
  {
   "cell_type": "markdown",
   "metadata": {},
   "source": [
    "donde: $c$ y $s$ representan a $\\cos(\\theta), \\sin(\\theta)$ respectivamente y $\\theta$ ángulo para rotar.\n"
   ]
  },
  {
   "cell_type": "markdown",
   "metadata": {},
   "source": [
    "Si se desea que la entrada $(1,2)$ (equivalentemente por simetría la $(2,1)$) sea cero se debe cumplir:\n",
    "\n",
    "$$c^2a_{12} - cs(a_{22}-a_{11})-s^2a_{12}=0.$$"
   ]
  },
  {
   "cell_type": "markdown",
   "metadata": {},
   "source": [
    "Asignando la variable $t = \\frac{s}{c}$ (tangente de $\\theta$) se obtiene la ecuación cuadrática:\n",
    "\n",
    "$$1 - t\\frac{(a_{22}-a_{11})}{a_{12}} - t^2 = 0.$$\n",
    "\n",
    "Equivalentemente:\n",
    "\n",
    "$$t^2 + t\\frac{(a_{22}-a_{11})}{a_{12}} - 1 = t^2 + 2\\tau t -1 = 0$$\n"
   ]
  },
  {
   "cell_type": "markdown",
   "metadata": {},
   "source": [
    "```{margin}\n",
    "\n",
    "Las funciones $\\frac{1}{\\tau+\\sqrt{\\tau^2+1}}$, $\\frac{1}{\\tau-\\sqrt{\\tau^2+1}}$ son estrictamente decrecientes para $\\tau \\geq 0$ y $\\tau < 0$ respectivamente. Un valor de $\\tau$ corresponde a un único ángulo $\\theta \\in \\left [-\\frac{\\pi}{4}, \\frac{\\pi}{4} \\right ]$.\n",
    "```"
   ]
  },
  {
   "cell_type": "markdown",
   "metadata": {},
   "source": [
    "donde: $\\tau = \\frac{a_{22}-a_{11}}{2a_{12}}$. Las raíces de la ecuación anterior están dadas por:\n",
    "\n",
    "$$\n",
    "\\begin{eqnarray}\n",
    "t_1^* &=& -\\tau + \\sqrt{\\tau^2+1}&=&\\frac{1}{\\tau+\\sqrt{\\tau^2+1}} \\nonumber \\\\\n",
    "t_2^* &=& -\\tau - \\sqrt{\\tau^2+1}&=&\\frac{1}{\\tau-\\sqrt{\\tau^2+1}} \\nonumber\n",
    "\\end{eqnarray}\n",
    "$$\n"
   ]
  },
  {
   "cell_type": "markdown",
   "metadata": {},
   "source": [
    "Se **sugiere** utilizar la raíz de menor magnitud para disminuir errores por redondeo por lo que:\n",
    "\n",
    "$$t^* = \\frac{\\text{signo}(\\tau)}{|\\tau| + \\sqrt{1+\\tau^2}}$$\n",
    "\n",
    "donde:\n",
    "\n",
    "$$\n",
    "\\text{signo}(x) = \\begin{cases}\n",
    "1 \\text{ si } x>=0\\\\\n",
    "-1 \\text{ en otro caso}\n",
    "\\end{cases}\n",
    "$$"
   ]
  },
  {
   "cell_type": "markdown",
   "metadata": {},
   "source": [
    "Las relaciones entre coseno, seno y tangente permiten obtener sus valores correspondientes:\n",
    "\n",
    "$$c = \\frac{1}{\\sqrt{1+t^{*2}}},$$\n",
    "\n",
    "$$s = ct^*$$\n",
    "\n",
    "y así tener completamente definida a la matriz $J_k$."
   ]
  },
  {
   "cell_type": "markdown",
   "metadata": {},
   "source": [
    "### Ejemplo"
   ]
  },
  {
   "cell_type": "markdown",
   "metadata": {},
   "source": [
    "Considera: \n",
    "\n",
    "$$\n",
    "A = \n",
    "\\left [\n",
    "\\begin{array}{cc}\n",
    "1&2\\\\\n",
    "2&1\\\\\n",
    "\\end{array}\n",
    "\\right ].\n",
    "$$\n",
    "\n",
    "Eliminar las entradas $(1,2)$ y $(2,1)$ con una matriz $J$ de rotación de Jacobi:"
   ]
  },
  {
   "cell_type": "code",
   "execution_count": 1,
   "metadata": {},
   "outputs": [],
   "source": [
    "import numpy as np\n",
    "import matplotlib.pyplot as plt"
   ]
  },
  {
   "cell_type": "code",
   "execution_count": 2,
   "metadata": {},
   "outputs": [],
   "source": [
    "np.set_printoptions(precision=3, suppress=True)"
   ]
  },
  {
   "cell_type": "code",
   "execution_count": 3,
   "metadata": {},
   "outputs": [],
   "source": [
    "def sign(x):\n",
    "    \"\"\"\n",
    "    Helper function for computing sign of real number x.\n",
    "    \"\"\"\n",
    "    if x >=0:\n",
    "        return 1\n",
    "    else:\n",
    "        return -1"
   ]
  },
  {
   "cell_type": "code",
   "execution_count": 4,
   "metadata": {},
   "outputs": [],
   "source": [
    "def compute_cos_sin_Jacobi_rotation(Ak, idx1, idx2):\n",
    "    \"\"\"\n",
    "    Helper function for computing entries of Jacobi rotation.\n",
    "    Args:\n",
    "        Ak (numpy ndarray): Matrix of iteration k in Jacobi rotation method.\n",
    "        idx1 (int): index for rows in Jacobi rotation matrix.\n",
    "        idx2 (int): index for columns in Jacobi rotation matrix.\n",
    "    Returns:\n",
    "        c (float): value of cos of theta for Jacobi rotation matrix.\n",
    "        s (float): value of sin of theta for Jacobi rotation matrix.\n",
    "    \"\"\"\n",
    "    if np.abs(Ak[idx1,idx2]) > np.finfo(float).eps:\n",
    "        tau = (Ak[idx2, idx2] - Ak[idx1, idx1])/(2*Ak[idx1, idx2])\n",
    "        t_star = sign(tau)/(np.abs(tau) + np.sqrt(1+tau**2))\n",
    "        c = 1/np.sqrt(1+t_star**2)\n",
    "        s = c*t_star\n",
    "    else: #no rotation is performed\n",
    "        c = 1\n",
    "        s = 0\n",
    "    return (c,s)"
   ]
  },
  {
   "cell_type": "code",
   "execution_count": 5,
   "metadata": {},
   "outputs": [],
   "source": [
    "A = np.array([[1,2],\n",
    "              [2,1]])"
   ]
  },
  {
   "cell_type": "code",
   "execution_count": 6,
   "metadata": {},
   "outputs": [],
   "source": [
    "A_k = A.copy()"
   ]
  },
  {
   "cell_type": "code",
   "execution_count": 7,
   "metadata": {},
   "outputs": [
    {
     "name": "stdout",
     "output_type": "stream",
     "text": [
      "[[1 2]\n",
      " [2 1]]\n"
     ]
    }
   ],
   "source": [
    "print(A_k)"
   ]
  },
  {
   "cell_type": "markdown",
   "metadata": {},
   "source": [
    "```{margin}\n",
    "\n",
    "Estos son los índices que corresponden a la entrada $a_{12}$ de $A$.\n",
    "\n",
    "```"
   ]
  },
  {
   "cell_type": "code",
   "execution_count": 8,
   "metadata": {},
   "outputs": [],
   "source": [
    "idx_1 = 0\n",
    "idx_2 = 1"
   ]
  },
  {
   "cell_type": "code",
   "execution_count": 9,
   "metadata": {},
   "outputs": [],
   "source": [
    "c, s = compute_cos_sin_Jacobi_rotation(A_k, idx_1, idx_2)"
   ]
  },
  {
   "cell_type": "markdown",
   "metadata": {},
   "source": [
    "```{margin}\n",
    "\n",
    "La matriz de rotación de Jacobi es en este caso de tamaño $2 \\times 2$.\n",
    "\n",
    "```"
   ]
  },
  {
   "cell_type": "code",
   "execution_count": 10,
   "metadata": {},
   "outputs": [],
   "source": [
    "J = np.array([[c, s],\n",
    "              [-s, c]])"
   ]
  },
  {
   "cell_type": "code",
   "execution_count": 11,
   "metadata": {},
   "outputs": [
    {
     "name": "stdout",
     "output_type": "stream",
     "text": [
      "[[-1.  0.]\n",
      " [ 0.  3.]]\n"
     ]
    }
   ],
   "source": [
    "print(J.T@A@J)"
   ]
  },
  {
   "cell_type": "markdown",
   "metadata": {},
   "source": [
    "Por construcción $A$ y $J^TAJ$ son similares y por tanto tienen el mismo espectro:"
   ]
  },
  {
   "cell_type": "code",
   "execution_count": 12,
   "metadata": {},
   "outputs": [
    {
     "name": "stdout",
     "output_type": "stream",
     "text": [
      "[-1.  3.]\n"
     ]
    }
   ],
   "source": [
    "print(np.linalg.eigvalsh(A))"
   ]
  },
  {
   "cell_type": "code",
   "execution_count": 13,
   "metadata": {},
   "outputs": [
    {
     "name": "stdout",
     "output_type": "stream",
     "text": [
      "[-1.  3.]\n"
     ]
    }
   ],
   "source": [
    "print(np.linalg.eigvalsh(J.T@A@J))"
   ]
  },
  {
   "cell_type": "markdown",
   "metadata": {},
   "source": [
    "Ver [eigvals](https://numpy.org/doc/stable/reference/generated/numpy.linalg.eigvals.html) y [eigvalsh](https://jiffyclub.github.io/numpy/reference/generated/numpy.linalg.eigvalsh.html)."
   ]
  },
  {
   "cell_type": "markdown",
   "metadata": {},
   "source": [
    "````{admonition} Comentarios\n",
    "\n",
    "* En matrices mayores a dos dimensiones el método de rotaciones de Jacobi para matrices simétricas requiere **eliminación repetida** (volver a hacer cercanas a cero) del par de entradas de $A$ seleccionadas de iteraciones previas pues en cada iteración se destruyen (vuelven a ser diferentes de cero) en general. \n",
    "\n",
    "* El método de rotaciones de Jacobi para matrices simétricas utiliza como criterios de paro:\n",
    "\n",
    "    * La cantidad $\\text{off}(A) = \\sqrt{\\displaystyle \\sum_{i=1}^n \\sum_{j=1, j\\neq i}^n a_{ij}^2}$ (norma de Frobenius de $A$ sin la diagonal, ver {ref}`Normas matriciales <NMAT>`).\n",
    "    \n",
    "    * Número máximo de *sweeps*. Un *sweep* es igual a $\\frac{n(n-1)}{2}$ y corresponde al número máximo de entradas de la matriz que forman la parte triangular superior de $A$ sin contar a la diagonal que se asumen diferentes de cero. No existe teoría rigurosa para el número de *sweeps* pero una heurística encontrada por [Brent y Luk, p. 13, 1985](https://ecommons.cornell.edu/handle/1813/6402) menciona que el número máximo es proporcional a $\\mathcal{O}(\\log(n))$ y en la práctica se utilizan entre $6$ y $10$, ver [H. Rutishauser, The Jacobi method for real symmetric matrices, 1966](https://link.springer.com/article/10.1007/BF02165223).\n",
    "\n",
    "* El criterio de paro es de la forma:\n",
    "\n",
    "```\n",
    "while off(A_{k+1}) > tol ||A_k||_F && sweeps < max_sweeps\n",
    "```\n",
    "\n",
    "con `||A_k||_F` norma de Frobenius de $A_k$ y `sweeps` contador de los *sweeps*.\n",
    "````"
   ]
  },
  {
   "cell_type": "markdown",
   "metadata": {},
   "source": [
    "### Ejemplo"
   ]
  },
  {
   "cell_type": "markdown",
   "metadata": {},
   "source": [
    "Considera: \n",
    "\n",
    "$$\n",
    "A = \n",
    "\\left [\n",
    "\\begin{array}{cccc}\n",
    "1 & 2 & 3 & 4\\\\\n",
    "2 & -2 & 4 & 5\\\\\n",
    "3 & 4 & 6 & 7\\\\\n",
    "4 & 5 & 7 & -8\n",
    "\\end{array}\n",
    "\\right ].\n",
    "$$\n",
    "\n",
    "Utilizando la metodología de ordenamiento cíclico por renglones realizar dos *sweeps* del método de rotaciones de Jacobi para matrices simétricas."
   ]
  },
  {
   "cell_type": "code",
   "execution_count": 14,
   "metadata": {},
   "outputs": [],
   "source": [
    "def compute_Jacobi_rotation(Ak, idx1, idx2):\n",
    "    \"\"\"\n",
    "    Compute Jacobi rotation matrix.\n",
    "    Args:\n",
    "        Ak (numpy ndarray): Matrix of iteration k in Jacobi rotation method.\n",
    "        idx1 (int): index for rows in Jacobi rotation matrix.\n",
    "        idx2 (int): index for columns in Jacobi rotation matrix.\n",
    "    Returns:\n",
    "        J (numpy ndarray): Jacobi rotation matrix.\n",
    "    \"\"\"\n",
    "    c,s = compute_cos_sin_Jacobi_rotation(Ak, idx1, idx2)\n",
    "    m,n = Ak.shape\n",
    "    J = np.eye(m)\n",
    "    J[idx1, idx1] = J[idx2, idx2] = c\n",
    "    J[idx1, idx2] = s\n",
    "    J[idx2, idx1] = -s\n",
    "    return J"
   ]
  },
  {
   "cell_type": "code",
   "execution_count": 15,
   "metadata": {},
   "outputs": [],
   "source": [
    "A = np.array([[1,2,3,4],\n",
    "              [2,-2,4,5],\n",
    "              [3, 4, 6, 7],\n",
    "              [4, 5, 7,-8.0]])"
   ]
  },
  {
   "cell_type": "code",
   "execution_count": 16,
   "metadata": {},
   "outputs": [
    {
     "name": "stdout",
     "output_type": "stream",
     "text": [
      "[[ 1.  2.  3.  4.]\n",
      " [ 2. -2.  4.  5.]\n",
      " [ 3.  4.  6.  7.]\n",
      " [ 4.  5.  7. -8.]]\n"
     ]
    }
   ],
   "source": [
    "print(A)"
   ]
  },
  {
   "cell_type": "code",
   "execution_count": 17,
   "metadata": {},
   "outputs": [],
   "source": [
    "A_k = A.copy()"
   ]
  },
  {
   "cell_type": "markdown",
   "metadata": {},
   "source": [
    "El **primer *sweep*** considera las entradas: $(1,2), (1,3), (1,4), (2,3), (2,4), (3,4)$. \n",
    "\n",
    "A continuación se toman en el orden $(1,4), (1,3), (1,2), (2,4), (2,3)$ y finalmente $(3,4)$ para mostrar que el orden de selección de las entradas no importa."
   ]
  },
  {
   "cell_type": "markdown",
   "metadata": {},
   "source": [
    "```{margin}\n",
    "\n",
    "Se sugiere haber revisado los ejemplos de {ref}`transformaciones de rotación <TROT>`.\n",
    "```"
   ]
  },
  {
   "cell_type": "markdown",
   "metadata": {},
   "source": [
    "**Entrada $a_{41}$ rotación en el plano $(1,4)$:**"
   ]
  },
  {
   "cell_type": "code",
   "execution_count": 18,
   "metadata": {},
   "outputs": [],
   "source": [
    "idx_1 = 0\n",
    "idx_2 = 3\n",
    "J = compute_Jacobi_rotation(A_k, idx_1, idx_2)"
   ]
  },
  {
   "cell_type": "code",
   "execution_count": 19,
   "metadata": {},
   "outputs": [],
   "source": [
    "A_k = J.T@A_k@J"
   ]
  },
  {
   "cell_type": "code",
   "execution_count": 20,
   "metadata": {},
   "outputs": [
    {
     "name": "stdout",
     "output_type": "stream",
     "text": [
      "[[ 2.521  3.646  5.292 -0.   ]\n",
      " [ 3.646 -2.     4.     3.963]\n",
      " [ 5.292  4.     6.     5.477]\n",
      " [ 0.     3.963  5.477 -9.521]]\n"
     ]
    }
   ],
   "source": [
    "print(A_k)"
   ]
  },
  {
   "cell_type": "markdown",
   "metadata": {},
   "source": [
    "**Entrada $a_{31}$ rotación en el plano $(1,3)$:**"
   ]
  },
  {
   "cell_type": "code",
   "execution_count": 21,
   "metadata": {},
   "outputs": [],
   "source": [
    "idx_1 = 0\n",
    "idx_2 = 2\n",
    "J = compute_Jacobi_rotation(A_k, idx_1, idx_2)"
   ]
  },
  {
   "cell_type": "code",
   "execution_count": 22,
   "metadata": {},
   "outputs": [],
   "source": [
    "A_k = J.T@A_k@J"
   ]
  },
  {
   "cell_type": "code",
   "execution_count": 23,
   "metadata": {},
   "outputs": [
    {
     "name": "stdout",
     "output_type": "stream",
     "text": [
      "[[-1.31   0.608 -0.    -3.212]\n",
      " [ 0.608 -2.     5.378  3.963]\n",
      " [-0.     5.378  9.831  4.436]\n",
      " [-3.212  3.963  4.436 -9.521]]\n"
     ]
    }
   ],
   "source": [
    "print(A_k)"
   ]
  },
  {
   "cell_type": "markdown",
   "metadata": {},
   "source": [
    "**Entrada $a_{21}$ rotación en el plano $(1,2)$:**"
   ]
  },
  {
   "cell_type": "code",
   "execution_count": 24,
   "metadata": {},
   "outputs": [],
   "source": [
    "idx_1 = 0\n",
    "idx_2 = 1\n",
    "J = compute_Jacobi_rotation(A_k, idx_1, idx_2)"
   ]
  },
  {
   "cell_type": "code",
   "execution_count": 25,
   "metadata": {},
   "outputs": [],
   "source": [
    "A_k = J.T@A_k@J"
   ]
  },
  {
   "cell_type": "code",
   "execution_count": 26,
   "metadata": {},
   "outputs": [
    {
     "name": "stdout",
     "output_type": "stream",
     "text": [
      "[[-0.956  0.     2.707 -0.781]\n",
      " [ 0.    -2.354  4.648  5.041]\n",
      " [ 2.707  4.648  9.831  4.436]\n",
      " [-0.781  5.041  4.436 -9.521]]\n"
     ]
    }
   ],
   "source": [
    "print(A_k)"
   ]
  },
  {
   "cell_type": "markdown",
   "metadata": {},
   "source": [
    "**Entrada $a_{42}$ rotación en el plano $(2,4)$:**"
   ]
  },
  {
   "cell_type": "code",
   "execution_count": 27,
   "metadata": {},
   "outputs": [],
   "source": [
    "idx_1 = 1\n",
    "idx_2 = 3\n",
    "J = compute_Jacobi_rotation(A_k, idx_1, idx_2)"
   ]
  },
  {
   "cell_type": "code",
   "execution_count": 28,
   "metadata": {},
   "outputs": [],
   "source": [
    "A_k = J.T@A_k@J"
   ]
  },
  {
   "cell_type": "code",
   "execution_count": 29,
   "metadata": {},
   "outputs": [
    {
     "name": "stdout",
     "output_type": "stream",
     "text": [
      "[[ -0.956  -0.358   2.707  -0.694]\n",
      " [ -0.358   0.247   6.165   0.   ]\n",
      " [  2.707   6.165   9.831   1.811]\n",
      " [ -0.694   0.      1.811 -12.122]]\n"
     ]
    }
   ],
   "source": [
    "print(A_k)"
   ]
  },
  {
   "cell_type": "markdown",
   "metadata": {},
   "source": [
    "**Entrada $a_{32}$ rotación en el plano $(2,3)$:**"
   ]
  },
  {
   "cell_type": "code",
   "execution_count": 30,
   "metadata": {},
   "outputs": [],
   "source": [
    "idx_1 = 1\n",
    "idx_2 = 2\n",
    "J = compute_Jacobi_rotation(A_k, idx_1, idx_2)"
   ]
  },
  {
   "cell_type": "code",
   "execution_count": 31,
   "metadata": {},
   "outputs": [],
   "source": [
    "A_k = J.T@A_k@J"
   ]
  },
  {
   "cell_type": "code",
   "execution_count": 32,
   "metadata": {},
   "outputs": [
    {
     "name": "stdout",
     "output_type": "stream",
     "text": [
      "[[ -0.956  -1.511   2.274  -0.694]\n",
      " [ -1.511  -2.769  -0.     -0.796]\n",
      " [  2.274   0.     12.847   1.627]\n",
      " [ -0.694  -0.796   1.627 -12.122]]\n"
     ]
    }
   ],
   "source": [
    "print(A_k)"
   ]
  },
  {
   "cell_type": "markdown",
   "metadata": {},
   "source": [
    "**Entrada $a_{43}$ rotación en el plano $(3,4)$:**"
   ]
  },
  {
   "cell_type": "code",
   "execution_count": 33,
   "metadata": {},
   "outputs": [],
   "source": [
    "idx_1 = 2\n",
    "idx_2 = 3\n",
    "J = compute_Jacobi_rotation(A_k, idx_1, idx_2)"
   ]
  },
  {
   "cell_type": "code",
   "execution_count": 34,
   "metadata": {},
   "outputs": [],
   "source": [
    "A_k = J.T@A_k@J"
   ]
  },
  {
   "cell_type": "code",
   "execution_count": 35,
   "metadata": {},
   "outputs": [
    {
     "name": "stdout",
     "output_type": "stream",
     "text": [
      "[[ -0.956  -1.511   2.224  -0.84 ]\n",
      " [ -1.511  -2.769  -0.052  -0.794]\n",
      " [  2.224  -0.052  12.952   0.   ]\n",
      " [ -0.84   -0.794   0.    -12.228]]\n"
     ]
    }
   ],
   "source": [
    "print(A_k)"
   ]
  },
  {
   "cell_type": "markdown",
   "metadata": {},
   "source": [
    "**Segundo *sweep***"
   ]
  },
  {
   "cell_type": "markdown",
   "metadata": {},
   "source": [
    "**Entrada $a_{41}$ rotación en el plano $(1,4)$:**"
   ]
  },
  {
   "cell_type": "code",
   "execution_count": 36,
   "metadata": {},
   "outputs": [],
   "source": [
    "idx_1 = 0\n",
    "idx_2 = 3\n",
    "J = compute_Jacobi_rotation(A_k, idx_1, idx_2)"
   ]
  },
  {
   "cell_type": "code",
   "execution_count": 37,
   "metadata": {},
   "outputs": [],
   "source": [
    "A_k = J.T@A_k@J"
   ]
  },
  {
   "cell_type": "code",
   "execution_count": 38,
   "metadata": {},
   "outputs": [
    {
     "name": "stdout",
     "output_type": "stream",
     "text": [
      "[[ -0.894  -1.448   2.218  -0.   ]\n",
      " [ -1.448  -2.769  -0.052  -0.904]\n",
      " [  2.218  -0.052  12.952   0.164]\n",
      " [ -0.     -0.904   0.164 -12.29 ]]\n"
     ]
    }
   ],
   "source": [
    "print(A_k)"
   ]
  },
  {
   "cell_type": "markdown",
   "metadata": {},
   "source": [
    "**Entrada $a_{31}$ rotación en el plano $(1,3)$:**"
   ]
  },
  {
   "cell_type": "code",
   "execution_count": 39,
   "metadata": {},
   "outputs": [],
   "source": [
    "idx_1 = 0\n",
    "idx_2 = 2\n",
    "J = compute_Jacobi_rotation(A_k, idx_1, idx_2)"
   ]
  },
  {
   "cell_type": "code",
   "execution_count": 40,
   "metadata": {},
   "outputs": [],
   "source": [
    "A_k = J.T@A_k@J"
   ]
  },
  {
   "cell_type": "code",
   "execution_count": 41,
   "metadata": {},
   "outputs": [
    {
     "name": "stdout",
     "output_type": "stream",
     "text": [
      "[[ -1.24   -1.423   0.     -0.025]\n",
      " [ -1.423  -2.769  -0.275  -0.904]\n",
      " [ -0.     -0.275  13.299   0.162]\n",
      " [ -0.025  -0.904   0.162 -12.29 ]]\n"
     ]
    }
   ],
   "source": [
    "print(A_k)"
   ]
  },
  {
   "cell_type": "markdown",
   "metadata": {},
   "source": [
    "**Entrada $a_{21}$ rotación en el plano $(1,2)$:**"
   ]
  },
  {
   "cell_type": "code",
   "execution_count": 42,
   "metadata": {},
   "outputs": [],
   "source": [
    "idx_1 = 0\n",
    "idx_2 = 1\n",
    "J = compute_Jacobi_rotation(A_k, idx_1, idx_2)"
   ]
  },
  {
   "cell_type": "code",
   "execution_count": 43,
   "metadata": {},
   "outputs": [],
   "source": [
    "A_k = J.T@A_k@J"
   ]
  },
  {
   "cell_type": "code",
   "execution_count": 44,
   "metadata": {},
   "outputs": [
    {
     "name": "stdout",
     "output_type": "stream",
     "text": [
      "[[ -0.389  -0.      0.141   0.442]\n",
      " [  0.     -3.62   -0.236  -0.789]\n",
      " [  0.141  -0.236  13.299   0.162]\n",
      " [  0.442  -0.789   0.162 -12.29 ]]\n"
     ]
    }
   ],
   "source": [
    "print(A_k)"
   ]
  },
  {
   "cell_type": "markdown",
   "metadata": {},
   "source": [
    "**Entrada $a_{42}$ rotación en el plano $(2,4)$:**"
   ]
  },
  {
   "cell_type": "code",
   "execution_count": 45,
   "metadata": {},
   "outputs": [],
   "source": [
    "idx_1 = 1\n",
    "idx_2 = 3\n",
    "J = compute_Jacobi_rotation(A_k, idx_1, idx_2)"
   ]
  },
  {
   "cell_type": "code",
   "execution_count": 46,
   "metadata": {},
   "outputs": [],
   "source": [
    "A_k = J.T@A_k@J"
   ]
  },
  {
   "cell_type": "code",
   "execution_count": 47,
   "metadata": {},
   "outputs": [
    {
     "name": "stdout",
     "output_type": "stream",
     "text": [
      "[[ -0.389  -0.04    0.141   0.44 ]\n",
      " [ -0.04   -3.549  -0.249   0.   ]\n",
      " [  0.141  -0.249  13.299   0.141]\n",
      " [  0.44    0.      0.141 -12.361]]\n"
     ]
    }
   ],
   "source": [
    "print(A_k)"
   ]
  },
  {
   "cell_type": "markdown",
   "metadata": {},
   "source": [
    "**Entrada $a_{32}$ rotación en el plano $(2,3)$:**"
   ]
  },
  {
   "cell_type": "code",
   "execution_count": 48,
   "metadata": {},
   "outputs": [],
   "source": [
    "idx_1 = 1\n",
    "idx_2 = 2\n",
    "J = compute_Jacobi_rotation(A_k, idx_1, idx_2)"
   ]
  },
  {
   "cell_type": "code",
   "execution_count": 49,
   "metadata": {},
   "outputs": [],
   "source": [
    "A_k = J.T@A_k@J"
   ]
  },
  {
   "cell_type": "code",
   "execution_count": 50,
   "metadata": {},
   "outputs": [
    {
     "name": "stdout",
     "output_type": "stream",
     "text": [
      "[[ -0.389  -0.038   0.141   0.44 ]\n",
      " [ -0.038  -3.552   0.      0.002]\n",
      " [  0.141   0.     13.303   0.141]\n",
      " [  0.44    0.002   0.141 -12.361]]\n"
     ]
    }
   ],
   "source": [
    "print(A_k)"
   ]
  },
  {
   "cell_type": "markdown",
   "metadata": {},
   "source": [
    "**Entrada $a_{43}$ rotación en el plano $(3,4)$:**"
   ]
  },
  {
   "cell_type": "code",
   "execution_count": 51,
   "metadata": {},
   "outputs": [],
   "source": [
    "idx_1 = 2\n",
    "idx_2 = 3\n",
    "J = compute_Jacobi_rotation(A_k, idx_1, idx_2)"
   ]
  },
  {
   "cell_type": "code",
   "execution_count": 52,
   "metadata": {},
   "outputs": [],
   "source": [
    "A_k = J.T@A_k@J"
   ]
  },
  {
   "cell_type": "markdown",
   "metadata": {},
   "source": [
    "````{margin}\n",
    "\n",
    "Obsérvese que las entradas diferentes en la diagonal son más pequeñas que la matriz original $A$.\n",
    "\n",
    "````"
   ]
  },
  {
   "cell_type": "code",
   "execution_count": 53,
   "metadata": {
    "tags": [
     "margin"
    ]
   },
   "outputs": [
    {
     "name": "stdout",
     "output_type": "stream",
     "text": [
      "[[ 1.  2.  3.  4.]\n",
      " [ 2. -2.  4.  5.]\n",
      " [ 3.  4.  6.  7.]\n",
      " [ 4.  5.  7. -8.]]\n"
     ]
    }
   ],
   "source": [
    "print(A)"
   ]
  },
  {
   "cell_type": "code",
   "execution_count": 54,
   "metadata": {},
   "outputs": [
    {
     "name": "stdout",
     "output_type": "stream",
     "text": [
      "[[ -0.389  -0.038   0.144   0.44 ]\n",
      " [ -0.038  -3.552   0.      0.002]\n",
      " [  0.144   0.     13.304   0.   ]\n",
      " [  0.44    0.002   0.    -12.362]]\n"
     ]
    }
   ],
   "source": [
    "print(A_k)"
   ]
  },
  {
   "cell_type": "markdown",
   "metadata": {},
   "source": [
    "```{admonition} Ejercicio\n",
    ":class: tip\n",
    "\n",
    "Realizar dos *sweeps* más para la matriz simétrica del ejemplo anterior y sólo dos *sweeps* para la matriz:\n",
    "\n",
    "$$\n",
    "A = \n",
    "\\left [\n",
    "\\begin{array}{ccc}\n",
    "1 & 0 & 2\\\\\n",
    "0 & 2 & 1\\\\\n",
    "2 & 1 & 1\n",
    "\\end{array}\n",
    "\\right ]\n",
    "$$\n",
    "\n",
    "Para ambos ejercicios calcular en cada iteración realizada $\\text{off}(A)$.\n",
    "\n",
    "```"
   ]
  },
  {
   "cell_type": "markdown",
   "metadata": {},
   "source": [
    "```{margin}\n",
    "\n",
    "Los algoritmos que pueden ejecutarse en una forma por bloques se les nombra *blocking algorithms*. Tales algoritmos aprovechan niveles altos de [BLAS](http://www.netlib.org/blas/) en su implementación.\n",
    "\n",
    "```"
   ]
  },
  {
   "cell_type": "markdown",
   "metadata": {},
   "source": [
    "```{admonition} Comentarios\n",
    "\n",
    "Algunas características del método de rotaciones de Jacobi para matrices simétricas:\n",
    "\n",
    "* Tiene una convergencia cuadrática, esto es, la matriz $A_k$ al ir aproximándose hacia una diagonal, el número de dígitos de precisión en cada iteración se duplica. Sin embargo el algoritmo QR es más eficiente en cuanto al número de iteraciones.\n",
    "\n",
    "* La precisión que tiene en el cálculo de eigenvalores es alta (error relativo pequeño).\n",
    "\n",
    "* Es un algoritmo que puede realizarse con cómputo en paralelo si se utilizan ordenamientos específicos como el cíclico por renglones. También este algoritmo puede realizarse por bloques.\n",
    "\n",
    "```"
   ]
  },
  {
   "cell_type": "markdown",
   "metadata": {},
   "source": [
    "## Algoritmo QR"
   ]
  },
  {
   "cell_type": "markdown",
   "metadata": {},
   "source": [
    "### Factorización QR"
   ]
  },
  {
   "cell_type": "markdown",
   "metadata": {},
   "source": [
    "**Sólo** en esta subsección **asumimos** $A \\in \\mathbb{R}^{m \\times n}$ con $m >= n$. \n",
    "\n",
    "Existen $Q \\in \\mathbb{R}^{m \\times m}$ **ortogonal** y $R \\in \\mathbb{R}^{m \\times n}$ triangular superior tales que $A=QR$:"
   ]
  },
  {
   "cell_type": "markdown",
   "metadata": {},
   "source": [
    "<img src=\"https://dl.dropboxusercontent.com/s/hhd15p8r1wh6ac9/A_QR.png?dl=0\" heigth=\"350\" width=\"350\">\n"
   ]
  },
  {
   "cell_type": "markdown",
   "metadata": {},
   "source": [
    "```{admonition} Comentarios\n",
    "\n",
    "* La factorización $QR$ puede escribirse en una forma \"delgada\" obteniéndose la factorización [***thin QR* o *reduced***](https://en.wikipedia.org/wiki/QR_decomposition#Rectangular_matrix) :\n",
    "\n",
    "<img src=\"https://dl.dropboxusercontent.com/s/u0u365q5372xihl/A_thin_QR.png?dl=0\" heigth=\"300\" width=\"300\">\n",
    "\n",
    "En este caso $Q_1$ no se nombra ortogonal sino con **columnas ortonormales**, ver {ref}`matriz ortogonal y matriz con columnas ortonormales <MATORTMATCOLORTONO>`, $R_1$ es triangular superior. Si el *rank(A)* es igual a $n$ ($A$ se nombra de **rank completo** o *full rank*) y $R_1$ tiene entradas en la diagonal positivas, la factorización *thin QR* es única.\n",
    "\n",
    "* La factorización *thin* o *reduced* $QR$ de $A$ realiza un cambio de bases entre las columnas de $A$ y las columnas de $Q_1$ teniendo las entradas de $R$ las coordenadas del cambio entre bases.\n",
    "\n",
    "\n",
    "* La factorización *QR* puede calcularse con reflexiones de Householder o rotaciones Givens, ver {ref}`transformaciones de reflexión <TREF>` y {ref}`transformaciones de rotación <TROT>`.\n",
    "```"
   ]
  },
  {
   "cell_type": "markdown",
   "metadata": {},
   "source": [
    "### Algoritmo: algoritmo QR para matrices simétricas"
   ]
  },
  {
   "cell_type": "markdown",
   "metadata": {},
   "source": [
    "> **Dados** $A \\in \\mathbb{R}^{n \\times n}$ simétrica, $tol > 0$, $Q_0 \\in \\mathbb{R}^{n \\times n}$ ortogonal **definir** $T_0 = Q_0^TAQ_0$.\n",
    ">\n",
    "> **Repetir** el siguiente bloque para $k=1,2,\\dots$\n",
    ">> 1. $T_{k-1} = Q_kR_k$ (factorización $QR$ de $T_{k-1}$).\n",
    ">>\n",
    ">> 2. $T_k = R_k Q_k$\n",
    ">\n",
    "> **hasta** convergencia: satisfacer criterio de paro en el que se utiliza $tol$.\n",
    "\n"
   ]
  },
  {
   "cell_type": "markdown",
   "metadata": {},
   "source": [
    "```{admonition} Observaciones\n",
    ":class: tip\n",
    "\n",
    "* Obsérvese que $T_k = R_kQ_k = Q_k^T(Q_k R_k)Q_k = Q_k ^TT_{k-1}Q^k$ por lo que $T_k$ y $T_{k-1}$ son ortogonalmente similares, ver {ref}`similitud <SIMILITUD>`.\n",
    "\n",
    "* Es fácil verificar que $T_k = (Q_0 Q_1 \\cdots Q_k)^T A(Q_0 Q_1 \\cdots Q_k)$ por lo que $T_k$ es ortogonalmente similar a $A$.\n",
    "\n",
    "```"
   ]
  },
  {
   "cell_type": "markdown",
   "metadata": {},
   "source": [
    "### Ejemplo"
   ]
  },
  {
   "cell_type": "code",
   "execution_count": 55,
   "metadata": {},
   "outputs": [],
   "source": [
    "A = np.array([[7, 2],\n",
    "              [2, 4]])"
   ]
  },
  {
   "cell_type": "markdown",
   "metadata": {},
   "source": [
    "Se toma $T_0$ como $A$"
   ]
  },
  {
   "cell_type": "markdown",
   "metadata": {},
   "source": [
    "**Primera iteración**"
   ]
  },
  {
   "cell_type": "code",
   "execution_count": 56,
   "metadata": {},
   "outputs": [],
   "source": [
    "T_k_minus_1 = A"
   ]
  },
  {
   "cell_type": "markdown",
   "metadata": {},
   "source": [
    "```{margin} \n",
    "\n",
    "$T_{k-1} = Q_kR_k$.\n",
    "\n",
    "Ver [numpy.linalg.qr](https://numpy.org/doc/stable/reference/generated/numpy.linalg.qr.html) para factorización QR con *NumPy*.\n",
    "\n",
    "```"
   ]
  },
  {
   "cell_type": "code",
   "execution_count": 57,
   "metadata": {},
   "outputs": [],
   "source": [
    "q,r = np.linalg.qr(T_k_minus_1)"
   ]
  },
  {
   "cell_type": "markdown",
   "metadata": {},
   "source": [
    "```{margin}\n",
    "\n",
    "Matriz $Q$ ortogonal.\n",
    "```"
   ]
  },
  {
   "cell_type": "code",
   "execution_count": 58,
   "metadata": {},
   "outputs": [
    {
     "data": {
      "text/plain": [
       "array([[-0.962, -0.275],\n",
       "       [-0.275,  0.962]])"
      ]
     },
     "execution_count": 58,
     "metadata": {},
     "output_type": "execute_result"
    }
   ],
   "source": [
    "q"
   ]
  },
  {
   "cell_type": "markdown",
   "metadata": {},
   "source": [
    "```{admonition}\n",
    "\n",
    "Matriz $R$ triangular superior.\n",
    "\n",
    "```"
   ]
  },
  {
   "cell_type": "code",
   "execution_count": 59,
   "metadata": {},
   "outputs": [
    {
     "data": {
      "text/plain": [
       "array([[-7.28 , -3.022],\n",
       "       [ 0.   ,  3.297]])"
      ]
     },
     "execution_count": 59,
     "metadata": {},
     "output_type": "execute_result"
    }
   ],
   "source": [
    "r"
   ]
  },
  {
   "cell_type": "markdown",
   "metadata": {},
   "source": [
    "```{margin}\n",
    "\n",
    "$T_k = R_k Q_k$.\n",
    "\n",
    "```"
   ]
  },
  {
   "cell_type": "code",
   "execution_count": 60,
   "metadata": {},
   "outputs": [],
   "source": [
    "T_k = r@q"
   ]
  },
  {
   "cell_type": "code",
   "execution_count": 61,
   "metadata": {},
   "outputs": [
    {
     "data": {
      "text/plain": [
       "array([[ 7.83 , -0.906],\n",
       "       [-0.906,  3.17 ]])"
      ]
     },
     "execution_count": 61,
     "metadata": {},
     "output_type": "execute_result"
    }
   ],
   "source": [
    "T_k"
   ]
  },
  {
   "cell_type": "markdown",
   "metadata": {},
   "source": [
    "**Segunda iteración**"
   ]
  },
  {
   "cell_type": "code",
   "execution_count": 62,
   "metadata": {},
   "outputs": [],
   "source": [
    "T_k_minus_1 = T_k"
   ]
  },
  {
   "cell_type": "code",
   "execution_count": 63,
   "metadata": {},
   "outputs": [],
   "source": [
    "q,r = np.linalg.qr(T_k_minus_1)"
   ]
  },
  {
   "cell_type": "code",
   "execution_count": 64,
   "metadata": {},
   "outputs": [
    {
     "data": {
      "text/plain": [
       "array([[-0.993,  0.115],\n",
       "       [ 0.115,  0.993]])"
      ]
     },
     "execution_count": 64,
     "metadata": {},
     "output_type": "execute_result"
    }
   ],
   "source": [
    "q"
   ]
  },
  {
   "cell_type": "code",
   "execution_count": 65,
   "metadata": {},
   "outputs": [
    {
     "data": {
      "text/plain": [
       "array([[-7.882,  1.264],\n",
       "       [ 0.   ,  3.045]])"
      ]
     },
     "execution_count": 65,
     "metadata": {},
     "output_type": "execute_result"
    }
   ],
   "source": [
    "r"
   ]
  },
  {
   "cell_type": "code",
   "execution_count": 66,
   "metadata": {},
   "outputs": [],
   "source": [
    "T_k = r@q"
   ]
  },
  {
   "cell_type": "code",
   "execution_count": 67,
   "metadata": {},
   "outputs": [
    {
     "data": {
      "text/plain": [
       "array([[7.975, 0.35 ],\n",
       "       [0.35 , 3.025]])"
      ]
     },
     "execution_count": 67,
     "metadata": {},
     "output_type": "execute_result"
    }
   ],
   "source": [
    "T_k"
   ]
  },
  {
   "cell_type": "markdown",
   "metadata": {},
   "source": [
    "**Tercera iteración**"
   ]
  },
  {
   "cell_type": "code",
   "execution_count": 68,
   "metadata": {},
   "outputs": [],
   "source": [
    "T_k_minus_1 = T_k"
   ]
  },
  {
   "cell_type": "code",
   "execution_count": 69,
   "metadata": {},
   "outputs": [],
   "source": [
    "q,r = np.linalg.qr(T_k_minus_1)"
   ]
  },
  {
   "cell_type": "code",
   "execution_count": 70,
   "metadata": {},
   "outputs": [
    {
     "data": {
      "text/plain": [
       "array([[-0.999, -0.044],\n",
       "       [-0.044,  0.999]])"
      ]
     },
     "execution_count": 70,
     "metadata": {},
     "output_type": "execute_result"
    }
   ],
   "source": [
    "q"
   ]
  },
  {
   "cell_type": "code",
   "execution_count": 71,
   "metadata": {},
   "outputs": [
    {
     "data": {
      "text/plain": [
       "array([[-7.983, -0.482],\n",
       "       [ 0.   ,  3.006]])"
      ]
     },
     "execution_count": 71,
     "metadata": {},
     "output_type": "execute_result"
    }
   ],
   "source": [
    "r"
   ]
  },
  {
   "cell_type": "code",
   "execution_count": 72,
   "metadata": {},
   "outputs": [],
   "source": [
    "T_k = r@q"
   ]
  },
  {
   "cell_type": "code",
   "execution_count": 73,
   "metadata": {},
   "outputs": [
    {
     "data": {
      "text/plain": [
       "array([[ 7.997, -0.132],\n",
       "       [-0.132,  3.003]])"
      ]
     },
     "execution_count": 73,
     "metadata": {},
     "output_type": "execute_result"
    }
   ],
   "source": [
    "T_k"
   ]
  },
  {
   "cell_type": "markdown",
   "metadata": {},
   "source": [
    "Y se observa que las entradas diferentes de la diagonal son más pequeñas y las entradas de la diagonal son cada vez más cercanas a los eigenvalores de $A$:"
   ]
  },
  {
   "cell_type": "code",
   "execution_count": 74,
   "metadata": {},
   "outputs": [
    {
     "data": {
      "text/plain": [
       "array([8., 3.])"
      ]
     },
     "execution_count": 74,
     "metadata": {},
     "output_type": "execute_result"
    }
   ],
   "source": [
    "np.linalg.eigvals(A)"
   ]
  },
  {
   "cell_type": "markdown",
   "metadata": {},
   "source": [
    "## Método de la potencia"
   ]
  },
  {
   "cell_type": "markdown",
   "metadata": {},
   "source": [
    "Si la matriz $A$ tiene un **único** eigenvalor $\\lambda_1$ que tiene máxima magnitud y $z^{(0)}$ es un vector distinto de cero entonces el esquema iterativo:\n",
    "\n",
    "$$z^{(k)} = A z^{(k-1)}$$\n",
    "\n",
    "converge a un múltiplo del eigenvector de $A$ asociado a $\\lambda_1$."
   ]
  },
  {
   "cell_type": "markdown",
   "metadata": {},
   "source": [
    "### Ejemplo"
   ]
  },
  {
   "cell_type": "code",
   "execution_count": 75,
   "metadata": {},
   "outputs": [],
   "source": [
    "A = np.array([[1.5, 0.5],\n",
    "              [0.5, 1.5]])"
   ]
  },
  {
   "cell_type": "markdown",
   "metadata": {},
   "source": [
    "**Primera iteración**"
   ]
  },
  {
   "cell_type": "code",
   "execution_count": 76,
   "metadata": {},
   "outputs": [],
   "source": [
    "z_k_minus_1 = np.array([0,1])"
   ]
  },
  {
   "cell_type": "code",
   "execution_count": 77,
   "metadata": {},
   "outputs": [],
   "source": [
    "z_k = A@z_k_minus_1"
   ]
  },
  {
   "cell_type": "code",
   "execution_count": 78,
   "metadata": {},
   "outputs": [
    {
     "data": {
      "text/plain": [
       "array([0.5, 1.5])"
      ]
     },
     "execution_count": 78,
     "metadata": {},
     "output_type": "execute_result"
    }
   ],
   "source": [
    "z_k"
   ]
  },
  {
   "cell_type": "markdown",
   "metadata": {},
   "source": [
    "**Segunda iteración**"
   ]
  },
  {
   "cell_type": "code",
   "execution_count": 79,
   "metadata": {},
   "outputs": [],
   "source": [
    "z_k_minus_1 = z_k"
   ]
  },
  {
   "cell_type": "code",
   "execution_count": 80,
   "metadata": {},
   "outputs": [],
   "source": [
    "z_k = A@z_k_minus_1"
   ]
  },
  {
   "cell_type": "code",
   "execution_count": 81,
   "metadata": {},
   "outputs": [
    {
     "data": {
      "text/plain": [
       "array([1.5, 2.5])"
      ]
     },
     "execution_count": 81,
     "metadata": {},
     "output_type": "execute_result"
    }
   ],
   "source": [
    "z_k"
   ]
  },
  {
   "cell_type": "markdown",
   "metadata": {},
   "source": [
    "**Tercera iteración**"
   ]
  },
  {
   "cell_type": "code",
   "execution_count": 82,
   "metadata": {},
   "outputs": [],
   "source": [
    "z_k_minus_1 = z_k"
   ]
  },
  {
   "cell_type": "code",
   "execution_count": 83,
   "metadata": {},
   "outputs": [],
   "source": [
    "z_k = A@z_k_minus_1"
   ]
  },
  {
   "cell_type": "code",
   "execution_count": 84,
   "metadata": {},
   "outputs": [
    {
     "data": {
      "text/plain": [
       "array([3.5, 4.5])"
      ]
     },
     "execution_count": 84,
     "metadata": {},
     "output_type": "execute_result"
    }
   ],
   "source": [
    "z_k"
   ]
  },
  {
   "cell_type": "markdown",
   "metadata": {},
   "source": [
    "**...**"
   ]
  },
  {
   "cell_type": "markdown",
   "metadata": {},
   "source": [
    "**Novena iteración**"
   ]
  },
  {
   "cell_type": "code",
   "execution_count": 85,
   "metadata": {},
   "outputs": [],
   "source": [
    "z_k = np.array([127.5, 128.5])"
   ]
  },
  {
   "cell_type": "markdown",
   "metadata": {},
   "source": [
    "Y es más cercano al eigenvector $\\left [\\begin{array}{c} 1\\\\ 1 \\end{array} \\right ]$"
   ]
  },
  {
   "cell_type": "markdown",
   "metadata": {},
   "source": [
    "Lo anterior funciona pues si $q_1, \\dots, q_n$ son eigenvectores de $A$ y $z^{(0)} = \\displaystyle \\sum_{i=1}^n \\alpha_i q_i$ (combinación lineal) entonces:\n",
    "\n",
    "$$\n",
    "\\begin{eqnarray}\n",
    "z^{(k)} &=& A z^{(k-1)} = A^2 z^{(k-2)} = \\cdots = A^k z^{(0)} \\nonumber \\\\\n",
    "&=& A^k \\displaystyle \\sum_{i=1}^n \\alpha_i q_i = \\displaystyle \\sum_{i=1}^n \\alpha_i A^k q_i = \\displaystyle \\sum_{i=1}^n \\alpha_i \\lambda_i ^k q_i \\nonumber \\\\\n",
    "&=& \\lambda_1^k \\left (\\alpha_1 q_1 + \\displaystyle \\sum_{i=2}^n \\left ( \\frac{\\lambda_i}{\\lambda_1} \\right ) ^k \\alpha_i q_i \\right ) \\nonumber\n",
    "\\end{eqnarray}\n",
    "$$"
   ]
  },
  {
   "cell_type": "markdown",
   "metadata": {},
   "source": [
    "Y como $\\left | \\frac{\\lambda_i}{\\lambda_1} \\right | < 1$ para $i > 1$ entonces al ir avanzando en las iteraciones lo anterior converge a un múltiplo de $q_1$."
   ]
  },
  {
   "cell_type": "markdown",
   "metadata": {},
   "source": [
    "```{admonition} Comentario\n",
    "\n",
    "Se añade normalización del eigenvector en cada iteración para evitar problemas de redondeo como *overflow* y *underflow*.\n",
    "\n",
    "```"
   ]
  },
  {
   "cell_type": "markdown",
   "metadata": {},
   "source": [
    "### Algoritmo: método de la potencia"
   ]
  },
  {
   "cell_type": "markdown",
   "metadata": {},
   "source": [
    "> **Dados** $A \\in \\mathbb{R}^{n \\times n}$ simétrica, $q^{(0)} \\in \\mathbb{R}^n$ de norma Euclidiana unitaria y $tol > 0$.\n",
    ">\n",
    "> **Repetir** el siguiente bloque para $k=1,2,\\dots$\n",
    ">> 1. $z^{(k)} = Aq^{(k-1)}$.\n",
    ">>\n",
    ">> 2. $q^{(k)} = \\frac{z^{(k)}}{||z^{(k)}||_2}$.\n",
    ">>\n",
    ">> 3. $\\lambda ^{(k)} = q^{(k)T} Aq^{(k)}$.\n",
    ">\n",
    "> **hasta** convergencia: satisfacer criterio de paro en el que se utiliza $tol$.\n",
    "\n"
   ]
  },
  {
   "cell_type": "markdown",
   "metadata": {},
   "source": [
    "```{admonition} Comentarios\n",
    "\n",
    "El método anterior converge de forma lineal al eigenvalor de máximo módulo $\\lambda_1$ y a un eigenvector asociado a tal eigenvalor, $q_1$, si se satisfacen las siguientes condiciones:\n",
    "\n",
    "* $\\lambda_1$ cumple:\n",
    "\n",
    "$$\n",
    "|\\lambda_1| > |\\lambda_2| \\geq \\cdots \\geq |\\lambda_n|\n",
    "$$\n",
    "\n",
    "esto es, $\\lambda_1$ es el único eigenvalor de máximo módulo.\n",
    "\n",
    "* El coseno del ángulo entre $q^{(0)}$ y $q_1$ es diferente de cero (no ortogonales), ver {ref}`normas vectoriales y matriciales <NVM>`. \n",
    "\n",
    "```"
   ]
  },
  {
   "cell_type": "markdown",
   "metadata": {},
   "source": [
    "### Ejemplo "
   ]
  },
  {
   "cell_type": "code",
   "execution_count": 86,
   "metadata": {},
   "outputs": [],
   "source": [
    "A = np.array([[1.5, 0.5],\n",
    "              [0.5, 1.5]])"
   ]
  },
  {
   "cell_type": "code",
   "execution_count": 87,
   "metadata": {},
   "outputs": [
    {
     "name": "stdout",
     "output_type": "stream",
     "text": [
      "eigenvalor:\n",
      "[2. 1.]\n",
      "eigenvectores:\n",
      "[[ 0.707 -0.707]\n",
      " [ 0.707  0.707]]\n"
     ]
    }
   ],
   "source": [
    "eigval, eigvec = np.linalg.eig(A)\n",
    "print(\"eigenvalor:\")\n",
    "print(eigval)\n",
    "print(\"eigenvectores:\")\n",
    "print(eigvec)"
   ]
  },
  {
   "cell_type": "code",
   "execution_count": 90,
   "metadata": {},
   "outputs": [
    {
     "data": {
      "image/png": "[encoded data removed]",
      "text/plain": [
       "<Figure size 432x288 with 1 Axes>"
      ]
     },
     "metadata": {
      "needs_background": "light"
     },
     "output_type": "display_data"
    }
   ],
   "source": [
    "n = 2\n",
    "q_k = np.array([0,1])\n",
    "max_iter = 7\n",
    "q_k_iter = np.zeros((n, max_iter))\n",
    "lambda_k_iter = np.zeros(max_iter)\n",
    "for k in range(max_iter):\n",
    "    z_k = A@q_k\n",
    "    q_k = z_k/np.linalg.norm(z_k)\n",
    "    string = \"$q^{(%s)}$\"%k\n",
    "    plt.annotate(string,(q_k[0],q_k[1]),fontsize=10)\n",
    "    q_k_plot = np.row_stack((np.zeros(n), q_k))\n",
    "    q_k_iter[:,k] = q_k\n",
    "    lambda_k = q_k.T@A@q_k\n",
    "    lambda_k_iter[k] = lambda_k\n",
    "    plt.plot(q_k_plot[:,0], q_k_plot[:,1])\n",
    "plt.axhline(color='k')\n",
    "plt.axvline(color='k')\n",
    "plt.title(\"Método de la potencia normalizando: cada vector aproximación tiene norma Euclidiana 1\")\n",
    "plt.show()"
   ]
  },
  {
   "cell_type": "code",
   "execution_count": 89,
   "metadata": {},
   "outputs": [
    {
     "data": {
      "text/plain": [
       "array([1.8  , 1.941, 1.985, 1.996, 1.999, 2.   , 2.   ])"
      ]
     },
     "execution_count": 89,
     "metadata": {},
     "output_type": "execute_result"
    }
   ],
   "source": [
    "print(lambda_k_iter)"
   ]
  },
  {
   "cell_type": "markdown",
   "metadata": {},
   "source": [
    "```{admonition} Comentarios\n",
    "\n",
    "* El método de la potencia aproxima al eigenvector asociado al eigenvalor con módulo máximo. Esto en contraste con el algoritmo QR y el método de rotaciones de Jacobi que aproximan todos los eigenvalores y eigenvectores. En la práctica es posible que sólo se requieran unos cuantos eigenvalores-eigenvectores.\n",
    "\n",
    "* Típicamente funciona el método de la potencia pero puede fallar por razones como:\n",
    "\n",
    "    * No hay convergencia a un eigenvector con entradas en $\\mathbb{C}$ a partir de una matriz con entradas en $\\mathbb{R}$.\n",
    "    * Puede haber más de un eigenvalor que tenga el mismo módulo y la convergencia podría darse para una combinación lineal de los eigenvectores asociados a tales eigenvalores.\n",
    "\n",
    "```"
   ]
  },
  {
   "cell_type": "markdown",
   "metadata": {},
   "source": [
    "## Iteración inversa o método de la potencia inversa"
   ]
  },
  {
   "cell_type": "markdown",
   "metadata": {},
   "source": [
    "Si se utiliza en el método de la potencia la matriz $(A-\\mu I)^{-1}$ en lugar de la matriz $A$, con $\\mu \\in \\mathbb{R}$ aproximación a un eigenvalor $\\lambda$ de $A$, entonces se obtiene el método de la iteración inversa o de la potencia inversa:"
   ]
  },
  {
   "cell_type": "markdown",
   "metadata": {},
   "source": [
    "### Algoritmo: iteración inversa o método de la potencia inversa"
   ]
  },
  {
   "cell_type": "markdown",
   "metadata": {},
   "source": [
    "> **Dados** $A \\in \\mathbb{R}^{n \\times n}$ simétrica, $q^{(0)} \\in \\mathbb{R}^n$ de norma Euclidiana unitaria, $\\mu \\in \\mathbb{R}$ aproximación a un eigenvalor $\\lambda$ de $A$ y $tol > 0$.\n",
    ">\n",
    "> 1. Calcular la factorización $LU$ de $A-\\mu I$.\n",
    ">\n",
    "> **Repetir** el siguiente bloque para $k=1,2,\\dots$\n",
    ">>\n",
    ">> 2. Resolver el sistema de ecuaciones lineales $(A-\\mu I)z^{(k)} = q^{(k-1)}$ para $z^{(k)}$ utilizando los factores $LU$ del paso 1.\n",
    ">>\n",
    ">> 3. $q^{(k)} = \\frac{z^{(k)}}{||z^{(k)}||_2}$.\n",
    ">>\n",
    ">\n",
    "> **hasta** convergencia: satisfacer criterio de paro en el que se utiliza $tol$.\n",
    "\n"
   ]
  },
  {
   "cell_type": "markdown",
   "metadata": {},
   "source": [
    "## Iteración por el cociente de Rayleigh"
   ]
  },
  {
   "cell_type": "markdown",
   "metadata": {},
   "source": [
    "El cociente de Rayleigh de $x$ se define como:\n",
    "\n",
    "$$\n",
    "r(x) = \\frac{x^TAx}{x^Tx}\n",
    "$$"
   ]
  },
  {
   "cell_type": "markdown",
   "metadata": {},
   "source": [
    "```{admonition} Ejercicio\n",
    ":class: tip\n",
    "\n",
    "Verificar que el cociente de Rayleigh de $x$ minimiza $f(\\lambda) = ||(A - \\lambda I)x||_2$.\n",
    "\n",
    "```"
   ]
  },
  {
   "cell_type": "markdown",
   "metadata": {},
   "source": [
    "### Algoritmo: iteración por el cociente de Rayleigh"
   ]
  },
  {
   "cell_type": "markdown",
   "metadata": {},
   "source": [
    "> **Dados** $A \\in \\mathbb{R}^{n \\times n}$ simétrica, $x^{(0)} \\in \\mathbb{R}^n - \\{0\\}$ y $tol > 0$.\n",
    ">\n",
    "> **Repetir** el siguiente bloque para $k=0,1,2,\\dots$\n",
    ">> 1. Calcular $\\mu^{(k)} = r(x^{(k)})$.\n",
    ">>\n",
    ">> 2. Resolver el sistema de ecuaciones lineales $(A-\\mu_kI)z^{(k+1)} = x^{(k)}$ para $z^{(k+1)}$.\n",
    ">>\n",
    ">> 3. $x^{(k+1)} = \\frac{z^{(k+1)}}{||z^{(k+1)}||_2}$\n",
    ">\n",
    "> **hasta** convergencia: satisfacer criterio de paro en el que se utiliza $tol$.\n",
    "\n"
   ]
  },
  {
   "cell_type": "markdown",
   "metadata": {},
   "source": [
    "```{admonition} Comentario\n",
    "\n",
    "El algoritmo anterior tiene una tasa de convergencia cúbica si $x^{(0)}$ aproxima a un eigenvector de $A$.\n",
    "\n",
    "```"
   ]
  },
  {
   "cell_type": "code",
   "execution_count": null,
   "metadata": {},
   "outputs": [],
   "source": []
  },
  {
   "cell_type": "markdown",
   "metadata": {},
   "source": [
    "## Aplicaciones y usos"
   ]
  },
  {
   "cell_type": "code",
   "execution_count": null,
   "metadata": {},
   "outputs": [],
   "source": []
  },
  {
   "cell_type": "code",
   "execution_count": null,
   "metadata": {},
   "outputs": [],
   "source": []
  },
  {
   "cell_type": "markdown",
   "metadata": {},
   "source": [
    "Ver comentario sobre Schur en https://numpy.org/doc/stable/reference/generated/numpy.linalg.eig.html"
   ]
  },
  {
   "cell_type": "markdown",
   "metadata": {},
   "source": [
    "https://docs.scipy.org/doc/scipy/reference/generated/scipy.linalg.schur.html#scipy.linalg.schur"
   ]
  },
  {
   "cell_type": "code",
   "execution_count": 2,
   "metadata": {},
   "outputs": [],
   "source": [
    "from scipy.linalg import schur, eigvals\n",
    "import numpy as np"
   ]
  },
  {
   "cell_type": "code",
   "execution_count": 3,
   "metadata": {},
   "outputs": [],
   "source": [
    "A = np.array([[0, 2, 2], [0, 1, 2], [1, 0, 1]])"
   ]
  },
  {
   "cell_type": "code",
   "execution_count": 4,
   "metadata": {},
   "outputs": [],
   "source": [
    "T, Z = schur(A)"
   ]
  },
  {
   "cell_type": "code",
   "execution_count": 5,
   "metadata": {},
   "outputs": [
    {
     "data": {
      "text/plain": [
       "array([[ 2.65896708,  1.42440458, -1.92933439],\n",
       "       [ 0.        , -0.32948354, -0.49063704],\n",
       "       [ 0.        ,  1.31178921, -0.32948354]])"
      ]
     },
     "execution_count": 5,
     "metadata": {},
     "output_type": "execute_result"
    }
   ],
   "source": [
    "T"
   ]
  },
  {
   "cell_type": "code",
   "execution_count": 6,
   "metadata": {},
   "outputs": [],
   "source": [
    "evalue, evector = np.linalg.eig(T)"
   ]
  },
  {
   "cell_type": "code",
   "execution_count": 7,
   "metadata": {},
   "outputs": [
    {
     "name": "stdout",
     "output_type": "stream",
     "text": [
      "[[1.   +0.j    0.497-0.081j 0.497+0.081j]\n",
      " [0.   +0.j    0.   +0.451j 0.   -0.451j]\n",
      " [0.   +0.j    0.737+0.j    0.737-0.j   ]]\n"
     ]
    }
   ],
   "source": [
    "with np.printoptions(precision=3, suppress=True):\n",
    "    print(evector)"
   ]
  },
  {
   "cell_type": "code",
   "execution_count": 8,
   "metadata": {},
   "outputs": [
    {
     "name": "stdout",
     "output_type": "stream",
     "text": [
      "[ 2.65896708+0.j         -0.32948354+0.80225456j -0.32948354-0.80225456j]\n"
     ]
    }
   ],
   "source": [
    "print(evalue)"
   ]
  },
  {
   "cell_type": "code",
   "execution_count": 9,
   "metadata": {},
   "outputs": [],
   "source": [
    "A2 = T[1:3, 1:3]"
   ]
  },
  {
   "cell_type": "code",
   "execution_count": 10,
   "metadata": {},
   "outputs": [
    {
     "data": {
      "text/plain": [
       "array([[-0.32948354, -0.49063704],\n",
       "       [ 1.31178921, -0.32948354]])"
      ]
     },
     "execution_count": 10,
     "metadata": {},
     "output_type": "execute_result"
    }
   ],
   "source": [
    "A2"
   ]
  },
  {
   "cell_type": "code",
   "execution_count": 11,
   "metadata": {},
   "outputs": [],
   "source": [
    "evalue, evector = np.linalg.eig(A2)"
   ]
  },
  {
   "cell_type": "code",
   "execution_count": 12,
   "metadata": {},
   "outputs": [
    {
     "data": {
      "text/plain": [
       "array([-0.32948354+0.80225456j, -0.32948354-0.80225456j])"
      ]
     },
     "execution_count": 12,
     "metadata": {},
     "output_type": "execute_result"
    }
   ],
   "source": [
    "evalue"
   ]
  },
  {
   "cell_type": "markdown",
   "metadata": {},
   "source": [
    "**Preguntas de comprehensión:**\n",
    "\n",
    "1. ¿Por qué en el método de rotaciones de Jacobi para matrices simétricas se puede asegurar que los eigenvalores de la matriz diagonal a la que converge son los mismos eigenvalores que la de la matriz original?\n"
   ]
  },
  {
   "cell_type": "markdown",
   "metadata": {},
   "source": [
    "**Referencias:**\n",
    "\n",
    "1. M. T. Heath, Scientific Computing. An Introductory Survey, McGraw-Hill, 2002.\n",
    "\n",
    "2.  G. H. Golub, C. F. Van Loan, Matrix Computations, John Hopkins University Press, 2013.\n",
    "\n",
    "3. L. Trefethen, D. Bau, Numerical linear algebra, SIAM, 1997.\n",
    "\n",
    "4. C. Meyer, Matrix Analysis and Applied Linear Algebra, SIAM, 2000."
   ]
  }
 ],
 "metadata": {
  "kernelspec": {
   "display_name": "Python 3",
   "language": "python",
   "name": "python3"
  },
  "language_info": {
   "codemirror_mode": {
    "name": "ipython",
    "version": 3
   },
   "file_extension": ".py",
   "mimetype": "text/x-python",
   "name": "python",
   "nbconvert_exporter": "python",
   "pygments_lexer": "ipython3",
   "version": "3.7.3"
  }
 },
 "nbformat": 4,
 "nbformat_minor": 4
}
