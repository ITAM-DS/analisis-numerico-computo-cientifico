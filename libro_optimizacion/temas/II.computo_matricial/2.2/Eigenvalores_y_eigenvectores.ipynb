{
 "cells": [
  {
   "cell_type": "markdown",
   "metadata": {},
   "source": [
    "(EIGVALEIGVEC)="
   ]
  },
  {
   "cell_type": "markdown",
   "metadata": {},
   "source": [
    "# 2.2 Eigenvalores y eigenvectores"
   ]
  },
  {
   "cell_type": "markdown",
   "metadata": {},
   "source": [
    "```{admonition} Notas para contenedor de docker:\n",
    "\n",
    "Comando de docker para ejecución de la nota de forma local:\n",
    "\n",
    "nota: cambiar `<ruta a mi directorio>` por la ruta de directorio que se desea mapear a `/datos` dentro del contenedor de docker.\n",
    "\n",
    "`docker run --rm -v <ruta a mi directorio>:/datos --name jupyterlab_optimizacion -p 8888:8888 -d palmoreck/jupyterlab_optimizacion:2.1.4`\n",
    "\n",
    "password para jupyterlab: `qwerty`\n",
    "\n",
    "Detener el contenedor de docker:\n",
    "\n",
    "`docker stop jupyterlab_optimizacion`\n",
    "\n",
    "Documentación de la imagen de docker `palmoreck/jupyterlab_optimizacion:2.1.4` en [liga](https://github.com/palmoreck/dockerfiles/tree/master/jupyterlab/optimizacion).\n",
    "\n",
    "```"
   ]
  },
  {
   "cell_type": "markdown",
   "metadata": {},
   "source": [
    "---"
   ]
  },
  {
   "cell_type": "markdown",
   "metadata": {},
   "source": [
    "Nota generada a partir de [liga](https://www.dropbox.com/s/s4ch0ww1687pl76/3.2.2.Factorizaciones_matriciales_SVD_Cholesky_QR.pdf?dl=0)."
   ]
  },
  {
   "cell_type": "markdown",
   "metadata": {},
   "source": [
    "```{admonition} Al final de esta nota el y la lectora:\n",
    ":class: tip\n",
    "\n",
    "* Aprenderá las definiciones más relevantes en el tema de eigenvalores y eigenvectores para su uso en el desarrollo de algoritmos en el análisis numérico en la resolución de problemas del álgebra lineal numérica. En específico las definiciones de: diagonalizable o *non defective* y similitud son muy importantes.\n",
    "\n",
    "* Comprenderá el significado geométrico de calcular los eigenvalores y eigenvectores de una matriz simétrica para una forma cuadrática que define a una elipse.\n",
    "\n",
    "* Aprenderá cuáles problemas en el cálculo de eigenvalores y eigenvectores de una matriz son bien y mal condicionados.\n",
    "\n",
    "```"
   ]
  },
  {
   "cell_type": "markdown",
   "metadata": {},
   "source": [
    "En esta nota **asumimos** que $A \\in \\mathbb{R}^{n \\times n}$."
   ]
  },
  {
   "cell_type": "markdown",
   "metadata": {},
   "source": [
    "## Eigenvalor (valor propio o característico)"
   ]
  },
  {
   "cell_type": "markdown",
   "metadata": {},
   "source": [
    "```{admonition} Definición\n",
    "\n",
    "El número $\\lambda$ (real o complejo) se denomina *eigenvalor* de A si existe $v \\in \\mathbb{C}^n - \\{0\\}$ tal que $Av = \\lambda v$. El vector $v$ se nombra eigenvector (vector propio o característico) de $A$ correspondiente al eigenvalor $\\lambda$.\n",
    "```"
   ]
  },
  {
   "cell_type": "markdown",
   "metadata": {},
   "source": [
    "```{admonition} Observación\n",
    ":class: tip \n",
    "\n",
    "Observa que si $Av=\\lambda v$ y $v \\in \\mathbb{C}^n-\\{0\\}$ entonces la matriz $A-\\lambda I_n$ es singular por lo que su determinante es cero.\n",
    "\n",
    "```"
   ]
  },
  {
   "cell_type": "markdown",
   "metadata": {},
   "source": [
    "```{admonition} Comentarios\n",
    "\n",
    "* Una matriz con componentes reales puede tener eigenvalores y eigenvectores con valores en $\\mathbb{C}$ o $\\mathbb{C}^n$ respectivamente.\n",
    "* El conjunto de eigenvalores se le nombra **espectro de una matriz** y se denota como:\n",
    "\n",
    "$$\\lambda(A) = \\{ \\lambda | \\det(A-\\lambda I_n) = 0\\}.$$\n",
    "\n",
    "* El polinomio \n",
    "\n",
    "$$p(z) = \\det(A-zI_n) = (-1)^nz^n + a_{n-1}z^{n-1}+ \\dots + a_1z + a_0$$\n",
    "\n",
    "se le nombra **polinomio característico asociado a $A$** y sus raíces o ceros son los eigenvalores de $A$.\n",
    "\n",
    "* La multiplicación de $A$ por un eigenvector es un reescalamiento y posible cambio de dirección del eigenvector.\n",
    "* Si consideramos que nuestros espacios vectoriales se definen sobre $\\mathbb{C}$ entonces siempre podemos asegurar que $A$ tiene un eigenvalor con eigenvector asociado. En este caso $A$ tiene $n$ eigenvalores y pueden o no repetirse.\n",
    "\n",
    "* Se puede probar que el determinante de $A$: $\\det(A) = \\displaystyle \\prod_{i=1}^n \\lambda_i$ y la traza de $A$: $tr(A) = \\displaystyle \\sum_{i=1}^n \\lambda_i$.\n",
    "```"
   ]
  },
  {
   "cell_type": "markdown",
   "metadata": {},
   "source": [
    "### Ejemplo"
   ]
  },
  {
   "cell_type": "code",
   "execution_count": 1,
   "metadata": {},
   "outputs": [],
   "source": [
    "import numpy as np"
   ]
  },
  {
   "cell_type": "code",
   "execution_count": 2,
   "metadata": {},
   "outputs": [],
   "source": [
    "np.set_printoptions(precision=3, suppress=True)"
   ]
  },
  {
   "cell_type": "code",
   "execution_count": 3,
   "metadata": {},
   "outputs": [],
   "source": [
    "A=np.array([[10,-18],[6,-11]])"
   ]
  },
  {
   "cell_type": "code",
   "execution_count": 4,
   "metadata": {},
   "outputs": [
    {
     "data": {
      "text/plain": [
       "array([[ 10, -18],\n",
       "       [  6, -11]])"
      ]
     },
     "execution_count": 4,
     "metadata": {},
     "output_type": "execute_result"
    }
   ],
   "source": [
    "print(A)"
   ]
  },
  {
   "cell_type": "markdown",
   "metadata": {},
   "source": [
    "**En *NumPy* con el módulo [numpy.linalg.eig](https://docs.scipy.org/doc/numpy/reference/generated/numpy.linalg.eig.html) podemos obtener eigenvalores y eigenvectores** "
   ]
  },
  {
   "cell_type": "code",
   "execution_count": 5,
   "metadata": {},
   "outputs": [],
   "source": [
    "evalue, evector = np.linalg.eig(A)"
   ]
  },
  {
   "cell_type": "code",
   "execution_count": 6,
   "metadata": {},
   "outputs": [
    {
     "name": "stdout",
     "output_type": "stream",
     "text": [
      "eigenvalores:\n",
      "[ 1. -2.]\n",
      "eigenvectores:\n",
      "[[0.894 0.832]\n",
      " [0.447 0.555]]\n"
     ]
    }
   ],
   "source": [
    "print('eigenvalores:')\n",
    "print(evalue)\n",
    "print('eigenvectores:')\n",
    "print(evector)"
   ]
  },
  {
   "cell_type": "markdown",
   "metadata": {},
   "source": [
    "```{margin}\n",
    "\n",
    "$Av_1 = \\lambda_1 v_1$.\n",
    "```"
   ]
  },
  {
   "cell_type": "code",
   "execution_count": 7,
   "metadata": {},
   "outputs": [
    {
     "name": "stdout",
     "output_type": "stream",
     "text": [
      "matriz * eigenvector:\n",
      "[0.894 0.447]\n",
      "eigenvalor * eigenvector:\n",
      "[0.894 0.447]\n"
     ]
    }
   ],
   "source": [
    "print('matriz * eigenvector:')\n",
    "print(A@evector[:,0])\n",
    "print('eigenvalor * eigenvector:')\n",
    "print(evalue[0]*evector[:,0])"
   ]
  },
  {
   "cell_type": "markdown",
   "metadata": {},
   "source": [
    "```{margin}\n",
    "\n",
    "$Av_2 = \\lambda_2 v_2$.\n",
    "```"
   ]
  },
  {
   "cell_type": "code",
   "execution_count": 8,
   "metadata": {},
   "outputs": [
    {
     "name": "stdout",
     "output_type": "stream",
     "text": [
      "matriz * eigenvector:\n",
      "[-1.664 -1.109]\n",
      "eigenvalor * eigenvector:\n",
      "[-1.664 -1.109]\n"
     ]
    }
   ],
   "source": [
    "print('matriz * eigenvector:')\n",
    "print(A@evector[:,1])\n",
    "print('eigenvalor * eigenvector:')\n",
    "print(evalue[1]*evector[:,1])"
   ]
  },
  {
   "cell_type": "markdown",
   "metadata": {},
   "source": [
    "### Ejemplo \n",
    "\n",
    "Si $v$ es un eigenvector entonces $cv$ es eigenvector donde: $c$ es una constante distinta de cero.\n"
   ]
  },
  {
   "cell_type": "code",
   "execution_count": 9,
   "metadata": {},
   "outputs": [
    {
     "name": "stdout",
     "output_type": "stream",
     "text": [
      "[-1.789 -0.894]\n"
     ]
    }
   ],
   "source": [
    "const = -2\n",
    "const_evector = const*evector[:,0]\n",
    "print(const_evector)"
   ]
  },
  {
   "cell_type": "markdown",
   "metadata": {},
   "source": [
    "```{margin}\n",
    "\n",
    "$cv$ es un eigenvector con eigenvalor asociado $c\\lambda$ pues $A(cv) = \\lambda(cv)$ se satisface si $Av = \\lambda v$ y $c \\neq 0$.\n",
    "\n",
    "```"
   ]
  },
  {
   "cell_type": "code",
   "execution_count": 10,
   "metadata": {},
   "outputs": [
    {
     "name": "stdout",
     "output_type": "stream",
     "text": [
      "matriz * (constante * eigenvector):\n",
      "[-1.789 -0.894]\n",
      "eigenvalor * (constante * eigenvector):\n",
      "[-1.789 -0.894]\n"
     ]
    }
   ],
   "source": [
    "print('matriz * (constante * eigenvector):')\n",
    "print(A@const_evector)\n",
    "print('eigenvalor * (constante * eigenvector):')\n",
    "print(evalue[0]*const_evector)"
   ]
  },
  {
   "cell_type": "markdown",
   "metadata": {},
   "source": [
    "### Ejemplo "
   ]
  },
  {
   "cell_type": "markdown",
   "metadata": {},
   "source": [
    "Una matriz con entradas reales puede tener eigenvalores y eigenvectores complejos:"
   ]
  },
  {
   "cell_type": "code",
   "execution_count": 11,
   "metadata": {},
   "outputs": [],
   "source": [
    "A=np.array([[3,-5],[1,-1]])"
   ]
  },
  {
   "cell_type": "code",
   "execution_count": 12,
   "metadata": {},
   "outputs": [
    {
     "name": "stdout",
     "output_type": "stream",
     "text": [
      "[[ 3 -5]\n",
      " [ 1 -1]]\n"
     ]
    }
   ],
   "source": [
    "print(A)"
   ]
  },
  {
   "cell_type": "code",
   "execution_count": 13,
   "metadata": {},
   "outputs": [],
   "source": [
    "evalue, evector = np.linalg.eig(A)"
   ]
  },
  {
   "cell_type": "markdown",
   "metadata": {},
   "source": [
    "```{margin}\n",
    "\n",
    "Para $A \\in \\mathbb{R}^{n \\times n}$ se tiene: $\\lambda \\in \\mathbb{C}$ si y sólo si $\\bar{\\lambda} \\in \\mathbb{C}$ con $\\bar{\\lambda}$ el conjugado de $\\lambda$.\n",
    "\n",
    "```"
   ]
  },
  {
   "cell_type": "code",
   "execution_count": 14,
   "metadata": {},
   "outputs": [
    {
     "name": "stdout",
     "output_type": "stream",
     "text": [
      "eigenvalores:\n",
      "[1.+1.j 1.-1.j]\n",
      "eigenvectores:\n",
      "[[0.913+0.j    0.913-0.j   ]\n",
      " [0.365-0.183j 0.365+0.183j]]\n"
     ]
    }
   ],
   "source": [
    "print('eigenvalores:')\n",
    "print(evalue)\n",
    "print('eigenvectores:')\n",
    "print(evector)"
   ]
  },
  {
   "cell_type": "markdown",
   "metadata": {},
   "source": [
    "### Ejemplo"
   ]
  },
  {
   "cell_type": "markdown",
   "metadata": {},
   "source": [
    "Los eigenvalores de una matriz diagonal son iguales a su diagonal y sus eigenvectores son los vectores canónicos $e_1, e_2, \\dots e_n$."
   ]
  },
  {
   "cell_type": "code",
   "execution_count": 15,
   "metadata": {},
   "outputs": [],
   "source": [
    "A = np.diag([2, 2, 2, 2])"
   ]
  },
  {
   "cell_type": "code",
   "execution_count": 16,
   "metadata": {},
   "outputs": [
    {
     "name": "stdout",
     "output_type": "stream",
     "text": [
      "[[2 0 0 0]\n",
      " [0 2 0 0]\n",
      " [0 0 2 0]\n",
      " [0 0 0 2]]\n"
     ]
    }
   ],
   "source": [
    "print(A)"
   ]
  },
  {
   "cell_type": "code",
   "execution_count": 17,
   "metadata": {},
   "outputs": [],
   "source": [
    "evalue, evector = np.linalg.eig(A)"
   ]
  },
  {
   "cell_type": "code",
   "execution_count": 18,
   "metadata": {},
   "outputs": [
    {
     "name": "stdout",
     "output_type": "stream",
     "text": [
      "eigenvalores:\n",
      "[2. 2. 2. 2.]\n",
      "eigenvectores:\n",
      "[[1. 0. 0. 0.]\n",
      " [0. 1. 0. 0.]\n",
      " [0. 0. 1. 0.]\n",
      " [0. 0. 0. 1.]]\n"
     ]
    }
   ],
   "source": [
    "print('eigenvalores:')\n",
    "print(evalue)\n",
    "print('eigenvectores:')\n",
    "print(evector)"
   ]
  },
  {
   "cell_type": "markdown",
   "metadata": {},
   "source": [
    "```{admonition} Definición\n",
    "\n",
    "La **multiplicidad algebraica** de un eigenvalor es su multiplicidad considerado como raíz/cero del polinomio característico $p(z)$. Si no se repite entonces tal eigenvalor se le nombra de multiplicidad **simple**.\n",
    "\n",
    "La **multiplicidad geométrica** de un eigenvalor es el número máximo de eigenvectores linealmente independientes asociados a éste.\n",
    "\n",
    "```"
   ]
  },
  {
   "cell_type": "markdown",
   "metadata": {},
   "source": [
    "```{admonition} Observación\n",
    ":class: tip\n",
    "\n",
    "En el ejemplo anterior cada eigenvalor tiene una multiplicidad simple y la multiplicidad geométrica de cada eigenvalor es $1$.\n",
    "\n",
    "```"
   ]
  },
  {
   "cell_type": "markdown",
   "metadata": {},
   "source": [
    "### Ejemplo"
   ]
  },
  {
   "cell_type": "markdown",
   "metadata": {},
   "source": [
    "Los eigenvalores de una matriz triangular son iguales a su diagonal."
   ]
  },
  {
   "cell_type": "code",
   "execution_count": 19,
   "metadata": {},
   "outputs": [],
   "source": [
    "A=np.array([[10,0, -1],\n",
    "            [6,10, 10],\n",
    "            [3, 4, 11.0]])\n",
    "A = np.triu(A)"
   ]
  },
  {
   "cell_type": "code",
   "execution_count": 20,
   "metadata": {},
   "outputs": [
    {
     "data": {
      "text/plain": [
       "array([[10.,  0., -1.],\n",
       "       [ 0., 10., 10.],\n",
       "       [ 0.,  0., 11.]])"
      ]
     },
     "execution_count": 20,
     "metadata": {},
     "output_type": "execute_result"
    }
   ],
   "source": [
    "print(A)"
   ]
  },
  {
   "cell_type": "code",
   "execution_count": 21,
   "metadata": {},
   "outputs": [],
   "source": [
    "evalue, evector = np.linalg.eig(A)"
   ]
  },
  {
   "cell_type": "markdown",
   "metadata": {},
   "source": [
    "```{margin}\n",
    "\n",
    "Observa que el eigenvalor igual a $10$ está repetido dos veces (multiplicidad algebraica igual a $2$) y se tienen dos eigenvectores linealmente independientes asociados a éste (multiplicidad geométrica igual a $2$). \n",
    "```"
   ]
  },
  {
   "cell_type": "code",
   "execution_count": 22,
   "metadata": {},
   "outputs": [
    {
     "name": "stdout",
     "output_type": "stream",
     "text": [
      "eigenvalores:\n",
      "[10. 10. 11.]\n",
      "eigenvectores:\n",
      "[[ 1.     0.    -0.099]\n",
      " [ 0.     1.     0.99 ]\n",
      " [ 0.     0.     0.099]]\n"
     ]
    }
   ],
   "source": [
    "print('eigenvalores:')\n",
    "print(evalue)\n",
    "print('eigenvectores:')\n",
    "print(evector)"
   ]
  },
  {
   "cell_type": "markdown",
   "metadata": {},
   "source": [
    "**Otro ejemplo:**"
   ]
  },
  {
   "cell_type": "code",
   "execution_count": 23,
   "metadata": {},
   "outputs": [],
   "source": [
    "A=np.array([[10,18, -1],\n",
    "            [6,10, 10],\n",
    "            [3, 4, 11.0]])\n",
    "A = np.triu(A)"
   ]
  },
  {
   "cell_type": "code",
   "execution_count": 24,
   "metadata": {},
   "outputs": [
    {
     "data": {
      "text/plain": [
       "array([[10., 18., -1.],\n",
       "       [ 0., 10., 10.],\n",
       "       [ 0.,  0., 11.]])"
      ]
     },
     "execution_count": 24,
     "metadata": {},
     "output_type": "execute_result"
    }
   ],
   "source": [
    "print(A)"
   ]
  },
  {
   "cell_type": "code",
   "execution_count": 25,
   "metadata": {},
   "outputs": [],
   "source": [
    "evalue, evector = np.linalg.eig(A)"
   ]
  },
  {
   "cell_type": "markdown",
   "metadata": {},
   "source": [
    "```{margin}\n",
    "\n",
    "Observa que en este ejemplo el eigenvalor $10$ está repetido dos veces (multiplicidad algebraica es igual a $2$) y sus eigenvectores asociados son linealmente dependientes (multiplicidad geométrica es igual a $1$).\n",
    "```"
   ]
  },
  {
   "cell_type": "code",
   "execution_count": 26,
   "metadata": {},
   "outputs": [
    {
     "name": "stdout",
     "output_type": "stream",
     "text": [
      "eigenvalores:\n",
      "[10. 10. 11.]\n",
      "eigenvectores:\n",
      "[[ 1.    -1.     0.998]\n",
      " [ 0.     0.     0.056]\n",
      " [ 0.     0.     0.006]]\n"
     ]
    }
   ],
   "source": [
    "print('eigenvalores:')\n",
    "print(evalue)\n",
    "print('eigenvectores:')\n",
    "print(evector)"
   ]
  },
  {
   "cell_type": "markdown",
   "metadata": {},
   "source": [
    "### Ejemplo"
   ]
  },
  {
   "cell_type": "markdown",
   "metadata": {},
   "source": [
    "Un eigenvalor puede estar repetido y tener un sólo eigenvector linealmente independiente: "
   ]
  },
  {
   "cell_type": "code",
   "execution_count": 27,
   "metadata": {},
   "outputs": [],
   "source": [
    "A = np.array([[2, 1, 0],\n",
    "              [0, 2, 1],\n",
    "              [0, 0, 2]])"
   ]
  },
  {
   "cell_type": "code",
   "execution_count": 28,
   "metadata": {},
   "outputs": [],
   "source": [
    "evalue, evector = np.linalg.eig(A)"
   ]
  },
  {
   "cell_type": "markdown",
   "metadata": {},
   "source": [
    "```{margin}\n",
    "\n",
    "Observa que en este ejemplo el eigenvalor $2$ está repetido tres veces (multiplicidad algebraica es igual a $3$) y sus eigenvectores asociados son linealmente dependientes (multiplicidad geométrica es igual a $1$).\n",
    "```"
   ]
  },
  {
   "cell_type": "code",
   "execution_count": 29,
   "metadata": {},
   "outputs": [
    {
     "name": "stdout",
     "output_type": "stream",
     "text": [
      "eigenvalores:\n",
      "[2. 2. 2.]\n",
      "eigenvectores:\n",
      "[[ 1. -1.  1.]\n",
      " [ 0.  0. -0.]\n",
      " [ 0.  0.  0.]]\n"
     ]
    }
   ],
   "source": [
    "print('eigenvalores:')\n",
    "print(evalue)\n",
    "print('eigenvectores:')\n",
    "print(evector)"
   ]
  },
  {
   "cell_type": "markdown",
   "metadata": {},
   "source": [
    "```{admonition} Definición\n",
    "\n",
    "Si $(\\lambda, v)$ es una pareja de eigenvalor-eigenvector de $A$ tales que $Av = \\lambda v$ entonces $v$ se le nombra eigenvector derecho. Si $(\\lambda, v)$ es una pareja de eigenvalor-eigenvector de $A^T$ tales que $A^Tv = \\lambda v$ (que es equivalente a $v^TA=\\lambda v^T$) entonces $v$ se le nombra eigenvector izquierdo.\n",
    "```"
   ]
  },
  {
   "cell_type": "markdown",
   "metadata": {},
   "source": [
    "```{admonition} Observaciones\n",
    ":class: tip\n",
    "\n",
    "* En todos los ejemplos anteriores se calcularon eigenvectores derechos.\n",
    "\n",
    "* Los eigenvectores izquierdos y derechos para una matriz simétrica son iguales.\n",
    "\n",
    "```"
   ]
  },
  {
   "cell_type": "markdown",
   "metadata": {},
   "source": [
    "(DIAGONALIZABLE)="
   ]
  },
  {
   "cell_type": "markdown",
   "metadata": {},
   "source": [
    "## $A$ diagonalizable"
   ]
  },
  {
   "cell_type": "markdown",
   "metadata": {},
   "source": [
    "```{admonition} Definición\n",
    "\n",
    "Si $A$ tiene $n$ eigenvectores linealmente independientes entonces $A$ se nombra diagonalizable o *non defective*. En este caso si $x_1, x_2, \\dots, x_n$ son eigenvectores de $A$ con $Ax_i = \\lambda_i x_i$ para $i=1,\\dots,n$ entonces la igualdad anterior se escribe en ecuación matricial como:\n",
    "\n",
    "$$AX = X \\Lambda$$\n",
    "\n",
    "o bien:\n",
    "\n",
    "$$A = X \\Lambda X^{-1}$$\n",
    "\n",
    "donde: $X$ tiene por columnas los eigenvectores de $A$ y $\\Lambda$ tiene en su diagonal los eigenvalores de $A$.\n",
    "\n",
    "A la descomposición anterior $A = X \\Lambda X^{-1}$ para $A$ diagonalizable o *non defective* se le nombra ***eigen decomposition***.\n",
    "```"
   ]
  },
  {
   "cell_type": "markdown",
   "metadata": {},
   "source": [
    "```{admonition} Observación\n",
    ":class: tip\n",
    "\n",
    "* Si $A = X \\Lambda X^{-1}$ entonces $X^{-1}A = \\Lambda X^{-1}$ y los renglones de $X^{-1}$ (o equivalentemente las columnas de $X^{-T}$) son eigenvectores izquierdos.\n",
    "\n",
    "* Si $A = X \\Lambda X^{-1}$ y $b = Ax = (X \\Lambda X^{-1}) x$ entonces:\n",
    "\n",
    "$$\\tilde{b} = X^{-1}b = X^{-1}  (Ax) = X^{-1} (X \\Lambda X^{-1}) x = \\Lambda X^{-1}x = \\Lambda \\tilde{x}.$$\n",
    "\n",
    "Lo anterior indica que el producto matricial $Ax$ para $A$ diagonalizable es equivalente a multiplicar una matriz diagonal por un vector denotado como $\\tilde{x}$ que contiene los coeficientes de la combinación lineal de las columnas de $X$ para el vector $x$ . El resultado de tal multiplicación es un vector denotado como $\\tilde{b}$ que también contiene los coeficientes de la combinación lineal de las columnas de $X$ para el vector $b$. En resúmen, si $A$ es diagonalizable o *non defective* la multiplicación $Ax$ es equivalente a la multiplicación por una matriz diagonal $\\Lambda \\tilde{x}$ (salvo un cambio de bases, ver [Change of basis](https://en.wikipedia.org/wiki/Change_of_basis)).\n",
    "\n",
    "* Si una matriz $A$ tiene eigenvalores distintos entonces es diagonalizable y más general: si $A$ tiene una multiplicidad geométrica igual a su multiplicidad algebraica de cada eigenvalor entonces es diagonalizable. \n",
    "\n",
    "```"
   ]
  },
  {
   "cell_type": "markdown",
   "metadata": {},
   "source": [
    "### Ejemplo"
   ]
  },
  {
   "cell_type": "markdown",
   "metadata": {},
   "source": [
    "La matriz:\n",
    "\n",
    "$$A = \\left[\n",
    "\\begin{array}{ccc}\n",
    "1 & -4 & -4\\\\\n",
    "8 & -11 & -8\\\\\n",
    "-8 & 8 & 5\n",
    "\\end{array}\n",
    "\\right]\n",
    "$$\n",
    "\n",
    "es diagonalizable."
   ]
  },
  {
   "cell_type": "code",
   "execution_count": 30,
   "metadata": {},
   "outputs": [],
   "source": [
    "A = np.array([[1, -4, -4],\n",
    "              [8, -11, -8],\n",
    "              [-8, 8, 5.0]])"
   ]
  },
  {
   "cell_type": "code",
   "execution_count": 31,
   "metadata": {},
   "outputs": [
    {
     "data": {
      "text/plain": [
       "array([[  1.,  -4.,  -4.],\n",
       "       [  8., -11.,  -8.],\n",
       "       [ -8.,   8.,   5.]])"
      ]
     },
     "execution_count": 31,
     "metadata": {},
     "output_type": "execute_result"
    }
   ],
   "source": [
    "print(A)"
   ]
  },
  {
   "cell_type": "code",
   "execution_count": 32,
   "metadata": {},
   "outputs": [],
   "source": [
    "evalue, evector = np.linalg.eig(A)"
   ]
  },
  {
   "cell_type": "code",
   "execution_count": 33,
   "metadata": {},
   "outputs": [
    {
     "name": "stdout",
     "output_type": "stream",
     "text": [
      "eigenvalores:\n",
      "[ 1. -3. -3.]\n"
     ]
    }
   ],
   "source": [
    "print('eigenvalores:')\n",
    "print(evalue)"
   ]
  },
  {
   "cell_type": "markdown",
   "metadata": {},
   "source": [
    "```{margin}\n",
    "\n",
    "Se verifica que los eigenvectores de este ejemplo es un conjunto linealmente independiente por lo que $A=X\\Lambda X^{-1}$.\n",
    "\n",
    "```"
   ]
  },
  {
   "cell_type": "code",
   "execution_count": 34,
   "metadata": {},
   "outputs": [
    {
     "name": "stdout",
     "output_type": "stream",
     "text": [
      "eigenvectores:\n",
      "[[ 0.333 -0.717 -0.241]\n",
      " [ 0.667 -0.02  -0.796]\n",
      " [-0.667 -0.697  0.555]]\n"
     ]
    }
   ],
   "source": [
    "print('eigenvectores:')\n",
    "print(evector)"
   ]
  },
  {
   "cell_type": "code",
   "execution_count": 35,
   "metadata": {},
   "outputs": [],
   "source": [
    "X = evector\n",
    "Lambda = np.diag(evalue)"
   ]
  },
  {
   "cell_type": "markdown",
   "metadata": {},
   "source": [
    "```{margin}\n",
    "\n",
    "Observa que si $Z$ es desconocida y $X^T Z^T = \\Lambda$ entonces $Z^T = X^{-T} \\Lambda$ y por tanto $XZ =X\\Lambda X^{-1}$.\n",
    "```"
   ]
  },
  {
   "cell_type": "code",
   "execution_count": 36,
   "metadata": {},
   "outputs": [
    {
     "data": {
      "text/plain": [
       "array([[  1.,  -4.,  -4.],\n",
       "       [  8., -11.,  -8.],\n",
       "       [ -8.,   8.,   5.]])"
      ]
     },
     "execution_count": 36,
     "metadata": {},
     "output_type": "execute_result"
    }
   ],
   "source": [
    "X@np.linalg.solve(X.T, Lambda).T"
   ]
  },
  {
   "cell_type": "code",
   "execution_count": 37,
   "metadata": {},
   "outputs": [
    {
     "data": {
      "text/plain": [
       "array([[  1.,  -4.,  -4.],\n",
       "       [  8., -11.,  -8.],\n",
       "       [ -8.,   8.,   5.]])"
      ]
     },
     "execution_count": 37,
     "metadata": {},
     "output_type": "execute_result"
    }
   ],
   "source": [
    "print(A)"
   ]
  },
  {
   "cell_type": "markdown",
   "metadata": {},
   "source": [
    "$A$ es diagonalizable pues: $X^{-1} A X = \\Lambda$"
   ]
  },
  {
   "cell_type": "markdown",
   "metadata": {},
   "source": [
    "```{margin}\n",
    "\n",
    "Observa que si $Z$ es desconocida y $XZ = A$ entonces $Z = X^{-1}A$ y por tanto $ZX = X^{-1} A X$.\n",
    "```"
   ]
  },
  {
   "cell_type": "code",
   "execution_count": 38,
   "metadata": {},
   "outputs": [
    {
     "name": "stdout",
     "output_type": "stream",
     "text": [
      "[[ 1.  0. -0.]\n",
      " [-0. -3. -0.]\n",
      " [ 0. -0. -3.]]\n"
     ]
    }
   ],
   "source": [
    "print(np.linalg.solve(X, A)@X)"
   ]
  },
  {
   "cell_type": "code",
   "execution_count": 39,
   "metadata": {},
   "outputs": [
    {
     "data": {
      "text/plain": [
       "array([[ 1.,  0.,  0.],\n",
       "       [ 0., -3.,  0.],\n",
       "       [ 0.,  0., -3.]])"
      ]
     },
     "execution_count": 39,
     "metadata": {},
     "output_type": "execute_result"
    }
   ],
   "source": [
    "print(Lambda)"
   ]
  },
  {
   "cell_type": "markdown",
   "metadata": {},
   "source": [
    "```{admonition} Observación\n",
    ":class: tip\n",
    "\n",
    "Observa que **no necesariamente** $X$ en la *eigen decomposition* es una matriz ortogonal.\n",
    "\n",
    "```"
   ]
  },
  {
   "cell_type": "markdown",
   "metadata": {},
   "source": [
    "```{margin}\n",
    "\n",
    "Aquí se toma $X[1:3,1]$ como la primera columna de $X$ y se satisface $X[1:3,1]^TX[1:3,1] = 1$ en este ejemplo pero en general esto no se cumple.\n",
    "\n",
    "```"
   ]
  },
  {
   "cell_type": "code",
   "execution_count": 40,
   "metadata": {},
   "outputs": [
    {
     "data": {
      "text/plain": [
       "1.0"
      ]
     },
     "execution_count": 40,
     "metadata": {},
     "output_type": "execute_result"
    }
   ],
   "source": [
    "X[:,0].dot(X[:,0])"
   ]
  },
  {
   "cell_type": "markdown",
   "metadata": {},
   "source": [
    "```{margin}\n",
    "\n",
    "$X[1:3,1]^TX[1:3,2] \\neq 0$ por lo que la primera y segunda columna de $X$ no son ortogonales.\n",
    "\n",
    "```"
   ]
  },
  {
   "cell_type": "code",
   "execution_count": 41,
   "metadata": {},
   "outputs": [
    {
     "data": {
      "text/plain": [
       "0.2117366284008178"
      ]
     },
     "execution_count": 41,
     "metadata": {},
     "output_type": "execute_result"
    }
   ],
   "source": [
    "X[:,0].dot(X[:,1])"
   ]
  },
  {
   "cell_type": "markdown",
   "metadata": {},
   "source": [
    "**Eigenvectores derechos:**"
   ]
  },
  {
   "cell_type": "markdown",
   "metadata": {},
   "source": [
    "```{margin}\n",
    "\n",
    "`x_1` es la primer columna de $X$: $X[1:3, 1]$ y `lambda_1` el eigenvalor asociado.\n",
    "```"
   ]
  },
  {
   "cell_type": "code",
   "execution_count": 42,
   "metadata": {},
   "outputs": [],
   "source": [
    "x_1 = X[:,0]\n",
    "lambda_1 = Lambda[0,0]"
   ]
  },
  {
   "cell_type": "code",
   "execution_count": 43,
   "metadata": {},
   "outputs": [
    {
     "data": {
      "text/plain": [
       "array([ 0.333,  0.667, -0.667])"
      ]
     },
     "execution_count": 43,
     "metadata": {},
     "output_type": "execute_result"
    }
   ],
   "source": [
    "print(A@x_1)"
   ]
  },
  {
   "cell_type": "markdown",
   "metadata": {},
   "source": [
    "```{margin}\n",
    "\n",
    "$Ax_1 = \\lambda_1 x_1$.\n",
    "```"
   ]
  },
  {
   "cell_type": "code",
   "execution_count": 44,
   "metadata": {},
   "outputs": [
    {
     "data": {
      "text/plain": [
       "array([ 0.333,  0.667, -0.667])"
      ]
     },
     "execution_count": 44,
     "metadata": {},
     "output_type": "execute_result"
    }
   ],
   "source": [
    "print(lambda_1*x_1)"
   ]
  },
  {
   "cell_type": "markdown",
   "metadata": {},
   "source": [
    "```{margin}\n",
    "\n",
    "`x_2` es la segunda columna de $X$: $X[1:3, 2]$ y `lambda_2` el eigenvalor asociado.\n",
    "```"
   ]
  },
  {
   "cell_type": "code",
   "execution_count": 45,
   "metadata": {},
   "outputs": [],
   "source": [
    "x_2 = X[:,1]\n",
    "lambda_2 = Lambda[1,1]"
   ]
  },
  {
   "cell_type": "code",
   "execution_count": 46,
   "metadata": {},
   "outputs": [
    {
     "data": {
      "text/plain": [
       "array([2.151, 0.061, 2.09 ])"
      ]
     },
     "execution_count": 46,
     "metadata": {},
     "output_type": "execute_result"
    }
   ],
   "source": [
    "print(A@x_2)"
   ]
  },
  {
   "cell_type": "markdown",
   "metadata": {},
   "source": [
    "```{margin}\n",
    "\n",
    "$Ax_2 = \\lambda_2 x_2$.\n",
    "```"
   ]
  },
  {
   "cell_type": "code",
   "execution_count": 47,
   "metadata": {},
   "outputs": [
    {
     "data": {
      "text/plain": [
       "array([2.151, 0.061, 2.09 ])"
      ]
     },
     "execution_count": 47,
     "metadata": {},
     "output_type": "execute_result"
    }
   ],
   "source": [
    "print(lambda_2*x_2)"
   ]
  },
  {
   "cell_type": "markdown",
   "metadata": {},
   "source": [
    "**Eigenvectores izquierdos:**"
   ]
  },
  {
   "cell_type": "markdown",
   "metadata": {},
   "source": [
    "```{admonition} Observación\n",
    ":class: tip\n",
    "\n",
    "Para los eigenvectores izquierdos se deben tomar los renglones de $X^{-1}$ (o equivalentemente las columnas de $X^{-T}$) sin embargo no se utiliza el método [inv](https://numpy.org/doc/stable/reference/generated/numpy.linalg.inv.html) de *NumPy* pues es más costoso computacionalmente y amplifica los errores por redondeo. En su lugar se utiliza el método [solve](https://numpy.org/doc/stable/reference/generated/numpy.linalg.solve.html) y se resuelve el sistema: $X^{-T} z  = e_i$ para $e_i$ $i$-ésimo vector canónico.\n",
    "\n",
    "```"
   ]
  },
  {
   "cell_type": "code",
   "execution_count": 48,
   "metadata": {},
   "outputs": [],
   "source": [
    "e1 = np.zeros((X.shape[0],1))"
   ]
  },
  {
   "cell_type": "code",
   "execution_count": 49,
   "metadata": {},
   "outputs": [],
   "source": [
    "e1[0] = 1"
   ]
  },
  {
   "cell_type": "code",
   "execution_count": 50,
   "metadata": {},
   "outputs": [
    {
     "data": {
      "text/plain": [
       "array([[1.],\n",
       "       [0.],\n",
       "       [0.]])"
      ]
     },
     "execution_count": 50,
     "metadata": {},
     "output_type": "execute_result"
    }
   ],
   "source": [
    "print(e1)"
   ]
  },
  {
   "cell_type": "markdown",
   "metadata": {},
   "source": [
    "```{margin}\n",
    "\n",
    "`x_inv_1` es el primer renglón de $X^{-1}$: $X^{-1}[1, 1:3]$.\n",
    "```"
   ]
  },
  {
   "cell_type": "code",
   "execution_count": 51,
   "metadata": {},
   "outputs": [],
   "source": [
    "x_inv_1 = np.linalg.solve(X.T, e1)"
   ]
  },
  {
   "cell_type": "code",
   "execution_count": 52,
   "metadata": {},
   "outputs": [
    {
     "data": {
      "text/plain": [
       "array([[ 3.],\n",
       "       [-3.],\n",
       "       [-3.]])"
      ]
     },
     "execution_count": 52,
     "metadata": {},
     "output_type": "execute_result"
    }
   ],
   "source": [
    "print(x_inv_1)"
   ]
  },
  {
   "cell_type": "code",
   "execution_count": 53,
   "metadata": {},
   "outputs": [
    {
     "data": {
      "text/plain": [
       "array([[ 3.],\n",
       "       [-3.],\n",
       "       [-3.]])"
      ]
     },
     "execution_count": 53,
     "metadata": {},
     "output_type": "execute_result"
    }
   ],
   "source": [
    "print(A.T@x_inv_1)"
   ]
  },
  {
   "cell_type": "markdown",
   "metadata": {},
   "source": [
    "```{margin}\n",
    "\n",
    "$A^TX^{-T}[1:3,1] = \\lambda_1 X^{-T}[1:3,1]$, `lambda_1` el eigenvalor asociado a `x_inv_1`.\n",
    "```"
   ]
  },
  {
   "cell_type": "code",
   "execution_count": 54,
   "metadata": {},
   "outputs": [
    {
     "data": {
      "text/plain": [
       "array([[ 3.],\n",
       "       [-3.],\n",
       "       [-3.]])"
      ]
     },
     "execution_count": 54,
     "metadata": {},
     "output_type": "execute_result"
    }
   ],
   "source": [
    "print(lambda_1*x_inv_1)"
   ]
  },
  {
   "cell_type": "code",
   "execution_count": 55,
   "metadata": {},
   "outputs": [],
   "source": [
    "e2 = np.zeros((X.shape[0],1))"
   ]
  },
  {
   "cell_type": "code",
   "execution_count": 56,
   "metadata": {},
   "outputs": [],
   "source": [
    "e2[1] = 1"
   ]
  },
  {
   "cell_type": "markdown",
   "metadata": {},
   "source": [
    "```{margin}\n",
    "\n",
    "`x_inv_2` es el segundo renglón de $X^{-1}$: $X^{-1}[2, 1:3]$.\n",
    "```"
   ]
  },
  {
   "cell_type": "code",
   "execution_count": 57,
   "metadata": {},
   "outputs": [],
   "source": [
    "x_inv_2 = np.linalg.solve(X.T, e2)"
   ]
  },
  {
   "cell_type": "code",
   "execution_count": 58,
   "metadata": {},
   "outputs": [
    {
     "data": {
      "text/plain": [
       "array([[-0.851],\n",
       "       [-0.13 ],\n",
       "       [-0.556]])"
      ]
     },
     "execution_count": 58,
     "metadata": {},
     "output_type": "execute_result"
    }
   ],
   "source": [
    "print(x_inv_2)"
   ]
  },
  {
   "cell_type": "code",
   "execution_count": 59,
   "metadata": {},
   "outputs": [
    {
     "data": {
      "text/plain": [
       "array([[2.552],\n",
       "       [0.391],\n",
       "       [1.667]])"
      ]
     },
     "execution_count": 59,
     "metadata": {},
     "output_type": "execute_result"
    }
   ],
   "source": [
    "print(A.T@x_inv_2)"
   ]
  },
  {
   "cell_type": "markdown",
   "metadata": {},
   "source": [
    "```{margin}\n",
    "\n",
    "$A^TX^{-T}[1:3,2] = \\lambda_2 X^{-T}[1:3,2]$, `lambda_2` el eigenvalor asociado a `x_inv_2`.\n",
    "```"
   ]
  },
  {
   "cell_type": "code",
   "execution_count": 60,
   "metadata": {},
   "outputs": [
    {
     "data": {
      "text/plain": [
       "array([[2.552],\n",
       "       [0.391],\n",
       "       [1.667]])"
      ]
     },
     "execution_count": 60,
     "metadata": {},
     "output_type": "execute_result"
    }
   ],
   "source": [
    "print(lambda_2*x_inv_2)"
   ]
  },
  {
   "cell_type": "markdown",
   "metadata": {},
   "source": [
    "```{admonition} Ejercicio\n",
    ":class: tip\n",
    "\n",
    "¿Es la siguiente matriz diagonalizable?\n",
    "\n",
    "$$A = \\left [\n",
    "\\begin{array}{ccc}\n",
    "-1 & -1 & -2\\\\\n",
    "8 & -11 & -8\\\\\n",
    "-10 & 11 & 7\n",
    "\\end{array}\n",
    "\\right]\n",
    "$$\n",
    "\n",
    "si es así encuentra su *eigen decomposition* y diagonaliza a $A$.\n",
    "```"
   ]
  },
  {
   "cell_type": "markdown",
   "metadata": {},
   "source": [
    "(DESCESP)="
   ]
  },
  {
   "cell_type": "markdown",
   "metadata": {},
   "source": [
    "### Resultado: $A$ simétrica\n",
    "\n",
    "Si A es simétrica entonces tiene eigenvalores reales. Aún más: $A$ tiene eigenvectores reales linealmente independientes, forman un conjunto ortonormal y se escribe como un producto de tres matrices nombrado **descomposición espectral o *symmetric eigen decomposition***: \n",
    "\n",
    "$$A = Q \\Lambda Q^T$$ \n",
    "\n",
    "donde: $Q$ es una matriz ortogonal cuyas columnas son eigenvectores de $A$ y $\\Lambda$ es una matriz diagonal con eigenvalores de $A$.\n"
   ]
  },
  {
   "cell_type": "markdown",
   "metadata": {},
   "source": [
    "```{admonition} Comentarios\n",
    "\n",
    "* Por lo anterior una matriz simétrica es **ortogonalmente diagonalizable**, ver {ref}`A diagonalizable <DIAGONALIZABLE>`.\n",
    "\n",
    "* Los eigenvalores de $A$ simétrica se pueden ordenar:\n",
    "\n",
    "$$\\lambda_n(A) \\leq \\lambda_{n-1}(A) \\leq \\dots \\leq \\lambda_1(A)$$\n",
    "\n",
    "con:\n",
    "\n",
    "$\\lambda_{max}(A) = \\lambda_1(A)$, $\\lambda_{min}(A) = \\lambda_n(A)$.\n",
    "\n",
    "* Se prueba para $A$ simétrica:\n",
    "\n",
    "$$\\lambda_{max}(A) = \\displaystyle \\max_{x \\neq 0} \\frac{x^TAx}{x^Tx}$$\n",
    "\n",
    "$$\\lambda_{min}(A) = \\displaystyle \\min_{x \\neq 0} \\frac{x^TAx}{x^Tx}.$$\n",
    "\n",
    "por lo tanto:\n",
    "\n",
    "$$\\lambda_{min}(A) \\leq \\frac{x^TAx}{x^Tx} \\leq \\lambda_{max}(A) \\forall x \\neq 0.$$\n",
    "\n",
    "* $||A||_2 = \\displaystyle \\max\\{|\\lambda_1(A)|, |\\lambda_n(A)|\\}$.\n",
    "\n",
    "* $||A||_F = \\left( \\displaystyle \\sum_{i=1}^n \\lambda_i ^2 \\right)^{1/2}$.\n",
    "\n",
    "* Los valores singulares de $A$ son el conjunto $\\{|\\lambda_1(A)|, \\dots, |\\lambda_{n-1}(A)|, |\\lambda_n(A)|\\}$.\n",
    "```"
   ]
  },
  {
   "cell_type": "markdown",
   "metadata": {},
   "source": [
    "### Ejemplo"
   ]
  },
  {
   "cell_type": "markdown",
   "metadata": {},
   "source": [
    "Matriz simétrica y descomposición espectral de la misma:"
   ]
  },
  {
   "cell_type": "code",
   "execution_count": 61,
   "metadata": {},
   "outputs": [],
   "source": [
    "A=np.array([[5,4,2],[4,5,2],[2,2,2]])"
   ]
  },
  {
   "cell_type": "code",
   "execution_count": 62,
   "metadata": {},
   "outputs": [
    {
     "name": "stdout",
     "output_type": "stream",
     "text": [
      "[[5 4 2]\n",
      " [4 5 2]\n",
      " [2 2 2]]\n"
     ]
    }
   ],
   "source": [
    "print(A)"
   ]
  },
  {
   "cell_type": "code",
   "execution_count": 63,
   "metadata": {},
   "outputs": [],
   "source": [
    "evalue, evector = np.linalg.eigh(A)"
   ]
  },
  {
   "cell_type": "markdown",
   "metadata": {},
   "source": [
    "```{margin}\n",
    "\n",
    "Como $A$ es simétrica sus eigenvalores son reales y sus eigenvectores forman un conjunto linealmente independiente. Por lo anterior $A$ tiene descomposción espectral.\n",
    "```"
   ]
  },
  {
   "cell_type": "code",
   "execution_count": 64,
   "metadata": {},
   "outputs": [
    {
     "name": "stdout",
     "output_type": "stream",
     "text": [
      "eigenvalores:\n",
      "[ 1.  1. 10.]\n",
      "eigenvectores:\n",
      "[[ 0.482  0.569  0.667]\n",
      " [-0.727 -0.166  0.667]\n",
      " [ 0.49  -0.806  0.333]]\n"
     ]
    }
   ],
   "source": [
    "print('eigenvalores:')\n",
    "print(evalue)\n",
    "print('eigenvectores:')\n",
    "print(evector)"
   ]
  },
  {
   "cell_type": "markdown",
   "metadata": {},
   "source": [
    "```{margin}\n",
    "\n",
    "$A = Q \\Lambda Q^T$\n",
    "```"
   ]
  },
  {
   "cell_type": "code",
   "execution_count": 65,
   "metadata": {},
   "outputs": [
    {
     "name": "stdout",
     "output_type": "stream",
     "text": [
      "descomposición espectral:\n",
      "QLambdaQ^T:\n",
      "[[5. 4. 2.]\n",
      " [4. 5. 2.]\n",
      " [2. 2. 2.]]\n",
      "A:\n",
      "[[5 4 2]\n",
      " [4 5 2]\n",
      " [2 2 2]]\n"
     ]
    }
   ],
   "source": [
    "print('descomposición espectral:')\n",
    "Lambda = np.diag(evalue)\n",
    "Q = evector\n",
    "print('QLambdaQ^T:')\n",
    "print(Q@Lambda@Q.T)\n",
    "print('A:')\n",
    "print(A)"
   ]
  },
  {
   "cell_type": "markdown",
   "metadata": {},
   "source": [
    "A es diagonalizable pues: $Q^T A Q = \\Lambda$"
   ]
  },
  {
   "cell_type": "code",
   "execution_count": 66,
   "metadata": {},
   "outputs": [
    {
     "name": "stdout",
     "output_type": "stream",
     "text": [
      "[[ 1.  0.  0.]\n",
      " [-0.  1. -0.]\n",
      " [ 0.  0. 10.]]\n"
     ]
    }
   ],
   "source": [
    "print(Q.T@A@Q)"
   ]
  },
  {
   "cell_type": "code",
   "execution_count": 67,
   "metadata": {},
   "outputs": [
    {
     "data": {
      "text/plain": [
       "array([[ 1.,  0.,  0.],\n",
       "       [ 0.,  1.,  0.],\n",
       "       [ 0.,  0., 10.]])"
      ]
     },
     "execution_count": 67,
     "metadata": {},
     "output_type": "execute_result"
    }
   ],
   "source": [
    "print(Lambda)"
   ]
  },
  {
   "cell_type": "markdown",
   "metadata": {},
   "source": [
    "Ver [numpy.linalg.eigh](https://docs.scipy.org/doc/numpy-1.14.0/reference/generated/numpy.linalg.eigh.html)."
   ]
  },
  {
   "cell_type": "markdown",
   "metadata": {},
   "source": [
    "## Condición del problema del cálculo de eigenvalores y eigenvectores"
   ]
  },
  {
   "cell_type": "markdown",
   "metadata": {},
   "source": [
    "La condición del problema del cálculo de eigenvalores y eigenvectores de una matriz, es la sensibilidad de los mismos ante perturbaciones en la matriz, ver {ref}`Condición de un problema y estabilidad de un algoritmo <CPEA>`. Diferentes eigenvalores o eigenvectores de una matriz no necesariamente son igualmente sensibles a perturbaciones en la matriz."
   ]
  },
  {
   "cell_type": "markdown",
   "metadata": {},
   "source": [
    "```{admonition} Observación\n",
    ":class: tip\n",
    "\n",
    "La condición del problema del cálculo de eigenvalores y eigenvectores de una matriz **no** es igual a la condición del problema de resolver un sistema de ecuaciones lineales, ver {ref}`Número de condición de una matriz <NCM>`.\n",
    "\n",
    "```"
   ]
  },
  {
   "cell_type": "markdown",
   "metadata": {},
   "source": [
    "Se prueba que la condición de un eigenvalor **simple** de una matriz $A$ está dado por $\\frac{1}{|y^Tx|}$ con $x$ eigenvector derecho, $y$ eigenvector izquierdo de $A$ ambos asociados al eigenvalor simple y normalizados esto es: $x^Tx = y^Ty=1$. "
   ]
  },
  {
   "cell_type": "markdown",
   "metadata": {},
   "source": [
    "```{admonition} Comentarios\n",
    "\n",
    "* Para los casos en que: $\\lambda$ eigenvalor de $A$ sea simple, $A$ sea diagonalizable, existen eigenvectores izquierdos y derechos asociados a un eigenvalor de $A$ tales que $y^Tx \\neq 0$. En tales casos, el análisis del condicionamiento del problema del cálculo de eigenvalores y eigenvectores es más sencillo de realizar que para matrices no diagonalizables o eigenvalores con multiplicidad algebraica mayor a $1$. En particular, los eigenvalores de una matriz simétrica están muy bien condicionados: las perturbaciones en $A$ únicamente perturban a los eigenvalores en una magnitud medida con la norma de las perturbaciones y no depende de otros factores, por ejemplo del número de condición de $A$.\n",
    "\n",
    "* La sensibilidad de un eigenvector depende de la sensibilidad de su eigenvalor asociado y de la distancia de tal eigenvalor de otros eigenvalores.\n",
    "\n",
    "* Los eigenvalores que son \"cercanos\" o aquellos de multiplicidad mayor a $1$ pueden ser mal condicionados y por lo tanto difíciles de calcularse de forma exacta y precisa en especial si la matriz es defectuosa (no diagonalizable). Puede mejorarse el número de condición si se escala el problema por una matriz diagonal y similar a $A$, ver {ref}`similitud <SIMILITUD>`.\n",
    "```"
   ]
  },
  {
   "cell_type": "markdown",
   "metadata": {},
   "source": [
    "(SIMILITUD)="
   ]
  },
  {
   "cell_type": "markdown",
   "metadata": {},
   "source": [
    "## Similitud"
   ]
  },
  {
   "cell_type": "markdown",
   "metadata": {},
   "source": [
    "```{admonition} Definición\n",
    "\n",
    "Si existe $X \\in \\mathbb{R}^{n \\times n}$ tal que $B = XAX^{-1}$ con $A, B \\in \\mathbb{R}^{n \\times n}$ entonces $A$ y $B$ se nombran similares.\n",
    "\n",
    "```"
   ]
  },
  {
   "cell_type": "markdown",
   "metadata": {},
   "source": [
    "```{admonition} Observación\n",
    ":class: tip\n",
    "\n",
    "Las matrices que son similares tienen el mismo espectro, de hecho: $Ax = \\lambda x$ si y sólo si $By = \\lambda y$ para $y=Xx$. Lo anterior quiere decir que los eigenvalores de una matriz son **invariantes** ante cambios de bases o representación en coordenadas distintas.\n",
    "\n",
    "```"
   ]
  },
  {
   "cell_type": "markdown",
   "metadata": {},
   "source": [
    "### Ejemplo"
   ]
  },
  {
   "cell_type": "markdown",
   "metadata": {},
   "source": [
    "Dada la matriz \n",
    "\n",
    "$$A=\n",
    "\\left [\n",
    "\\begin{array}{cccc}\n",
    "-1 & -1 & -1 & -1\\\\\n",
    "0 & -5 & -16 & -22\\\\\n",
    "0 & 3 & 10 & 14\\\\\n",
    "4 & 8 & 12 & 14\n",
    "\\end{array}\n",
    "\\right ]\n",
    "$$"
   ]
  },
  {
   "cell_type": "markdown",
   "metadata": {},
   "source": [
    "Definir matrices $B_1, B_2$ similares a $A$ a partir de las matrices:\n",
    "\n",
    "$$\n",
    "\\begin{array}{l}\n",
    "X_1 = \n",
    "\\left [\n",
    "\\begin{array}{cccc}\n",
    "2 & -1 & 0 & 0\\\\\n",
    "-1 & 2 & -1 & 0\\\\\n",
    "0 & -1 & 2 & -1\\\\\n",
    "0 & 0 & -1 & 1\n",
    "\\end{array}\n",
    "\\right ],\n",
    "X_2 = \\left [\n",
    "\\begin{array}{cccc}\n",
    "2 & -1 & 1 & 0\\\\\n",
    "-1 & 2 & 0 & 0\\\\\n",
    "0 & -1 & 0 & 0\\\\\n",
    "0 & 0 & 0 & 1\n",
    "\\end{array}\n",
    "\\right ]\n",
    "\\end{array}\n",
    "$$"
   ]
  },
  {
   "cell_type": "markdown",
   "metadata": {},
   "source": [
    "y verificar que los eigenvalores de $A$ son los mismos que los de $B_1, B_2$, esto es, tienen el mismo espectro."
   ]
  },
  {
   "cell_type": "code",
   "execution_count": 68,
   "metadata": {},
   "outputs": [],
   "source": [
    "A = np.array([[-1, -1 , -1, -1],\n",
    "              [0, -5, -16, -22],\n",
    "              [0, 3, 10, 14],\n",
    "              [4, 8, 12, 14.0]])"
   ]
  },
  {
   "cell_type": "code",
   "execution_count": 69,
   "metadata": {},
   "outputs": [],
   "source": [
    "X1 = np.array([[2, -1, 0, 0],\n",
    "              [-1, 2, -1, 0],\n",
    "              [0, -1, 2, -1],\n",
    "              [0, 0, -1, 1.0]])"
   ]
  },
  {
   "cell_type": "markdown",
   "metadata": {},
   "source": [
    "$B_1 = X_1^{-1}AX_1$:"
   ]
  },
  {
   "cell_type": "markdown",
   "metadata": {},
   "source": [
    "```{margin}\n",
    "\n",
    "Calculamos $B1$ explícitamente para revisar qué forma tiene pero no es necesario.\n",
    "\n",
    "```"
   ]
  },
  {
   "cell_type": "code",
   "execution_count": 70,
   "metadata": {},
   "outputs": [],
   "source": [
    "B1 = np.linalg.solve(X1, A)@X1\n"
   ]
  },
  {
   "cell_type": "code",
   "execution_count": 71,
   "metadata": {},
   "outputs": [
    {
     "name": "stdout",
     "output_type": "stream",
     "text": [
      "[[ 1.  2. -0.  0.]\n",
      " [ 3.  4. -0.  0.]\n",
      " [ 0.  0.  5.  6.]\n",
      " [ 0.  0.  7.  8.]]\n"
     ]
    }
   ],
   "source": [
    "print(B1)"
   ]
  },
  {
   "cell_type": "code",
   "execution_count": 72,
   "metadata": {},
   "outputs": [],
   "source": [
    "X2 = np.array([[2, -1, 1, 0],\n",
    "               [-1, 2, 0, 0],\n",
    "               [0, -1, 0, 0],\n",
    "               [0, 0, 0, 1.0]])"
   ]
  },
  {
   "cell_type": "markdown",
   "metadata": {},
   "source": [
    "$B_2 = X_2^{-1}AX_2$:"
   ]
  },
  {
   "cell_type": "markdown",
   "metadata": {},
   "source": [
    "```{margin}\n",
    "\n",
    "Calculamos $B2$ explícitamente para revisar qué forma tiene pero no es necesario.\n",
    "\n",
    "```"
   ]
  },
  {
   "cell_type": "code",
   "execution_count": 73,
   "metadata": {},
   "outputs": [],
   "source": [
    "B2 = np.linalg.solve(X2, A)@X2\n"
   ]
  },
  {
   "cell_type": "code",
   "execution_count": 74,
   "metadata": {},
   "outputs": [
    {
     "name": "stdout",
     "output_type": "stream",
     "text": [
      "[[  1.   2.   0.  -6.]\n",
      " [  3.   4.   0. -14.]\n",
      " [ -0.   0.  -1.  -3.]\n",
      " [  0.   0.   4.  14.]]\n"
     ]
    }
   ],
   "source": [
    "print(B2)"
   ]
  },
  {
   "cell_type": "markdown",
   "metadata": {},
   "source": [
    "**$B1$ y $B2$ son similares a $A$ por tanto tienen los mismos eigenvalores:**"
   ]
  },
  {
   "cell_type": "code",
   "execution_count": 75,
   "metadata": {},
   "outputs": [],
   "source": [
    "evalue, evector = np.linalg.eig(A)"
   ]
  },
  {
   "cell_type": "markdown",
   "metadata": {},
   "source": [
    "```{margin}\n",
    "\n",
    "`evalue` son los eigenvalores de $A$.\n",
    "\n",
    "```"
   ]
  },
  {
   "cell_type": "code",
   "execution_count": 76,
   "metadata": {},
   "outputs": [
    {
     "name": "stdout",
     "output_type": "stream",
     "text": [
      "[13.152  5.372 -0.152 -0.372]\n"
     ]
    }
   ],
   "source": [
    "print(evalue)"
   ]
  },
  {
   "cell_type": "code",
   "execution_count": 77,
   "metadata": {},
   "outputs": [],
   "source": [
    "evalue_B1, evector_B1 = np.linalg.eig(B1)"
   ]
  },
  {
   "cell_type": "markdown",
   "metadata": {},
   "source": [
    "```{margin}\n",
    "\n",
    "`evalue_B1` son los eigenvalores de $B_1$, obsérvese que son iguales a los de $A$ salvo el orden.\n",
    "\n",
    "```"
   ]
  },
  {
   "cell_type": "code",
   "execution_count": 78,
   "metadata": {},
   "outputs": [
    {
     "name": "stdout",
     "output_type": "stream",
     "text": [
      "[-0.372  5.372 -0.152 13.152]\n"
     ]
    }
   ],
   "source": [
    "print(evalue_B1)"
   ]
  },
  {
   "cell_type": "code",
   "execution_count": 79,
   "metadata": {},
   "outputs": [],
   "source": [
    "evalue_B2, evector_B2 = np.linalg.eig(B2)"
   ]
  },
  {
   "cell_type": "markdown",
   "metadata": {},
   "source": [
    "```{margin}\n",
    "\n",
    "`evalue_B2` son los eigenvalores de $B_2$, obsérvese que son iguales a los de $A$ salvo el orden.\n",
    "\n",
    "```"
   ]
  },
  {
   "cell_type": "code",
   "execution_count": 80,
   "metadata": {},
   "outputs": [
    {
     "name": "stdout",
     "output_type": "stream",
     "text": [
      "[ 5.372 -0.372 -0.152 13.152]\n"
     ]
    }
   ],
   "source": [
    "print(evalue_B2)"
   ]
  },
  {
   "cell_type": "markdown",
   "metadata": {},
   "source": [
    "Los eigenvectores **no son los mismos** pero pueden obtenerse vía multiplicación de matrices:"
   ]
  },
  {
   "cell_type": "markdown",
   "metadata": {},
   "source": [
    "```{margin}\n",
    "\n",
    "Elegimos un eigenvalor de $A$.\n",
    "\n",
    "```"
   ]
  },
  {
   "cell_type": "code",
   "execution_count": 81,
   "metadata": {},
   "outputs": [
    {
     "data": {
      "text/plain": [
       "5.372281323269013"
      ]
     },
     "execution_count": 81,
     "metadata": {},
     "output_type": "execute_result"
    }
   ],
   "source": [
    "print(evalue[1])"
   ]
  },
  {
   "cell_type": "markdown",
   "metadata": {},
   "source": [
    "```{margin}\n",
    "\n",
    "Y elegimos el mismo eigenvalor en el *array* `evalue_B1` para $B_1$ que para este ejemplo corresponde al índice $1$ (el mismo que en `evalue` pero podría haber sido otro).\n",
    "\n",
    "```"
   ]
  },
  {
   "cell_type": "code",
   "execution_count": 82,
   "metadata": {},
   "outputs": [
    {
     "data": {
      "text/plain": [
       "5.3722813232690125"
      ]
     },
     "execution_count": 82,
     "metadata": {},
     "output_type": "execute_result"
    }
   ],
   "source": [
    "print(evalue_B1[1])"
   ]
  },
  {
   "cell_type": "markdown",
   "metadata": {},
   "source": [
    "```{margin}\n",
    "\n",
    "Su correspondiente eigenvector en el índice $1$ del *array* `evector_B1`.\n",
    "\n",
    "```"
   ]
  },
  {
   "cell_type": "code",
   "execution_count": 83,
   "metadata": {},
   "outputs": [
    {
     "data": {
      "text/plain": [
       "array([-0.416, -0.909,  0.   ,  0.   ])"
      ]
     },
     "execution_count": 83,
     "metadata": {},
     "output_type": "execute_result"
    }
   ],
   "source": [
    "print(evector_B1[:,1])"
   ]
  },
  {
   "cell_type": "markdown",
   "metadata": {},
   "source": [
    "**$X^{-1}x$ es eigenvector de $B_1$ para $x$ eigenvector de $A$**:"
   ]
  },
  {
   "cell_type": "markdown",
   "metadata": {},
   "source": [
    "```{margin}\n",
    "\n",
    "`evector[:,1]` es el eigenvector de $A$ correspondiente al eigenvalor `evalue[1]`. En esta celda se hace el producto $X_1^{-1}x$ y `evector[:,1]` representa a $x$.\n",
    "\n",
    "```"
   ]
  },
  {
   "cell_type": "code",
   "execution_count": 84,
   "metadata": {},
   "outputs": [],
   "source": [
    "X1_inv_evector = np.linalg.solve(X1, evector[:,1])"
   ]
  },
  {
   "cell_type": "code",
   "execution_count": 85,
   "metadata": {},
   "outputs": [
    {
     "data": {
      "text/plain": [
       "array([ 0.249,  0.543, -0.   , -0.   ])"
      ]
     },
     "execution_count": 85,
     "metadata": {},
     "output_type": "execute_result"
    }
   ],
   "source": [
    "print(X1_inv_evector)"
   ]
  },
  {
   "cell_type": "code",
   "execution_count": 86,
   "metadata": {},
   "outputs": [
    {
     "data": {
      "text/plain": [
       "array([ 1.335,  2.919, -0.   , -0.   ])"
      ]
     },
     "execution_count": 86,
     "metadata": {},
     "output_type": "execute_result"
    }
   ],
   "source": [
    "print(B1@(X1_inv_evector))"
   ]
  },
  {
   "cell_type": "markdown",
   "metadata": {},
   "source": [
    "```{margin}\n",
    "\n",
    "Se verifica que $B1(X_1^{-1}x) = \\lambda (X_1^{-1}x)$ con $\\lambda$ igual al valor `evalue_B1[1]`.\n",
    "\n",
    "```"
   ]
  },
  {
   "cell_type": "code",
   "execution_count": 87,
   "metadata": {},
   "outputs": [
    {
     "data": {
      "text/plain": [
       "array([ 1.335,  2.919, -0.   , -0.   ])"
      ]
     },
     "execution_count": 87,
     "metadata": {},
     "output_type": "execute_result"
    }
   ],
   "source": [
    "print(evalue_B1[1]*(X1_inv_evector))"
   ]
  },
  {
   "cell_type": "markdown",
   "metadata": {},
   "source": [
    "```{admonition} Observación\n",
    ":class: tip\n",
    "\n",
    "Obsérvese que son los mismos eigenvectores salvo una constante distinta de cero.\n",
    "\n",
    "```"
   ]
  },
  {
   "cell_type": "code",
   "execution_count": 88,
   "metadata": {},
   "outputs": [
    {
     "name": "stdout",
     "output_type": "stream",
     "text": [
      "[[-0.825 -0.416  0.     0.   ]\n",
      " [ 0.566 -0.909 -0.     0.   ]\n",
      " [ 0.     0.    -0.759 -0.593]\n",
      " [ 0.     0.     0.651 -0.805]]\n"
     ]
    }
   ],
   "source": [
    "print(evector_B1)"
   ]
  },
  {
   "cell_type": "markdown",
   "metadata": {},
   "source": [
    "```{margin}\n",
    "\n",
    "El valor `1.33532534` es la primera entrada de `X1_inv_evector` que es $X_1^{-1}x$ y $x$ eigenvector de $A$. El valor `2.91920903` es la segunda entrada de `X_1_inv_evector`. Las entradas restantes son cercanas a cero.\n",
    "```"
   ]
  },
  {
   "cell_type": "code",
   "execution_count": 89,
   "metadata": {},
   "outputs": [
    {
     "data": {
      "text/plain": [
       "-3.2101207266138467"
      ]
     },
     "execution_count": 89,
     "metadata": {},
     "output_type": "execute_result"
    }
   ],
   "source": [
    "print(1.33532534e+00/evector_B1[0,1])"
   ]
  },
  {
   "cell_type": "code",
   "execution_count": 90,
   "metadata": {},
   "outputs": [
    {
     "data": {
      "text/plain": [
       "-3.2101207350977647"
      ]
     },
     "execution_count": 90,
     "metadata": {},
     "output_type": "execute_result"
    }
   ],
   "source": [
    "print(2.91920903e+00/evector_B1[1,1])"
   ]
  },
  {
   "cell_type": "markdown",
   "metadata": {},
   "source": [
    "La constante es aproximadamente $-3.21$:"
   ]
  },
  {
   "cell_type": "markdown",
   "metadata": {},
   "source": [
    "```{margin}\n",
    "\n",
    "`evector_B1` fue calculado con la función `eig` pero en la siguiente celda se observa que no es necesario si se tiene un eigenvector de $A$.\n",
    "```"
   ]
  },
  {
   "cell_type": "code",
   "execution_count": 91,
   "metadata": {},
   "outputs": [
    {
     "data": {
      "text/plain": [
       "array([ 1.335,  2.919, -0.   , -0.   ])"
      ]
     },
     "execution_count": 91,
     "metadata": {},
     "output_type": "execute_result"
    }
   ],
   "source": [
    "print(evector_B1[:,1]*(-3.21))"
   ]
  },
  {
   "cell_type": "markdown",
   "metadata": {},
   "source": [
    "```{margin}\n",
    "\n",
    "Recuerda que `X_1_inv_evector` es $X_1^{-1}x$ con $x$ eigenvector de $A$ que en este caso se utilizó `evector[:,1]`.\n",
    "\n",
    "```"
   ]
  },
  {
   "cell_type": "code",
   "execution_count": 92,
   "metadata": {},
   "outputs": [
    {
     "data": {
      "text/plain": [
       "array([ 1.335,  2.919, -0.   , -0.   ])"
      ]
     },
     "execution_count": 92,
     "metadata": {},
     "output_type": "execute_result"
    }
   ],
   "source": [
    "print(B1@(X1_inv_evector))"
   ]
  },
  {
   "cell_type": "markdown",
   "metadata": {},
   "source": [
    "```{margin}\n",
    "\n",
    "Se comprueba que $X_1^{-1}x$ es eigenvector de $B$ si $x$ es eigenvector de $A$.\n",
    "```"
   ]
  },
  {
   "cell_type": "code",
   "execution_count": 93,
   "metadata": {},
   "outputs": [
    {
     "data": {
      "text/plain": [
       "array([ 1.335,  2.919, -0.   , -0.   ])"
      ]
     },
     "execution_count": 93,
     "metadata": {},
     "output_type": "execute_result"
    }
   ],
   "source": [
    "print(evalue_B1[1]*(X1_inv_evector))"
   ]
  },
  {
   "cell_type": "markdown",
   "metadata": {},
   "source": [
    "Como $A$ tiene eigenvalores distintos entonces es diagonalizable, esto es existen $X_3, \\Lambda$ tales que $X_3^{-1} A X_3 = \\Lambda$."
   ]
  },
  {
   "cell_type": "code",
   "execution_count": 94,
   "metadata": {},
   "outputs": [],
   "source": [
    "X_3 = evector\n",
    "Lambda = np.diag(evalue)"
   ]
  },
  {
   "cell_type": "code",
   "execution_count": 95,
   "metadata": {},
   "outputs": [
    {
     "data": {
      "text/plain": [
       "array([[ -1.,  -1.,  -1.,  -1.],\n",
       "       [  0.,  -5., -16., -22.],\n",
       "       [  0.,   3.,  10.,  14.],\n",
       "       [  4.,   8.,  12.,  14.]])"
      ]
     },
     "execution_count": 95,
     "metadata": {},
     "output_type": "execute_result"
    }
   ],
   "source": [
    "print(A)"
   ]
  },
  {
   "cell_type": "code",
   "execution_count": 96,
   "metadata": {},
   "outputs": [
    {
     "name": "stdout",
     "output_type": "stream",
     "text": [
      "[[13.152 -0.     0.    -0.   ]\n",
      " [ 0.     5.372 -0.     0.   ]\n",
      " [-0.     0.    -0.152  0.   ]\n",
      " [-0.     0.    -0.    -0.372]]\n"
     ]
    }
   ],
   "source": [
    "print(np.linalg.solve(X_3, A)@X_3)"
   ]
  },
  {
   "cell_type": "code",
   "execution_count": 97,
   "metadata": {},
   "outputs": [
    {
     "data": {
      "text/plain": [
       "array([[13.152,  0.   ,  0.   ,  0.   ],\n",
       "       [ 0.   ,  5.372,  0.   ,  0.   ],\n",
       "       [ 0.   ,  0.   , -0.152,  0.   ],\n",
       "       [ 0.   ,  0.   ,  0.   , -0.372]])"
      ]
     },
     "execution_count": 97,
     "metadata": {},
     "output_type": "execute_result"
    }
   ],
   "source": [
    "print(Lambda)"
   ]
  },
  {
   "cell_type": "markdown",
   "metadata": {},
   "source": [
    "```{admonition} Comentario\n",
    "\n",
    "**$X_1$ diagonaliza a $A$ por bloques, $X_2$ triangulariza a $A$ por bloques y $X_3$ diagonaliza a $A$.** Las tres matrices representan al mismo operador lineal (que es una transformación lineal del espacio vectorial sobre sí mismo) pero en **coordenadas diferentes**. Un aspecto muy **importante** en el álgebra lineal es representar a tal operador lineal en unas coordenadas lo más simple posible. En el ejemplo la matriz $X_3$, que en sus columnas están los eigenvectores de $A$, ayuda a representarlo de forma muy simple.\n",
    "\n",
    "```"
   ]
  },
  {
   "cell_type": "markdown",
   "metadata": {},
   "source": [
    "```{admonition} Observación\n",
    ":class: tip\n",
    "\n",
    "$X_3$ es una matriz que diagonaliza a $A$ y tiene en sus columnas a eigenvectores de $A$, si el objetivo es diagonalizar a una matriz **no es necesario** resolver un problema de cálculo de eigenvalores-eigenvectores pues cualquier matriz $X$ no singular puede hacer el trabajo. Una opción es considerar una factorización para $A$ simétrica del tipo $LDL^T$ (que tiene un costo computacional bajo para calcularse), la matriz $L$ no es ortogonal y la matriz $D$ tiene los pivotes que se calculan en la eliminación Gaussiana, ver {ref}` Operaciones y transformaciones básicas del Álgebra Lineal Numérica <OTBALN>`.\n",
    "\n",
    "```"
   ]
  },
  {
   "cell_type": "markdown",
   "metadata": {},
   "source": [
    "```{admonition} Ejercicio\n",
    ":class: tip\n",
    "\n",
    "Considera \n",
    "\n",
    "$$A=\n",
    "\\left [\n",
    "\\begin{array}{cccc}\n",
    "-2 & -1 & -5 & 2\\\\\n",
    "-9 & 0 & -8 & -2\\\\\n",
    "2 & 3 & 11 & 5\\\\\n",
    "3 & -5 & -13 & -7\n",
    "\\end{array}\n",
    "\\right ]\n",
    "$$\n",
    "\n",
    "Define $X_1$ tal que $X_1^{-1}AX_1$ sea diagonal.\n",
    "```"
   ]
  },
  {
   "cell_type": "markdown",
   "metadata": {},
   "source": [
    "### Ejemplo"
   ]
  },
  {
   "cell_type": "code",
   "execution_count": 98,
   "metadata": {},
   "outputs": [],
   "source": [
    "import sympy\n",
    "import matplotlib.pyplot as plt"
   ]
  },
  {
   "cell_type": "markdown",
   "metadata": {},
   "source": [
    "Considérese la siguiente ecuación cuadrática:\n",
    "\n",
    "$$\\frac{\\tilde{x}^2}{16} + \\frac{\\tilde{y}^2}{9} = 1.$$\n",
    "\n",
    "Con Geometría Analítica sabemos que tal ecuación representa una elipse inclinada. Además si\n"
   ]
  },
  {
   "cell_type": "code",
   "execution_count": 99,
   "metadata": {},
   "outputs": [],
   "source": [
    "D = sympy.Matrix([[sympy.Rational(1,16), 0],\n",
    "                  [0, sympy.Rational(1,9)]])"
   ]
  },
  {
   "cell_type": "code",
   "execution_count": 100,
   "metadata": {},
   "outputs": [
    {
     "data": {
      "text/latex": [
       "$\\displaystyle \\left[\\begin{matrix}\\frac{1}{16} & 0\\\\0 & \\frac{1}{9}\\end{matrix}\\right]$"
      ],
      "text/plain": [
       "Matrix([\n",
       "[1/16,   0],\n",
       "[   0, 1/9]])"
      ]
     },
     "execution_count": 100,
     "metadata": {},
     "output_type": "execute_result"
    }
   ],
   "source": [
    "print(D)"
   ]
  },
  {
   "cell_type": "markdown",
   "metadata": {},
   "source": [
    "Entonces el producto \n",
    "\n",
    "$$\\left [ \\begin{array}{c}\n",
    "\\tilde{x}\\\\\n",
    "\\tilde{y}\n",
    "\\end{array}\n",
    "\\right ] ^TD \n",
    "\\left [\n",
    "\\begin{array}{c}\n",
    "\\tilde{x}\\\\\n",
    "\\tilde{y}\n",
    "\\end{array}\n",
    "\\right ]\n",
    "$$\n",
    "\n",
    "es:"
   ]
  },
  {
   "cell_type": "code",
   "execution_count": 101,
   "metadata": {},
   "outputs": [],
   "source": [
    "x_tilde, y_tilde = sympy.symbols(\"x_tilde, y_tilde\")\n",
    "x_y_tilde = sympy.Matrix([x_tilde, y_tilde])"
   ]
  },
  {
   "cell_type": "code",
   "execution_count": 102,
   "metadata": {},
   "outputs": [
    {
     "data": {
      "text/latex": [
       "$\\displaystyle \\frac{x_{tilde}^{2}}{16} + \\frac{y_{tilde}^{2}}{9}$"
      ],
      "text/plain": [
       "x_tilde**2/16 + y_tilde**2/9"
      ]
     },
     "execution_count": 102,
     "metadata": {},
     "output_type": "execute_result"
    }
   ],
   "source": [
    "print((x_y_tilde.T*D*x_y_tilde)[0])"
   ]
  },
  {
   "cell_type": "markdown",
   "metadata": {},
   "source": [
    "Rotemos al [eje mayor de la elipse](https://en.wikipedia.org/wiki/Semi-major_and_semi-minor_axes) un ángulo de $\\theta = \\frac{\\pi}{3}$ con una {ref}`transformación de rotación <TROT>` que genera la ecuación matricial:\n"
   ]
  },
  {
   "cell_type": "markdown",
   "metadata": {},
   "source": [
    "$$\\begin{array}{l}\n",
    "\\left[\n",
    "\\begin{array}{c}\n",
    "x\\\\\n",
    "y\n",
    "\\end{array}\n",
    "\\right ]\n",
    "=\n",
    "\\left [\n",
    "\\begin{array}{cc}\n",
    "\\cos(\\theta) & -\\sin(\\theta)\\\\\n",
    "\\sin(\\theta) & \\cos(\\theta)\n",
    "\\end{array}\n",
    "\\right ]\n",
    "\\left[\n",
    "\\begin{array}{c}\n",
    "\\tilde{x}\\\\\n",
    "\\tilde{y}\n",
    "\\end{array}\n",
    "\\right ]\n",
    "=\n",
    "\\left [\n",
    "\\begin{array}{cc}\n",
    "\\frac{1}{2} & -\\frac{\\sqrt{3}}{2}\\\\\n",
    "\\frac{\\sqrt{3}}{2} & \\frac{1}{2}\n",
    "\\end{array}\n",
    "\\right ]\n",
    "\\left[\n",
    "\\begin{array}{c}\n",
    "\\tilde{x}\\\\\n",
    "\\tilde{y}\n",
    "\\end{array}\n",
    "\\right ]\n",
    "=\n",
    "Q\\left[\n",
    "\\begin{array}{c}\n",
    "\\tilde{x}\\\\\n",
    "\\tilde{y}\n",
    "\\end{array}\n",
    "\\right ]\n",
    "\\end{array}\n",
    "$$\n",
    "\n",
    "donde: $Q$ es la matriz de rotación en sentido contrario a las manecillas del reloj por el ángulo $\\theta$."
   ]
  },
  {
   "cell_type": "markdown",
   "metadata": {},
   "source": [
    "Esto es:\n",
    "\n",
    "$$\n",
    "\\begin{eqnarray}\n",
    "x =\\frac{\\tilde{x}}{2} - \\frac{\\tilde{y}\\sqrt{3}}{2} \\nonumber \\\\\n",
    "y =\\frac{\\tilde{x}\\sqrt{3}}{2} + \\frac{\\tilde{y}}{2} \\nonumber\n",
    "\\end{eqnarray}\n",
    "$$"
   ]
  },
  {
   "cell_type": "markdown",
   "metadata": {},
   "source": [
    "Despejando $\\tilde{x},\\tilde{y}$ y sustituyendo en $\\frac{\\tilde{x}^2}{16} + \\frac{\\tilde{y}^2}{9} = 1$ resulta en la ecuación:\n",
    "\n"
   ]
  },
  {
   "cell_type": "markdown",
   "metadata": {},
   "source": [
    "```{margin}\n",
    "\n",
    "Esta es una ecuación de una elipse inclinada.\n",
    "\n",
    "```"
   ]
  },
  {
   "cell_type": "code",
   "execution_count": 103,
   "metadata": {},
   "outputs": [
    {
     "data": {
      "text/latex": [
       "$\\displaystyle 57 x^{2} - 14 \\sqrt{3} x y + 43 y^{2}$"
      ],
      "text/plain": [
       "57*x**2 - 14*sqrt(3)*x*y + 43*y**2"
      ]
     },
     "execution_count": 103,
     "metadata": {},
     "output_type": "execute_result"
    }
   ],
   "source": [
    "theta = sympy.pi/3\n",
    "Q = sympy.Matrix([[sympy.cos(theta), -sympy.sin(theta)],\n",
    "                  [sympy.sin(theta), sympy.cos(theta)]])\n",
    "x,y = sympy.symbols(\"x, y\")\n",
    "x_tilde = (Q.T*sympy.Matrix([x,y]))[0]\n",
    "y_tilde = (Q.T*sympy.Matrix([x,y]))[1]\n",
    "\n",
    "print((x_tilde**2/16 + y_tilde**2/9).expand()*576)\n"
   ]
  },
  {
   "cell_type": "markdown",
   "metadata": {},
   "source": [
    "O equivalentemente el producto \n",
    "\n",
    "$$\\left [ \\begin{array}{c}\n",
    "x\\\\\n",
    "y\n",
    "\\end{array}\n",
    "\\right ]^T A \n",
    "\\left [\n",
    "\\begin{array}{c}\n",
    "x\\\\\n",
    "y\n",
    "\\end{array}\n",
    "\\right ]\n",
    "$$ \n"
   ]
  },
  {
   "cell_type": "code",
   "execution_count": 104,
   "metadata": {},
   "outputs": [
    {
     "data": {
      "text/latex": [
       "$\\displaystyle 57 x^{2} - 14 \\sqrt{3} x y + 43 y^{2}$"
      ],
      "text/plain": [
       "57*x**2 - 14*sqrt(3)*x*y + 43*y**2"
      ]
     },
     "execution_count": 104,
     "metadata": {},
     "output_type": "execute_result"
    }
   ],
   "source": [
    "x_y = sympy.Matrix([x,y])\n",
    "A = Q*D*Q.T\n",
    "print(((x_y.T*A*x_y)[0]).expand()*576)"
   ]
  },
  {
   "cell_type": "markdown",
   "metadata": {},
   "source": [
    "con $A$ matriz dada por $A=QDQ^T$:"
   ]
  },
  {
   "cell_type": "markdown",
   "metadata": {},
   "source": [
    "```{margin}\n",
    "\n",
    "Observa que $A$ es **simétrica**.\n",
    "\n",
    "```"
   ]
  },
  {
   "cell_type": "code",
   "execution_count": 105,
   "metadata": {},
   "outputs": [
    {
     "data": {
      "text/latex": [
       "$\\displaystyle \\left[\\begin{matrix}\\frac{19}{192} & - \\frac{7 \\sqrt{3}}{576}\\\\- \\frac{7 \\sqrt{3}}{576} & \\frac{43}{576}\\end{matrix}\\right]$"
      ],
      "text/plain": [
       "Matrix([\n",
       "[        19/192, -7*sqrt(3)/576],\n",
       "[-7*sqrt(3)/576,         43/576]])"
      ]
     },
     "execution_count": 105,
     "metadata": {},
     "output_type": "execute_result"
    }
   ],
   "source": [
    "print(A)"
   ]
  },
  {
   "cell_type": "markdown",
   "metadata": {},
   "source": [
    "En este ejemplo la matriz $Q$ de rotación es la matriz que diagonaliza ortogonalmente a $A$ pues: $Q^TAQ = D.$\n"
   ]
  },
  {
   "cell_type": "markdown",
   "metadata": {},
   "source": [
    "Para realizar la **gráfica** de la elipse con *NumPy* observar que:"
   ]
  },
  {
   "cell_type": "markdown",
   "metadata": {},
   "source": [
    "```{margin}\n",
    "\n",
    "Estas ecuaciones nos indican que la misma elipse se puede representar en diferentes coordenadas. El cambio de coordenadas se realiza con la matriz $Q$.\n",
    "\n",
    "```"
   ]
  },
  {
   "cell_type": "markdown",
   "metadata": {},
   "source": [
    "$$\n",
    "\\begin{eqnarray}\n",
    "1&=&57x^2 - 14 \\sqrt{3}xy + 43 y^2 \\nonumber \\\\\n",
    "&=& \\left [ \\begin{array}{c}\n",
    "x\\\\\n",
    "y\n",
    "\\end{array}\n",
    "\\right ]^T A \n",
    "\\left [\n",
    "\\begin{array}{c}\n",
    "x\\\\\n",
    "y\n",
    "\\end{array}\n",
    "\\right ] \\nonumber \\\\\n",
    "&=& \\left [ \\begin{array}{c}\n",
    "x\\\\\n",
    "y\n",
    "\\end{array}\n",
    "\\right ]^T QDQ^T \\left [\n",
    "\\begin{array}{c}\n",
    "x\\\\\n",
    "y\n",
    "\\end{array}\n",
    "\\right ] \\nonumber \\\\\n",
    "&=& \\left(Q^T \\left [ \\begin{array}{c}\n",
    "x\\\\\n",
    "y\n",
    "\\end{array}\n",
    "\\right ]\\right)^TD\\left(Q^T \\left [ \\begin{array}{c}\n",
    "x\\\\\n",
    "y\n",
    "\\end{array}\n",
    "\\right ]\\right) \\nonumber \\\\\n",
    "&=& \\left [ \\begin{array}{c}\n",
    "\\tilde{x}\\\\\n",
    "\\tilde{y}\n",
    "\\end{array}\n",
    "\\right ] ^TD \n",
    "\\left [\n",
    "\\begin{array}{c}\n",
    "\\tilde{x}\\\\\n",
    "\\tilde{y}\n",
    "\\end{array}\n",
    "\\right ] \\nonumber \\\\\n",
    "&=& \\frac{\\tilde{x}^2}{16} + \\frac{\\tilde{y}^2}{9} \\nonumber\n",
    "\\end{eqnarray}\n",
    "$$"
   ]
  },
  {
   "cell_type": "markdown",
   "metadata": {},
   "source": [
    "**Gráfica para eigenvalores ordenados de forma decreciente en la diagonal de la matriz $D$.**"
   ]
  },
  {
   "cell_type": "markdown",
   "metadata": {},
   "source": [
    "```{margin}\n",
    "\n",
    "Usamos [eig](https://numpy.org/doc/stable/reference/generated/numpy.linalg.eig.html) para el cálculo numérico de eigenvalores, eigenvectores de $A$.\n",
    "\n",
    "```"
   ]
  },
  {
   "cell_type": "code",
   "execution_count": 106,
   "metadata": {},
   "outputs": [],
   "source": [
    "A_np = np.array(A.evalf(),dtype = float)\n",
    "evalue, evector = np.linalg.eig(A_np)\n",
    "Q_np = evector\n",
    "D_np = np.diag([evalue[0], evalue[1]])"
   ]
  },
  {
   "cell_type": "code",
   "execution_count": 107,
   "metadata": {},
   "outputs": [
    {
     "data": {
      "text/plain": [
       "array([[ 0.866,  0.5  ],\n",
       "       [-0.5  ,  0.866]])"
      ]
     },
     "execution_count": 107,
     "metadata": {},
     "output_type": "execute_result"
    }
   ],
   "source": [
    "print(Q_np)"
   ]
  },
  {
   "cell_type": "code",
   "execution_count": 108,
   "metadata": {},
   "outputs": [
    {
     "data": {
      "text/latex": [
       "$\\displaystyle \\left[\\begin{matrix}\\frac{\\sqrt{3}}{2} & \\frac{1}{2}\\\\- \\frac{1}{2} & \\frac{\\sqrt{3}}{2}\\end{matrix}\\right]$"
      ],
      "text/plain": [
       "Matrix([\n",
       "[sqrt(3)/2,       1/2],\n",
       "[     -1/2, sqrt(3)/2]])"
      ]
     },
     "execution_count": 108,
     "metadata": {},
     "output_type": "execute_result"
    }
   ],
   "source": [
    "Q = sympy.Matrix([Q[1,:],-Q[0,:]])\n",
    "print(Q)"
   ]
  },
  {
   "cell_type": "code",
   "execution_count": 109,
   "metadata": {},
   "outputs": [
    {
     "data": {
      "text/plain": [
       "array([[0.111, 0.   ],\n",
       "       [0.   , 0.062]])"
      ]
     },
     "execution_count": 109,
     "metadata": {},
     "output_type": "execute_result"
    }
   ],
   "source": [
    "print(D_np)"
   ]
  },
  {
   "cell_type": "code",
   "execution_count": 110,
   "metadata": {},
   "outputs": [
    {
     "data": {
      "text/latex": [
       "$\\displaystyle \\left[\\begin{matrix}\\frac{1}{9} & 0\\\\0 & \\frac{1}{16}\\end{matrix}\\right]$"
      ],
      "text/plain": [
       "Matrix([\n",
       "[1/9,    0],\n",
       "[  0, 1/16]])"
      ]
     },
     "execution_count": 110,
     "metadata": {},
     "output_type": "execute_result"
    }
   ],
   "source": [
    "print(sympy.Matrix([[D[1,1], 0],\n",
    "              [0, D[0,0]]]))"
   ]
  },
  {
   "cell_type": "code",
   "execution_count": 111,
   "metadata": {},
   "outputs": [
    {
     "data": {
      "image/png": "[encoded data removed]",
      "text/plain": [
       "<Figure size 720x360 with 2 Axes>"
      ]
     },
     "metadata": {
      "needs_background": "light"
     },
     "output_type": "display_data"
    }
   ],
   "source": [
    "d1_inv=1/4\n",
    "d2_inv=1/3\n",
    "density=1e-2\n",
    "x=np.arange(-1/d1_inv,1/d1_inv,density)\n",
    "y1=1/d2_inv*np.sqrt(1-(d1_inv*x)**2)\n",
    "y2=-1/d2_inv*np.sqrt(1-(d1_inv*x)**2)\n",
    "#transform\n",
    "x_y1_hat = np.column_stack((x,y1))\n",
    "x_y2_hat = np.column_stack((x,y2))\n",
    "apply_Q = lambda vec : np.transpose(Q@np.transpose(vec))\n",
    "Q_to_vector_1 = apply_Q(x_y1_hat)\n",
    "Q_to_vector_2 = apply_Q(x_y2_hat)\n",
    "fig = plt.figure(figsize=(10, 5))\n",
    "ax1 = fig.add_subplot(1,2,1)\n",
    "ax2 = fig.add_subplot(1,2,2)\n",
    "#first plot\n",
    "ax1.plot(Q_to_vector_1[:,0],Q_to_vector_1[:,1],'g',\n",
    "         Q_to_vector_2[:,0],Q_to_vector_2[:,1],'g')\n",
    "ax1.set_title(\"57x^2-14(3^(1/2))xy+43y^2=1\")\n",
    "ax1.set_xlabel(\"Ejes coordenados típicos\")\n",
    "ax1.axhline(color='r')\n",
    "ax1.axvline(color='r')\n",
    "#second plot\n",
    "evector_1 = 1/d1_inv*Q_np[:,0]\n",
    "evector_2 = 1/d2_inv*Q_np[:,1]\n",
    "Evector_1 = np.row_stack((np.zeros(2), evector_1))\n",
    "Evector_2 = np.row_stack((np.zeros(2), evector_2))\n",
    "ax2.plot(Q_to_vector_1[:,0],Q_to_vector_1[:,1],\n",
    "         color='g', label = \"Elipse\")\n",
    "ax2.plot(Q_to_vector_2[:,0],Q_to_vector_2[:,1],\n",
    "         color='g', label = \"_nolegend_\")\n",
    "ax2.plot(Evector_1[:,0], Evector_1[:,1],\n",
    "         color='b', label = \"Eigenvector Q[:,0], define al semieje mayor principal de la elipse\")\n",
    "ax2.plot(-Evector_1[:,0], -Evector_1[:,1],\n",
    "         color='b', label = \"_nolegend_\")\n",
    "ax2.plot(Evector_2[:,0], Evector_2[:,1],\n",
    "         color='m', label = \"Eigenvector Q[:,1],  define al semieje menor principal de la elipse\")\n",
    "ax2.plot(-Evector_2[:,0], -Evector_2[:,1],\n",
    "         color='m', label = \"_nolegend_\")\n",
    "ax2.set_title(\"x_tilde^2(1/16) + y_tilde^2(1/9)=1\")\n",
    "ax2.set_xlabel(\"Ejes coordenados rotados\")\n",
    "ax2.legend(bbox_to_anchor=(1, 1))\n",
    "fig.suptitle(\"Puntos en el plano que cumplen x_y_tilde^TDx_y_tilde = 1 o  x_y^TAx_y =1\")\n",
    "ax2.grid()\n",
    "plt.show()"
   ]
  },
  {
   "cell_type": "markdown",
   "metadata": {},
   "source": [
    "```{margin}\n",
    "\n",
    "Recuerda que $A = Q D Q^T$, $A$ es similar a $D$ matriz diagonal y $Q$ es ortogonal.\n",
    "\n",
    "```"
   ]
  },
  {
   "cell_type": "markdown",
   "metadata": {},
   "source": [
    "En la gráfica anterior se representa la rotación de los ejes coordenados definidos por los vectores canónicos $e_1, e_2$ y los rotados definidos por los eigenvectores de $A$. Los eigenvectores de $A$ están en las columnas de $Q$. La primera columna de $Q$ define al eje mayor principal de la elipse y la segunda columna al eje menor principal. La longitud de los semiejes están dados respectivamente por la raíz cuadrada de los recíprocos de los eigenvalores de $A$ que en este caso son: $\\frac{1}{9}, \\frac{1}{16}$, esto es: $4$ y $16$. Ver por ejemplo: [Principal_axis_theorem](https://en.wikipedia.org/wiki/Principal_axis_theorem), [Diagonalizable_matrix](https://en.wikipedia.org/wiki/Diagonalizable_matrix)."
   ]
  },
  {
   "cell_type": "markdown",
   "metadata": {},
   "source": [
    "```{admonition} Ejercicio\n",
    ":class: tip\n",
    "\n",
    "Rotar los ejes coordenados $45^o$ la ecuación de la elipse:\n",
    "\n",
    "$$13x^2+10xy+13y^2=72$$\n",
    "\n",
    "para representar tal ecuación alineando los ejes mayor y menor de la elipse a sus eigenvectores. Encontrar las matrices $Q, D$ tales que $A=QDQ^T$ con $Q$ ortogonal y $D$ diagonal.\n",
    "\n",
    "```"
   ]
  },
  {
   "cell_type": "markdown",
   "metadata": {},
   "source": [
    "## Algunos algoritmos para calcular eigenvalores y eigenvectores"
   ]
  },
  {
   "cell_type": "markdown",
   "metadata": {},
   "source": [
    "Dependiendo de las siguientes preguntas es el tipo de algoritmo que se utiliza:\n",
    "\n",
    "* ¿Se requiere el cómputo de todos los eigenvalores o de sólo algunos?\n",
    "\n",
    "* ¿Se requiere el cómputo de únicamente los eigenvalores o también de los eigenvectores?\n",
    "\n",
    "* ¿$A$ tiene entradas reales o complejas?\n",
    "\n",
    "* ¿$A$ es de dimensión pequeña y es densa o grande y rala?\n",
    "\n",
    "* ¿$A$ tiene una estructura especial o es una matriz general?"
   ]
  },
  {
   "cell_type": "markdown",
   "metadata": {},
   "source": [
    "Para la última pregunta a continuación se tiene una tabla que resume las estructuras en las matrices que son relevantes para problemas del cálculo de eigenvalores-eigenvectores:"
   ]
  },
  {
   "cell_type": "markdown",
   "metadata": {},
   "source": [
    "|Estructura|Definición|\n",
    "|:---:|:---:|\n",
    "|Simétrica|$A=A^T$|\n",
    "|Ortogonal|$A^TA=AA^T=I_n$|\n",
    "|Normal|$A^TA = AA^T$|"
   ]
  },
  {
   "cell_type": "markdown",
   "metadata": {},
   "source": [
    "Ver {ref}`Ejemplos de matrices normales <EJMN>`."
   ]
  },
  {
   "cell_type": "markdown",
   "metadata": {},
   "source": [
    "(EJMN)="
   ]
  },
  {
   "cell_type": "markdown",
   "metadata": {},
   "source": [
    "### Una opción (inestable numéricamente respecto al redondeo): encontrar raíces del polinomio característico... "
   ]
  },
  {
   "cell_type": "markdown",
   "metadata": {},
   "source": [
    "Por definición, los eigenvalores de $A \\in \\mathbb{R}^{n \\times n}$ son las raíces o ceros del polinomio característico $p(z)$ por lo que un método es calcularlas vía tal polinomio. Sin embargo, **no es un buen método** calcular tales raíces o ceros pues para una $n > 4$ [Abel](https://en.wikipedia.org/wiki/Abel%E2%80%93Ruffini_theorem) probó de forma teórica que las raíces en general no son posibles expresarlas por una fórmula cerrada que involucren los coeficientes, operaciones aritméticas y raíces $\\sqrt[n]{\\cdot}$ . Por lo anterior para calcular eigenvalores de matrices con dimensión $n>4$ requiere de un **método iterativo**."
   ]
  },
  {
   "cell_type": "markdown",
   "metadata": {},
   "source": [
    "```{margin}\n",
    "\n",
    "Como ejemplo de este enunciado considérese:\n",
    "\n",
    "$$A=\\left[\n",
    "\\begin{array}{cc}\n",
    "1 & \\epsilon\\\\\n",
    "\\epsilon & 1\\\\\n",
    "\\end{array}\n",
    "\\right]\n",
    "$$\n",
    "\n",
    "cuyos eigenvalores son $1 + \\epsilon$, $1 - \\epsilon$ con $\\epsilon$ menor que $\\epsilon_{maq}$. Usando aritmética en el SPF se prueba que las raíces del polinomio característico es $1$ de multiplicidad $2$.\n",
    "```"
   ]
  },
  {
   "cell_type": "markdown",
   "metadata": {},
   "source": [
    "Además de lo anterior, en ciertas bases de polinomios, por ejemplo $\\{1, x, x^2, \\dots, x^n\\}$, los coeficientes de los polinomios  numéricamente no están bien determinados por los errores por redondeo y las raíces de los polinomios son muy sensibles a perturbaciones de los coeficientes, esto es, es un problema mal condicionado, ver {ref}`condición de un problema y estabilidad de un algoritmo <CPEA>`. Ver [Wilkinson's polynomial](https://en.wikipedia.org/wiki/Wilkinson%27s_polynomial) para un ejemplo."
   ]
  },
  {
   "cell_type": "markdown",
   "metadata": {},
   "source": [
    "### Alternativas"
   ]
  },
  {
   "cell_type": "markdown",
   "metadata": {},
   "source": [
    "Revisaremos en la nota {ref}`Algoritmos y aplicaciones de eigenvalores, eigenvectores de una matriz <AAEVALEVEC>` algunos algoritmos como:\n",
    "\n",
    "* Método de la potencia y método de la potencia inversa o iteración inversa.\n",
    "\n",
    "* Iteración por el cociente de Rayleigh.\n",
    "\n",
    "* Algoritmo QR.\n",
    "\n",
    "* Método de rotaciones de Jacobi."
   ]
  },
  {
   "cell_type": "markdown",
   "metadata": {},
   "source": [
    "---"
   ]
  },
  {
   "cell_type": "markdown",
   "metadata": {},
   "source": [
    "## Ejemplos de matrices normales"
   ]
  },
  {
   "cell_type": "markdown",
   "metadata": {},
   "source": [
    "```{sidebar} Descomposición espectral para matrices normales\n",
    "\n",
    "Las matrices normales generalizan al caso de entradas en $\\mathbb{C}$ la diagonalización ortogonal al ser **unitariamente diagonalizables**. $A \\in \\mathbb{C}^{n \\times n}$ es normal si y sólo si $A = U \\Lambda U^H$ con $U$ matriz unitaria (generalización de una matriz ortogonal a entradas $\\mathbb{C}$), $U^H$ la conjugada transpuesta de $U$ y $\\Lambda$ matriz diagonal. Para $A \\in \\mathbb{R}^{n \\times n}$ lo anterior se escribe como: $A$ es simétrica si y sólo si es ortogonalmente diagonalizable: $A = Q \\Lambda Q^T$ (ver {ref}`descomposición espectral <DESCESP>`).\n",
    "\n",
    "```"
   ]
  },
  {
   "cell_type": "markdown",
   "metadata": {},
   "source": [
    "$$\\begin{array}{l}\n",
    "\\left[\n",
    "\\begin{array}{cc}\n",
    "1 &-2 \\\\\n",
    "2 &1\n",
    "\\end{array}\n",
    "\\right],\n",
    "\\left[\n",
    "\\begin{array}{ccc}\n",
    "1 &2 & 0\\\\\n",
    "0 & 1 & 2\\\\\n",
    "2 & 0 & 1\n",
    "\\end{array}\n",
    "\\right]\n",
    "\\end{array}\n",
    "$$"
   ]
  },
  {
   "cell_type": "markdown",
   "metadata": {},
   "source": [
    "Otro ejemplo: \n",
    "\n",
    "$$A = \n",
    "\\left[\n",
    "\\begin{array}{ccc}\n",
    "1 &1 & 0\\\\\n",
    "0 & 1 & 1\\\\\n",
    "1 & 0 & 1\n",
    "\\end{array}\n",
    "\\right]\n",
    "$$"
   ]
  },
  {
   "cell_type": "code",
   "execution_count": 112,
   "metadata": {},
   "outputs": [],
   "source": [
    "A = np.array([[1, 1, 0],\n",
    "              [0, 1, 1],\n",
    "              [1, 0, 1.0]])"
   ]
  },
  {
   "cell_type": "code",
   "execution_count": 113,
   "metadata": {},
   "outputs": [
    {
     "data": {
      "text/plain": [
       "array([[2., 1., 1.],\n",
       "       [1., 2., 1.],\n",
       "       [1., 1., 2.]])"
      ]
     },
     "execution_count": 113,
     "metadata": {},
     "output_type": "execute_result"
    }
   ],
   "source": [
    "print(A.T@A)"
   ]
  },
  {
   "cell_type": "markdown",
   "metadata": {},
   "source": [
    "```{margin}\n",
    "\n",
    "Como $A$ es normal entonces se cumple que $AA^T=A^TA$.\n",
    "\n",
    "```"
   ]
  },
  {
   "cell_type": "code",
   "execution_count": 114,
   "metadata": {},
   "outputs": [
    {
     "data": {
      "text/plain": [
       "array([[2., 1., 1.],\n",
       "       [1., 2., 1.],\n",
       "       [1., 1., 2.]])"
      ]
     },
     "execution_count": 114,
     "metadata": {},
     "output_type": "execute_result"
    }
   ],
   "source": [
    "print(A@A.T)"
   ]
  },
  {
   "cell_type": "code",
   "execution_count": 115,
   "metadata": {},
   "outputs": [],
   "source": [
    "evalue, evector = np.linalg.eig(A)"
   ]
  },
  {
   "cell_type": "code",
   "execution_count": 116,
   "metadata": {},
   "outputs": [
    {
     "name": "stdout",
     "output_type": "stream",
     "text": [
      "eigenvalores:\n",
      "[0.5+0.866j 0.5-0.866j 2. +0.j   ]\n"
     ]
    }
   ],
   "source": [
    "print('eigenvalores:')\n",
    "print(evalue)"
   ]
  },
  {
   "cell_type": "markdown",
   "metadata": {},
   "source": [
    "```{margin}\n",
    "\n",
    "Se verifica que los eigenvectores de este ejemplo forman un conjunto linealmente independiente pues $A$ es normal.\n",
    "\n",
    "```"
   ]
  },
  {
   "cell_type": "code",
   "execution_count": 117,
   "metadata": {},
   "outputs": [
    {
     "name": "stdout",
     "output_type": "stream",
     "text": [
      "eigenvectores:\n",
      "[[-0.289+0.5j -0.289-0.5j -0.577+0.j ]\n",
      " [-0.289-0.5j -0.289+0.5j -0.577+0.j ]\n",
      " [ 0.577+0.j   0.577-0.j  -0.577+0.j ]]\n"
     ]
    }
   ],
   "source": [
    "print('eigenvectores:')\n",
    "print(evector)"
   ]
  },
  {
   "cell_type": "markdown",
   "metadata": {},
   "source": [
    "```{margin}\n",
    "\n",
    "Para una matriz normal $A$ se cumple que es unitariamente diagonalizable y $A = Q \\Lambda Q^H$ donde: $Q^H$ es la conjugada transpuesta de $Q$.\n",
    "\n",
    "```"
   ]
  },
  {
   "cell_type": "code",
   "execution_count": 118,
   "metadata": {},
   "outputs": [
    {
     "name": "stdout",
     "output_type": "stream",
     "text": [
      "descomposición espectral:\n"
     ]
    }
   ],
   "source": [
    "print('descomposición espectral:')\n",
    "Lambda = np.diag(evalue)\n",
    "Q = evector\n"
   ]
  },
  {
   "cell_type": "code",
   "execution_count": 120,
   "metadata": {},
   "outputs": [
    {
     "name": "stdout",
     "output_type": "stream",
     "text": [
      "QLambdaQ^H:\n",
      "[[ 1.+0.j  1.+0.j -0.+0.j]\n",
      " [ 0.+0.j  1.+0.j  1.+0.j]\n",
      " [ 1.+0.j -0.+0.j  1.+0.j]]\n"
     ]
    }
   ],
   "source": [
    "print('QLambdaQ^H:')\n",
    "print(Q@Lambda@Q.conjugate().T)\n"
   ]
  },
  {
   "cell_type": "code",
   "execution_count": 121,
   "metadata": {},
   "outputs": [
    {
     "data": {
      "text/plain": [
       "array([[1., 1., 0.],\n",
       "       [0., 1., 1.],\n",
       "       [1., 0., 1.]])"
      ]
     },
     "execution_count": 121,
     "metadata": {},
     "output_type": "execute_result"
    }
   ],
   "source": [
    "print(A)"
   ]
  },
  {
   "cell_type": "markdown",
   "metadata": {},
   "source": [
    "```{margin}\n",
    "\n",
    "Observa que $Q^HQ=QQ^H = I_3$ donde: $Q^H$ es la conjugada transpuesta de $Q$.\n",
    "```"
   ]
  },
  {
   "cell_type": "code",
   "execution_count": 122,
   "metadata": {},
   "outputs": [
    {
     "name": "stdout",
     "output_type": "stream",
     "text": [
      "[[1.+0.j 0.-0.j 0.+0.j]\n",
      " [0.+0.j 1.+0.j 0.-0.j]\n",
      " [0.-0.j 0.+0.j 1.+0.j]]\n"
     ]
    }
   ],
   "source": [
    "print(Q.conjugate().T@Q)"
   ]
  },
  {
   "cell_type": "markdown",
   "metadata": {},
   "source": [
    "```{admonition} Observación\n",
    ":class: tip\n",
    "\n",
    "El problema del cálculo de eigenvalores para matrices normales es bien condicionado.\n",
    "\n",
    "```"
   ]
  },
  {
   "cell_type": "markdown",
   "metadata": {},
   "source": [
    "**Preguntas de comprehensión:**\n",
    "\n",
    "1)¿Qué son los eigenvalores de una matriz y qué nombre recibe el conjunto de eigenvalores de una matriz?\n",
    "\n",
    "2)¿Cuántos eigenvalores como máximo puede tener una matriz?\n",
    "\n",
    "3)¿Qué característica geométrica tiene multiplicar una matriz por su eigenvector?\n",
    "\n",
    "4)¿A qué se le nombra matriz diagonalizable o *non defective*?\n",
    "\n",
    "5)¿Cuál es el número de condición del problema de cálculo de eigenvalores con multiplicidad simple para una matriz simétrica?\n",
    "\n",
    "6)¿Verdadero o Falso? \n",
    "\n",
    "a.Una matriz es diagonalizable entonces tiene eigenvalores distintos.\n",
    "\n",
    "b.Una matriz con eigenvalores distintos es diagonalizable.\n",
    "\n",
    "c.Si $A=XDX^{-1}$ con $X$ matriz invertible entonces en la diagonal de $D$ y en las columnas de $X$ encontramos eigenvalores y eigenvectores derechos de $A$ respectivamente.\n",
    "\n",
    "7)Describe la descomposición espectral de una matriz simétrica.\n",
    "\n",
    "8)¿Qué característica tienen las matrices similares?"
   ]
  },
  {
   "cell_type": "markdown",
   "metadata": {},
   "source": [
    "**Referencias:**\n",
    "\n",
    "1. M. T. Heath, Scientific Computing. An Introductory Survey, McGraw-Hill, 2002.\n",
    "\n",
    "2.  G. H. Golub, C. F. Van Loan, Matrix Computations, John Hopkins University Press, 2013.\n",
    "\n",
    "3. L. Trefethen, D. Bau, Numerical linear algebra, SIAM, 1997.\n",
    "\n",
    "4. C. Meyer, Matrix Analysis and Applied Linear Algebra, SIAM, 2000."
   ]
  }
 ],
 "metadata": {
  "kernelspec": {
   "display_name": "Python 3",
   "language": "python",
   "name": "python3"
  },
  "language_info": {
   "codemirror_mode": {
    "name": "ipython",
    "version": 3
   },
   "file_extension": ".py",
   "mimetype": "text/x-python",
   "name": "python",
   "nbconvert_exporter": "python",
   "pygments_lexer": "ipython3",
   "version": "3.7.3"
  }
 },
 "nbformat": 4,
 "nbformat_minor": 4
}
